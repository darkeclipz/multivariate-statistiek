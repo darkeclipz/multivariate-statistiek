{
 "cells": [
  {
   "cell_type": "code",
   "execution_count": 1,
   "metadata": {},
   "outputs": [],
   "source": [
    "X = c(7.688, 7.989, 8.713, 8.845, 9.157, 10.45, 10.73, 10.79, 11.91, 12.49)\n",
    "Y = c(6.787, 10.7, 11.66, 12.88, 12.98, 13.32, 13.48, 13.93, 14.42, 16.43)"
   ]
  },
  {
   "cell_type": "markdown",
   "metadata": {},
   "source": [
    "Om de famous five te bepalen zetten we de waarnemingen in de volgende matrix:\n",
    "\n",
    " $$ \\mathbf{A} = \\begin{bmatrix} \\mathbf{1} && \\mathbf{X} && \\mathbf{Y} \\end{bmatrix} $$"
   ]
  },
  {
   "cell_type": "code",
   "execution_count": 2,
   "metadata": {},
   "outputs": [
    {
     "data": {
      "text/html": [
       "<table>\n",
       "<thead><tr><th scope=col></th><th scope=col>X</th><th scope=col>Y</th></tr></thead>\n",
       "<tbody>\n",
       "\t<tr><td>1     </td><td> 7.688</td><td> 6.787</td></tr>\n",
       "\t<tr><td>1     </td><td> 7.989</td><td>10.700</td></tr>\n",
       "\t<tr><td>1     </td><td> 8.713</td><td>11.660</td></tr>\n",
       "\t<tr><td>1     </td><td> 8.845</td><td>12.880</td></tr>\n",
       "\t<tr><td>1     </td><td> 9.157</td><td>12.980</td></tr>\n",
       "\t<tr><td>1     </td><td>10.450</td><td>13.320</td></tr>\n",
       "\t<tr><td>1     </td><td>10.730</td><td>13.480</td></tr>\n",
       "\t<tr><td>1     </td><td>10.790</td><td>13.930</td></tr>\n",
       "\t<tr><td>1     </td><td>11.910</td><td>14.420</td></tr>\n",
       "\t<tr><td>1     </td><td>12.490</td><td>16.430</td></tr>\n",
       "</tbody>\n",
       "</table>\n"
      ],
      "text/latex": [
       "\\begin{tabular}{lll}\n",
       "  & X & Y\\\\\n",
       "\\hline\n",
       "\t 1      &  7.688 &  6.787\\\\\n",
       "\t 1      &  7.989 & 10.700\\\\\n",
       "\t 1      &  8.713 & 11.660\\\\\n",
       "\t 1      &  8.845 & 12.880\\\\\n",
       "\t 1      &  9.157 & 12.980\\\\\n",
       "\t 1      & 10.450 & 13.320\\\\\n",
       "\t 1      & 10.730 & 13.480\\\\\n",
       "\t 1      & 10.790 & 13.930\\\\\n",
       "\t 1      & 11.910 & 14.420\\\\\n",
       "\t 1      & 12.490 & 16.430\\\\\n",
       "\\end{tabular}\n"
      ],
      "text/markdown": [
       "\n",
       " | X | Y | \n",
       "|---|---|---|---|---|---|---|---|---|---|\n",
       "| 1      |  7.688 |  6.787 | \n",
       "| 1      |  7.989 | 10.700 | \n",
       "| 1      |  8.713 | 11.660 | \n",
       "| 1      |  8.845 | 12.880 | \n",
       "| 1      |  9.157 | 12.980 | \n",
       "| 1      | 10.450 | 13.320 | \n",
       "| 1      | 10.730 | 13.480 | \n",
       "| 1      | 10.790 | 13.930 | \n",
       "| 1      | 11.910 | 14.420 | \n",
       "| 1      | 12.490 | 16.430 | \n",
       "\n",
       "\n"
      ],
      "text/plain": [
       "        X      Y     \n",
       " [1,] 1  7.688  6.787\n",
       " [2,] 1  7.989 10.700\n",
       " [3,] 1  8.713 11.660\n",
       " [4,] 1  8.845 12.880\n",
       " [5,] 1  9.157 12.980\n",
       " [6,] 1 10.450 13.320\n",
       " [7,] 1 10.730 13.480\n",
       " [8,] 1 10.790 13.930\n",
       " [9,] 1 11.910 14.420\n",
       "[10,] 1 12.490 16.430"
      ]
     },
     "metadata": {},
     "output_type": "display_data"
    }
   ],
   "source": [
    "A = cbind(1,X,Y)\n",
    "A"
   ]
  },
  {
   "cell_type": "markdown",
   "metadata": {},
   "source": [
    "Vervolgens worden de waarden bepaald met $\\mathbf{A}^T \\mathbf{A}$."
   ]
  },
  {
   "cell_type": "code",
   "execution_count": 4,
   "metadata": {},
   "outputs": [
    {
     "data": {
      "text/html": [
       "<table>\n",
       "<thead><tr><th></th><th scope=col></th><th scope=col>X</th><th scope=col>Y</th></tr></thead>\n",
       "<tbody>\n",
       "\t<tr><th scope=row></th><td> 10.000  </td><td>  98.7620</td><td> 126.587 </td></tr>\n",
       "\t<tr><th scope=row>X</th><td> 98.762  </td><td> 999.5382</td><td>1283.128 </td></tr>\n",
       "\t<tr><th scope=row>Y</th><td>126.587  </td><td>1283.1278</td><td>1661.943 </td></tr>\n",
       "</tbody>\n",
       "</table>\n"
      ],
      "text/latex": [
       "\\begin{tabular}{r|lll}\n",
       "  &  & X & Y\\\\\n",
       "\\hline\n",
       "\t &  10.000   &   98.7620 &  126.587 \\\\\n",
       "\tX &  98.762   &  999.5382 & 1283.128 \\\\\n",
       "\tY & 126.587   & 1283.1278 & 1661.943 \\\\\n",
       "\\end{tabular}\n"
      ],
      "text/markdown": [
       "\n",
       "| <!--/--> |  | X | Y | \n",
       "|---|---|---|\n",
       "|  |  10.000   |   98.7620 |  126.587  | \n",
       "| X |  98.762   |  999.5382 | 1283.128  | \n",
       "| Y | 126.587   | 1283.1278 | 1661.943  | \n",
       "\n",
       "\n"
      ],
      "text/plain": [
       "          X         Y       \n",
       "   10.000   98.7620  126.587\n",
       "X  98.762  999.5382 1283.128\n",
       "Y 126.587 1283.1278 1661.943"
      ]
     },
     "metadata": {},
     "output_type": "display_data"
    }
   ],
   "source": [
    "t(A) %*% A"
   ]
  },
  {
   "cell_type": "markdown",
   "metadata": {},
   "source": [
    "En de famous five zelf zijn:"
   ]
  },
  {
   "cell_type": "markdown",
   "metadata": {},
   "source": [
    "$\\sum X$"
   ]
  },
  {
   "cell_type": "code",
   "execution_count": 5,
   "metadata": {},
   "outputs": [
    {
     "data": {
      "text/html": [
       "98.762"
      ],
      "text/latex": [
       "98.762"
      ],
      "text/markdown": [
       "98.762"
      ],
      "text/plain": [
       "[1] 98.762"
      ]
     },
     "metadata": {},
     "output_type": "display_data"
    }
   ],
   "source": [
    "sum(X)"
   ]
  },
  {
   "cell_type": "markdown",
   "metadata": {},
   "source": [
    "$\\sum Y$"
   ]
  },
  {
   "cell_type": "code",
   "execution_count": 6,
   "metadata": {},
   "outputs": [
    {
     "data": {
      "text/html": [
       "126.587"
      ],
      "text/latex": [
       "126.587"
      ],
      "text/markdown": [
       "126.587"
      ],
      "text/plain": [
       "[1] 126.587"
      ]
     },
     "metadata": {},
     "output_type": "display_data"
    }
   ],
   "source": [
    "sum(Y)"
   ]
  },
  {
   "cell_type": "markdown",
   "metadata": {},
   "source": [
    "$\\sum X^2$"
   ]
  },
  {
   "cell_type": "code",
   "execution_count": 7,
   "metadata": {},
   "outputs": [
    {
     "data": {
      "text/html": [
       "999.538208"
      ],
      "text/latex": [
       "999.538208"
      ],
      "text/markdown": [
       "999.538208"
      ],
      "text/plain": [
       "[1] 999.5382"
      ]
     },
     "metadata": {},
     "output_type": "display_data"
    }
   ],
   "source": [
    "sum(X^2)"
   ]
  },
  {
   "cell_type": "markdown",
   "metadata": {},
   "source": [
    "$\\sum Y^2$"
   ]
  },
  {
   "cell_type": "code",
   "execution_count": 8,
   "metadata": {},
   "outputs": [
    {
     "data": {
      "text/html": [
       "1661.942769"
      ],
      "text/latex": [
       "1661.942769"
      ],
      "text/markdown": [
       "1661.942769"
      ],
      "text/plain": [
       "[1] 1661.943"
      ]
     },
     "metadata": {},
     "output_type": "display_data"
    }
   ],
   "source": [
    "sum(Y^2)"
   ]
  },
  {
   "cell_type": "markdown",
   "metadata": {},
   "source": [
    "$ \\sum XY $"
   ]
  },
  {
   "cell_type": "code",
   "execution_count": 9,
   "metadata": {},
   "outputs": [
    {
     "data": {
      "text/html": [
       "1283.127796"
      ],
      "text/latex": [
       "1283.127796"
      ],
      "text/markdown": [
       "1283.127796"
      ],
      "text/plain": [
       "[1] 1283.128"
      ]
     },
     "metadata": {},
     "output_type": "display_data"
    }
   ],
   "source": [
    "sum(X*Y)"
   ]
  }
 ],
 "metadata": {
  "kernelspec": {
   "display_name": "R",
   "language": "R",
   "name": "ir"
  },
  "language_info": {
   "codemirror_mode": "r",
   "file_extension": ".r",
   "mimetype": "text/x-r-source",
   "name": "R",
   "pygments_lexer": "r",
   "version": "3.5.0"
  }
 },
 "nbformat": 4,
 "nbformat_minor": 2
}
