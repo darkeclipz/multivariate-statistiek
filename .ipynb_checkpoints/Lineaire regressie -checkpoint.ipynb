{
 "cells": [
  {
   "cell_type": "markdown",
   "metadata": {},
   "source": [
    "# Regressie"
   ]
  },
  {
   "cell_type": "markdown",
   "metadata": {},
   "source": [
    "## Opstellen van een regressielijn met matrix algebra"
   ]
  },
  {
   "cell_type": "markdown",
   "metadata": {},
   "source": [
    "Een lijn wordt opgesteld met $y = ax + b$, dit vertalen we naar matrices:"
   ]
  },
  {
   "cell_type": "markdown",
   "metadata": {},
   "source": [
    "$$ \\mathbf{A} \\mathbf{x} = \\mathbf{b} \\\\ \\mathbf{(A\\cdot A^Tx)} = \\mathbf{A^Tb} \\\\ \\mathbf{(A \\cdot A^T)^{-1} (A \\cdot A^T) x} = \\mathbf{(A \\cdot A^T)^{-1} A^T b} \\\\ \\mathbf{Ix = (A\\cdot A^T)^{-1}A^T\\cdot b}$$"
   ]
  },
  {
   "cell_type": "markdown",
   "metadata": {},
   "source": [
    "Hier wordt gebruik gemaakt van het feit dat $\\mathbf{A\\cdot A^{-1} = I}$."
   ]
  },
  {
   "cell_type": "markdown",
   "metadata": {},
   "source": [
    "## Lineaire regressielijn"
   ]
  },
  {
   "cell_type": "code",
   "execution_count": 47,
   "metadata": {},
   "outputs": [
    {
     "data": {
      "text/html": [
       "<table>\n",
       "<tbody>\n",
       "\t<tr><td>-2</td><td>1 </td></tr>\n",
       "\t<tr><td>-1</td><td>1 </td></tr>\n",
       "\t<tr><td> 1</td><td>1 </td></tr>\n",
       "\t<tr><td> 3</td><td>1 </td></tr>\n",
       "</tbody>\n",
       "</table>\n"
      ],
      "text/latex": [
       "\\begin{tabular}{ll}\n",
       "\t -2 & 1 \\\\\n",
       "\t -1 & 1 \\\\\n",
       "\t  1 & 1 \\\\\n",
       "\t  3 & 1 \\\\\n",
       "\\end{tabular}\n"
      ],
      "text/markdown": [
       "\n",
       "| -2 | 1  | \n",
       "| -1 | 1  | \n",
       "|  1 | 1  | \n",
       "|  3 | 1  | \n",
       "\n",
       "\n"
      ],
      "text/plain": [
       "     [,1] [,2]\n",
       "[1,] -2   1   \n",
       "[2,] -1   1   \n",
       "[3,]  1   1   \n",
       "[4,]  3   1   "
      ]
     },
     "metadata": {},
     "output_type": "display_data"
    }
   ],
   "source": [
    "A = cbind(c(-2, -1, 1, 3), c(1, 1, 1, 1))\n",
    "b = c(-2, 0, 1, 2)\n",
    "A"
   ]
  },
  {
   "cell_type": "code",
   "execution_count": 41,
   "metadata": {},
   "outputs": [
    {
     "data": {
      "text/html": [
       "<table>\n",
       "<tbody>\n",
       "\t<tr><td>0.72881356</td></tr>\n",
       "\t<tr><td>0.06779661</td></tr>\n",
       "</tbody>\n",
       "</table>\n"
      ],
      "text/latex": [
       "\\begin{tabular}{l}\n",
       "\t 0.72881356\\\\\n",
       "\t 0.06779661\\\\\n",
       "\\end{tabular}\n"
      ],
      "text/markdown": [
       "\n",
       "| 0.72881356 | \n",
       "| 0.06779661 | \n",
       "\n",
       "\n"
      ],
      "text/plain": [
       "     [,1]      \n",
       "[1,] 0.72881356\n",
       "[2,] 0.06779661"
      ]
     },
     "metadata": {},
     "output_type": "display_data"
    }
   ],
   "source": [
    "solve(t(A) %*% A) %*% t(A) %*% b"
   ]
  },
  {
   "cell_type": "markdown",
   "metadata": {},
   "source": [
    "## Kwadratische regressielijn"
   ]
  },
  {
   "cell_type": "code",
   "execution_count": 43,
   "metadata": {},
   "outputs": [
    {
     "data": {
      "text/html": [
       "<table>\n",
       "<thead><tr><th scope=col>a</th><th scope=col>b</th><th scope=col>c</th></tr></thead>\n",
       "<tbody>\n",
       "\t<tr><td>4 </td><td>-2</td><td>1 </td></tr>\n",
       "\t<tr><td>1 </td><td>-1</td><td>1 </td></tr>\n",
       "\t<tr><td>4 </td><td> 2</td><td>1 </td></tr>\n",
       "\t<tr><td>9 </td><td> 3</td><td>1 </td></tr>\n",
       "\t<tr><td>9 </td><td> 3</td><td>1 </td></tr>\n",
       "</tbody>\n",
       "</table>\n"
      ],
      "text/latex": [
       "\\begin{tabular}{lll}\n",
       " a & b & c\\\\\n",
       "\\hline\n",
       "\t 4  & -2 & 1 \\\\\n",
       "\t 1  & -1 & 1 \\\\\n",
       "\t 4  &  2 & 1 \\\\\n",
       "\t 9  &  3 & 1 \\\\\n",
       "\t 9  &  3 & 1 \\\\\n",
       "\\end{tabular}\n"
      ],
      "text/markdown": [
       "\n",
       "a | b | c | \n",
       "|---|---|---|---|---|\n",
       "| 4  | -2 | 1  | \n",
       "| 1  | -1 | 1  | \n",
       "| 4  |  2 | 1  | \n",
       "| 9  |  3 | 1  | \n",
       "| 9  |  3 | 1  | \n",
       "\n",
       "\n"
      ],
      "text/plain": [
       "     a b  c\n",
       "[1,] 4 -2 1\n",
       "[2,] 1 -1 1\n",
       "[3,] 4  2 1\n",
       "[4,] 9  3 1\n",
       "[5,] 9  3 1"
      ]
     },
     "metadata": {},
     "output_type": "display_data"
    }
   ],
   "source": [
    "a = c(4, 1, 4, 9, 9)\n",
    "b = c(-2, -1, 2, 3, 3)\n",
    "c = c(1, 1, 1, 1, 1)\n",
    "A = cbind(a,b,c)\n",
    "A\n",
    "d = c(0, -1, 0, 2, 3)"
   ]
  },
  {
   "cell_type": "code",
   "execution_count": 46,
   "metadata": {},
   "outputs": [
    {
     "data": {
      "text/html": [
       "<table>\n",
       "<tbody>\n",
       "\t<tr><th scope=row>a</th><td> 0.44488189</td></tr>\n",
       "\t<tr><th scope=row>b</th><td> 0.01968504</td></tr>\n",
       "\t<tr><th scope=row>c</th><td>-1.62204724</td></tr>\n",
       "</tbody>\n",
       "</table>\n"
      ],
      "text/latex": [
       "\\begin{tabular}{r|l}\n",
       "\ta &  0.44488189\\\\\n",
       "\tb &  0.01968504\\\\\n",
       "\tc & -1.62204724\\\\\n",
       "\\end{tabular}\n"
      ],
      "text/markdown": [
       "\n",
       "| a |  0.44488189 | \n",
       "| b |  0.01968504 | \n",
       "| c | -1.62204724 | \n",
       "\n",
       "\n"
      ],
      "text/plain": [
       "  [,1]       \n",
       "a  0.44488189\n",
       "b  0.01968504\n",
       "c -1.62204724"
      ]
     },
     "metadata": {},
     "output_type": "display_data"
    }
   ],
   "source": [
    "solve(t(A) %*% A) %*% t(A) %*% d"
   ]
  },
  {
   "cell_type": "markdown",
   "metadata": {},
   "source": [
    "## Fout bepalen"
   ]
  },
  {
   "cell_type": "markdown",
   "metadata": {},
   "source": [
    "Om de fout $\\mathbf{e}$ te bepalen kunnen we het volgende systeem oplossen:"
   ]
  },
  {
   "cell_type": "markdown",
   "metadata": {},
   "source": [
    "$$ \\mathbf{Ax} = \\mathbf{b + e} \\\\ \\mathbf{Ax-b} = \\mathbf{e}$$"
   ]
  },
  {
   "cell_type": "code",
   "execution_count": 58,
   "metadata": {},
   "outputs": [
    {
     "data": {
      "text/html": [
       "<table>\n",
       "<tbody>\n",
       "\t<tr><td> 0.6101695</td></tr>\n",
       "\t<tr><td>-0.6610169</td></tr>\n",
       "\t<tr><td>-0.2033898</td></tr>\n",
       "\t<tr><td> 0.2542373</td></tr>\n",
       "</tbody>\n",
       "</table>\n"
      ],
      "text/latex": [
       "\\begin{tabular}{l}\n",
       "\t  0.6101695\\\\\n",
       "\t -0.6610169\\\\\n",
       "\t -0.2033898\\\\\n",
       "\t  0.2542373\\\\\n",
       "\\end{tabular}\n"
      ],
      "text/markdown": [
       "\n",
       "|  0.6101695 | \n",
       "| -0.6610169 | \n",
       "| -0.2033898 | \n",
       "|  0.2542373 | \n",
       "\n",
       "\n"
      ],
      "text/plain": [
       "     [,1]      \n",
       "[1,]  0.6101695\n",
       "[2,] -0.6610169\n",
       "[3,] -0.2033898\n",
       "[4,]  0.2542373"
      ]
     },
     "metadata": {},
     "output_type": "display_data"
    }
   ],
   "source": [
    "A = cbind(c(-2, -1, 1, 3), c(1, 1, 1, 1))\n",
    "b = c(-2, 0, 1, 2)\n",
    "x = solve(t(A) %*% A) %*% t(A) %*% b\n",
    "E = A %*% x - b\n",
    "E"
   ]
  },
  {
   "cell_type": "markdown",
   "metadata": {},
   "source": [
    "De fout per punt kan als volgt worden bepaald:"
   ]
  },
  {
   "cell_type": "markdown",
   "metadata": {},
   "source": [
    "$$ \\sigma = \\sqrt{\\sigma_1^2 + r_2^2} $$"
   ]
  },
  {
   "cell_type": "markdown",
   "metadata": {},
   "source": [
    "Om het gedeelte $\\sigma_1^2 + r_2^2$ te bepalen kunnen we gebruik maken van:"
   ]
  },
  {
   "cell_type": "code",
   "execution_count": 56,
   "metadata": {},
   "outputs": [
    {
     "data": {
      "text/html": [
       "<table>\n",
       "<tbody>\n",
       "\t<tr><td>0.9152542</td></tr>\n",
       "</tbody>\n",
       "</table>\n"
      ],
      "text/latex": [
       "\\begin{tabular}{l}\n",
       "\t 0.9152542\\\\\n",
       "\\end{tabular}\n"
      ],
      "text/markdown": [
       "\n",
       "| 0.9152542 | \n",
       "\n",
       "\n"
      ],
      "text/plain": [
       "     [,1]     \n",
       "[1,] 0.9152542"
      ]
     },
     "metadata": {},
     "output_type": "display_data"
    }
   ],
   "source": [
    "t(E) %*% E"
   ]
  },
  {
   "cell_type": "markdown",
   "metadata": {},
   "source": [
    "Vervolgens nemen we de wortel om de totale fout $\\sigma$ te verkrijgen:"
   ]
  },
  {
   "cell_type": "code",
   "execution_count": 57,
   "metadata": {},
   "outputs": [
    {
     "data": {
      "text/html": [
       "<table>\n",
       "<tbody>\n",
       "\t<tr><td>0.9566892</td></tr>\n",
       "</tbody>\n",
       "</table>\n"
      ],
      "text/latex": [
       "\\begin{tabular}{l}\n",
       "\t 0.9566892\\\\\n",
       "\\end{tabular}\n"
      ],
      "text/markdown": [
       "\n",
       "| 0.9566892 | \n",
       "\n",
       "\n"
      ],
      "text/plain": [
       "     [,1]     \n",
       "[1,] 0.9566892"
      ]
     },
     "metadata": {},
     "output_type": "display_data"
    }
   ],
   "source": [
    "sqrt(t(E) %*% E)"
   ]
  },
  {
   "cell_type": "markdown",
   "metadata": {},
   "source": [
    "## Regressielijn bepalen met een exponentieële functie"
   ]
  },
  {
   "cell_type": "markdown",
   "metadata": {},
   "source": [
    "In het geval van $y = c \\cdot e ^{-kt}$ wordt het lastiger om de coëfficienten te vinden. Voor de volgende keer, probeer dit op te lossen."
   ]
  },
  {
   "cell_type": "markdown",
   "metadata": {},
   "source": [
    "# Huiswerk"
   ]
  },
  {
   "cell_type": "markdown",
   "metadata": {},
   "source": [
    "Op Blackboard staat het huiswerk.\n",
    "\n",
    "1. Digitale opdrachten komen op de ELO en moet je met R oplossen.\n",
    "2. Alle opdrachten moeten worden ingeleverd.\n",
    "3. Halverwege de periode komt er een uitgebreide opdracht. Deze een score van 75% halen.\n",
    "4. Eindopdracht wordt pas beoordeeld als alle digitale opdrachten zijn afgerond."
   ]
  }
 ],
 "metadata": {
  "kernelspec": {
   "display_name": "R",
   "language": "R",
   "name": "ir"
  },
  "language_info": {
   "codemirror_mode": "r",
   "file_extension": ".r",
   "mimetype": "text/x-r-source",
   "name": "R",
   "pygments_lexer": "r",
   "version": "3.5.0"
  }
 },
 "nbformat": 4,
 "nbformat_minor": 2
}
