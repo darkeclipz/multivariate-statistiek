{
 "cells": [
  {
   "cell_type": "markdown",
   "metadata": {},
   "source": [
    "# Principle Component Analysis Example"
   ]
  },
  {
   "cell_type": "markdown",
   "metadata": {},
   "source": [
    "This document shows how you can do PCA by hand."
   ]
  },
  {
   "cell_type": "markdown",
   "metadata": {},
   "source": [
    "## Step 1: Get some data"
   ]
  },
  {
   "cell_type": "markdown",
   "metadata": {},
   "source": [
    "The data in this example is relatively simple. It only has two dimensions."
   ]
  },
  {
   "cell_type": "code",
   "execution_count": 114,
   "metadata": {},
   "outputs": [],
   "source": [
    "x = c(2.5, 0.5, 2.2, 1.9, 3.1, 2.3, 2., 1, 1.5, 1.1)\n",
    "y = c(2.4, 0.7, 2.9, 2.2, 3., 2.7, 1.6, 1.1, 1.6, 0.9)\n",
    "df = data.frame(x, y)"
   ]
  },
  {
   "cell_type": "code",
   "execution_count": 115,
   "metadata": {
    "scrolled": false
   },
   "outputs": [
    {
     "data": {
      "image/png": "[encoded data removed]",
      "text/plain": [
       "Plot with title \"Original PCA data\""
      ]
     },
     "metadata": {},
     "output_type": "display_data"
    }
   ],
   "source": [
    "plot(df, xlim=c(-1, 4), ylim=c(-1,4), pch=4, main=\"Original PCA data\")\n",
    "abline(v=0, lty='dotted', col='gray')\n",
    "abline(h=0, lty='dotted', col='gray')"
   ]
  },
  {
   "cell_type": "markdown",
   "metadata": {},
   "source": [
    "## Step 2: Subtract the mean"
   ]
  },
  {
   "cell_type": "markdown",
   "metadata": {},
   "source": [
    "First we subtract the mean from the data for each dimension. This will result in having a mean of $0$ for each of the dimensions (two in this case)."
   ]
  },
  {
   "cell_type": "code",
   "execution_count": 116,
   "metadata": {},
   "outputs": [
    {
     "data": {
      "image/png": "[encoded data removed]",
      "text/plain": [
       "Plot with title \"Means subtracted PCA data\""
      ]
     },
     "metadata": {},
     "output_type": "display_data"
    }
   ],
   "source": [
    "x = x - mean(x); y = y - mean(y)\n",
    "df = data.frame(x, y)\n",
    "plot(df, xlim=c(-2, 2), ylim=c(-2,2), pch=4, main=\"Means subtracted PCA data\")\n",
    "abline(v=0, lty='dotted', col='gray')\n",
    "abline(h=0, lty='dotted', col='gray')"
   ]
  },
  {
   "cell_type": "markdown",
   "metadata": {},
   "source": [
    "## Step 3: Calculate the covariance matrix"
   ]
  },
  {
   "cell_type": "markdown",
   "metadata": {},
   "source": [
    "Once we have adjusted the data (subtracting the mean), we have to create the covariance matrix. This matrix has the variances of all the variables on the diagonal, and the covariances between all the variables elsewhere."
   ]
  },
  {
   "cell_type": "code",
   "execution_count": 117,
   "metadata": {
    "scrolled": false
   },
   "outputs": [
    {
     "data": {
      "text/html": [
       "<table>\n",
       "<thead><tr><th></th><th scope=col>x</th><th scope=col>y</th></tr></thead>\n",
       "<tbody>\n",
       "\t<tr><th scope=row>x</th><td>0.6165556</td><td>0.6154444</td></tr>\n",
       "\t<tr><th scope=row>y</th><td>0.6154444</td><td>0.7165556</td></tr>\n",
       "</tbody>\n",
       "</table>\n"
      ],
      "text/latex": [
       "\\begin{tabular}{r|ll}\n",
       "  & x & y\\\\\n",
       "\\hline\n",
       "\tx & 0.6165556 & 0.6154444\\\\\n",
       "\ty & 0.6154444 & 0.7165556\\\\\n",
       "\\end{tabular}\n"
      ],
      "text/markdown": [
       "\n",
       "| <!--/--> | x | y | \n",
       "|---|---|\n",
       "| x | 0.6165556 | 0.6154444 | \n",
       "| y | 0.6154444 | 0.7165556 | \n",
       "\n",
       "\n"
      ],
      "text/plain": [
       "  x         y        \n",
       "x 0.6165556 0.6154444\n",
       "y 0.6154444 0.7165556"
      ]
     },
     "metadata": {},
     "output_type": "display_data"
    }
   ],
   "source": [
    "cov = var(df)\n",
    "cov"
   ]
  },
  {
   "cell_type": "markdown",
   "metadata": {},
   "source": [
    "## Step 4: Calculate the eigenvectors and eigenvalues of the covariance matrix"
   ]
  },
  {
   "cell_type": "markdown",
   "metadata": {},
   "source": [
    "Next thing is to calculate the eigenvectors and the eigenvalues of the covariance matrix. The covariance matrix is always a square matrix so this shouldn't be a problem. Another thing that is very important is that each eigenvector has unit length, but R does this for us."
   ]
  },
  {
   "cell_type": "code",
   "execution_count": 71,
   "metadata": {},
   "outputs": [
    {
     "data": {
      "text/plain": [
       "eigen() decomposition\n",
       "$values\n",
       "[1] 1.2840277 0.0490834\n",
       "\n",
       "$vectors\n",
       "          [,1]       [,2]\n",
       "[1,] 0.6778734 -0.7351787\n",
       "[2,] 0.7351787  0.6778734\n"
      ]
     },
     "metadata": {},
     "output_type": "display_data"
    }
   ],
   "source": [
    "eigen(cov)"
   ]
  },
  {
   "cell_type": "markdown",
   "metadata": {},
   "source": [
    "If we want to plot the vector as a line in the plot, we will have to figure out the slope of the eigenvector. This is as simple as $m = \\dfrac{y}{x}$."
   ]
  },
  {
   "cell_type": "code",
   "execution_count": 91,
   "metadata": {},
   "outputs": [
    {
     "data": {
      "text/html": [
       "1.08453681342391"
      ],
      "text/latex": [
       "1.08453681342391"
      ],
      "text/markdown": [
       "1.08453681342391"
      ],
      "text/plain": [
       "[1] 1.084537"
      ]
     },
     "metadata": {},
     "output_type": "display_data"
    }
   ],
   "source": [
    "eigen(cov)$vectors[,1][2] / eigen(cov)$vectors[,1][1]"
   ]
  },
  {
   "cell_type": "markdown",
   "metadata": {},
   "source": [
    "## Step 5: Choosing components and forming a feature vector"
   ]
  },
  {
   "cell_type": "markdown",
   "metadata": {},
   "source": [
    "The eigenvector with the highest eigenvalue is the _principle component_ of the data set. In general, you sort the eigenvectors by the value of their eigenvalue, and pick the highest ones. This is where the dimensionality reduction comes into play, because not every eigenvector has equal significance."
   ]
  },
  {
   "cell_type": "code",
   "execution_count": 103,
   "metadata": {},
   "outputs": [
    {
     "data": {
      "image/png": "[encoded data removed]",
      "text/plain": [
       "Plot with title \"Mean adjusted data with eigenvectors overlayed\""
      ]
     },
     "metadata": {},
     "output_type": "display_data"
    }
   ],
   "source": [
    "# subtract the mean from the data, for each\n",
    "# dimension\n",
    "x = x - mean(x); y = y - mean(y)\n",
    "\n",
    "# create the data frame and show a plot.\n",
    "df = data.frame(x, y)\n",
    "plot(df, xlim=c(-1.5, 1.5), ylim=c(-1.5, 1.5), pch=4\n",
    "     , main=\"Mean adjusted data with eigenvectors overlayed\")\n",
    "\n",
    "# plot the mean lines, at 0 in this case\n",
    "abline(v=0, lty='dotted', col='gray')\n",
    "abline(h=0, lty='dotted', col='gray')\n",
    "\n",
    "# plot the eigenvectors, each vector has an x and y component\n",
    "# and we can find the slope by dividing y / x.\n",
    "abline(b=eigen(cov)$vectors[,1][2] / eigen(cov)$vectors[,1][1], a=0, lty='dashed')\n",
    "abline(b=eigen(cov)$vectors[,2][2] / eigen(cov)$vectors[,2][1], a=0, lty='dashed')\n",
    "\n",
    "# fit a linear regression line and show it, to see the difference with the\n",
    "# eigenvector.\n",
    "fit = lm(y~x)\n",
    "abline(fit, col='red', lty='dashed')\n",
    "legend(-1.5, 1.5, legend=c('means', 'eigenvectors', 'lin.reg'), \n",
    "       lty=c('dotted', 'dashed', 'dashed'), \n",
    "       col=c('black', 'black', 'red'))"
   ]
  },
  {
   "cell_type": "markdown",
   "metadata": {},
   "source": [
    "The feature vector contains all the eigenvectors that will be used, thus the feature vector is:\n",
    "\n",
    "$$ \\textit{Feature vector} = \\begin{bmatrix} eig_1 && eig_2 && \\ldots && eig_n \\end{bmatrix} $$"
   ]
  },
  {
   "cell_type": "code",
   "execution_count": 129,
   "metadata": {},
   "outputs": [
    {
     "data": {
      "text/html": [
       "<table>\n",
       "<tbody>\n",
       "\t<tr><td>0.6778734 </td><td>-0.7351787</td></tr>\n",
       "\t<tr><td>0.7351787 </td><td> 0.6778734</td></tr>\n",
       "</tbody>\n",
       "</table>\n"
      ],
      "text/latex": [
       "\\begin{tabular}{ll}\n",
       "\t 0.6778734  & -0.7351787\\\\\n",
       "\t 0.7351787  &  0.6778734\\\\\n",
       "\\end{tabular}\n"
      ],
      "text/markdown": [
       "\n",
       "| 0.6778734  | -0.7351787 | \n",
       "| 0.7351787  |  0.6778734 | \n",
       "\n",
       "\n"
      ],
      "text/plain": [
       "     [,1]      [,2]      \n",
       "[1,] 0.6778734 -0.7351787\n",
       "[2,] 0.7351787  0.6778734"
      ]
     },
     "metadata": {},
     "output_type": "display_data"
    }
   ],
   "source": [
    "featureVector = eigen(cov)$vectors\n",
    "featureVector"
   ]
  },
  {
   "cell_type": "markdown",
   "metadata": {},
   "source": [
    "## Step 5: Deriving the new dataset"
   ]
  },
  {
   "cell_type": "code",
   "execution_count": 132,
   "metadata": {
    "scrolled": false
   },
   "outputs": [
    {
     "data": {
      "image/png": "[encoded data removed]",
      "text/plain": [
       "plot without title"
      ]
     },
     "metadata": {},
     "output_type": "display_data"
    }
   ],
   "source": [
    "t1 = data.matrix(df) %*% featureVector[1,]\n",
    "t2 = data.matrix(df) %*% featureVector[2,]\n",
    "plot(t1, t2)"
   ]
  },
  {
   "cell_type": "code",
   "execution_count": null,
   "metadata": {},
   "outputs": [],
   "source": []
  }
 ],
 "metadata": {
  "kernelspec": {
   "display_name": "R",
   "language": "R",
   "name": "ir"
  },
  "language_info": {
   "codemirror_mode": "r",
   "file_extension": ".r",
   "mimetype": "text/x-r-source",
   "name": "R",
   "pygments_lexer": "r",
   "version": "3.4.4"
  }
 },
 "nbformat": 4,
 "nbformat_minor": 2
}
