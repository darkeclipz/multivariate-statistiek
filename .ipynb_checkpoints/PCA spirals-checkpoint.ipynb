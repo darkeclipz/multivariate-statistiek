{
 "cells": [
  {
   "cell_type": "code",
   "execution_count": 1,
   "metadata": {},
   "outputs": [],
   "source": [
    "library(scatterplot3d)"
   ]
  },
  {
   "cell_type": "markdown",
   "metadata": {},
   "source": [
    "# Load data"
   ]
  },
  {
   "cell_type": "code",
   "execution_count": 2,
   "metadata": {},
   "outputs": [
    {
     "data": {
      "image/png": "[encoded data removed]",
      "text/plain": [
       "Plot with title \"3D Scatterplot of Spiral Data\""
      ]
     },
     "metadata": {},
     "output_type": "display_data"
    }
   ],
   "source": [
    "df = read.csv('spiral.csv', sep=';')\n",
    "scatterplot3d(df$L, df$a, df$b, main=\"3D Scatterplot of Spiral Data\")"
   ]
  },
  {
   "cell_type": "markdown",
   "metadata": {},
   "source": [
    "# Center data"
   ]
  },
  {
   "cell_type": "code",
   "execution_count": 3,
   "metadata": {},
   "outputs": [
    {
     "data": {
      "image/png": "[encoded data removed]",
      "text/plain": [
       "Plot with title \"3D Scatterplot of Centered Spiral Data\""
      ]
     },
     "metadata": {},
     "output_type": "display_data"
    }
   ],
   "source": [
    "xvarCol = 3:5\n",
    "X = data.matrix(df[xvarCol])\n",
    "\n",
    "m = apply(X,2,mean)\n",
    "s = apply(X,2,sd)\n",
    "\n",
    "Xc = sweep(X,2,m,\"-\")\n",
    "rownames(Xc) = df$Samples\n",
    "\n",
    "scatterplot3d(Xc, main=\"3D Scatterplot of Centered Spiral Data\")"
   ]
  },
  {
   "cell_type": "markdown",
   "metadata": {},
   "source": [
    "# Standardizing"
   ]
  },
  {
   "cell_type": "markdown",
   "metadata": {},
   "source": [
    "Only applicable if the data of the variables strongly differ in variance. When minimizing a sum of squares, the high variance variable will dominate the solution. It is not applicable to this dataset.\n",
    "\n",
    "To normalize the variable, simply calculate the z-score with $z = \\frac{x - \\bar{x}}{s}$. "
   ]
  },
  {
   "cell_type": "markdown",
   "metadata": {},
   "source": [
    "# Normalizing\n",
    "\n",
    "The combination of centering and standardizing is called normalizing."
   ]
  },
  {
   "cell_type": "code",
   "execution_count": 4,
   "metadata": {},
   "outputs": [
    {
     "data": {
      "text/html": [
       "<table>\n",
       "<thead><tr><th scope=col>L</th><th scope=col>a</th><th scope=col>b</th></tr></thead>\n",
       "<tbody>\n",
       "\t<tr><td>-0.443016958</td><td> 0.76821601 </td><td> 0.15882545 </td></tr>\n",
       "\t<tr><td> 0.633269640</td><td>-0.61457281 </td><td> 1.69727879 </td></tr>\n",
       "\t<tr><td> 1.416023530</td><td>-0.18357370 </td><td>-0.82239282 </td></tr>\n",
       "\t<tr><td>-0.540861195</td><td> 0.04988416 </td><td>-0.05922305 </td></tr>\n",
       "\t<tr><td>-0.491939077</td><td> 1.12738194 </td><td> 0.23150829 </td></tr>\n",
       "\t<tr><td>-0.100562132</td><td> 1.68408913 </td><td> 0.77662955 </td></tr>\n",
       "\t<tr><td> 0.486503286</td><td> 0.24742542 </td><td> 0.44955679 </td></tr>\n",
       "\t<tr><td> 0.388659049</td><td>-1.58432082 </td><td>-0.88296184 </td></tr>\n",
       "\t<tr><td> 1.024646585</td><td> 1.84571380 </td><td> 1.16427133 </td></tr>\n",
       "\t<tr><td> 0.780035994</td><td> 0.71434113 </td><td>-1.71881444 </td></tr>\n",
       "\t<tr><td> 1.367101412</td><td>-0.66844770 </td><td>-0.30149917 </td></tr>\n",
       "\t<tr><td> 0.095126341</td><td>-0.14765710 </td><td>-0.58011670 </td></tr>\n",
       "\t<tr><td>-0.981160258</td><td> 0.15763394 </td><td>-1.44019691 </td></tr>\n",
       "\t<tr><td>-2.889122864</td><td>-0.84803067 </td><td> 0.92199522 </td></tr>\n",
       "\t<tr><td>-0.002717895</td><td> 0.28334201 </td><td> 0.71606052 </td></tr>\n",
       "\t<tr><td>-0.002717895</td><td>-1.02761363 </td><td>-0.33784058 </td></tr>\n",
       "\t<tr><td>-0.785471785</td><td>-1.74594549 </td><td>-1.30694505 </td></tr>\n",
       "\t<tr><td> 0.046204223</td><td>-0.05786562 </td><td> 1.33386462 </td></tr>\n",
       "</tbody>\n",
       "</table>\n"
      ],
      "text/latex": [
       "\\begin{tabular}{lll}\n",
       " L & a & b\\\\\n",
       "\\hline\n",
       "\t -0.443016958 &  0.76821601  &  0.15882545 \\\\\n",
       "\t  0.633269640 & -0.61457281  &  1.69727879 \\\\\n",
       "\t  1.416023530 & -0.18357370  & -0.82239282 \\\\\n",
       "\t -0.540861195 &  0.04988416  & -0.05922305 \\\\\n",
       "\t -0.491939077 &  1.12738194  &  0.23150829 \\\\\n",
       "\t -0.100562132 &  1.68408913  &  0.77662955 \\\\\n",
       "\t  0.486503286 &  0.24742542  &  0.44955679 \\\\\n",
       "\t  0.388659049 & -1.58432082  & -0.88296184 \\\\\n",
       "\t  1.024646585 &  1.84571380  &  1.16427133 \\\\\n",
       "\t  0.780035994 &  0.71434113  & -1.71881444 \\\\\n",
       "\t  1.367101412 & -0.66844770  & -0.30149917 \\\\\n",
       "\t  0.095126341 & -0.14765710  & -0.58011670 \\\\\n",
       "\t -0.981160258 &  0.15763394  & -1.44019691 \\\\\n",
       "\t -2.889122864 & -0.84803067  &  0.92199522 \\\\\n",
       "\t -0.002717895 &  0.28334201  &  0.71606052 \\\\\n",
       "\t -0.002717895 & -1.02761363  & -0.33784058 \\\\\n",
       "\t -0.785471785 & -1.74594549  & -1.30694505 \\\\\n",
       "\t  0.046204223 & -0.05786562  &  1.33386462 \\\\\n",
       "\\end{tabular}\n"
      ],
      "text/markdown": [
       "\n",
       "L | a | b | \n",
       "|---|---|---|---|---|---|---|---|---|---|---|---|---|---|---|---|---|---|\n",
       "| -0.443016958 |  0.76821601  |  0.15882545  | \n",
       "|  0.633269640 | -0.61457281  |  1.69727879  | \n",
       "|  1.416023530 | -0.18357370  | -0.82239282  | \n",
       "| -0.540861195 |  0.04988416  | -0.05922305  | \n",
       "| -0.491939077 |  1.12738194  |  0.23150829  | \n",
       "| -0.100562132 |  1.68408913  |  0.77662955  | \n",
       "|  0.486503286 |  0.24742542  |  0.44955679  | \n",
       "|  0.388659049 | -1.58432082  | -0.88296184  | \n",
       "|  1.024646585 |  1.84571380  |  1.16427133  | \n",
       "|  0.780035994 |  0.71434113  | -1.71881444  | \n",
       "|  1.367101412 | -0.66844770  | -0.30149917  | \n",
       "|  0.095126341 | -0.14765710  | -0.58011670  | \n",
       "| -0.981160258 |  0.15763394  | -1.44019691  | \n",
       "| -2.889122864 | -0.84803067  |  0.92199522  | \n",
       "| -0.002717895 |  0.28334201  |  0.71606052  | \n",
       "| -0.002717895 | -1.02761363  | -0.33784058  | \n",
       "| -0.785471785 | -1.74594549  | -1.30694505  | \n",
       "|  0.046204223 | -0.05786562  |  1.33386462  | \n",
       "\n",
       "\n"
      ],
      "text/plain": [
       "      L            a           b          \n",
       " [1,] -0.443016958  0.76821601  0.15882545\n",
       " [2,]  0.633269640 -0.61457281  1.69727879\n",
       " [3,]  1.416023530 -0.18357370 -0.82239282\n",
       " [4,] -0.540861195  0.04988416 -0.05922305\n",
       " [5,] -0.491939077  1.12738194  0.23150829\n",
       " [6,] -0.100562132  1.68408913  0.77662955\n",
       " [7,]  0.486503286  0.24742542  0.44955679\n",
       " [8,]  0.388659049 -1.58432082 -0.88296184\n",
       " [9,]  1.024646585  1.84571380  1.16427133\n",
       "[10,]  0.780035994  0.71434113 -1.71881444\n",
       "[11,]  1.367101412 -0.66844770 -0.30149917\n",
       "[12,]  0.095126341 -0.14765710 -0.58011670\n",
       "[13,] -0.981160258  0.15763394 -1.44019691\n",
       "[14,] -2.889122864 -0.84803067  0.92199522\n",
       "[15,] -0.002717895  0.28334201  0.71606052\n",
       "[16,] -0.002717895 -1.02761363 -0.33784058\n",
       "[17,] -0.785471785 -1.74594549 -1.30694505\n",
       "[18,]  0.046204223 -0.05786562  1.33386462"
      ]
     },
     "metadata": {},
     "output_type": "display_data"
    }
   ],
   "source": [
    "Xcs = sweep(Xc,2,s,\"/\")\n",
    "Xcs"
   ]
  },
  {
   "cell_type": "markdown",
   "metadata": {},
   "source": [
    "# Calculate the first principal component (PC1)"
   ]
  },
  {
   "cell_type": "markdown",
   "metadata": {},
   "source": [
    "Steps to calculate PC1:\n",
    "\n",
    " 1. The first principal component will be a vector $p_1' = \\begin{bmatrix} \\beta_1, \\beta_2, \\beta_3 \\end{bmatrix}$.\n",
    " 2. Project all the samples in the dataset orthogonally onto the vector $p_1'$.\n",
    " 3. Find the length of the line segment between the sample and the orthogonally projection onto the vector $p_1'$.\n",
    " 4. Calculate the sum of squares of the line segments.\n",
    " 5. Determine $\\beta_1, \\beta_2, \\beta_3$ in such a way that the sum of squares is minimized."
   ]
  },
  {
   "cell_type": "markdown",
   "metadata": {},
   "source": [
    "# Determining $\\beta_1, \\beta_2, \\beta_3$ of PC1"
   ]
  },
  {
   "cell_type": "markdown",
   "metadata": {},
   "source": [
    "As a notation, $X_c'$ will denote the transponse of $X_c$. To calculate the covariance matrix, we can determine:\n",
    "\n",
    "$$ S = \\frac{X_c'X_c}{N-1}. $$\n",
    "\n",
    "The variances are on the main diagonal, and the covariances on the off-diagonal elements."
   ]
  },
  {
   "cell_type": "code",
   "execution_count": 5,
   "metadata": {},
   "outputs": [
    {
     "data": {
      "text/html": [
       "<table>\n",
       "<thead><tr><th></th><th scope=col>L</th><th scope=col>a</th><th scope=col>b</th></tr></thead>\n",
       "<tbody>\n",
       "\t<tr><th scope=row>L</th><td> 0.04178203</td><td>0.01975752 </td><td>-0.01214052</td></tr>\n",
       "\t<tr><th scope=row>a</th><td> 0.01975752</td><td>0.31007712 </td><td> 0.14223203</td></tr>\n",
       "\t<tr><th scope=row>b</th><td>-0.01214052</td><td>0.14223203 </td><td> 0.68145752</td></tr>\n",
       "</tbody>\n",
       "</table>\n"
      ],
      "text/latex": [
       "\\begin{tabular}{r|lll}\n",
       "  & L & a & b\\\\\n",
       "\\hline\n",
       "\tL &  0.04178203 & 0.01975752  & -0.01214052\\\\\n",
       "\ta &  0.01975752 & 0.31007712  &  0.14223203\\\\\n",
       "\tb & -0.01214052 & 0.14223203  &  0.68145752\\\\\n",
       "\\end{tabular}\n"
      ],
      "text/markdown": [
       "\n",
       "| <!--/--> | L | a | b | \n",
       "|---|---|---|\n",
       "| L |  0.04178203 | 0.01975752  | -0.01214052 | \n",
       "| a |  0.01975752 | 0.31007712  |  0.14223203 | \n",
       "| b | -0.01214052 | 0.14223203  |  0.68145752 | \n",
       "\n",
       "\n"
      ],
      "text/plain": [
       "  L           a          b          \n",
       "L  0.04178203 0.01975752 -0.01214052\n",
       "a  0.01975752 0.31007712  0.14223203\n",
       "b -0.01214052 0.14223203  0.68145752"
      ]
     },
     "metadata": {},
     "output_type": "display_data"
    }
   ],
   "source": [
    "t(Xc) %*% Xc / (nrow(Xc) - 1)"
   ]
  },
  {
   "cell_type": "markdown",
   "metadata": {},
   "source": [
    "This can be done quickly with `cov(...)`:"
   ]
  },
  {
   "cell_type": "code",
   "execution_count": 6,
   "metadata": {},
   "outputs": [
    {
     "data": {
      "text/html": [
       "<table>\n",
       "<thead><tr><th></th><th scope=col>L</th><th scope=col>a</th><th scope=col>b</th></tr></thead>\n",
       "<tbody>\n",
       "\t<tr><th scope=row>L</th><td> 0.04178203</td><td>0.01975752 </td><td>-0.01214052</td></tr>\n",
       "\t<tr><th scope=row>a</th><td> 0.01975752</td><td>0.31007712 </td><td> 0.14223203</td></tr>\n",
       "\t<tr><th scope=row>b</th><td>-0.01214052</td><td>0.14223203 </td><td> 0.68145752</td></tr>\n",
       "</tbody>\n",
       "</table>\n"
      ],
      "text/latex": [
       "\\begin{tabular}{r|lll}\n",
       "  & L & a & b\\\\\n",
       "\\hline\n",
       "\tL &  0.04178203 & 0.01975752  & -0.01214052\\\\\n",
       "\ta &  0.01975752 & 0.31007712  &  0.14223203\\\\\n",
       "\tb & -0.01214052 & 0.14223203  &  0.68145752\\\\\n",
       "\\end{tabular}\n"
      ],
      "text/markdown": [
       "\n",
       "| <!--/--> | L | a | b | \n",
       "|---|---|---|\n",
       "| L |  0.04178203 | 0.01975752  | -0.01214052 | \n",
       "| a |  0.01975752 | 0.31007712  |  0.14223203 | \n",
       "| b | -0.01214052 | 0.14223203  |  0.68145752 | \n",
       "\n",
       "\n"
      ],
      "text/plain": [
       "  L           a          b          \n",
       "L  0.04178203 0.01975752 -0.01214052\n",
       "a  0.01975752 0.31007712  0.14223203\n",
       "b -0.01214052 0.14223203  0.68145752"
      ]
     },
     "metadata": {},
     "output_type": "display_data"
    }
   ],
   "source": [
    "cov(Xc)"
   ]
  },
  {
   "cell_type": "markdown",
   "metadata": {},
   "source": [
    "The first principle component PC1, vector $p_1' = \\begin{bmatrix} \\beta_1, \\beta_2, \\beta_3 \\end{bmatrix}$ is the eigenvector with the highest eigenvalue of the covariance matrix. "
   ]
  },
  {
   "cell_type": "code",
   "execution_count": 7,
   "metadata": {},
   "outputs": [
    {
     "data": {
      "text/plain": [
       "eigen() decomposition\n",
       "$values\n",
       "[1] 0.72970941 0.26416200 0.03944526\n",
       "\n",
       "$vectors\n",
       "             [,1]       [,2]        [,3]\n",
       "[1,] -0.007505357 -0.1011221  0.99484571\n",
       "[2,]  0.320680456 -0.9425723 -0.09338946\n",
       "[3,]  0.947157703  0.3183267  0.03950223\n"
      ]
     },
     "metadata": {},
     "output_type": "display_data"
    }
   ],
   "source": [
    "eigen(cov(Xc))"
   ]
  },
  {
   "cell_type": "markdown",
   "metadata": {},
   "source": [
    "This means that the vector for PC1 is $\\begin{bmatrix} -0.0075, -0.1011,  0.9948 \\end{bmatrix}$."
   ]
  },
  {
   "cell_type": "code",
   "execution_count": 8,
   "metadata": {},
   "outputs": [],
   "source": [
    "p1 = eigen(cov(Xc))$vectors[,1]\n",
    "p2 = eigen(cov(Xc))$vectors[,2]\n",
    "p3 = eigen(cov(Xc))$vectors[,3]"
   ]
  },
  {
   "cell_type": "markdown",
   "metadata": {},
   "source": [
    "# Finding PC2"
   ]
  },
  {
   "cell_type": "markdown",
   "metadata": {},
   "source": [
    "The second principle component PC2 is orthogonal to PC1. Also, the second principle component is the eigenvector with the second highest value of the covariance matrix, vector $p_2' = \\begin{bmatrix} 0.3206, -0.9425, -0.0933 \\end{bmatrix}$."
   ]
  },
  {
   "cell_type": "markdown",
   "metadata": {},
   "source": [
    "# Rotationary ambivalence"
   ]
  },
  {
   "cell_type": "markdown",
   "metadata": {},
   "source": [
    "Because there is another vector that is orthogonal to $p_1'$, which is the vector in the opposite direction. Both vectors are correct, and this phenoma is called _rotationary ambivalence_. If you don't like the result, simple change the sign $p := -p$."
   ]
  },
  {
   "cell_type": "code",
   "execution_count": 9,
   "metadata": {},
   "outputs": [],
   "source": [
    "p2 = -p2"
   ]
  },
  {
   "cell_type": "markdown",
   "metadata": {},
   "source": [
    "# Loadings $p$"
   ]
  },
  {
   "cell_type": "markdown",
   "metadata": {},
   "source": [
    "* Elements in the principle component vector $p$ are also called _loadings_.\n",
    "* The vectors $p_1$ and $p_2$ are orthogonal to each other, thus they span a plane.\n",
    "* In the way $p_1$ and $p_2$ are determined, this plane contains the maximed form of information of the samples in the original $v$-dimensional space.\n",
    "* Then we project the samples in the plane and look at the graph where $p_1$ is the x-axis, and $p_2$ is the y-axis."
   ]
  },
  {
   "cell_type": "markdown",
   "metadata": {},
   "source": [
    "# Scores $t$"
   ]
  },
  {
   "cell_type": "markdown",
   "metadata": {},
   "source": [
    "* Project every samples orthogonal onto the vector $p_1$.\n",
    "* The distance from the origin $O$ to the orthogonal projection onto $p_1$ is the new x-coordinate of the sample in the $p_1, p_2$-plane.\n",
    "* These new coordinates are called _Scores_.\n",
    "* Also do this for $p_2$, and then plot $t_2$ on the y-axis and $t_1$ on the x-axis."
   ]
  },
  {
   "cell_type": "markdown",
   "metadata": {},
   "source": [
    "# Calculating scores $t$"
   ]
  },
  {
   "cell_type": "markdown",
   "metadata": {},
   "source": [
    "For example, project the sample `M17` where $x_c = [-0.16, -0.98, -1.08]$ orthogonal onto $p_1' = [-0.01, 0.32, 0.95]$. The formula for this is:\n",
    "\n",
    "$$ t = \\dfrac{x_c \\cdot p_1}{p_1' \\cdot p_1} $$\n",
    "\n",
    "However, the length $l$ of $p_1 = 1$. This means that $p_1' \\cdot p_1 = (-0.01) ^2 + 0.32^2 + 0.95^2 = 1$. This simplifies the formula to $t=x_c\\cdot p_1$. **(Do note that the multiplication operator $\\cdot$ denotes a dot-product between two vectors.)**"
   ]
  },
  {
   "cell_type": "code",
   "execution_count": 10,
   "metadata": {},
   "outputs": [
    {
     "data": {
      "text/html": [
       "<table>\n",
       "<tbody>\n",
       "\t<tr><td>-1.332446</td></tr>\n",
       "</tbody>\n",
       "</table>\n"
      ],
      "text/latex": [
       "\\begin{tabular}{l}\n",
       "\t -1.332446\\\\\n",
       "\\end{tabular}\n"
      ],
      "text/markdown": [
       "\n",
       "| -1.332446 | \n",
       "\n",
       "\n"
      ],
      "text/plain": [
       "     [,1]     \n",
       "[1,] -1.332446"
      ]
     },
     "metadata": {},
     "output_type": "display_data"
    }
   ],
   "source": [
    "Xc[17,] %*% p1"
   ]
  },
  {
   "cell_type": "markdown",
   "metadata": {},
   "source": [
    "If we do this for all the samples, and plot the scores:"
   ]
  },
  {
   "cell_type": "code",
   "execution_count": 11,
   "metadata": {},
   "outputs": [],
   "source": [
    "t1 = Xc %*% p1\n",
    "t2 = Xc %*% p2\n",
    "t3 = Xc %*% p3"
   ]
  },
  {
   "cell_type": "markdown",
   "metadata": {},
   "source": [
    "# Score plot"
   ]
  },
  {
   "cell_type": "code",
   "execution_count": 12,
   "metadata": {},
   "outputs": [
    {
     "data": {
      "image/png": "[encoded data removed]",
      "text/plain": [
       "Plot with title \"PCA Score plot\""
      ]
     },
     "metadata": {},
     "output_type": "display_data"
    }
   ],
   "source": [
    "plot(t1, t2, col=df$Spiraal, pch=19, cex=2) \n",
    "text(t1, t2, labels=df$Sample, col=df$Spiraal, pos=3, xpd=NA)\n",
    "abline(h=0,lty=1)\n",
    "abline(v=0,lty=1)\n",
    "title(main='PCA Score plot')\n",
    "grid()"
   ]
  },
  {
   "cell_type": "markdown",
   "metadata": {},
   "source": [
    "# Loading plot"
   ]
  },
  {
   "cell_type": "markdown",
   "metadata": {},
   "source": [
    "The loadings $p_1$ and $p_2$ show the most important structure in the dataset. They determine where the samples will end in the score plot: $t = x_c \\cdot p$. This means that for $p_1' = [-0.01, 0.32, 0.95 ]$:\n",
    "\n",
    " * the variable $L$ is not important.\n",
    " * the variable $a$ has a positive contribution.\n",
    " * the variable $b$ also has a positive contribution and is the most important one.\n",
    " \n",
    "The loadings plot of $p_1$ and $p_2$ determines the position of the samples in the score plot."
   ]
  },
  {
   "cell_type": "code",
   "execution_count": 13,
   "metadata": {},
   "outputs": [
    {
     "data": {
      "image/png": "[encoded data removed]",
      "text/plain": [
       "Plot with title \"PCA Loading plot\""
      ]
     },
     "metadata": {},
     "output_type": "display_data"
    }
   ],
   "source": [
    "plot(p1,p2,pch=19,cex=2,col=\"blue\")\n",
    "arrows(0,0,p1,p2,col=\"blue\") \n",
    "text(p1,p2,labels=colnames(X),pos=3,col=\"blue\",xpd=NA)\n",
    "abline(h=0,lty=1)\n",
    "abline(v=0,lty=1)\n",
    "title(main=\"PCA Loading plot\")"
   ]
  },
  {
   "cell_type": "markdown",
   "metadata": {},
   "source": [
    "# Bi-plot"
   ]
  },
  {
   "cell_type": "markdown",
   "metadata": {},
   "source": [
    "The most informative plot is the combination of the score plot and the loading plot. This is called a bi-plot. Usually the loadings coefficients are very small numbers, compared to the scores. To display them properly into the score plot, they have to be rescaled by a positive constant. This is allowed, because the underlying relationship is what matters. "
   ]
  },
  {
   "cell_type": "code",
   "execution_count": 14,
   "metadata": {
    "scrolled": false
   },
   "outputs": [
    {
     "data": {
      "image/png": "[encoded data removed]",
      "text/plain": [
       "Plot with title \"PCA bi-plot\""
      ]
     },
     "metadata": {},
     "output_type": "display_data"
    }
   ],
   "source": [
    "# scores plot\n",
    "lim = max(t1) * 1.05\n",
    "plot(t1, t2, col=df$Spiraal, pch=19, cex=2, ylim=c(-lim,lim), xlim=c(-lim,lim)) \n",
    "text(t1, t2, labels=df$Sample, col=df$Spiraal, pos=3, xpd=NA)\n",
    "abline(h=0,lty=1)\n",
    "abline(v=0,lty=1)\n",
    "title(main='PCA bi-plot')\n",
    "grid()\n",
    "\n",
    "# loading plot\n",
    "loadingScale = max(p1)\n",
    "arrows(0,0,p1*loadingScale,p2*loadingScale,col=\"blue\") \n",
    "text(p1*loadingScale,p2*loadingScale,labels=c('L', 'a', 'b'), col='blue')"
   ]
  },
  {
   "cell_type": "markdown",
   "metadata": {},
   "source": [
    "# PCA as a model"
   ]
  },
  {
   "cell_type": "code",
   "execution_count": 89,
   "metadata": {},
   "outputs": [],
   "source": [
    "# Calculate the trace of a matrix M.\n",
    "trace = function(M) { (sum(diag(M))) }\n",
    "\n",
    "# Calculate the variance of a matrix M.\n",
    "matrix.var = function(M) { (trace(t(M) %*% M) / (nrow(M) * ncol(M))) }\n",
    "\n",
    "# Calculate the standard deviation of a matrix M.\n",
    "matrix.sd  = function(M) { (sqrt(matrix.var(M))) }\n",
    "\n",
    "# Calculate the mean for every row of a matrix M.\n",
    "rowMeans = function(M) { (rowSums(M) / ncol(M)) }\n",
    "\n",
    "# Calculate the mean for every column of a matrix M.\n",
    "colMeans = function(M) { (colSums(M) / nrow(M)) }"
   ]
  },
  {
   "cell_type": "markdown",
   "metadata": {},
   "source": [
    "We want to write PCA as a model in the form of:\n",
    "\n",
    "$$ X_c = \\hat{X}_c + E $$\n",
    "\n",
    "where $E$ is the error term, and $\\hat{X}_c$ is explained in the next paragraph:"
   ]
  },
  {
   "cell_type": "markdown",
   "metadata": {},
   "source": [
    "First we set the error matrix $E_0 = X_c$, because we haven't extracted any data from the error matrix yet. Then we calculate $PC1$, and subtract this from the error matrix $E_0$, so we get $E_1 = E_0 - t_1 \\cdot p_1'$. Then we keep doing this, and calculate any $PC_n$, and then subtract that data from the previous error matrix: $E_{n} = E_{n-1} - t_n \\cdot p_n'$."
   ]
  },
  {
   "cell_type": "code",
   "execution_count": 17,
   "metadata": {},
   "outputs": [
    {
     "data": {
      "text/html": [
       "0.325303395061728"
      ],
      "text/latex": [
       "0.325303395061728"
      ],
      "text/markdown": [
       "0.325303395061728"
      ],
      "text/plain": [
       "[1] 0.3253034"
      ]
     },
     "metadata": {},
     "output_type": "display_data"
    }
   ],
   "source": [
    "E0 = Xc\n",
    "trace(t(E0) %*% E0) / (nrow(E0) * ncol(E0))"
   ]
  },
  {
   "cell_type": "code",
   "execution_count": 18,
   "metadata": {
    "scrolled": false
   },
   "outputs": [],
   "source": [
    "t1 = E0 %*% p1\n",
    "E1 = E0 - t1 %*% t(p1)\n",
    "rownames(E1) = rownames(E0)"
   ]
  },
  {
   "cell_type": "code",
   "execution_count": 19,
   "metadata": {},
   "outputs": [
    {
     "data": {
      "text/html": [
       "0.0955800632020795"
      ],
      "text/latex": [
       "0.0955800632020795"
      ],
      "text/markdown": [
       "0.0955800632020795"
      ],
      "text/plain": [
       "[1] 0.09558006"
      ]
     },
     "metadata": {},
     "output_type": "display_data"
    }
   ],
   "source": [
    "matrix.var(E1)"
   ]
  },
  {
   "cell_type": "code",
   "execution_count": 20,
   "metadata": {},
   "outputs": [],
   "source": [
    "t2 = E1 %*% p2\n",
    "E2 = E1 - t2 %*% t(p2)\n",
    "rownames(E2) = rownames(E0)"
   ]
  },
  {
   "cell_type": "code",
   "execution_count": 21,
   "metadata": {},
   "outputs": [
    {
     "data": {
      "text/html": [
       "0.012417952294316"
      ],
      "text/latex": [
       "0.012417952294316"
      ],
      "text/markdown": [
       "0.012417952294316"
      ],
      "text/plain": [
       "[1] 0.01241795"
      ]
     },
     "metadata": {},
     "output_type": "display_data"
    }
   ],
   "source": [
    "matrix.var(E2)"
   ]
  },
  {
   "cell_type": "code",
   "execution_count": 22,
   "metadata": {},
   "outputs": [],
   "source": [
    "t3 = E2 %*% p3\n",
    "E3 = E2 - t3 %*% t(p3)\n",
    "rownames(E3) = rownames(E0)"
   ]
  },
  {
   "cell_type": "code",
   "execution_count": 23,
   "metadata": {},
   "outputs": [
    {
     "data": {
      "text/html": [
       "3.54866500637202e-32"
      ],
      "text/latex": [
       "3.54866500637202e-32"
      ],
      "text/markdown": [
       "3.54866500637202e-32"
      ],
      "text/plain": [
       "[1] 3.548665e-32"
      ]
     },
     "metadata": {},
     "output_type": "display_data"
    }
   ],
   "source": [
    "matrix.var(E3)"
   ]
  },
  {
   "cell_type": "markdown",
   "metadata": {},
   "source": [
    "Now all the data is in the model, and the error matrix is essentially zero."
   ]
  },
  {
   "cell_type": "markdown",
   "metadata": {},
   "source": [
    "# Scree plot"
   ]
  },
  {
   "cell_type": "markdown",
   "metadata": {},
   "source": [
    "A scree plot can tell you how many PC's you should add to the model. The limit value can be found with:\n",
    "\n",
    "$$ l = \\dfrac{\\textrm{trace}(Covariance\\ matrix)}{v}$$\n",
    "\n",
    "where $v$ is number of variables."
   ]
  },
  {
   "cell_type": "code",
   "execution_count": 24,
   "metadata": {},
   "outputs": [
    {
     "data": {
      "image/png": "[encoded data removed]",
      "text/plain": [
       "Plot with title \"Scree plot\""
      ]
     },
     "metadata": {},
     "output_type": "display_data"
    }
   ],
   "source": [
    "lambdas = eigen(cov(Xc))$values\n",
    "lambdas = sort(lambdas, decreasing=TRUE)\n",
    "plot(lambdas, type='o', pch=18, col='red', cex=3, lwd=2\n",
    "     , main=\"Scree plot\", xlab=\"Index\", ylab=\"Eigenvalue\",\n",
    "    xlim=c(0, length(lambdas)))\n",
    "lim = trace((cov(Xc))) / length(lambdas)\n",
    "abline(h=lim, lt='dashed', lwd=4, col='gray')\n",
    "text(lambdas - 0.01, labels=round(lambdas,2))\n",
    "grid()"
   ]
  },
  {
   "cell_type": "markdown",
   "metadata": {},
   "source": [
    "Looking at the scree plot, we can see that we would have to add 1 PC to our model."
   ]
  },
  {
   "cell_type": "markdown",
   "metadata": {},
   "source": [
    "# Total variance / explained variance"
   ]
  },
  {
   "cell_type": "markdown",
   "metadata": {},
   "source": [
    "We can calculate the variance of a matrix $\\mathbf{M}$ with the following formula:"
   ]
  },
  {
   "cell_type": "markdown",
   "metadata": {},
   "source": [
    "$$ \\textrm{matrix.var}(\\mathbf{M}) = \\dfrac{\\sum\\limits_{i=1}^N \\sum\\limits_{j=1}^v e^2_{ij}}{N\\cdot v} = \\dfrac{\\textrm{trace}(E^T\\cdot E)}{N\\cdot v} $$"
   ]
  },
  {
   "cell_type": "code",
   "execution_count": 108,
   "metadata": {},
   "outputs": [
    {
     "data": {
      "text/html": [
       "<table>\n",
       "<thead><tr><th scope=col>L</th><th scope=col>a</th><th scope=col>b</th></tr></thead>\n",
       "<tbody>\n",
       "\t<tr><td>-0.0905555556</td><td> 0.42777778  </td><td> 0.13111111  </td></tr>\n",
       "\t<tr><td> 0.1294444444</td><td>-0.34222222  </td><td> 1.40111111  </td></tr>\n",
       "\t<tr><td> 0.2894444444</td><td>-0.10222222  </td><td>-0.67888889  </td></tr>\n",
       "\t<tr><td>-0.1105555556</td><td> 0.02777778  </td><td>-0.04888889  </td></tr>\n",
       "\t<tr><td>-0.1005555556</td><td> 0.62777778  </td><td> 0.19111111  </td></tr>\n",
       "\t<tr><td>-0.0205555556</td><td> 0.93777778  </td><td> 0.64111111  </td></tr>\n",
       "\t<tr><td> 0.0994444444</td><td> 0.13777778  </td><td> 0.37111111  </td></tr>\n",
       "\t<tr><td> 0.0794444444</td><td>-0.88222222  </td><td>-0.72888889  </td></tr>\n",
       "\t<tr><td> 0.2094444444</td><td> 1.02777778  </td><td> 0.96111111  </td></tr>\n",
       "\t<tr><td> 0.1594444444</td><td> 0.39777778  </td><td>-1.41888889  </td></tr>\n",
       "\t<tr><td> 0.2794444444</td><td>-0.37222222  </td><td>-0.24888889  </td></tr>\n",
       "\t<tr><td> 0.0194444444</td><td>-0.08222222  </td><td>-0.47888889  </td></tr>\n",
       "\t<tr><td>-0.2005555556</td><td> 0.08777778  </td><td>-1.18888889  </td></tr>\n",
       "\t<tr><td>-0.5905555556</td><td>-0.47222222  </td><td> 0.76111111  </td></tr>\n",
       "\t<tr><td>-0.0005555556</td><td> 0.15777778  </td><td> 0.59111111  </td></tr>\n",
       "\t<tr><td>-0.0005555556</td><td>-0.57222222  </td><td>-0.27888889  </td></tr>\n",
       "\t<tr><td>-0.1605555556</td><td>-0.97222222  </td><td>-1.07888889  </td></tr>\n",
       "\t<tr><td> 0.0094444444</td><td>-0.03222222  </td><td> 1.10111111  </td></tr>\n",
       "</tbody>\n",
       "</table>\n"
      ],
      "text/latex": [
       "\\begin{tabular}{lll}\n",
       " L & a & b\\\\\n",
       "\\hline\n",
       "\t -0.0905555556 &  0.42777778   &  0.13111111  \\\\\n",
       "\t  0.1294444444 & -0.34222222   &  1.40111111  \\\\\n",
       "\t  0.2894444444 & -0.10222222   & -0.67888889  \\\\\n",
       "\t -0.1105555556 &  0.02777778   & -0.04888889  \\\\\n",
       "\t -0.1005555556 &  0.62777778   &  0.19111111  \\\\\n",
       "\t -0.0205555556 &  0.93777778   &  0.64111111  \\\\\n",
       "\t  0.0994444444 &  0.13777778   &  0.37111111  \\\\\n",
       "\t  0.0794444444 & -0.88222222   & -0.72888889  \\\\\n",
       "\t  0.2094444444 &  1.02777778   &  0.96111111  \\\\\n",
       "\t  0.1594444444 &  0.39777778   & -1.41888889  \\\\\n",
       "\t  0.2794444444 & -0.37222222   & -0.24888889  \\\\\n",
       "\t  0.0194444444 & -0.08222222   & -0.47888889  \\\\\n",
       "\t -0.2005555556 &  0.08777778   & -1.18888889  \\\\\n",
       "\t -0.5905555556 & -0.47222222   &  0.76111111  \\\\\n",
       "\t -0.0005555556 &  0.15777778   &  0.59111111  \\\\\n",
       "\t -0.0005555556 & -0.57222222   & -0.27888889  \\\\\n",
       "\t -0.1605555556 & -0.97222222   & -1.07888889  \\\\\n",
       "\t  0.0094444444 & -0.03222222   &  1.10111111  \\\\\n",
       "\\end{tabular}\n"
      ],
      "text/markdown": [
       "\n",
       "L | a | b | \n",
       "|---|---|---|---|---|---|---|---|---|---|---|---|---|---|---|---|---|---|\n",
       "| -0.0905555556 |  0.42777778   |  0.13111111   | \n",
       "|  0.1294444444 | -0.34222222   |  1.40111111   | \n",
       "|  0.2894444444 | -0.10222222   | -0.67888889   | \n",
       "| -0.1105555556 |  0.02777778   | -0.04888889   | \n",
       "| -0.1005555556 |  0.62777778   |  0.19111111   | \n",
       "| -0.0205555556 |  0.93777778   |  0.64111111   | \n",
       "|  0.0994444444 |  0.13777778   |  0.37111111   | \n",
       "|  0.0794444444 | -0.88222222   | -0.72888889   | \n",
       "|  0.2094444444 |  1.02777778   |  0.96111111   | \n",
       "|  0.1594444444 |  0.39777778   | -1.41888889   | \n",
       "|  0.2794444444 | -0.37222222   | -0.24888889   | \n",
       "|  0.0194444444 | -0.08222222   | -0.47888889   | \n",
       "| -0.2005555556 |  0.08777778   | -1.18888889   | \n",
       "| -0.5905555556 | -0.47222222   |  0.76111111   | \n",
       "| -0.0005555556 |  0.15777778   |  0.59111111   | \n",
       "| -0.0005555556 | -0.57222222   | -0.27888889   | \n",
       "| -0.1605555556 | -0.97222222   | -1.07888889   | \n",
       "|  0.0094444444 | -0.03222222   |  1.10111111   | \n",
       "\n",
       "\n"
      ],
      "text/plain": [
       "      L             a           b          \n",
       " [1,] -0.0905555556  0.42777778  0.13111111\n",
       " [2,]  0.1294444444 -0.34222222  1.40111111\n",
       " [3,]  0.2894444444 -0.10222222 -0.67888889\n",
       " [4,] -0.1105555556  0.02777778 -0.04888889\n",
       " [5,] -0.1005555556  0.62777778  0.19111111\n",
       " [6,] -0.0205555556  0.93777778  0.64111111\n",
       " [7,]  0.0994444444  0.13777778  0.37111111\n",
       " [8,]  0.0794444444 -0.88222222 -0.72888889\n",
       " [9,]  0.2094444444  1.02777778  0.96111111\n",
       "[10,]  0.1594444444  0.39777778 -1.41888889\n",
       "[11,]  0.2794444444 -0.37222222 -0.24888889\n",
       "[12,]  0.0194444444 -0.08222222 -0.47888889\n",
       "[13,] -0.2005555556  0.08777778 -1.18888889\n",
       "[14,] -0.5905555556 -0.47222222  0.76111111\n",
       "[15,] -0.0005555556  0.15777778  0.59111111\n",
       "[16,] -0.0005555556 -0.57222222 -0.27888889\n",
       "[17,] -0.1605555556 -0.97222222 -1.07888889\n",
       "[18,]  0.0094444444 -0.03222222  1.10111111"
      ]
     },
     "metadata": {},
     "output_type": "display_data"
    }
   ],
   "source": [
    "E0"
   ]
  },
  {
   "cell_type": "code",
   "execution_count": 28,
   "metadata": {},
   "outputs": [
    {
     "data": {
      "text/html": [
       "0.325303395061728"
      ],
      "text/latex": [
       "0.325303395061728"
      ],
      "text/markdown": [
       "0.325303395061728"
      ],
      "text/plain": [
       "[1] 0.3253034"
      ]
     },
     "metadata": {},
     "output_type": "display_data"
    }
   ],
   "source": [
    "matrix.var(E0)"
   ]
  },
  {
   "cell_type": "code",
   "execution_count": 159,
   "metadata": {},
   "outputs": [
    {
     "data": {
      "text/html": [
       "0.0955800632020795"
      ],
      "text/latex": [
       "0.0955800632020795"
      ],
      "text/markdown": [
       "0.0955800632020795"
      ],
      "text/plain": [
       "[1] 0.09558006"
      ]
     },
     "metadata": {},
     "output_type": "display_data"
    }
   ],
   "source": [
    "matrix.var(E1)"
   ]
  },
  {
   "cell_type": "code",
   "execution_count": 160,
   "metadata": {
    "scrolled": true
   },
   "outputs": [
    {
     "data": {
      "text/html": [
       "0.012417952294316"
      ],
      "text/latex": [
       "0.012417952294316"
      ],
      "text/markdown": [
       "0.012417952294316"
      ],
      "text/plain": [
       "[1] 0.01241795"
      ]
     },
     "metadata": {},
     "output_type": "display_data"
    }
   ],
   "source": [
    "matrix.var(E2)"
   ]
  },
  {
   "cell_type": "code",
   "execution_count": 215,
   "metadata": {},
   "outputs": [
    {
     "data": {
      "text/html": [
       "<table>\n",
       "<thead><tr><th scope=col>PCs in model</th><th scope=col>Total variance</th><th scope=col>Rest variance in %</th><th scope=col>Explained variance in %</th><th scope=col>Explained variance per PC</th></tr></thead>\n",
       "<tbody>\n",
       "\t<tr><td>0         </td><td>0.32530340</td><td>1.00000000</td><td>0.0000000 </td><td>0.00000000</td></tr>\n",
       "\t<tr><td>1         </td><td>0.09558006</td><td>0.29381822</td><td>0.7061818 </td><td>0.70618178</td></tr>\n",
       "\t<tr><td>2         </td><td>0.01241795</td><td>0.03817345</td><td>0.9618266 </td><td>0.25564477</td></tr>\n",
       "\t<tr><td>3         </td><td>0.00000000</td><td>0.00000000</td><td>1.0000000 </td><td>0.03817345</td></tr>\n",
       "</tbody>\n",
       "</table>\n"
      ],
      "text/latex": [
       "\\begin{tabular}{r|lllll}\n",
       " PCs in model & Total variance & Rest variance in \\% & Explained variance in \\% & Explained variance per PC\\\\\n",
       "\\hline\n",
       "\t 0          & 0.32530340 & 1.00000000 & 0.0000000  & 0.00000000\\\\\n",
       "\t 1          & 0.09558006 & 0.29381822 & 0.7061818  & 0.70618178\\\\\n",
       "\t 2          & 0.01241795 & 0.03817345 & 0.9618266  & 0.25564477\\\\\n",
       "\t 3          & 0.00000000 & 0.00000000 & 1.0000000  & 0.03817345\\\\\n",
       "\\end{tabular}\n"
      ],
      "text/markdown": [
       "\n",
       "PCs in model | Total variance | Rest variance in % | Explained variance in % | Explained variance per PC | \n",
       "|---|---|---|---|\n",
       "| 0          | 0.32530340 | 1.00000000 | 0.0000000  | 0.00000000 | \n",
       "| 1          | 0.09558006 | 0.29381822 | 0.7061818  | 0.70618178 | \n",
       "| 2          | 0.01241795 | 0.03817345 | 0.9618266  | 0.25564477 | \n",
       "| 3          | 0.00000000 | 0.00000000 | 1.0000000  | 0.03817345 | \n",
       "\n",
       "\n"
      ],
      "text/plain": [
       "  PCs in model Total variance Rest variance in % Explained variance in %\n",
       "1 0            0.32530340     1.00000000         0.0000000              \n",
       "2 1            0.09558006     0.29381822         0.7061818              \n",
       "3 2            0.01241795     0.03817345         0.9618266              \n",
       "4 3            0.00000000     0.00000000         1.0000000              \n",
       "  Explained variance per PC\n",
       "1 0.00000000               \n",
       "2 0.70618178               \n",
       "3 0.25564477               \n",
       "4 0.03817345               "
      ]
     },
     "metadata": {},
     "output_type": "display_data"
    }
   ],
   "source": [
    "no.of.pcs = 0:3\n",
    "total.var = c(matrix.var(E0), matrix.var(E1), matrix.var(E2), 0)\n",
    "rest.var = c(1, matrix.var(E1) / matrix.var(E0), matrix.var(E2) / matrix.var(E0), 0)\n",
    "explained.var = 1 - rest.var\n",
    "var.per.pc = c(0, diff(explained.var))\n",
    "df.vars = data.frame(no.of.pcs, total.var, rest.var, explained.var, var.per.pc)\n",
    "colnames(df.vars) = c(\"PCs in model\", \"Total variance\", \"Rest variance in %\", \n",
    "                      \"Explained variance in %\", \"Explained variance per PC\")\n",
    "df.vars"
   ]
  },
  {
   "cell_type": "code",
   "execution_count": 217,
   "metadata": {},
   "outputs": [
    {
     "data": {
      "image/png": "[encoded data removed]",
      "text/plain": [
       "Plot with title \"Explained variance per PC\""
      ]
     },
     "metadata": {},
     "output_type": "display_data"
    }
   ],
   "source": [
    "plot(df.vars[,3], type='o', col='red', lwd=2, pch=18, cex=2\n",
    "     , main=\"Explained variance per PC\", ylab=\"% of Total variance\", xlab=\"# of PCs\")\n",
    "lines(df.vars[,4], type='o', col='gold', pch=17, lwd=2, cex=2)\n",
    "legend(\"center\", col=c('red', 'gold')\n",
    "       , legend=c('Remaining variance', 'Explained variance'), pch=c(18, 17))\n",
    "grid()"
   ]
  },
  {
   "cell_type": "markdown",
   "metadata": {},
   "source": [
    "We can look at the final error matrix to spot any outliers:"
   ]
  },
  {
   "cell_type": "code",
   "execution_count": 214,
   "metadata": {},
   "outputs": [
    {
     "data": {
      "image/png": "[encoded data removed]",
      "text/plain": [
       "Plot with title \"Final Error Matrix (Samples)\""
      ]
     },
     "metadata": {},
     "output_type": "display_data"
    }
   ],
   "source": [
    "rownames(E2) = df$Sample\n",
    "barplot(rowMeans(E2^2), las=2, col='orangered1')\n",
    "grid()\n",
    "title(main=\"Final Error Matrix (Samples)\")"
   ]
  },
  {
   "cell_type": "markdown",
   "metadata": {},
   "source": [
    "Here we can see that `M14` is probably an outlier. \n",
    "\n",
    "The same can be done for the variables:"
   ]
  },
  {
   "cell_type": "code",
   "execution_count": 157,
   "metadata": {},
   "outputs": [
    {
     "data": {
      "image/png": "[encoded data removed]",
      "text/plain": [
       "Plot with title \"Final Error Matrix (Variables)\""
      ]
     },
     "metadata": {},
     "output_type": "display_data"
    }
   ],
   "source": [
    "tE2 = t(E2)\n",
    "barplot(colMeans(E2^2), col='orangered1')\n",
    "grid()\n",
    "title(main=\"Final Error Matrix (Variables)\")"
   ]
  },
  {
   "cell_type": "markdown",
   "metadata": {},
   "source": [
    "Here we can see that $L$ holds the most of the errors, but if we look at the loading plot, we can see that $L$ barely has any influence, it is mostly decided by $a$ and $b$."
   ]
  },
  {
   "cell_type": "markdown",
   "metadata": {},
   "source": [
    "We can also look at the variance of the error matrix as we are adding more principle components. First we look at the sample variances:"
   ]
  },
  {
   "cell_type": "code",
   "execution_count": 218,
   "metadata": {
    "scrolled": false
   },
   "outputs": [
    {
     "data": {
      "image/png": "[encoded data removed]",
      "text/plain": [
       "Plot with title \"Sample variances plot\""
      ]
     },
     "metadata": {},
     "output_type": "display_data"
    }
   ],
   "source": [
    "sample.vars = data.frame(\n",
    "    PC1=rowMean((E0)^2),\n",
    "    PC2=rowMean((E1)^2),\n",
    "    PC3=rowMean((E2)^2)\n",
    ")\n",
    "\n",
    "colors = c('dodgerblue1', 'dodgerblue3', 'dodgerblue4')\n",
    "rownames(sample.vars) = df$Sample\n",
    "barplot(t(sample.vars), las=2, beside=T, main=\"Sample variances plot\", col=colors)\n",
    "legend(\"topright\", legend=c(\"PC 0\", \"PC 1\", \"PC 2\"), fill=colors)\n",
    "grid()"
   ]
  },
  {
   "cell_type": "markdown",
   "metadata": {},
   "source": [
    "And likewise we can do the same for the variable variances:"
   ]
  },
  {
   "cell_type": "code",
   "execution_count": 234,
   "metadata": {
    "scrolled": false
   },
   "outputs": [
    {
     "data": {
      "image/png": "[encoded data removed]",
      "text/plain": [
       "Plot with title \"Variable variances plot\""
      ]
     },
     "metadata": {},
     "output_type": "display_data"
    }
   ],
   "source": [
    "variable.vars = data.frame(\n",
    "    PC1=colMeans((E0)^2),\n",
    "    PC2=colMeans((E1)^2),\n",
    "    PC3=colMeans((E2)^2)\n",
    ")\n",
    "\n",
    "barplot(t(variable.vars), las=2, beside=T, main=\"Variable variances plot\", col=colors)\n",
    "legend(\"topright\", legend=c(\"PC 0\", \"PC 1\", \"PC 2\"), fill=colors)\n",
    "grid()"
   ]
  },
  {
   "cell_type": "code",
   "execution_count": 224,
   "metadata": {},
   "outputs": [],
   "source": [
    "help(grid)"
   ]
  },
  {
   "cell_type": "markdown",
   "metadata": {},
   "source": [
    "The data that was originally in $X_c$:"
   ]
  },
  {
   "cell_type": "code",
   "execution_count": 95,
   "metadata": {},
   "outputs": [
    {
     "data": {
      "text/html": [
       "<table>\n",
       "<thead><tr><th scope=col>L</th><th scope=col>a</th><th scope=col>b</th></tr></thead>\n",
       "<tbody>\n",
       "\t<tr><td>-0.0905555556</td><td> 0.42777778  </td><td> 0.13111111  </td></tr>\n",
       "\t<tr><td> 0.1294444444</td><td>-0.34222222  </td><td> 1.40111111  </td></tr>\n",
       "\t<tr><td> 0.2894444444</td><td>-0.10222222  </td><td>-0.67888889  </td></tr>\n",
       "\t<tr><td>-0.1105555556</td><td> 0.02777778  </td><td>-0.04888889  </td></tr>\n",
       "\t<tr><td>-0.1005555556</td><td> 0.62777778  </td><td> 0.19111111  </td></tr>\n",
       "\t<tr><td>-0.0205555556</td><td> 0.93777778  </td><td> 0.64111111  </td></tr>\n",
       "\t<tr><td> 0.0994444444</td><td> 0.13777778  </td><td> 0.37111111  </td></tr>\n",
       "\t<tr><td> 0.0794444444</td><td>-0.88222222  </td><td>-0.72888889  </td></tr>\n",
       "\t<tr><td> 0.2094444444</td><td> 1.02777778  </td><td> 0.96111111  </td></tr>\n",
       "\t<tr><td> 0.1594444444</td><td> 0.39777778  </td><td>-1.41888889  </td></tr>\n",
       "\t<tr><td> 0.2794444444</td><td>-0.37222222  </td><td>-0.24888889  </td></tr>\n",
       "\t<tr><td> 0.0194444444</td><td>-0.08222222  </td><td>-0.47888889  </td></tr>\n",
       "\t<tr><td>-0.2005555556</td><td> 0.08777778  </td><td>-1.18888889  </td></tr>\n",
       "\t<tr><td>-0.5905555556</td><td>-0.47222222  </td><td> 0.76111111  </td></tr>\n",
       "\t<tr><td>-0.0005555556</td><td> 0.15777778  </td><td> 0.59111111  </td></tr>\n",
       "\t<tr><td>-0.0005555556</td><td>-0.57222222  </td><td>-0.27888889  </td></tr>\n",
       "\t<tr><td>-0.1605555556</td><td>-0.97222222  </td><td>-1.07888889  </td></tr>\n",
       "\t<tr><td> 0.0094444444</td><td>-0.03222222  </td><td> 1.10111111  </td></tr>\n",
       "</tbody>\n",
       "</table>\n"
      ],
      "text/latex": [
       "\\begin{tabular}{lll}\n",
       " L & a & b\\\\\n",
       "\\hline\n",
       "\t -0.0905555556 &  0.42777778   &  0.13111111  \\\\\n",
       "\t  0.1294444444 & -0.34222222   &  1.40111111  \\\\\n",
       "\t  0.2894444444 & -0.10222222   & -0.67888889  \\\\\n",
       "\t -0.1105555556 &  0.02777778   & -0.04888889  \\\\\n",
       "\t -0.1005555556 &  0.62777778   &  0.19111111  \\\\\n",
       "\t -0.0205555556 &  0.93777778   &  0.64111111  \\\\\n",
       "\t  0.0994444444 &  0.13777778   &  0.37111111  \\\\\n",
       "\t  0.0794444444 & -0.88222222   & -0.72888889  \\\\\n",
       "\t  0.2094444444 &  1.02777778   &  0.96111111  \\\\\n",
       "\t  0.1594444444 &  0.39777778   & -1.41888889  \\\\\n",
       "\t  0.2794444444 & -0.37222222   & -0.24888889  \\\\\n",
       "\t  0.0194444444 & -0.08222222   & -0.47888889  \\\\\n",
       "\t -0.2005555556 &  0.08777778   & -1.18888889  \\\\\n",
       "\t -0.5905555556 & -0.47222222   &  0.76111111  \\\\\n",
       "\t -0.0005555556 &  0.15777778   &  0.59111111  \\\\\n",
       "\t -0.0005555556 & -0.57222222   & -0.27888889  \\\\\n",
       "\t -0.1605555556 & -0.97222222   & -1.07888889  \\\\\n",
       "\t  0.0094444444 & -0.03222222   &  1.10111111  \\\\\n",
       "\\end{tabular}\n"
      ],
      "text/markdown": [
       "\n",
       "L | a | b | \n",
       "|---|---|---|---|---|---|---|---|---|---|---|---|---|---|---|---|---|---|\n",
       "| -0.0905555556 |  0.42777778   |  0.13111111   | \n",
       "|  0.1294444444 | -0.34222222   |  1.40111111   | \n",
       "|  0.2894444444 | -0.10222222   | -0.67888889   | \n",
       "| -0.1105555556 |  0.02777778   | -0.04888889   | \n",
       "| -0.1005555556 |  0.62777778   |  0.19111111   | \n",
       "| -0.0205555556 |  0.93777778   |  0.64111111   | \n",
       "|  0.0994444444 |  0.13777778   |  0.37111111   | \n",
       "|  0.0794444444 | -0.88222222   | -0.72888889   | \n",
       "|  0.2094444444 |  1.02777778   |  0.96111111   | \n",
       "|  0.1594444444 |  0.39777778   | -1.41888889   | \n",
       "|  0.2794444444 | -0.37222222   | -0.24888889   | \n",
       "|  0.0194444444 | -0.08222222   | -0.47888889   | \n",
       "| -0.2005555556 |  0.08777778   | -1.18888889   | \n",
       "| -0.5905555556 | -0.47222222   |  0.76111111   | \n",
       "| -0.0005555556 |  0.15777778   |  0.59111111   | \n",
       "| -0.0005555556 | -0.57222222   | -0.27888889   | \n",
       "| -0.1605555556 | -0.97222222   | -1.07888889   | \n",
       "|  0.0094444444 | -0.03222222   |  1.10111111   | \n",
       "\n",
       "\n"
      ],
      "text/plain": [
       "      L             a           b          \n",
       " [1,] -0.0905555556  0.42777778  0.13111111\n",
       " [2,]  0.1294444444 -0.34222222  1.40111111\n",
       " [3,]  0.2894444444 -0.10222222 -0.67888889\n",
       " [4,] -0.1105555556  0.02777778 -0.04888889\n",
       " [5,] -0.1005555556  0.62777778  0.19111111\n",
       " [6,] -0.0205555556  0.93777778  0.64111111\n",
       " [7,]  0.0994444444  0.13777778  0.37111111\n",
       " [8,]  0.0794444444 -0.88222222 -0.72888889\n",
       " [9,]  0.2094444444  1.02777778  0.96111111\n",
       "[10,]  0.1594444444  0.39777778 -1.41888889\n",
       "[11,]  0.2794444444 -0.37222222 -0.24888889\n",
       "[12,]  0.0194444444 -0.08222222 -0.47888889\n",
       "[13,] -0.2005555556  0.08777778 -1.18888889\n",
       "[14,] -0.5905555556 -0.47222222  0.76111111\n",
       "[15,] -0.0005555556  0.15777778  0.59111111\n",
       "[16,] -0.0005555556 -0.57222222 -0.27888889\n",
       "[17,] -0.1605555556 -0.97222222 -1.07888889\n",
       "[18,]  0.0094444444 -0.03222222  1.10111111"
      ]
     },
     "metadata": {},
     "output_type": "display_data"
    }
   ],
   "source": [
    "Xc"
   ]
  },
  {
   "cell_type": "markdown",
   "metadata": {},
   "source": [
    "Is now expressed as a linear combination of the principle components with an added error term:\n",
    "\n",
    " $$ X_c = t_1 \\cdot p_1' + t_2 \\cdot p_2' + E_2 $$"
   ]
  },
  {
   "cell_type": "code",
   "execution_count": 153,
   "metadata": {},
   "outputs": [
    {
     "data": {
      "text/html": [
       "<table>\n",
       "<thead><tr><th></th><th scope=col>L</th><th scope=col>a</th><th scope=col>b</th></tr></thead>\n",
       "<tbody>\n",
       "\t<tr><th scope=row>M01</th><td>-0.0905555556</td><td> 0.42777778  </td><td> 0.13111111  </td></tr>\n",
       "\t<tr><th scope=row>M02</th><td> 0.1294444444</td><td>-0.34222222  </td><td> 1.40111111  </td></tr>\n",
       "\t<tr><th scope=row>M03</th><td> 0.2894444444</td><td>-0.10222222  </td><td>-0.67888889  </td></tr>\n",
       "\t<tr><th scope=row>M04</th><td>-0.1105555556</td><td> 0.02777778  </td><td>-0.04888889  </td></tr>\n",
       "\t<tr><th scope=row>M05</th><td>-0.1005555556</td><td> 0.62777778  </td><td> 0.19111111  </td></tr>\n",
       "\t<tr><th scope=row>M06</th><td>-0.0205555556</td><td> 0.93777778  </td><td> 0.64111111  </td></tr>\n",
       "\t<tr><th scope=row>M07</th><td> 0.0994444444</td><td> 0.13777778  </td><td> 0.37111111  </td></tr>\n",
       "\t<tr><th scope=row>M08</th><td> 0.0794444444</td><td>-0.88222222  </td><td>-0.72888889  </td></tr>\n",
       "\t<tr><th scope=row>M09</th><td> 0.2094444444</td><td> 1.02777778  </td><td> 0.96111111  </td></tr>\n",
       "\t<tr><th scope=row>M10</th><td> 0.1594444444</td><td> 0.39777778  </td><td>-1.41888889  </td></tr>\n",
       "\t<tr><th scope=row>M11</th><td> 0.2794444444</td><td>-0.37222222  </td><td>-0.24888889  </td></tr>\n",
       "\t<tr><th scope=row>M12</th><td> 0.0194444444</td><td>-0.08222222  </td><td>-0.47888889  </td></tr>\n",
       "\t<tr><th scope=row>M13</th><td>-0.2005555556</td><td> 0.08777778  </td><td>-1.18888889  </td></tr>\n",
       "\t<tr><th scope=row>M14</th><td>-0.5905555556</td><td>-0.47222222  </td><td> 0.76111111  </td></tr>\n",
       "\t<tr><th scope=row>M15</th><td>-0.0005555556</td><td> 0.15777778  </td><td> 0.59111111  </td></tr>\n",
       "\t<tr><th scope=row>M16</th><td>-0.0005555556</td><td>-0.57222222  </td><td>-0.27888889  </td></tr>\n",
       "\t<tr><th scope=row>M17</th><td>-0.1605555556</td><td>-0.97222222  </td><td>-1.07888889  </td></tr>\n",
       "\t<tr><th scope=row>M18</th><td> 0.0094444444</td><td>-0.03222222  </td><td> 1.10111111  </td></tr>\n",
       "</tbody>\n",
       "</table>\n"
      ],
      "text/latex": [
       "\\begin{tabular}{r|lll}\n",
       "  & L & a & b\\\\\n",
       "\\hline\n",
       "\tM01 & -0.0905555556 &  0.42777778   &  0.13111111  \\\\\n",
       "\tM02 &  0.1294444444 & -0.34222222   &  1.40111111  \\\\\n",
       "\tM03 &  0.2894444444 & -0.10222222   & -0.67888889  \\\\\n",
       "\tM04 & -0.1105555556 &  0.02777778   & -0.04888889  \\\\\n",
       "\tM05 & -0.1005555556 &  0.62777778   &  0.19111111  \\\\\n",
       "\tM06 & -0.0205555556 &  0.93777778   &  0.64111111  \\\\\n",
       "\tM07 &  0.0994444444 &  0.13777778   &  0.37111111  \\\\\n",
       "\tM08 &  0.0794444444 & -0.88222222   & -0.72888889  \\\\\n",
       "\tM09 &  0.2094444444 &  1.02777778   &  0.96111111  \\\\\n",
       "\tM10 &  0.1594444444 &  0.39777778   & -1.41888889  \\\\\n",
       "\tM11 &  0.2794444444 & -0.37222222   & -0.24888889  \\\\\n",
       "\tM12 &  0.0194444444 & -0.08222222   & -0.47888889  \\\\\n",
       "\tM13 & -0.2005555556 &  0.08777778   & -1.18888889  \\\\\n",
       "\tM14 & -0.5905555556 & -0.47222222   &  0.76111111  \\\\\n",
       "\tM15 & -0.0005555556 &  0.15777778   &  0.59111111  \\\\\n",
       "\tM16 & -0.0005555556 & -0.57222222   & -0.27888889  \\\\\n",
       "\tM17 & -0.1605555556 & -0.97222222   & -1.07888889  \\\\\n",
       "\tM18 &  0.0094444444 & -0.03222222   &  1.10111111  \\\\\n",
       "\\end{tabular}\n"
      ],
      "text/markdown": [
       "\n",
       "| <!--/--> | L | a | b | \n",
       "|---|---|---|---|---|---|---|---|---|---|---|---|---|---|---|---|---|---|\n",
       "| M01 | -0.0905555556 |  0.42777778   |  0.13111111   | \n",
       "| M02 |  0.1294444444 | -0.34222222   |  1.40111111   | \n",
       "| M03 |  0.2894444444 | -0.10222222   | -0.67888889   | \n",
       "| M04 | -0.1105555556 |  0.02777778   | -0.04888889   | \n",
       "| M05 | -0.1005555556 |  0.62777778   |  0.19111111   | \n",
       "| M06 | -0.0205555556 |  0.93777778   |  0.64111111   | \n",
       "| M07 |  0.0994444444 |  0.13777778   |  0.37111111   | \n",
       "| M08 |  0.0794444444 | -0.88222222   | -0.72888889   | \n",
       "| M09 |  0.2094444444 |  1.02777778   |  0.96111111   | \n",
       "| M10 |  0.1594444444 |  0.39777778   | -1.41888889   | \n",
       "| M11 |  0.2794444444 | -0.37222222   | -0.24888889   | \n",
       "| M12 |  0.0194444444 | -0.08222222   | -0.47888889   | \n",
       "| M13 | -0.2005555556 |  0.08777778   | -1.18888889   | \n",
       "| M14 | -0.5905555556 | -0.47222222   |  0.76111111   | \n",
       "| M15 | -0.0005555556 |  0.15777778   |  0.59111111   | \n",
       "| M16 | -0.0005555556 | -0.57222222   | -0.27888889   | \n",
       "| M17 | -0.1605555556 | -0.97222222   | -1.07888889   | \n",
       "| M18 |  0.0094444444 | -0.03222222   |  1.10111111   | \n",
       "\n",
       "\n"
      ],
      "text/plain": [
       "    L             a           b          \n",
       "M01 -0.0905555556  0.42777778  0.13111111\n",
       "M02  0.1294444444 -0.34222222  1.40111111\n",
       "M03  0.2894444444 -0.10222222 -0.67888889\n",
       "M04 -0.1105555556  0.02777778 -0.04888889\n",
       "M05 -0.1005555556  0.62777778  0.19111111\n",
       "M06 -0.0205555556  0.93777778  0.64111111\n",
       "M07  0.0994444444  0.13777778  0.37111111\n",
       "M08  0.0794444444 -0.88222222 -0.72888889\n",
       "M09  0.2094444444  1.02777778  0.96111111\n",
       "M10  0.1594444444  0.39777778 -1.41888889\n",
       "M11  0.2794444444 -0.37222222 -0.24888889\n",
       "M12  0.0194444444 -0.08222222 -0.47888889\n",
       "M13 -0.2005555556  0.08777778 -1.18888889\n",
       "M14 -0.5905555556 -0.47222222  0.76111111\n",
       "M15 -0.0005555556  0.15777778  0.59111111\n",
       "M16 -0.0005555556 -0.57222222 -0.27888889\n",
       "M17 -0.1605555556 -0.97222222 -1.07888889\n",
       "M18  0.0094444444 -0.03222222  1.10111111"
      ]
     },
     "metadata": {},
     "output_type": "display_data"
    }
   ],
   "source": [
    "t1 %*% t(p1) + t2 %*% t(p2) + E2"
   ]
  }
 ],
 "metadata": {
  "kernelspec": {
   "display_name": "R",
   "language": "R",
   "name": "ir"
  },
  "language_info": {
   "codemirror_mode": "r",
   "file_extension": ".r",
   "mimetype": "text/x-r-source",
   "name": "R",
   "pygments_lexer": "r",
   "version": "3.4.4"
  }
 },
 "nbformat": 4,
 "nbformat_minor": 2
}
