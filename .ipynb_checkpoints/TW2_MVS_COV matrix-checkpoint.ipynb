{
 "cells": [
  {
   "cell_type": "code",
   "execution_count": 1,
   "metadata": {},
   "outputs": [],
   "source": [
    "X = c(3.764, 5.059, 5.684, 5.807, 6.102, 6.216, 6.394, 7.366, 9.201, 10.02)\n",
    "Y = c(8.695, 8.725, 9.181, 9.381, 9.837, 10.6, 11.86, 14.2, 14.25, 14.61)\n",
    "Z = c(16.49, 19.64, 22.04, 22.88, 23.86, 24.05, 24.84, 25.72, 26.05, 26.58)"
   ]
  },
  {
   "cell_type": "markdown",
   "metadata": {},
   "source": [
    "# Variance-Covariance matrix"
   ]
  },
  {
   "cell_type": "markdown",
   "metadata": {},
   "source": [
    " * **Variance**: is a measure of the variability or spread in the set of data, it can be computed with the following formula:\n",
    " \n",
    " $$ \\textrm{Var}(X) = \\dfrac{\\sum \\left(X_i - \\bar{X}\\right)^2}{N} $$\n",
    " \n",
    " * **Covariance**: is a measure of the extent to which corresponding elements from two sets of ordered data move in the same direction. We use the following formula to computer the covariance:\n",
    " \n",
    " $$ \\textrm{Cov}(X,Y) = \\dfrac{\\sum \\left( X_i - \\bar{X} \\right)\\left(Y_i - \\bar{Y} \\right)}{N} $$"
   ]
  },
  {
   "cell_type": "markdown",
   "metadata": {},
   "source": [
    "The variance and covariance are often displayed together in a variance-covariance matrix (aka the _covariance matrix_), the $m \\times n$ matrix is defined as:\n",
    "\n",
    "$$ \\mathbf{V} = \\begin{bmatrix} \\textrm{Var}(X_1) && \\textrm{Cov}(X_1, X_2) && \\ldots && \\textrm{Cov}(X_1, X_m) \\\\ \\textrm{Cov}(X_2, X_1) && \\textrm{Var}(X_2) && \\ldots && \\textrm{Cov}(X_2, X_m) \\\\ \\vdots && \\vdots && \\ddots && \\vdots \\\\ \\textrm{Cov}(X_n, X_1) && \\textrm{Cov}(X_n, X_2) && \\ldots && \\textrm{Var}(X_n) \\end{bmatrix} $$"
   ]
  },
  {
   "cell_type": "markdown",
   "metadata": {},
   "source": [
    "## Example"
   ]
  },
  {
   "cell_type": "code",
   "execution_count": 20,
   "metadata": {},
   "outputs": [
    {
     "data": {
      "text/html": [
       "10"
      ],
      "text/latex": [
       "10"
      ],
      "text/markdown": [
       "10"
      ],
      "text/plain": [
       "[1] 10"
      ]
     },
     "metadata": {},
     "output_type": "display_data"
    }
   ],
   "source": [
    "n = length(X); n"
   ]
  },
  {
   "cell_type": "code",
   "execution_count": 11,
   "metadata": {},
   "outputs": [],
   "source": [
    "A = cbind(X,Y,Z)"
   ]
  },
  {
   "cell_type": "code",
   "execution_count": 12,
   "metadata": {},
   "outputs": [
    {
     "data": {
      "text/html": [
       "<table>\n",
       "<thead><tr><th scope=col>X</th><th scope=col>Y</th><th scope=col>Z</th></tr></thead>\n",
       "<tbody>\n",
       "\t<tr><td> 3.764</td><td> 8.695</td><td>16.49 </td></tr>\n",
       "\t<tr><td> 5.059</td><td> 8.725</td><td>19.64 </td></tr>\n",
       "\t<tr><td> 5.684</td><td> 9.181</td><td>22.04 </td></tr>\n",
       "\t<tr><td> 5.807</td><td> 9.381</td><td>22.88 </td></tr>\n",
       "\t<tr><td> 6.102</td><td> 9.837</td><td>23.86 </td></tr>\n",
       "\t<tr><td> 6.216</td><td>10.600</td><td>24.05 </td></tr>\n",
       "\t<tr><td> 6.394</td><td>11.860</td><td>24.84 </td></tr>\n",
       "\t<tr><td> 7.366</td><td>14.200</td><td>25.72 </td></tr>\n",
       "\t<tr><td> 9.201</td><td>14.250</td><td>26.05 </td></tr>\n",
       "\t<tr><td>10.020</td><td>14.610</td><td>26.58 </td></tr>\n",
       "</tbody>\n",
       "</table>\n"
      ],
      "text/latex": [
       "\\begin{tabular}{lll}\n",
       " X & Y & Z\\\\\n",
       "\\hline\n",
       "\t  3.764 &  8.695 & 16.49 \\\\\n",
       "\t  5.059 &  8.725 & 19.64 \\\\\n",
       "\t  5.684 &  9.181 & 22.04 \\\\\n",
       "\t  5.807 &  9.381 & 22.88 \\\\\n",
       "\t  6.102 &  9.837 & 23.86 \\\\\n",
       "\t  6.216 & 10.600 & 24.05 \\\\\n",
       "\t  6.394 & 11.860 & 24.84 \\\\\n",
       "\t  7.366 & 14.200 & 25.72 \\\\\n",
       "\t  9.201 & 14.250 & 26.05 \\\\\n",
       "\t 10.020 & 14.610 & 26.58 \\\\\n",
       "\\end{tabular}\n"
      ],
      "text/markdown": [
       "\n",
       "X | Y | Z | \n",
       "|---|---|---|---|---|---|---|---|---|---|\n",
       "|  3.764 |  8.695 | 16.49  | \n",
       "|  5.059 |  8.725 | 19.64  | \n",
       "|  5.684 |  9.181 | 22.04  | \n",
       "|  5.807 |  9.381 | 22.88  | \n",
       "|  6.102 |  9.837 | 23.86  | \n",
       "|  6.216 | 10.600 | 24.05  | \n",
       "|  6.394 | 11.860 | 24.84  | \n",
       "|  7.366 | 14.200 | 25.72  | \n",
       "|  9.201 | 14.250 | 26.05  | \n",
       "| 10.020 | 14.610 | 26.58  | \n",
       "\n",
       "\n"
      ],
      "text/plain": [
       "      X      Y      Z    \n",
       " [1,]  3.764  8.695 16.49\n",
       " [2,]  5.059  8.725 19.64\n",
       " [3,]  5.684  9.181 22.04\n",
       " [4,]  5.807  9.381 22.88\n",
       " [5,]  6.102  9.837 23.86\n",
       " [6,]  6.216 10.600 24.05\n",
       " [7,]  6.394 11.860 24.84\n",
       " [8,]  7.366 14.200 25.72\n",
       " [9,]  9.201 14.250 26.05\n",
       "[10,] 10.020 14.610 26.58"
      ]
     },
     "metadata": {},
     "output_type": "display_data"
    }
   ],
   "source": [
    "A"
   ]
  },
  {
   "cell_type": "markdown",
   "metadata": {},
   "source": [
    "First we transform the _raw_ scores in matrix $\\mathbf{A}$ to _devation scores_ in matrix $\\mathbf{a}$ with the formula:\n",
    "\n",
    "$$ \\mathbf{a} = \\mathbf{A} - \\mathbf{11^TA} \\cdot \\frac{1}{n} $$"
   ]
  },
  {
   "cell_type": "code",
   "execution_count": 18,
   "metadata": {},
   "outputs": [
    {
     "data": {
      "text/html": [
       "<table>\n",
       "<tbody>\n",
       "\t<tr><td>1</td><td>1</td><td>1</td><td>1</td><td>1</td></tr>\n",
       "\t<tr><td>1</td><td>1</td><td>1</td><td>1</td><td>1</td></tr>\n",
       "\t<tr><td>1</td><td>1</td><td>1</td><td>1</td><td>1</td></tr>\n",
       "\t<tr><td>1</td><td>1</td><td>1</td><td>1</td><td>1</td></tr>\n",
       "\t<tr><td>1</td><td>1</td><td>1</td><td>1</td><td>1</td></tr>\n",
       "</tbody>\n",
       "</table>\n"
      ],
      "text/latex": [
       "\\begin{tabular}{lllll}\n",
       "\t 1 & 1 & 1 & 1 & 1\\\\\n",
       "\t 1 & 1 & 1 & 1 & 1\\\\\n",
       "\t 1 & 1 & 1 & 1 & 1\\\\\n",
       "\t 1 & 1 & 1 & 1 & 1\\\\\n",
       "\t 1 & 1 & 1 & 1 & 1\\\\\n",
       "\\end{tabular}\n"
      ],
      "text/markdown": [
       "\n",
       "| 1 | 1 | 1 | 1 | 1 | \n",
       "| 1 | 1 | 1 | 1 | 1 | \n",
       "| 1 | 1 | 1 | 1 | 1 | \n",
       "| 1 | 1 | 1 | 1 | 1 | \n",
       "| 1 | 1 | 1 | 1 | 1 | \n",
       "\n",
       "\n"
      ],
      "text/plain": [
       "     [,1] [,2] [,3] [,4] [,5]\n",
       "[1,] 1    1    1    1    1   \n",
       "[2,] 1    1    1    1    1   \n",
       "[3,] 1    1    1    1    1   \n",
       "[4,] 1    1    1    1    1   \n",
       "[5,] 1    1    1    1    1   "
      ]
     },
     "metadata": {},
     "output_type": "display_data"
    }
   ],
   "source": [
    "rep(1, 5) %*% t(rep(1, 5))"
   ]
  },
  {
   "cell_type": "code",
   "execution_count": null,
   "metadata": {},
   "outputs": [],
   "source": []
  }
 ],
 "metadata": {
  "kernelspec": {
   "display_name": "R",
   "language": "R",
   "name": "ir"
  },
  "language_info": {
   "codemirror_mode": "r",
   "file_extension": ".r",
   "mimetype": "text/x-r-source",
   "name": "R",
   "pygments_lexer": "r",
   "version": "3.5.0"
  }
 },
 "nbformat": 4,
 "nbformat_minor": 2
}
