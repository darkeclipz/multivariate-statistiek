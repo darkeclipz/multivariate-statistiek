{
 "cells": [
  {
   "cell_type": "markdown",
   "metadata": {},
   "source": [
    "# Vraag 3"
   ]
  },
  {
   "cell_type": "code",
   "execution_count": 2,
   "metadata": {},
   "outputs": [],
   "source": [
    "X = c(7, 8, 9, 10, 11, 12, 13, 14, 15, 16, 17, 18, 19, 20, 21, 22, 23, 24, 25, 26)\n",
    "Y = c( 5.9, 6.4, 7.5, 7.9, 7.8, 9.2, 8.8, 9.6, 12, 10.9, 11.1, 13, 13.2, 13.4, 14, 13, 13.9, 14.4, 15.5, 16.3)"
   ]
  },
  {
   "cell_type": "code",
   "execution_count": 4,
   "metadata": {},
   "outputs": [
    {
     "data": {
      "text/plain": [
       "\n",
       "Call:\n",
       "lm(formula = Y ~ X)\n",
       "\n",
       "Coefficients:\n",
       "(Intercept)            X  \n",
       "      2.660        0.517  \n"
      ]
     },
     "metadata": {},
     "output_type": "display_data"
    }
   ],
   "source": [
    "lm(Y~X)"
   ]
  },
  {
   "cell_type": "code",
   "execution_count": 7,
   "metadata": {},
   "outputs": [
    {
     "data": {
      "text/html": [
       "0.978818170459437"
      ],
      "text/latex": [
       "0.978818170459437"
      ],
      "text/markdown": [
       "0.978818170459437"
      ],
      "text/plain": [
       "[1] 0.9788182"
      ]
     },
     "metadata": {},
     "output_type": "display_data"
    }
   ],
   "source": [
    "cor(X,Y)"
   ]
  },
  {
   "cell_type": "code",
   "execution_count": 8,
   "metadata": {},
   "outputs": [
    {
     "data": {
      "text/html": [
       "18.0947368421053"
      ],
      "text/latex": [
       "18.0947368421053"
      ],
      "text/markdown": [
       "18.0947368421053"
      ],
      "text/plain": [
       "[1] 18.09474"
      ]
     },
     "metadata": {},
     "output_type": "display_data"
    }
   ],
   "source": [
    "cov(X,Y)"
   ]
  },
  {
   "cell_type": "markdown",
   "metadata": {},
   "source": [
    "# Vraag 2"
   ]
  },
  {
   "cell_type": "code",
   "execution_count": 10,
   "metadata": {},
   "outputs": [],
   "source": [
    "X = c(5, 6, 7, 8, 9, 10, 11, 12, 13, 14, 15, 16, 17, 18, 19, 20, 21, 22, 23, 24)\n",
    "Y = c(6, 6.2, 6.9, 7.1, 7.2, 10, 8.7, 9, 9.1, 10.4, 11.4, 12, 11.3, 12.8, 14.3, 14.4, 15.5, 14.3, 15.9, 17)"
   ]
  },
  {
   "cell_type": "code",
   "execution_count": 11,
   "metadata": {},
   "outputs": [
    {
     "data": {
      "text/html": [
       "20.05"
      ],
      "text/latex": [
       "20.05"
      ],
      "text/markdown": [
       "20.05"
      ],
      "text/plain": [
       "[1] 20.05"
      ]
     },
     "metadata": {},
     "output_type": "display_data"
    }
   ],
   "source": [
    "cov(X,Y)"
   ]
  },
  {
   "cell_type": "code",
   "execution_count": 12,
   "metadata": {},
   "outputs": [
    {
     "data": {
      "text/html": [
       "0.980843524299865"
      ],
      "text/latex": [
       "0.980843524299865"
      ],
      "text/markdown": [
       "0.980843524299865"
      ],
      "text/plain": [
       "[1] 0.9808435"
      ]
     },
     "metadata": {},
     "output_type": "display_data"
    }
   ],
   "source": [
    "cor(X,Y)"
   ]
  },
  {
   "cell_type": "code",
   "execution_count": 13,
   "metadata": {},
   "outputs": [
    {
     "data": {
      "text/html": [
       "0.980843524299865"
      ],
      "text/latex": [
       "0.980843524299865"
      ],
      "text/markdown": [
       "0.980843524299865"
      ],
      "text/plain": [
       "[1] 0.9808435"
      ]
     },
     "metadata": {},
     "output_type": "display_data"
    }
   ],
   "source": [
    "cov(X,Y) / (sd(X) * sd(Y))"
   ]
  },
  {
   "cell_type": "markdown",
   "metadata": {},
   "source": [
    "# Vraag 3"
   ]
  },
  {
   "cell_type": "code",
   "execution_count": 14,
   "metadata": {},
   "outputs": [
    {
     "data": {
      "text/html": [
       "0.953146164329794"
      ],
      "text/latex": [
       "0.953146164329794"
      ],
      "text/markdown": [
       "0.953146164329794"
      ],
      "text/plain": [
       "[1] 0.9531462"
      ]
     },
     "metadata": {},
     "output_type": "display_data"
    }
   ],
   "source": [
    "X = c(6, 7, 8, 9, 10, 11, 12, 13, 14, 15, 16, 17, 18, 19, 20, 21, 22, 23, 24, 25)\n",
    "Y = c(2, 6.5, 6.6, 7.1, 8.1, 9.5, 8.7, 9.8, 11.7, 10.3, 11.3, 12.8, 13.4, 12.1, 12.5, 14.8, 13.8, 14.1, 15.5, 16.9)\n",
    "cor(X,Y)"
   ]
  },
  {
   "cell_type": "code",
   "execution_count": 15,
   "metadata": {},
   "outputs": [
    {
     "data": {
      "text/html": [
       "20.5921052631579"
      ],
      "text/latex": [
       "20.5921052631579"
      ],
      "text/markdown": [
       "20.5921052631579"
      ],
      "text/plain": [
       "[1] 20.59211"
      ]
     },
     "metadata": {},
     "output_type": "display_data"
    }
   ],
   "source": [
    "cov(X,Y)"
   ]
  }
 ],
 "metadata": {
  "kernelspec": {
   "display_name": "R",
   "language": "R",
   "name": "ir"
  },
  "language_info": {
   "codemirror_mode": "r",
   "file_extension": ".r",
   "mimetype": "text/x-r-source",
   "name": "R",
   "pygments_lexer": "r",
   "version": "3.5.0"
  }
 },
 "nbformat": 4,
 "nbformat_minor": 2
}
