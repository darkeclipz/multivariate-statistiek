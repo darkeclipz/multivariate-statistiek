{
 "cells": [
  {
   "cell_type": "code",
   "execution_count": 55,
   "metadata": {},
   "outputs": [],
   "source": [
    "Y = c(9.282,9.985,10.01,10.09,10.10,10.16,10.23,10.40,10.44,10.75,10.84,10.88,10.94,10.97,11.03,11.36,11.38,11.65,11.82,11.88,11.92,12.04,12.32,12.82)\n",
    "X1 = c(5.389,5.700,6.044,7.054,7.065,7.170,7.343,7.361,7.480,7.573,7.594,7.853,8.291,8.291,8.468,8.496,8.689,8.696,8.932,8.942,9.200,9.291,9.719,10.09)\n",
    "X2 = c(14.13,15.95,16.05,17.42,17.61,17.85,17.99,18.09,18.88,18.89,19.24,19.24,19.43,20.23,20.26,20.27,20.34,20.56,20.75,20.80,21.26,21.78,22.89,23.22)"
   ]
  },
  {
   "cell_type": "code",
   "execution_count": 56,
   "metadata": {},
   "outputs": [],
   "source": [
    "df = data.frame(X1,X2,Y)"
   ]
  },
  {
   "cell_type": "code",
   "execution_count": 57,
   "metadata": {},
   "outputs": [
    {
     "data": {
      "text/plain": [
       "\n",
       "Call:\n",
       "lm(formula = Y ~ X1 + X2)\n",
       "\n",
       "Residuals:\n",
       "     Min       1Q   Median       3Q      Max \n",
       "-0.32247 -0.19321 -0.02617  0.18865  0.42195 \n",
       "\n",
       "Coefficients:\n",
       "            Estimate Std. Error t value Pr(>|t|)    \n",
       "(Intercept)   4.1067     0.8610   4.770 0.000103 ***\n",
       "X1            0.2499     0.2761   0.905 0.375676    \n",
       "X2            0.2528     0.1536   1.646 0.114663    \n",
       "---\n",
       "Signif. codes:  0 '***' 0.001 '**' 0.01 '*' 0.05 '.' 0.1 ' ' 1\n",
       "\n",
       "Residual standard error: 0.24 on 21 degrees of freedom\n",
       "Multiple R-squared:  0.932,\tAdjusted R-squared:  0.9255 \n",
       "F-statistic: 143.9 on 2 and 21 DF,  p-value: 5.529e-13\n"
      ]
     },
     "metadata": {},
     "output_type": "display_data"
    }
   ],
   "source": [
    "fit = lm(Y~X1+X2)\n",
    "summary(fit)"
   ]
  },
  {
   "cell_type": "code",
   "execution_count": 58,
   "metadata": {},
   "outputs": [
    {
     "data": {
      "text/html": [
       "0.0525978430015007"
      ],
      "text/latex": [
       "0.0525978430015007"
      ],
      "text/markdown": [
       "0.0525978430015007"
      ],
      "text/plain": [
       "[1] 0.05259784"
      ]
     },
     "metadata": {},
     "output_type": "display_data"
    }
   ],
   "source": [
    "sum((fit$residuals - mean(fit$residuals))^2) / 23"
   ]
  },
  {
   "cell_type": "code",
   "execution_count": 59,
   "metadata": {},
   "outputs": [
    {
     "data": {
      "text/html": [
       "0.0525978430015007"
      ],
      "text/latex": [
       "0.0525978430015007"
      ],
      "text/markdown": [
       "0.0525978430015007"
      ],
      "text/plain": [
       "[1] 0.05259784"
      ]
     },
     "metadata": {},
     "output_type": "display_data"
    }
   ],
   "source": [
    "var(fit$residuals)"
   ]
  },
  {
   "cell_type": "code",
   "execution_count": 60,
   "metadata": {
    "scrolled": true
   },
   "outputs": [
    {
     "data": {
      "text/html": [
       "<dl class=dl-horizontal>\n",
       "\t<dt>(Intercept)</dt>\n",
       "\t\t<dd>4.10671328356422</dd>\n",
       "\t<dt>X1</dt>\n",
       "\t\t<dd>0.249913141861238</dd>\n",
       "\t<dt>X2</dt>\n",
       "\t\t<dd>0.252779344318276</dd>\n",
       "</dl>\n"
      ],
      "text/latex": [
       "\\begin{description*}\n",
       "\\item[(Intercept)] 4.10671328356422\n",
       "\\item[X1] 0.249913141861238\n",
       "\\item[X2] 0.252779344318276\n",
       "\\end{description*}\n"
      ],
      "text/markdown": [
       "(Intercept)\n",
       ":   4.10671328356422X1\n",
       ":   0.249913141861238X2\n",
       ":   0.252779344318276\n",
       "\n"
      ],
      "text/plain": [
       "(Intercept)          X1          X2 \n",
       "  4.1067133   0.2499131   0.2527793 "
      ]
     },
     "metadata": {},
     "output_type": "display_data"
    }
   ],
   "source": [
    "fit$coefficients"
   ]
  },
  {
   "cell_type": "code",
   "execution_count": 61,
   "metadata": {},
   "outputs": [
    {
     "data": {
      "text/html": [
       "<strong>(Intercept):</strong> 11.4143846491379"
      ],
      "text/latex": [
       "\\textbf{(Intercept):} 11.4143846491379"
      ],
      "text/markdown": [
       "**(Intercept):** 11.4143846491379"
      ],
      "text/plain": [
       "(Intercept) \n",
       "   11.41438 "
      ]
     },
     "metadata": {},
     "output_type": "display_data"
    }
   ],
   "source": [
    "fit$coefficients[1] + fit$coefficients[2] * 8 + fit$coefficients[3] * 21"
   ]
  },
  {
   "cell_type": "code",
   "execution_count": 62,
   "metadata": {},
   "outputs": [
    {
     "data": {
      "text/html": [
       "0.879363825341275"
      ],
      "text/latex": [
       "0.879363825341275"
      ],
      "text/markdown": [
       "0.879363825341275"
      ],
      "text/plain": [
       "[1] 0.8793638"
      ]
     },
     "metadata": {},
     "output_type": "display_data"
    },
    {
     "data": {
      "text/html": [
       "1.20835160131118"
      ],
      "text/latex": [
       "1.20835160131118"
      ],
      "text/markdown": [
       "1.20835160131118"
      ],
      "text/plain": [
       "[1] 1.208352"
      ]
     },
     "metadata": {},
     "output_type": "display_data"
    },
    {
     "data": {
      "text/html": [
       "2.17246699913229"
      ],
      "text/latex": [
       "2.17246699913229"
      ],
      "text/markdown": [
       "2.17246699913229"
      ],
      "text/plain": [
       "[1] 2.172467"
      ]
     },
     "metadata": {},
     "output_type": "display_data"
    }
   ],
   "source": [
    "sd(Y)\n",
    "sd(X1)\n",
    "sd(X2)"
   ]
  },
  {
   "cell_type": "code",
   "execution_count": 63,
   "metadata": {},
   "outputs": [
    {
     "data": {
      "text/html": [
       "0.960836164322811"
      ],
      "text/latex": [
       "0.960836164322811"
      ],
      "text/markdown": [
       "0.960836164322811"
      ],
      "text/plain": [
       "[1] 0.9608362"
      ]
     },
     "metadata": {},
     "output_type": "display_data"
    }
   ],
   "source": [
    "cor(Y, X1)"
   ]
  },
  {
   "cell_type": "code",
   "execution_count": 64,
   "metadata": {},
   "outputs": [
    {
     "data": {
      "text/html": [
       "0.964016320302285"
      ],
      "text/latex": [
       "0.964016320302285"
      ],
      "text/markdown": [
       "0.964016320302285"
      ],
      "text/plain": [
       "[1] 0.9640163"
      ]
     },
     "metadata": {},
     "output_type": "display_data"
    }
   ],
   "source": [
    "cor(Y, X2)"
   ]
  },
  {
   "cell_type": "code",
   "execution_count": 65,
   "metadata": {
    "scrolled": true
   },
   "outputs": [
    {
     "data": {
      "text/html": [
       "0.988685951664334"
      ],
      "text/latex": [
       "0.988685951664334"
      ],
      "text/markdown": [
       "0.988685951664334"
      ],
      "text/plain": [
       "[1] 0.988686"
      ]
     },
     "metadata": {},
     "output_type": "display_data"
    }
   ],
   "source": [
    "cor(X1, X2)"
   ]
  },
  {
   "cell_type": "code",
   "execution_count": 67,
   "metadata": {},
   "outputs": [
    {
     "data": {
      "text/html": [
       "24"
      ],
      "text/latex": [
       "24"
      ],
      "text/markdown": [
       "24"
      ],
      "text/plain": [
       "[1] 24"
      ]
     },
     "metadata": {},
     "output_type": "display_data"
    }
   ],
   "source": [
    "n = length(X1)\n",
    "n"
   ]
  },
  {
   "cell_type": "code",
   "execution_count": 68,
   "metadata": {},
   "outputs": [],
   "source": [
    "v = n - 3\n",
    "alpha = 0.05"
   ]
  },
  {
   "cell_type": "code",
   "execution_count": 69,
   "metadata": {},
   "outputs": [
    {
     "data": {
      "text/html": [
       "2.07961384472768"
      ],
      "text/latex": [
       "2.07961384472768"
      ],
      "text/markdown": [
       "2.07961384472768"
      ],
      "text/plain": [
       "[1] 2.079614"
      ]
     },
     "metadata": {},
     "output_type": "display_data"
    }
   ],
   "source": [
    "qt(1-alpha/2, v)"
   ]
  },
  {
   "cell_type": "code",
   "execution_count": 73,
   "metadata": {},
   "outputs": [
    {
     "data": {
      "text/html": [
       "0.812134203956911"
      ],
      "text/latex": [
       "0.812134203956911"
      ],
      "text/markdown": [
       "0.812134203956911"
      ],
      "text/plain": [
       "[1] 0.8121342"
      ]
     },
     "metadata": {},
     "output_type": "display_data"
    }
   ],
   "source": [
    "pt(0.905, 21)"
   ]
  },
  {
   "cell_type": "code",
   "execution_count": 76,
   "metadata": {},
   "outputs": [
    {
     "data": {
      "text/html": [
       "0.0573245824726762"
      ],
      "text/latex": [
       "0.0573245824726762"
      ],
      "text/markdown": [
       "0.0573245824726762"
      ],
      "text/plain": [
       "[1] 0.05732458"
      ]
     },
     "metadata": {},
     "output_type": "display_data"
    }
   ],
   "source": [
    "1-pt(1.646, 21)"
   ]
  }
 ],
 "metadata": {
  "kernelspec": {
   "display_name": "R",
   "language": "R",
   "name": "ir"
  },
  "language_info": {
   "codemirror_mode": "r",
   "file_extension": ".r",
   "mimetype": "text/x-r-source",
   "name": "R",
   "pygments_lexer": "r",
   "version": "3.5.0"
  }
 },
 "nbformat": 4,
 "nbformat_minor": 2
}
