{
 "cells": [
  {
   "cell_type": "code",
   "execution_count": 1,
   "metadata": {},
   "outputs": [],
   "source": [
    "X = c(2.378, 2.958, 3.743, 5.882, 6.553, 6.828, 6.898,6.92, 7.223, 7.249, 7.317, 7.595, 7.661, 8.298, 9.144, 9.225, 9.276, 9.718, 10.51, 11.49)\n",
    "Y = c(42.11, 45.62, 46.93, 48.61, 48.94, 50.91, 51.03, 52.46, 53.32, 56.68, 59.57, 60, 60.23, 60.35, 62.02, 62.66, 62.86, 64.27, 64.5, 68.06)"
   ]
  },
  {
   "cell_type": "markdown",
   "metadata": {},
   "source": [
    "Bepaal de correlatiecoefficient $r$ van de best passende lijn kun je berekenen met:\n",
    "\n",
    "$$ r = \\dfrac{\\sum \\left( X_i - \\bar{X} \\right) \\left( Y_i-\\bar{Y} \\right)}{\\sqrt{ \\sum \\left(X_i -\\bar{X} \\right)^2 \\sum\\left( Y_i - \\bar{Y} \\right)^2 }}$$"
   ]
  },
  {
   "cell_type": "code",
   "execution_count": 3,
   "metadata": {},
   "outputs": [],
   "source": [
    "xbar = mean(X)\n",
    "ybar = mean(Y)\n",
    "xnorm = X - xbar\n",
    "ynorm = Y - ybar"
   ]
  },
  {
   "cell_type": "markdown",
   "metadata": {},
   "source": [
    "De teller is:"
   ]
  },
  {
   "cell_type": "code",
   "execution_count": 4,
   "metadata": {},
   "outputs": [
    {
     "data": {
      "text/html": [
       "309.718761"
      ],
      "text/latex": [
       "309.718761"
      ],
      "text/markdown": [
       "309.718761"
      ],
      "text/plain": [
       "[1] 309.7188"
      ]
     },
     "metadata": {},
     "output_type": "display_data"
    }
   ],
   "source": [
    "sum( xnorm*ynorm )"
   ]
  },
  {
   "cell_type": "markdown",
   "metadata": {},
   "source": [
    "En de noemer is:"
   ]
  },
  {
   "cell_type": "code",
   "execution_count": 11,
   "metadata": {},
   "outputs": [
    {
     "data": {
      "text/html": [
       "329.621135316952"
      ],
      "text/latex": [
       "329.621135316952"
      ],
      "text/markdown": [
       "329.621135316952"
      ],
      "text/plain": [
       "[1] 329.6211"
      ]
     },
     "metadata": {},
     "output_type": "display_data"
    }
   ],
   "source": [
    "sqrt(sum(xnorm^2) * sum(ynorm^2))"
   ]
  },
  {
   "cell_type": "markdown",
   "metadata": {},
   "source": [
    "Dus $r$ is:"
   ]
  },
  {
   "cell_type": "code",
   "execution_count": 12,
   "metadata": {},
   "outputs": [
    {
     "data": {
      "text/html": [
       "0.939620454562737"
      ],
      "text/latex": [
       "0.939620454562737"
      ],
      "text/markdown": [
       "0.939620454562737"
      ],
      "text/plain": [
       "[1] 0.9396205"
      ]
     },
     "metadata": {},
     "output_type": "display_data"
    }
   ],
   "source": [
    "sum( xnorm*ynorm ) / sqrt(sum(xnorm^2) * sum(ynorm^2))"
   ]
  }
 ],
 "metadata": {
  "kernelspec": {
   "display_name": "R",
   "language": "R",
   "name": "ir"
  },
  "language_info": {
   "codemirror_mode": "r",
   "file_extension": ".r",
   "mimetype": "text/x-r-source",
   "name": "R",
   "pygments_lexer": "r",
   "version": "3.5.0"
  }
 },
 "nbformat": 4,
 "nbformat_minor": 2
}
