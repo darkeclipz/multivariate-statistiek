{
 "cells": [
  {
   "cell_type": "code",
   "execution_count": 1,
   "metadata": {},
   "outputs": [],
   "source": [
    "X = c(39.575474, 47.071846, 55.504599, 66.458361, 73.802279, 84.616953, 92.193018,99.457905, 111.822272, 117.379278, 129.967313, 135.275742, 146.800962, 156.314849, 164.281166)\n",
    "Y = c(64.272424, 79.360414, 90.939104, 104.615571, 118.170083, 128.843206, 145.824987, 155.325186, 172.734316, 184.664662, 197.678394, 208.072768, 222.567221, 236.819419, 250.284458)"
   ]
  },
  {
   "cell_type": "markdown",
   "metadata": {},
   "source": [
    "Eerst bepalen we $\\bar{X}$ en $\\bar{Y}$."
   ]
  },
  {
   "cell_type": "code",
   "execution_count": 2,
   "metadata": {},
   "outputs": [],
   "source": [
    "xbar = mean(X)\n",
    "ybar = mean(Y)"
   ]
  },
  {
   "cell_type": "markdown",
   "metadata": {},
   "source": [
    "Vervolgens verplaatsen we de oorsprong $(0,0)$ naar $(\\bar{X}, \\bar{Y})$. Dit kunnen we doen met de volgende transformatie: $x_i = X_i - \\bar{X}$, en ditzelfde voor $y_i$."
   ]
  },
  {
   "cell_type": "code",
   "execution_count": 3,
   "metadata": {},
   "outputs": [],
   "source": [
    "Xnorm=X-xbar\n",
    "Ynorm=Y-ybar"
   ]
  },
  {
   "cell_type": "markdown",
   "metadata": {},
   "source": [
    "Nu is het eenvoudiger om de richtingscoefficient te bepalen, namelijk:\n",
    "\n",
    "$$ b = \\dfrac{\\sum x_i \\cdot y_i}{\\sum x_i^2} $$\n",
    "\n",
    "De noemer geeft $\\sum x_i \\cdot y_i$:"
   ]
  },
  {
   "cell_type": "code",
   "execution_count": 5,
   "metadata": {},
   "outputs": [
    {
     "data": {
      "text/html": [
       "33187.7932684905"
      ],
      "text/latex": [
       "33187.7932684905"
      ],
      "text/markdown": [
       "33187.7932684905"
      ],
      "text/plain": [
       "[1] 33187.79"
      ]
     },
     "metadata": {},
     "output_type": "display_data"
    }
   ],
   "source": [
    "sum(Xnorm*Ynorm)"
   ]
  },
  {
   "cell_type": "markdown",
   "metadata": {},
   "source": [
    "En de teller geeft $\\sum x_i^2$:"
   ]
  },
  {
   "cell_type": "code",
   "execution_count": 6,
   "metadata": {},
   "outputs": [
    {
     "data": {
      "text/html": [
       "22591.5035673533"
      ],
      "text/latex": [
       "22591.5035673533"
      ],
      "text/markdown": [
       "22591.5035673533"
      ],
      "text/plain": [
       "[1] 22591.5"
      ]
     },
     "metadata": {},
     "output_type": "display_data"
    }
   ],
   "source": [
    "sum(Xnorm^2)"
   ]
  },
  {
   "cell_type": "markdown",
   "metadata": {},
   "source": [
    "In dit geval is $b$:"
   ]
  },
  {
   "cell_type": "code",
   "execution_count": 8,
   "metadata": {},
   "outputs": [
    {
     "data": {
      "text/html": [
       "1.46903871048449"
      ],
      "text/latex": [
       "1.46903871048449"
      ],
      "text/markdown": [
       "1.46903871048449"
      ],
      "text/plain": [
       "[1] 1.469039"
      ]
     },
     "metadata": {},
     "output_type": "display_data"
    }
   ],
   "source": [
    "sum(Xnorm*Ynorm) / sum(Xnorm^2)"
   ]
  },
  {
   "cell_type": "code",
   "execution_count": 11,
   "metadata": {},
   "outputs": [],
   "source": [
    "b = sum(Xnorm*Ynorm) / sum(Xnorm^2)"
   ]
  },
  {
   "cell_type": "markdown",
   "metadata": {},
   "source": [
    "We kunnen $a$ krijgen met $a = \\bar{Y} - b \\cdot \\bar{X}$:"
   ]
  },
  {
   "cell_type": "code",
   "execution_count": 12,
   "metadata": {},
   "outputs": [
    {
     "data": {
      "text/html": [
       "8.43110065886935"
      ],
      "text/latex": [
       "8.43110065886935"
      ],
      "text/markdown": [
       "8.43110065886935"
      ],
      "text/plain": [
       "[1] 8.431101"
      ]
     },
     "metadata": {},
     "output_type": "display_data"
    }
   ],
   "source": [
    "ybar - b * xbar"
   ]
  }
 ],
 "metadata": {
  "kernelspec": {
   "display_name": "R",
   "language": "R",
   "name": "ir"
  },
  "language_info": {
   "codemirror_mode": "r",
   "file_extension": ".r",
   "mimetype": "text/x-r-source",
   "name": "R",
   "pygments_lexer": "r",
   "version": "3.5.0"
  }
 },
 "nbformat": 4,
 "nbformat_minor": 2
}
