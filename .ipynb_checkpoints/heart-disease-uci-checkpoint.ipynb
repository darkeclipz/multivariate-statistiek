{
 "cells": [
  {
   "cell_type": "code",
   "execution_count": 58,
   "metadata": {},
   "outputs": [],
   "source": [
    "options(digits=4)"
   ]
  },
  {
   "cell_type": "markdown",
   "metadata": {},
   "source": [
    "# Heart Disease Dataset\n",
    "\n",
    "_Lars Rotgers (rotg1700@student.nhl.nl), Rosa de Haan (haan1700@student.nhl.nl), Toegepaste Wiskunde, 25 maart 2019_."
   ]
  },
  {
   "cell_type": "markdown",
   "metadata": {},
   "source": [
    "Voor de eerste opdracht voor multivariate statistiek zijn er de volgende producteisen:\n",
    "\n",
    " 1. Visuele inspectie met plots.\n",
    " 2. Correlatiematrix en onderzoek collineariteit.\n",
    " 3. Bepaal regressievergelijkingen gebaseerd op alle verklarende variabelen.\n",
    " 4. Mogelijke uitkomsten berekenen en controleren.\n",
    " 5. Bepaal de verklaarde/onverklaarde en de totale variantie.\n",
    " 6. Bepaal de determinatiecoefficient $R^2$.\n",
    " 7. Bepaal het best passende model met één variabele.\n",
    " 8. Controleer de uitkomst van de regressielijn.\n",
    " 9. Bepaal het best passende model met twee variabelen.\n",
    " 10. Controleer de uitkomst van de regressielijn.\n",
    " 11. Bepaal of het zinvol is om meer variabelen toe te voegen aan het model.\n",
    " 12. Bepaal de regressielijn met de relevante variabelen.\n",
    "\n",
    "Voor de opdracht maken we gebruik van de _heart disease dataset_. Deze dataset is verkregen via de onderstaande link:\n",
    "\n",
    " * https://www.kaggle.com/ronitf/heart-disease-uci"
   ]
  },
  {
   "cell_type": "code",
   "execution_count": 59,
   "metadata": {},
   "outputs": [
    {
     "data": {
      "text/html": [
       "<table>\n",
       "<thead><tr><th scope=col>age</th><th scope=col>sex</th><th scope=col>cp</th><th scope=col>trestbps</th><th scope=col>chol</th><th scope=col>fbs</th><th scope=col>restecg</th><th scope=col>thalach</th><th scope=col>exang</th><th scope=col>oldpeak</th><th scope=col>slope</th><th scope=col>ca</th><th scope=col>thal</th><th scope=col>target</th></tr></thead>\n",
       "<tbody>\n",
       "\t<tr><td>63 </td><td>1  </td><td>3  </td><td>145</td><td>233</td><td>1  </td><td>0  </td><td>150</td><td>0  </td><td>2.3</td><td>0  </td><td>0  </td><td>1  </td><td>1  </td></tr>\n",
       "\t<tr><td>37 </td><td>1  </td><td>2  </td><td>130</td><td>250</td><td>0  </td><td>1  </td><td>187</td><td>0  </td><td>3.5</td><td>0  </td><td>0  </td><td>2  </td><td>1  </td></tr>\n",
       "\t<tr><td>41 </td><td>0  </td><td>1  </td><td>130</td><td>204</td><td>0  </td><td>0  </td><td>172</td><td>0  </td><td>1.4</td><td>2  </td><td>0  </td><td>2  </td><td>1  </td></tr>\n",
       "\t<tr><td>56 </td><td>1  </td><td>1  </td><td>120</td><td>236</td><td>0  </td><td>1  </td><td>178</td><td>0  </td><td>0.8</td><td>2  </td><td>0  </td><td>2  </td><td>1  </td></tr>\n",
       "\t<tr><td>57 </td><td>0  </td><td>0  </td><td>120</td><td>354</td><td>0  </td><td>1  </td><td>163</td><td>1  </td><td>0.6</td><td>2  </td><td>0  </td><td>2  </td><td>1  </td></tr>\n",
       "\t<tr><td>57 </td><td>1  </td><td>0  </td><td>140</td><td>192</td><td>0  </td><td>1  </td><td>148</td><td>0  </td><td>0.4</td><td>1  </td><td>0  </td><td>1  </td><td>1  </td></tr>\n",
       "</tbody>\n",
       "</table>\n"
      ],
      "text/latex": [
       "\\begin{tabular}{r|llllllllllllll}\n",
       " age & sex & cp & trestbps & chol & fbs & restecg & thalach & exang & oldpeak & slope & ca & thal & target\\\\\n",
       "\\hline\n",
       "\t 63  & 1   & 3   & 145 & 233 & 1   & 0   & 150 & 0   & 2.3 & 0   & 0   & 1   & 1  \\\\\n",
       "\t 37  & 1   & 2   & 130 & 250 & 0   & 1   & 187 & 0   & 3.5 & 0   & 0   & 2   & 1  \\\\\n",
       "\t 41  & 0   & 1   & 130 & 204 & 0   & 0   & 172 & 0   & 1.4 & 2   & 0   & 2   & 1  \\\\\n",
       "\t 56  & 1   & 1   & 120 & 236 & 0   & 1   & 178 & 0   & 0.8 & 2   & 0   & 2   & 1  \\\\\n",
       "\t 57  & 0   & 0   & 120 & 354 & 0   & 1   & 163 & 1   & 0.6 & 2   & 0   & 2   & 1  \\\\\n",
       "\t 57  & 1   & 0   & 140 & 192 & 0   & 1   & 148 & 0   & 0.4 & 1   & 0   & 1   & 1  \\\\\n",
       "\\end{tabular}\n"
      ],
      "text/markdown": [
       "\n",
       "age | sex | cp | trestbps | chol | fbs | restecg | thalach | exang | oldpeak | slope | ca | thal | target | \n",
       "|---|---|---|---|---|---|\n",
       "| 63  | 1   | 3   | 145 | 233 | 1   | 0   | 150 | 0   | 2.3 | 0   | 0   | 1   | 1   | \n",
       "| 37  | 1   | 2   | 130 | 250 | 0   | 1   | 187 | 0   | 3.5 | 0   | 0   | 2   | 1   | \n",
       "| 41  | 0   | 1   | 130 | 204 | 0   | 0   | 172 | 0   | 1.4 | 2   | 0   | 2   | 1   | \n",
       "| 56  | 1   | 1   | 120 | 236 | 0   | 1   | 178 | 0   | 0.8 | 2   | 0   | 2   | 1   | \n",
       "| 57  | 0   | 0   | 120 | 354 | 0   | 1   | 163 | 1   | 0.6 | 2   | 0   | 2   | 1   | \n",
       "| 57  | 1   | 0   | 140 | 192 | 0   | 1   | 148 | 0   | 0.4 | 1   | 0   | 1   | 1   | \n",
       "\n",
       "\n"
      ],
      "text/plain": [
       "  age sex cp trestbps chol fbs restecg thalach exang oldpeak slope ca thal\n",
       "1 63  1   3  145      233  1   0       150     0     2.3     0     0  1   \n",
       "2 37  1   2  130      250  0   1       187     0     3.5     0     0  2   \n",
       "3 41  0   1  130      204  0   0       172     0     1.4     2     0  2   \n",
       "4 56  1   1  120      236  0   1       178     0     0.8     2     0  2   \n",
       "5 57  0   0  120      354  0   1       163     1     0.6     2     0  2   \n",
       "6 57  1   0  140      192  0   1       148     0     0.4     1     0  1   \n",
       "  target\n",
       "1 1     \n",
       "2 1     \n",
       "3 1     \n",
       "4 1     \n",
       "5 1     \n",
       "6 1     "
      ]
     },
     "metadata": {},
     "output_type": "display_data"
    },
    {
     "name": "stdout",
     "output_type": "stream",
     "text": [
      "[1] \"Er zijn 303 rijen, en 14  kolommen.\"\n"
     ]
    }
   ],
   "source": [
    "df = read.csv('heart.csv')\n",
    "\n",
    "# kolomnaam herstellen; er staat '`..age'\n",
    "names = colnames(df); \n",
    "names[1] = 'age' \n",
    "colnames(df) = names\n",
    "\n",
    "head(df)\n",
    "print(paste('Er zijn', nrow(df), 'rijen, en', length(df), ' kolommen.'))"
   ]
  },
  {
   "cell_type": "markdown",
   "metadata": {},
   "source": [
    "# Kolommen"
   ]
  },
  {
   "cell_type": "markdown",
   "metadata": {},
   "source": [
    "In de dataset zitten de volgende kolommen:\n",
    "\n",
    "1. `age`: leeftijd. (Ratio)\n",
    "2. `sex`: geslacht. (Nominaal)\n",
    "3. `cp`: chest pain type (4 values). (Nominaal)\n",
    "4. `trestbps`: resting blood pressure. (Ratio)\n",
    "5. `chol`: serum cholestoral in mg/dl. (Ratio)\n",
    "6. `fbs`: fasting blood sugar > 120 mg/dl. (Nominaal)\n",
    "7. `restecg`: resting electrocardiographic results (values 0, 1, 2). (Nominaal)\n",
    "8. `thalanch`: maximum heartrate achieved. (Ratio)\n",
    "9. `exang`: exercise induced angina. (Nominaal)\n",
    "10. `oldpeak`: ST depression induced by exercise relative to test. (Ratio)\n",
    "11. `slope`: the slope of the peak exercise ST segment. (Nominaal)\n",
    "12. `ca`: number of major vessels (0-3) color by flourosopy. (Ordinaal)\n",
    "13. `thal`: 3 = normal, 6 = fixed defect, 7 = reversable defect. (Ordinaal)\n",
    "14. `target`: indicated if someone has heart disease, 0 = false, 1 = true. (Ordinaal)"
   ]
  },
  {
   "cell_type": "markdown",
   "metadata": {},
   "source": [
    "# Onderzoeksvraag"
   ]
  },
  {
   "cell_type": "markdown",
   "metadata": {},
   "source": [
    "Oorspronkelijk is het de bedoeling dat met behulp van machine learning een classifier wordt opgesteld om vast te stellen of, gebaseerd op enkele gegevens, een patiënt hartziekten heeft. Echter geldt er voor dit onderzoek een andere onderzoeksvraag, namelijk: Welke factoren hebben effect op de maximale hartslag (veld `thalanch`)."
   ]
  },
  {
   "cell_type": "markdown",
   "metadata": {},
   "source": [
    "# Beschrijvende statistiek"
   ]
  },
  {
   "cell_type": "markdown",
   "metadata": {},
   "source": [
    "Om een eerste indruk te krijgen van de gegevens in de dataset bepalen we met `summary` enkele algemene gegevens:"
   ]
  },
  {
   "cell_type": "code",
   "execution_count": 60,
   "metadata": {
    "scrolled": false
   },
   "outputs": [
    {
     "data": {
      "text/plain": [
       "      age            sex              cp           trestbps        chol    \n",
       " Min.   :29.0   Min.   :0.000   Min.   :0.000   Min.   : 94   Min.   :126  \n",
       " 1st Qu.:47.5   1st Qu.:0.000   1st Qu.:0.000   1st Qu.:120   1st Qu.:211  \n",
       " Median :55.0   Median :1.000   Median :1.000   Median :130   Median :240  \n",
       " Mean   :54.4   Mean   :0.683   Mean   :0.967   Mean   :132   Mean   :246  \n",
       " 3rd Qu.:61.0   3rd Qu.:1.000   3rd Qu.:2.000   3rd Qu.:140   3rd Qu.:274  \n",
       " Max.   :77.0   Max.   :1.000   Max.   :3.000   Max.   :200   Max.   :564  \n",
       "      fbs           restecg         thalach        exang          oldpeak    \n",
       " Min.   :0.000   Min.   :0.000   Min.   : 71   Min.   :0.000   Min.   :0.00  \n",
       " 1st Qu.:0.000   1st Qu.:0.000   1st Qu.:134   1st Qu.:0.000   1st Qu.:0.00  \n",
       " Median :0.000   Median :1.000   Median :153   Median :0.000   Median :0.80  \n",
       " Mean   :0.148   Mean   :0.528   Mean   :150   Mean   :0.327   Mean   :1.04  \n",
       " 3rd Qu.:0.000   3rd Qu.:1.000   3rd Qu.:166   3rd Qu.:1.000   3rd Qu.:1.60  \n",
       " Max.   :1.000   Max.   :2.000   Max.   :202   Max.   :1.000   Max.   :6.20  \n",
       "     slope           ca             thal          target     \n",
       " Min.   :0.0   Min.   :0.000   Min.   :0.00   Min.   :0.000  \n",
       " 1st Qu.:1.0   1st Qu.:0.000   1st Qu.:2.00   1st Qu.:0.000  \n",
       " Median :1.0   Median :0.000   Median :2.00   Median :1.000  \n",
       " Mean   :1.4   Mean   :0.729   Mean   :2.31   Mean   :0.545  \n",
       " 3rd Qu.:2.0   3rd Qu.:1.000   3rd Qu.:3.00   3rd Qu.:1.000  \n",
       " Max.   :2.0   Max.   :4.000   Max.   :3.00   Max.   :1.000  "
      ]
     },
     "metadata": {},
     "output_type": "display_data"
    }
   ],
   "source": [
    "summary(df)"
   ]
  },
  {
   "cell_type": "markdown",
   "metadata": {},
   "source": [
    "Om een idee te krijgen hoe de data is verdeeld binnen de verschillende variabelen worden er staafdiagrammen opgesteld voor de nominale/ordinale variabelen en histogrammen voor de ratio variabelen."
   ]
  },
  {
   "cell_type": "markdown",
   "metadata": {},
   "source": [
    "## Staafdiagrammen voor nominale/ordinale variabelen"
   ]
  },
  {
   "cell_type": "code",
   "execution_count": 61,
   "metadata": {},
   "outputs": [
    {
     "data": {
      "image/png": "[encoded data removed]",
      "text/plain": [
       "Plot with title \"df$targer\""
      ]
     },
     "metadata": {},
     "output_type": "display_data"
    }
   ],
   "source": [
    "par(mfrow=c(3,3))\n",
    "barplot(table(df$sex), main=\"df$sex\")\n",
    "barplot(table(df$cp), main=\"df$cp\")\n",
    "barplot(table(df$fbs), main=\"df$fbs\")\n",
    "barplot(table(df$restecg), main=\"df$restecg\")\n",
    "barplot(table(df$exang), main=\"df$exang\")\n",
    "barplot(table(df$slope), main=\"df$slope\")\n",
    "barplot(table(df$ca), main=\"df$ca\")\n",
    "barplot(table(df$thal), main=\"df$thal\")\n",
    "barplot(table(df$target), main=\"df$targer\")"
   ]
  },
  {
   "cell_type": "markdown",
   "metadata": {},
   "source": [
    "## Histogrammen voor ratio variabelen"
   ]
  },
  {
   "cell_type": "code",
   "execution_count": 62,
   "metadata": {},
   "outputs": [
    {
     "data": {
      "image/png": "[encoded data removed]",
      "text/plain": [
       "Plot with title \"Histogram of df$oldpeak\""
      ]
     },
     "metadata": {},
     "output_type": "display_data"
    }
   ],
   "source": [
    "par(mfrow=c(3, 2))\n",
    "hist(df$age)\n",
    "hist(df$trestbps)\n",
    "hist(df$chol)\n",
    "hist(df$thalach)\n",
    "hist(df$oldpeak)"
   ]
  },
  {
   "cell_type": "markdown",
   "metadata": {},
   "source": [
    "# Correlatieplots"
   ]
  },
  {
   "cell_type": "markdown",
   "metadata": {},
   "source": [
    "Om de correlatie tussen de variabelen te analyseren is een correlatieplot handig. Het volgende figuur is een plot van alle variabelen waarvan het meetniveau ratio is."
   ]
  },
  {
   "cell_type": "code",
   "execution_count": 71,
   "metadata": {},
   "outputs": [
    {
     "data": {
      "image/png": "[encoded data removed]",
      "text/plain": [
       "plot without title"
      ]
     },
     "metadata": {},
     "output_type": "display_data"
    }
   ],
   "source": [
    "plot(data.frame(df$age, df$trestbps, df$chol, df$thalach, df$oldpeak))"
   ]
  },
  {
   "cell_type": "markdown",
   "metadata": {},
   "source": [
    "Kijkende naar de resultaten, is te zien dat de correlaties vrij zwak zijn. Voor de exacte correlatiecoefficienten kijken we naar de correlatiematrix voor de ratio variabelen:"
   ]
  },
  {
   "cell_type": "code",
   "execution_count": 72,
   "metadata": {
    "scrolled": true
   },
   "outputs": [
    {
     "data": {
      "text/html": [
       "<table>\n",
       "<thead><tr><th></th><th scope=col>df.age</th><th scope=col>df.trestbps</th><th scope=col>df.chol</th><th scope=col>df.thalach</th><th scope=col>df.oldpeak</th></tr></thead>\n",
       "<tbody>\n",
       "\t<tr><th scope=row>df.age</th><td> 1.0000 </td><td> 0.2794 </td><td> 0.21368</td><td>-0.39852</td><td> 0.21001</td></tr>\n",
       "\t<tr><th scope=row>df.trestbps</th><td> 0.2794 </td><td> 1.0000 </td><td> 0.12317</td><td>-0.04670</td><td> 0.19322</td></tr>\n",
       "\t<tr><th scope=row>df.chol</th><td> 0.2137 </td><td> 0.1232 </td><td> 1.00000</td><td>-0.00994</td><td> 0.05395</td></tr>\n",
       "\t<tr><th scope=row>df.thalach</th><td>-0.3985 </td><td>-0.0467 </td><td>-0.00994</td><td> 1.00000</td><td>-0.34419</td></tr>\n",
       "\t<tr><th scope=row>df.oldpeak</th><td> 0.2100 </td><td> 0.1932 </td><td> 0.05395</td><td>-0.34419</td><td> 1.00000</td></tr>\n",
       "</tbody>\n",
       "</table>\n"
      ],
      "text/latex": [
       "\\begin{tabular}{r|lllll}\n",
       "  & df.age & df.trestbps & df.chol & df.thalach & df.oldpeak\\\\\n",
       "\\hline\n",
       "\tdf.age &  1.0000  &  0.2794  &  0.21368 & -0.39852 &  0.21001\\\\\n",
       "\tdf.trestbps &  0.2794  &  1.0000  &  0.12317 & -0.04670 &  0.19322\\\\\n",
       "\tdf.chol &  0.2137  &  0.1232  &  1.00000 & -0.00994 &  0.05395\\\\\n",
       "\tdf.thalach & -0.3985  & -0.0467  & -0.00994 &  1.00000 & -0.34419\\\\\n",
       "\tdf.oldpeak &  0.2100  &  0.1932  &  0.05395 & -0.34419 &  1.00000\\\\\n",
       "\\end{tabular}\n"
      ],
      "text/markdown": [
       "\n",
       "| <!--/--> | df.age | df.trestbps | df.chol | df.thalach | df.oldpeak | \n",
       "|---|---|---|---|---|\n",
       "| df.age |  1.0000  |  0.2794  |  0.21368 | -0.39852 |  0.21001 | \n",
       "| df.trestbps |  0.2794  |  1.0000  |  0.12317 | -0.04670 |  0.19322 | \n",
       "| df.chol |  0.2137  |  0.1232  |  1.00000 | -0.00994 |  0.05395 | \n",
       "| df.thalach | -0.3985  | -0.0467  | -0.00994 |  1.00000 | -0.34419 | \n",
       "| df.oldpeak |  0.2100  |  0.1932  |  0.05395 | -0.34419 |  1.00000 | \n",
       "\n",
       "\n"
      ],
      "text/plain": [
       "            df.age  df.trestbps df.chol  df.thalach df.oldpeak\n",
       "df.age       1.0000  0.2794      0.21368 -0.39852    0.21001  \n",
       "df.trestbps  0.2794  1.0000      0.12317 -0.04670    0.19322  \n",
       "df.chol      0.2137  0.1232      1.00000 -0.00994    0.05395  \n",
       "df.thalach  -0.3985 -0.0467     -0.00994  1.00000   -0.34419  \n",
       "df.oldpeak   0.2100  0.1932      0.05395 -0.34419    1.00000  "
      ]
     },
     "metadata": {},
     "output_type": "display_data"
    }
   ],
   "source": [
    "cor(data.frame(df$age, df$trestbps, df$chol, df$thalach, df$oldpeak))"
   ]
  },
  {
   "cell_type": "markdown",
   "metadata": {},
   "source": [
    "De correlatie die er het meeste uitspringt is dat de leeftijd een negatief effect heeft op de maximaal te behalen hartslag. "
   ]
  },
  {
   "cell_type": "markdown",
   "metadata": {},
   "source": [
    "# Correlatiematrix en collineariteit"
   ]
  },
  {
   "cell_type": "markdown",
   "metadata": {},
   "source": [
    "Om uit te zoeken wat de samenhang tussen de variabelen is, is het handig om naar de correlatiematrix te kijken."
   ]
  },
  {
   "cell_type": "code",
   "execution_count": 63,
   "metadata": {
    "scrolled": false
   },
   "outputs": [
    {
     "data": {
      "text/html": [
       "<table>\n",
       "<thead><tr><th></th><th scope=col>age</th><th scope=col>sex</th><th scope=col>cp</th><th scope=col>trestbps</th><th scope=col>chol</th><th scope=col>fbs</th><th scope=col>restecg</th><th scope=col>thalach</th><th scope=col>exang</th><th scope=col>oldpeak</th><th scope=col>slope</th><th scope=col>ca</th><th scope=col>thal</th><th scope=col>target</th></tr></thead>\n",
       "<tbody>\n",
       "\t<tr><th scope=row>age</th><td> 1.00000 </td><td>-0.09845 </td><td>-0.06865 </td><td> 0.27935 </td><td> 0.213678</td><td> 0.121308</td><td>-0.11621 </td><td>-0.398522</td><td> 0.09680 </td><td> 0.210013</td><td>-0.168814</td><td> 0.27633 </td><td> 0.06800 </td><td>-0.22544 </td></tr>\n",
       "\t<tr><th scope=row>sex</th><td>-0.09845 </td><td> 1.00000 </td><td>-0.04935 </td><td>-0.05677 </td><td>-0.197912</td><td> 0.045032</td><td>-0.05820 </td><td>-0.044020</td><td> 0.14166 </td><td> 0.096093</td><td>-0.030711</td><td> 0.11826 </td><td> 0.21004 </td><td>-0.28094 </td></tr>\n",
       "\t<tr><th scope=row>cp</th><td>-0.06865 </td><td>-0.04935 </td><td> 1.00000 </td><td> 0.04761 </td><td>-0.076904</td><td> 0.094444</td><td> 0.04442 </td><td> 0.295762</td><td>-0.39428 </td><td>-0.149230</td><td> 0.119717</td><td>-0.18105 </td><td>-0.16174 </td><td> 0.43380 </td></tr>\n",
       "\t<tr><th scope=row>trestbps</th><td> 0.27935 </td><td>-0.05677 </td><td> 0.04761 </td><td> 1.00000 </td><td> 0.123174</td><td> 0.177531</td><td>-0.11410 </td><td>-0.046698</td><td> 0.06762 </td><td> 0.193216</td><td>-0.121475</td><td> 0.10139 </td><td> 0.06221 </td><td>-0.14493 </td></tr>\n",
       "\t<tr><th scope=row>chol</th><td> 0.21368 </td><td>-0.19791 </td><td>-0.07690 </td><td> 0.12317 </td><td> 1.000000</td><td> 0.013294</td><td>-0.15104 </td><td>-0.009940</td><td> 0.06702 </td><td> 0.053952</td><td>-0.004038</td><td> 0.07051 </td><td> 0.09880 </td><td>-0.08524 </td></tr>\n",
       "\t<tr><th scope=row>fbs</th><td> 0.12131 </td><td> 0.04503 </td><td> 0.09444 </td><td> 0.17753 </td><td> 0.013294</td><td> 1.000000</td><td>-0.08419 </td><td>-0.008567</td><td> 0.02567 </td><td> 0.005747</td><td>-0.059894</td><td> 0.13798 </td><td>-0.03202 </td><td>-0.02805 </td></tr>\n",
       "\t<tr><th scope=row>restecg</th><td>-0.11621 </td><td>-0.05820 </td><td> 0.04442 </td><td>-0.11410 </td><td>-0.151040</td><td>-0.084189</td><td> 1.00000 </td><td> 0.044123</td><td>-0.07073 </td><td>-0.058770</td><td> 0.093045</td><td>-0.07204 </td><td>-0.01198 </td><td> 0.13723 </td></tr>\n",
       "\t<tr><th scope=row>thalach</th><td>-0.39852 </td><td>-0.04402 </td><td> 0.29576 </td><td>-0.04670 </td><td>-0.009940</td><td>-0.008567</td><td> 0.04412 </td><td> 1.000000</td><td>-0.37881 </td><td>-0.344187</td><td> 0.386784</td><td>-0.21318 </td><td>-0.09644 </td><td> 0.42174 </td></tr>\n",
       "\t<tr><th scope=row>exang</th><td> 0.09680 </td><td> 0.14166 </td><td>-0.39428 </td><td> 0.06762 </td><td> 0.067023</td><td> 0.025665</td><td>-0.07073 </td><td>-0.378812</td><td> 1.00000 </td><td> 0.288223</td><td>-0.257748</td><td> 0.11574 </td><td> 0.20675 </td><td>-0.43676 </td></tr>\n",
       "\t<tr><th scope=row>oldpeak</th><td> 0.21001 </td><td> 0.09609 </td><td>-0.14923 </td><td> 0.19322 </td><td> 0.053952</td><td> 0.005747</td><td>-0.05877 </td><td>-0.344187</td><td> 0.28822 </td><td> 1.000000</td><td>-0.577537</td><td> 0.22268 </td><td> 0.21024 </td><td>-0.43070 </td></tr>\n",
       "\t<tr><th scope=row>slope</th><td>-0.16881 </td><td>-0.03071 </td><td> 0.11972 </td><td>-0.12147 </td><td>-0.004038</td><td>-0.059894</td><td> 0.09304 </td><td> 0.386784</td><td>-0.25775 </td><td>-0.577537</td><td> 1.000000</td><td>-0.08016 </td><td>-0.10476 </td><td> 0.34588 </td></tr>\n",
       "\t<tr><th scope=row>ca</th><td> 0.27633 </td><td> 0.11826 </td><td>-0.18105 </td><td> 0.10139 </td><td> 0.070511</td><td> 0.137979</td><td>-0.07204 </td><td>-0.213177</td><td> 0.11574 </td><td> 0.222682</td><td>-0.080155</td><td> 1.00000 </td><td> 0.15183 </td><td>-0.39172 </td></tr>\n",
       "\t<tr><th scope=row>thal</th><td> 0.06800 </td><td> 0.21004 </td><td>-0.16174 </td><td> 0.06221 </td><td> 0.098803</td><td>-0.032019</td><td>-0.01198 </td><td>-0.096439</td><td> 0.20675 </td><td> 0.210244</td><td>-0.104764</td><td> 0.15183 </td><td> 1.00000 </td><td>-0.34403 </td></tr>\n",
       "\t<tr><th scope=row>target</th><td>-0.22544 </td><td>-0.28094 </td><td> 0.43380 </td><td>-0.14493 </td><td>-0.085239</td><td>-0.028046</td><td> 0.13723 </td><td> 0.421741</td><td>-0.43676 </td><td>-0.430696</td><td> 0.345877</td><td>-0.39172 </td><td>-0.34403 </td><td> 1.00000 </td></tr>\n",
       "</tbody>\n",
       "</table>\n"
      ],
      "text/latex": [
       "\\begin{tabular}{r|llllllllllllll}\n",
       "  & age & sex & cp & trestbps & chol & fbs & restecg & thalach & exang & oldpeak & slope & ca & thal & target\\\\\n",
       "\\hline\n",
       "\tage &  1.00000  & -0.09845  & -0.06865  &  0.27935  &  0.213678 &  0.121308 & -0.11621  & -0.398522 &  0.09680  &  0.210013 & -0.168814 &  0.27633  &  0.06800  & -0.22544 \\\\\n",
       "\tsex & -0.09845  &  1.00000  & -0.04935  & -0.05677  & -0.197912 &  0.045032 & -0.05820  & -0.044020 &  0.14166  &  0.096093 & -0.030711 &  0.11826  &  0.21004  & -0.28094 \\\\\n",
       "\tcp & -0.06865  & -0.04935  &  1.00000  &  0.04761  & -0.076904 &  0.094444 &  0.04442  &  0.295762 & -0.39428  & -0.149230 &  0.119717 & -0.18105  & -0.16174  &  0.43380 \\\\\n",
       "\ttrestbps &  0.27935  & -0.05677  &  0.04761  &  1.00000  &  0.123174 &  0.177531 & -0.11410  & -0.046698 &  0.06762  &  0.193216 & -0.121475 &  0.10139  &  0.06221  & -0.14493 \\\\\n",
       "\tchol &  0.21368  & -0.19791  & -0.07690  &  0.12317  &  1.000000 &  0.013294 & -0.15104  & -0.009940 &  0.06702  &  0.053952 & -0.004038 &  0.07051  &  0.09880  & -0.08524 \\\\\n",
       "\tfbs &  0.12131  &  0.04503  &  0.09444  &  0.17753  &  0.013294 &  1.000000 & -0.08419  & -0.008567 &  0.02567  &  0.005747 & -0.059894 &  0.13798  & -0.03202  & -0.02805 \\\\\n",
       "\trestecg & -0.11621  & -0.05820  &  0.04442  & -0.11410  & -0.151040 & -0.084189 &  1.00000  &  0.044123 & -0.07073  & -0.058770 &  0.093045 & -0.07204  & -0.01198  &  0.13723 \\\\\n",
       "\tthalach & -0.39852  & -0.04402  &  0.29576  & -0.04670  & -0.009940 & -0.008567 &  0.04412  &  1.000000 & -0.37881  & -0.344187 &  0.386784 & -0.21318  & -0.09644  &  0.42174 \\\\\n",
       "\texang &  0.09680  &  0.14166  & -0.39428  &  0.06762  &  0.067023 &  0.025665 & -0.07073  & -0.378812 &  1.00000  &  0.288223 & -0.257748 &  0.11574  &  0.20675  & -0.43676 \\\\\n",
       "\toldpeak &  0.21001  &  0.09609  & -0.14923  &  0.19322  &  0.053952 &  0.005747 & -0.05877  & -0.344187 &  0.28822  &  1.000000 & -0.577537 &  0.22268  &  0.21024  & -0.43070 \\\\\n",
       "\tslope & -0.16881  & -0.03071  &  0.11972  & -0.12147  & -0.004038 & -0.059894 &  0.09304  &  0.386784 & -0.25775  & -0.577537 &  1.000000 & -0.08016  & -0.10476  &  0.34588 \\\\\n",
       "\tca &  0.27633  &  0.11826  & -0.18105  &  0.10139  &  0.070511 &  0.137979 & -0.07204  & -0.213177 &  0.11574  &  0.222682 & -0.080155 &  1.00000  &  0.15183  & -0.39172 \\\\\n",
       "\tthal &  0.06800  &  0.21004  & -0.16174  &  0.06221  &  0.098803 & -0.032019 & -0.01198  & -0.096439 &  0.20675  &  0.210244 & -0.104764 &  0.15183  &  1.00000  & -0.34403 \\\\\n",
       "\ttarget & -0.22544  & -0.28094  &  0.43380  & -0.14493  & -0.085239 & -0.028046 &  0.13723  &  0.421741 & -0.43676  & -0.430696 &  0.345877 & -0.39172  & -0.34403  &  1.00000 \\\\\n",
       "\\end{tabular}\n"
      ],
      "text/markdown": [
       "\n",
       "| <!--/--> | age | sex | cp | trestbps | chol | fbs | restecg | thalach | exang | oldpeak | slope | ca | thal | target | \n",
       "|---|---|---|---|---|---|---|---|---|---|---|---|---|---|\n",
       "| age |  1.00000  | -0.09845  | -0.06865  |  0.27935  |  0.213678 |  0.121308 | -0.11621  | -0.398522 |  0.09680  |  0.210013 | -0.168814 |  0.27633  |  0.06800  | -0.22544  | \n",
       "| sex | -0.09845  |  1.00000  | -0.04935  | -0.05677  | -0.197912 |  0.045032 | -0.05820  | -0.044020 |  0.14166  |  0.096093 | -0.030711 |  0.11826  |  0.21004  | -0.28094  | \n",
       "| cp | -0.06865  | -0.04935  |  1.00000  |  0.04761  | -0.076904 |  0.094444 |  0.04442  |  0.295762 | -0.39428  | -0.149230 |  0.119717 | -0.18105  | -0.16174  |  0.43380  | \n",
       "| trestbps |  0.27935  | -0.05677  |  0.04761  |  1.00000  |  0.123174 |  0.177531 | -0.11410  | -0.046698 |  0.06762  |  0.193216 | -0.121475 |  0.10139  |  0.06221  | -0.14493  | \n",
       "| chol |  0.21368  | -0.19791  | -0.07690  |  0.12317  |  1.000000 |  0.013294 | -0.15104  | -0.009940 |  0.06702  |  0.053952 | -0.004038 |  0.07051  |  0.09880  | -0.08524  | \n",
       "| fbs |  0.12131  |  0.04503  |  0.09444  |  0.17753  |  0.013294 |  1.000000 | -0.08419  | -0.008567 |  0.02567  |  0.005747 | -0.059894 |  0.13798  | -0.03202  | -0.02805  | \n",
       "| restecg | -0.11621  | -0.05820  |  0.04442  | -0.11410  | -0.151040 | -0.084189 |  1.00000  |  0.044123 | -0.07073  | -0.058770 |  0.093045 | -0.07204  | -0.01198  |  0.13723  | \n",
       "| thalach | -0.39852  | -0.04402  |  0.29576  | -0.04670  | -0.009940 | -0.008567 |  0.04412  |  1.000000 | -0.37881  | -0.344187 |  0.386784 | -0.21318  | -0.09644  |  0.42174  | \n",
       "| exang |  0.09680  |  0.14166  | -0.39428  |  0.06762  |  0.067023 |  0.025665 | -0.07073  | -0.378812 |  1.00000  |  0.288223 | -0.257748 |  0.11574  |  0.20675  | -0.43676  | \n",
       "| oldpeak |  0.21001  |  0.09609  | -0.14923  |  0.19322  |  0.053952 |  0.005747 | -0.05877  | -0.344187 |  0.28822  |  1.000000 | -0.577537 |  0.22268  |  0.21024  | -0.43070  | \n",
       "| slope | -0.16881  | -0.03071  |  0.11972  | -0.12147  | -0.004038 | -0.059894 |  0.09304  |  0.386784 | -0.25775  | -0.577537 |  1.000000 | -0.08016  | -0.10476  |  0.34588  | \n",
       "| ca |  0.27633  |  0.11826  | -0.18105  |  0.10139  |  0.070511 |  0.137979 | -0.07204  | -0.213177 |  0.11574  |  0.222682 | -0.080155 |  1.00000  |  0.15183  | -0.39172  | \n",
       "| thal |  0.06800  |  0.21004  | -0.16174  |  0.06221  |  0.098803 | -0.032019 | -0.01198  | -0.096439 |  0.20675  |  0.210244 | -0.104764 |  0.15183  |  1.00000  | -0.34403  | \n",
       "| target | -0.22544  | -0.28094  |  0.43380  | -0.14493  | -0.085239 | -0.028046 |  0.13723  |  0.421741 | -0.43676  | -0.430696 |  0.345877 | -0.39172  | -0.34403  |  1.00000  | \n",
       "\n",
       "\n"
      ],
      "text/plain": [
       "         age      sex      cp       trestbps chol      fbs       restecg \n",
       "age       1.00000 -0.09845 -0.06865  0.27935  0.213678  0.121308 -0.11621\n",
       "sex      -0.09845  1.00000 -0.04935 -0.05677 -0.197912  0.045032 -0.05820\n",
       "cp       -0.06865 -0.04935  1.00000  0.04761 -0.076904  0.094444  0.04442\n",
       "trestbps  0.27935 -0.05677  0.04761  1.00000  0.123174  0.177531 -0.11410\n",
       "chol      0.21368 -0.19791 -0.07690  0.12317  1.000000  0.013294 -0.15104\n",
       "fbs       0.12131  0.04503  0.09444  0.17753  0.013294  1.000000 -0.08419\n",
       "restecg  -0.11621 -0.05820  0.04442 -0.11410 -0.151040 -0.084189  1.00000\n",
       "thalach  -0.39852 -0.04402  0.29576 -0.04670 -0.009940 -0.008567  0.04412\n",
       "exang     0.09680  0.14166 -0.39428  0.06762  0.067023  0.025665 -0.07073\n",
       "oldpeak   0.21001  0.09609 -0.14923  0.19322  0.053952  0.005747 -0.05877\n",
       "slope    -0.16881 -0.03071  0.11972 -0.12147 -0.004038 -0.059894  0.09304\n",
       "ca        0.27633  0.11826 -0.18105  0.10139  0.070511  0.137979 -0.07204\n",
       "thal      0.06800  0.21004 -0.16174  0.06221  0.098803 -0.032019 -0.01198\n",
       "target   -0.22544 -0.28094  0.43380 -0.14493 -0.085239 -0.028046  0.13723\n",
       "         thalach   exang    oldpeak   slope     ca       thal     target  \n",
       "age      -0.398522  0.09680  0.210013 -0.168814  0.27633  0.06800 -0.22544\n",
       "sex      -0.044020  0.14166  0.096093 -0.030711  0.11826  0.21004 -0.28094\n",
       "cp        0.295762 -0.39428 -0.149230  0.119717 -0.18105 -0.16174  0.43380\n",
       "trestbps -0.046698  0.06762  0.193216 -0.121475  0.10139  0.06221 -0.14493\n",
       "chol     -0.009940  0.06702  0.053952 -0.004038  0.07051  0.09880 -0.08524\n",
       "fbs      -0.008567  0.02567  0.005747 -0.059894  0.13798 -0.03202 -0.02805\n",
       "restecg   0.044123 -0.07073 -0.058770  0.093045 -0.07204 -0.01198  0.13723\n",
       "thalach   1.000000 -0.37881 -0.344187  0.386784 -0.21318 -0.09644  0.42174\n",
       "exang    -0.378812  1.00000  0.288223 -0.257748  0.11574  0.20675 -0.43676\n",
       "oldpeak  -0.344187  0.28822  1.000000 -0.577537  0.22268  0.21024 -0.43070\n",
       "slope     0.386784 -0.25775 -0.577537  1.000000 -0.08016 -0.10476  0.34588\n",
       "ca       -0.213177  0.11574  0.222682 -0.080155  1.00000  0.15183 -0.39172\n",
       "thal     -0.096439  0.20675  0.210244 -0.104764  0.15183  1.00000 -0.34403\n",
       "target    0.421741 -0.43676 -0.430696  0.345877 -0.39172 -0.34403  1.00000"
      ]
     },
     "metadata": {},
     "output_type": "display_data"
    }
   ],
   "source": [
    "cor(df)"
   ]
  },
  {
   "cell_type": "code",
   "execution_count": 70,
   "metadata": {},
   "outputs": [
    {
     "data": {
      "image/png": "[encoded data removed]",
      "text/plain": [
       "plot without title"
      ]
     },
     "metadata": {},
     "output_type": "display_data"
    }
   ],
   "source": [
    "image(cor(df))"
   ]
  }
 ],
 "metadata": {
  "kernelspec": {
   "display_name": "R",
   "language": "R",
   "name": "ir"
  },
  "language_info": {
   "codemirror_mode": "r",
   "file_extension": ".r",
   "mimetype": "text/x-r-source",
   "name": "R",
   "pygments_lexer": "r",
   "version": "3.5.0"
  }
 },
 "nbformat": 4,
 "nbformat_minor": 2
}
