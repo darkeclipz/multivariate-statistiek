{
 "cells": [
  {
   "cell_type": "code",
   "execution_count": 1,
   "metadata": {},
   "outputs": [],
   "source": [
    "options(digits=5)"
   ]
  },
  {
   "cell_type": "markdown",
   "metadata": {},
   "source": [
    "# Heart Disease Dataset\n",
    "\n",
    "Rosa de Haan (haan1700@student.nhl.nl), Lars Rotgers (rotg1700@student.nhl.nl), Toegepaste Wiskunde, 25 maart 2019."
   ]
  },
  {
   "cell_type": "markdown",
   "metadata": {},
   "source": [
    "# Opdracht\n",
    "\n",
    "Voor de eerste opdracht voor multivariate statistiek zijn er de volgende producteisen:\n",
    "\n",
    " 1. Visuele inspectie met plots.\n",
    " 2. Correlatiematrix en onderzoek collineariteit.\n",
    " 3. Bepaal regressievergelijkingen gebaseerd op alle verklarende variabelen.\n",
    " 4. Mogelijke uitkomsten berekenen en controleren.\n",
    " 5. Bepaal de verklaarde/onverklaarde en de totale variantie.\n",
    " 6. Bepaal de determinatiecoefficient $R^2$.\n",
    " 7. Bepaal het best passende model met één variabele.\n",
    " 8. Controleer de uitkomst van de regressielijn.\n",
    " 9. Bepaal het best passende model met twee variabelen.\n",
    " 10. Controleer de uitkomst van de regressielijn.\n",
    " 11. Bepaal of het zinvol is om meer variabelen toe te voegen aan het model.\n",
    " 12. Bepaal de regressielijn met de relevante variabelen.\n",
    "\n",
    "Voor de opdracht maken we gebruik van de _heart disease dataset_. Deze dataset is verkregen via de onderstaande link:\n",
    "\n",
    " * https://www.kaggle.com/ronitf/heart-disease-uci\n",
    " \n",
    "Oorspronkelijk is het de bedoeling voor deze dataset dat, met behulp van machine learning een model wordt opgesteld, om vast te stellen of een patiënt hartziekten heeft. Dit wordt aangegeven in de kolom `target`."
   ]
  },
  {
   "cell_type": "markdown",
   "metadata": {},
   "source": [
    "# Gegevens inladen"
   ]
  },
  {
   "cell_type": "code",
   "execution_count": 2,
   "metadata": {},
   "outputs": [
    {
     "data": {
      "text/html": [
       "<table>\n",
       "<thead><tr><th scope=col>age</th><th scope=col>sex</th><th scope=col>cp</th><th scope=col>trestbps</th><th scope=col>chol</th><th scope=col>fbs</th><th scope=col>restecg</th><th scope=col>thalach</th><th scope=col>exang</th><th scope=col>oldpeak</th><th scope=col>slope</th><th scope=col>ca</th><th scope=col>thal</th><th scope=col>target</th></tr></thead>\n",
       "<tbody>\n",
       "\t<tr><td>63 </td><td>1  </td><td>3  </td><td>145</td><td>233</td><td>1  </td><td>0  </td><td>150</td><td>0  </td><td>2.3</td><td>0  </td><td>0  </td><td>1  </td><td>1  </td></tr>\n",
       "\t<tr><td>37 </td><td>1  </td><td>2  </td><td>130</td><td>250</td><td>0  </td><td>1  </td><td>187</td><td>0  </td><td>3.5</td><td>0  </td><td>0  </td><td>2  </td><td>1  </td></tr>\n",
       "\t<tr><td>41 </td><td>0  </td><td>1  </td><td>130</td><td>204</td><td>0  </td><td>0  </td><td>172</td><td>0  </td><td>1.4</td><td>2  </td><td>0  </td><td>2  </td><td>1  </td></tr>\n",
       "\t<tr><td>56 </td><td>1  </td><td>1  </td><td>120</td><td>236</td><td>0  </td><td>1  </td><td>178</td><td>0  </td><td>0.8</td><td>2  </td><td>0  </td><td>2  </td><td>1  </td></tr>\n",
       "\t<tr><td>57 </td><td>0  </td><td>0  </td><td>120</td><td>354</td><td>0  </td><td>1  </td><td>163</td><td>1  </td><td>0.6</td><td>2  </td><td>0  </td><td>2  </td><td>1  </td></tr>\n",
       "\t<tr><td>57 </td><td>1  </td><td>0  </td><td>140</td><td>192</td><td>0  </td><td>1  </td><td>148</td><td>0  </td><td>0.4</td><td>1  </td><td>0  </td><td>1  </td><td>1  </td></tr>\n",
       "</tbody>\n",
       "</table>\n"
      ],
      "text/latex": [
       "\\begin{tabular}{r|llllllllllllll}\n",
       " age & sex & cp & trestbps & chol & fbs & restecg & thalach & exang & oldpeak & slope & ca & thal & target\\\\\n",
       "\\hline\n",
       "\t 63  & 1   & 3   & 145 & 233 & 1   & 0   & 150 & 0   & 2.3 & 0   & 0   & 1   & 1  \\\\\n",
       "\t 37  & 1   & 2   & 130 & 250 & 0   & 1   & 187 & 0   & 3.5 & 0   & 0   & 2   & 1  \\\\\n",
       "\t 41  & 0   & 1   & 130 & 204 & 0   & 0   & 172 & 0   & 1.4 & 2   & 0   & 2   & 1  \\\\\n",
       "\t 56  & 1   & 1   & 120 & 236 & 0   & 1   & 178 & 0   & 0.8 & 2   & 0   & 2   & 1  \\\\\n",
       "\t 57  & 0   & 0   & 120 & 354 & 0   & 1   & 163 & 1   & 0.6 & 2   & 0   & 2   & 1  \\\\\n",
       "\t 57  & 1   & 0   & 140 & 192 & 0   & 1   & 148 & 0   & 0.4 & 1   & 0   & 1   & 1  \\\\\n",
       "\\end{tabular}\n"
      ],
      "text/markdown": [
       "\n",
       "age | sex | cp | trestbps | chol | fbs | restecg | thalach | exang | oldpeak | slope | ca | thal | target | \n",
       "|---|---|---|---|---|---|\n",
       "| 63  | 1   | 3   | 145 | 233 | 1   | 0   | 150 | 0   | 2.3 | 0   | 0   | 1   | 1   | \n",
       "| 37  | 1   | 2   | 130 | 250 | 0   | 1   | 187 | 0   | 3.5 | 0   | 0   | 2   | 1   | \n",
       "| 41  | 0   | 1   | 130 | 204 | 0   | 0   | 172 | 0   | 1.4 | 2   | 0   | 2   | 1   | \n",
       "| 56  | 1   | 1   | 120 | 236 | 0   | 1   | 178 | 0   | 0.8 | 2   | 0   | 2   | 1   | \n",
       "| 57  | 0   | 0   | 120 | 354 | 0   | 1   | 163 | 1   | 0.6 | 2   | 0   | 2   | 1   | \n",
       "| 57  | 1   | 0   | 140 | 192 | 0   | 1   | 148 | 0   | 0.4 | 1   | 0   | 1   | 1   | \n",
       "\n",
       "\n"
      ],
      "text/plain": [
       "  age sex cp trestbps chol fbs restecg thalach exang oldpeak slope ca thal\n",
       "1 63  1   3  145      233  1   0       150     0     2.3     0     0  1   \n",
       "2 37  1   2  130      250  0   1       187     0     3.5     0     0  2   \n",
       "3 41  0   1  130      204  0   0       172     0     1.4     2     0  2   \n",
       "4 56  1   1  120      236  0   1       178     0     0.8     2     0  2   \n",
       "5 57  0   0  120      354  0   1       163     1     0.6     2     0  2   \n",
       "6 57  1   0  140      192  0   1       148     0     0.4     1     0  1   \n",
       "  target\n",
       "1 1     \n",
       "2 1     \n",
       "3 1     \n",
       "4 1     \n",
       "5 1     \n",
       "6 1     "
      ]
     },
     "metadata": {},
     "output_type": "display_data"
    },
    {
     "name": "stdout",
     "output_type": "stream",
     "text": [
      "[1] \"Er zijn 303 rijen, en 14  kolommen.\"\n"
     ]
    }
   ],
   "source": [
    "df = read.csv('heart.csv')\n",
    "\n",
    "# kolomnaam herstellen; er staat '`..age'\n",
    "names = colnames(df); \n",
    "names[1] = 'age' \n",
    "colnames(df) = names\n",
    "\n",
    "head(df)\n",
    "print(paste('Er zijn', nrow(df), 'rijen, en', length(df), ' kolommen.'))"
   ]
  },
  {
   "cell_type": "markdown",
   "metadata": {},
   "source": [
    "# Beschrijving van de kolommen"
   ]
  },
  {
   "cell_type": "markdown",
   "metadata": {},
   "source": [
    "In de dataset zitten de volgende kolommen:\n",
    "\n",
    "1. `age`: leeftijd. (Ratio)\n",
    "2. `sex`: geslacht. (Nominaal)\n",
    "3. `cp`: chest pain type (4 values). (Nominaal)\n",
    "4. `trestbps`: resting blood pressure. (Ratio)\n",
    "5. `chol`: serum cholestoral in mg/dl. (Ratio)\n",
    "6. `fbs`: fasting blood sugar > 120 mg/dl. (Nominaal)\n",
    "7. `restecg`: resting electrocardiographic results (values 0, 1, 2). (Nominaal)\n",
    "8. `thalanch`: maximum heartrate achieved. (Ratio)\n",
    "9. `exang`: exercise induced angina. (Nominaal)\n",
    "10. `oldpeak`: ST depression induced by exercise relative to test. (Ratio)\n",
    "11. `slope`: the slope of the peak exercise ST segment. (Nominaal)\n",
    "12. `ca`: number of major vessels (0-3) color by flourosopy. (Ordinaal)\n",
    "13. `thal`: 3 = normal, 6 = fixed defect, 7 = reversable defect. (Nominaal)\n",
    "14. `target`: indicated if someone has heart disease, 0 = false, 1 = true. (Nominaal)"
   ]
  },
  {
   "cell_type": "markdown",
   "metadata": {},
   "source": [
    "# Beschrijvende statistiek"
   ]
  },
  {
   "cell_type": "markdown",
   "metadata": {},
   "source": [
    "Om een eerste indruk te krijgen van de gegevens in de dataset bepalen we met `summary` enkele algemene gegevens:"
   ]
  },
  {
   "cell_type": "code",
   "execution_count": 3,
   "metadata": {
    "scrolled": false
   },
   "outputs": [
    {
     "data": {
      "text/plain": [
       "      age            sex              cp           trestbps        chol    \n",
       " Min.   :29.0   Min.   :0.000   Min.   :0.000   Min.   : 94   Min.   :126  \n",
       " 1st Qu.:47.5   1st Qu.:0.000   1st Qu.:0.000   1st Qu.:120   1st Qu.:211  \n",
       " Median :55.0   Median :1.000   Median :1.000   Median :130   Median :240  \n",
       " Mean   :54.4   Mean   :0.683   Mean   :0.967   Mean   :132   Mean   :246  \n",
       " 3rd Qu.:61.0   3rd Qu.:1.000   3rd Qu.:2.000   3rd Qu.:140   3rd Qu.:274  \n",
       " Max.   :77.0   Max.   :1.000   Max.   :3.000   Max.   :200   Max.   :564  \n",
       "      fbs           restecg         thalach        exang          oldpeak    \n",
       " Min.   :0.000   Min.   :0.000   Min.   : 71   Min.   :0.000   Min.   :0.00  \n",
       " 1st Qu.:0.000   1st Qu.:0.000   1st Qu.:134   1st Qu.:0.000   1st Qu.:0.00  \n",
       " Median :0.000   Median :1.000   Median :153   Median :0.000   Median :0.80  \n",
       " Mean   :0.149   Mean   :0.528   Mean   :150   Mean   :0.327   Mean   :1.04  \n",
       " 3rd Qu.:0.000   3rd Qu.:1.000   3rd Qu.:166   3rd Qu.:1.000   3rd Qu.:1.60  \n",
       " Max.   :1.000   Max.   :2.000   Max.   :202   Max.   :1.000   Max.   :6.20  \n",
       "     slope           ca             thal          target     \n",
       " Min.   :0.0   Min.   :0.000   Min.   :0.00   Min.   :0.000  \n",
       " 1st Qu.:1.0   1st Qu.:0.000   1st Qu.:2.00   1st Qu.:0.000  \n",
       " Median :1.0   Median :0.000   Median :2.00   Median :1.000  \n",
       " Mean   :1.4   Mean   :0.729   Mean   :2.31   Mean   :0.545  \n",
       " 3rd Qu.:2.0   3rd Qu.:1.000   3rd Qu.:3.00   3rd Qu.:1.000  \n",
       " Max.   :2.0   Max.   :4.000   Max.   :3.00   Max.   :1.000  "
      ]
     },
     "metadata": {},
     "output_type": "display_data"
    }
   ],
   "source": [
    "summary(df)"
   ]
  },
  {
   "cell_type": "markdown",
   "metadata": {},
   "source": [
    "## Staafdiagrammen voor nominale/ordinale variabelen"
   ]
  },
  {
   "cell_type": "markdown",
   "metadata": {},
   "source": [
    "Om een idee te krijgen hoe de data is verdeeld binnen de verschillende variabelen worden er staafdiagrammen opgesteld voor de nominale/ordinale variabelen"
   ]
  },
  {
   "cell_type": "code",
   "execution_count": 4,
   "metadata": {},
   "outputs": [
    {
     "data": {
      "image/png": "[encoded data removed]",
      "text/plain": [
       "Plot with title \"df$targer\""
      ]
     },
     "metadata": {},
     "output_type": "display_data"
    }
   ],
   "source": [
    "par(mfrow=c(3,3))\n",
    "barplot(table(df$sex), main=\"df$sex\")\n",
    "barplot(table(df$cp), main=\"df$cp\")\n",
    "barplot(table(df$fbs), main=\"df$fbs\")\n",
    "barplot(table(df$restecg), main=\"df$restecg\")\n",
    "barplot(table(df$exang), main=\"df$exang\")\n",
    "barplot(table(df$slope), main=\"df$slope\")\n",
    "barplot(table(df$ca), main=\"df$ca\")\n",
    "barplot(table(df$thal), main=\"df$thal\")\n",
    "barplot(table(df$target), main=\"df$targer\")"
   ]
  },
  {
   "cell_type": "markdown",
   "metadata": {},
   "source": [
    "## Histogrammen voor ratio variabelen"
   ]
  },
  {
   "cell_type": "markdown",
   "metadata": {},
   "source": [
    "Hetzelfde voor de variabelen met het meetniveau ratio, maar dan met histogrammen."
   ]
  },
  {
   "cell_type": "code",
   "execution_count": 5,
   "metadata": {},
   "outputs": [
    {
     "data": {
      "image/png": "[encoded data removed]",
      "text/plain": [
       "Plot with title \"Histogram of df$oldpeak\""
      ]
     },
     "metadata": {},
     "output_type": "display_data"
    }
   ],
   "source": [
    "par(mfrow=c(3, 2))\n",
    "hist(df$age)\n",
    "hist(df$trestbps)\n",
    "hist(df$chol)\n",
    "hist(df$thalach)\n",
    "hist(df$oldpeak)"
   ]
  },
  {
   "cell_type": "markdown",
   "metadata": {},
   "source": [
    "# Correlatieplots"
   ]
  },
  {
   "cell_type": "markdown",
   "metadata": {},
   "source": [
    "Om de correlatie tussen de variabelen te analyseren is een correlatieplot handig. Het volgende figuur is een plot van alle variabelen waarvan het meetniveau ratio is."
   ]
  },
  {
   "cell_type": "code",
   "execution_count": 6,
   "metadata": {},
   "outputs": [
    {
     "data": {
      "image/png": "[encoded data removed]",
      "text/plain": [
       "plot without title"
      ]
     },
     "metadata": {},
     "output_type": "display_data"
    }
   ],
   "source": [
    "plot(data.frame(df$age, df$trestbps, df$chol, df$thalach, df$oldpeak))"
   ]
  },
  {
   "cell_type": "markdown",
   "metadata": {},
   "source": [
    "Kijkende naar de resultaten, is te zien dat de correlaties vrij zwak zijn. Voor de exacte correlatiecoefficienten kijken we naar de correlatiematrix voor de ratio variabelen:"
   ]
  },
  {
   "cell_type": "code",
   "execution_count": 7,
   "metadata": {
    "scrolled": true
   },
   "outputs": [
    {
     "data": {
      "text/html": [
       "<table>\n",
       "<thead><tr><th></th><th scope=col>df.age</th><th scope=col>df.trestbps</th><th scope=col>df.chol</th><th scope=col>df.thalach</th><th scope=col>df.oldpeak</th></tr></thead>\n",
       "<tbody>\n",
       "\t<tr><th scope=row>df.age</th><td> 1.00000  </td><td> 0.279351 </td><td> 0.2136780</td><td>-0.3985219</td><td> 0.210013 </td></tr>\n",
       "\t<tr><th scope=row>df.trestbps</th><td> 0.27935  </td><td> 1.000000 </td><td> 0.1231742</td><td>-0.0466977</td><td> 0.193216 </td></tr>\n",
       "\t<tr><th scope=row>df.chol</th><td> 0.21368  </td><td> 0.123174 </td><td> 1.0000000</td><td>-0.0099398</td><td> 0.053952 </td></tr>\n",
       "\t<tr><th scope=row>df.thalach</th><td>-0.39852  </td><td>-0.046698 </td><td>-0.0099398</td><td> 1.0000000</td><td>-0.344187 </td></tr>\n",
       "\t<tr><th scope=row>df.oldpeak</th><td> 0.21001  </td><td> 0.193216 </td><td> 0.0539519</td><td>-0.3441869</td><td> 1.000000 </td></tr>\n",
       "</tbody>\n",
       "</table>\n"
      ],
      "text/latex": [
       "\\begin{tabular}{r|lllll}\n",
       "  & df.age & df.trestbps & df.chol & df.thalach & df.oldpeak\\\\\n",
       "\\hline\n",
       "\tdf.age &  1.00000   &  0.279351  &  0.2136780 & -0.3985219 &  0.210013 \\\\\n",
       "\tdf.trestbps &  0.27935   &  1.000000  &  0.1231742 & -0.0466977 &  0.193216 \\\\\n",
       "\tdf.chol &  0.21368   &  0.123174  &  1.0000000 & -0.0099398 &  0.053952 \\\\\n",
       "\tdf.thalach & -0.39852   & -0.046698  & -0.0099398 &  1.0000000 & -0.344187 \\\\\n",
       "\tdf.oldpeak &  0.21001   &  0.193216  &  0.0539519 & -0.3441869 &  1.000000 \\\\\n",
       "\\end{tabular}\n"
      ],
      "text/markdown": [
       "\n",
       "| <!--/--> | df.age | df.trestbps | df.chol | df.thalach | df.oldpeak | \n",
       "|---|---|---|---|---|\n",
       "| df.age |  1.00000   |  0.279351  |  0.2136780 | -0.3985219 |  0.210013  | \n",
       "| df.trestbps |  0.27935   |  1.000000  |  0.1231742 | -0.0466977 |  0.193216  | \n",
       "| df.chol |  0.21368   |  0.123174  |  1.0000000 | -0.0099398 |  0.053952  | \n",
       "| df.thalach | -0.39852   | -0.046698  | -0.0099398 |  1.0000000 | -0.344187  | \n",
       "| df.oldpeak |  0.21001   |  0.193216  |  0.0539519 | -0.3441869 |  1.000000  | \n",
       "\n",
       "\n"
      ],
      "text/plain": [
       "            df.age   df.trestbps df.chol    df.thalach df.oldpeak\n",
       "df.age       1.00000  0.279351    0.2136780 -0.3985219  0.210013 \n",
       "df.trestbps  0.27935  1.000000    0.1231742 -0.0466977  0.193216 \n",
       "df.chol      0.21368  0.123174    1.0000000 -0.0099398  0.053952 \n",
       "df.thalach  -0.39852 -0.046698   -0.0099398  1.0000000 -0.344187 \n",
       "df.oldpeak   0.21001  0.193216    0.0539519 -0.3441869  1.000000 "
      ]
     },
     "metadata": {},
     "output_type": "display_data"
    }
   ],
   "source": [
    "cor(data.frame(df$age, df$trestbps, df$chol, df$thalach, df$oldpeak))"
   ]
  },
  {
   "cell_type": "markdown",
   "metadata": {},
   "source": [
    "De correlatie die er het meeste uitspringt is dat de leeftijd een negatief effect, namelijk `-0.3985`, heeft op de maximaal te behalen hartslag. "
   ]
  },
  {
   "cell_type": "markdown",
   "metadata": {},
   "source": [
    "# Correlatiematrix en collineariteit"
   ]
  },
  {
   "cell_type": "markdown",
   "metadata": {},
   "source": [
    "Om uit te zoeken wat de samenhang tussen de variabelen is, is het handig om naar de correlatiematrix te kijken."
   ]
  },
  {
   "cell_type": "code",
   "execution_count": 8,
   "metadata": {
    "scrolled": false
   },
   "outputs": [
    {
     "data": {
      "text/html": [
       "<table>\n",
       "<thead><tr><th></th><th scope=col>age</th><th scope=col>sex</th><th scope=col>cp</th><th scope=col>trestbps</th><th scope=col>chol</th><th scope=col>fbs</th><th scope=col>restecg</th><th scope=col>thalach</th><th scope=col>exang</th><th scope=col>oldpeak</th><th scope=col>slope</th><th scope=col>ca</th><th scope=col>thal</th><th scope=col>target</th></tr></thead>\n",
       "<tbody>\n",
       "\t<tr><th scope=row>age</th><td> 1.000000 </td><td>-0.098447 </td><td>-0.068653 </td><td> 0.279351 </td><td> 0.2136780</td><td> 0.1213076</td><td>-0.116211 </td><td>-0.3985219</td><td> 0.096801 </td><td> 0.2100126</td><td>-0.1688142</td><td> 0.276326 </td><td> 0.068001 </td><td>-0.225439 </td></tr>\n",
       "\t<tr><th scope=row>sex</th><td>-0.098447 </td><td> 1.000000 </td><td>-0.049353 </td><td>-0.056769 </td><td>-0.1979122</td><td> 0.0450318</td><td>-0.058196 </td><td>-0.0440199</td><td> 0.141664 </td><td> 0.0960929</td><td>-0.0307106</td><td> 0.118261 </td><td> 0.210041 </td><td>-0.280937 </td></tr>\n",
       "\t<tr><th scope=row>cp</th><td>-0.068653 </td><td>-0.049353 </td><td> 1.000000 </td><td> 0.047608 </td><td>-0.0769044</td><td> 0.0944440</td><td> 0.044421 </td><td> 0.2957621</td><td>-0.394280 </td><td>-0.1492302</td><td> 0.1197166</td><td>-0.181053 </td><td>-0.161736 </td><td> 0.433798 </td></tr>\n",
       "\t<tr><th scope=row>trestbps</th><td> 0.279351 </td><td>-0.056769 </td><td> 0.047608 </td><td> 1.000000 </td><td> 0.1231742</td><td> 0.1775305</td><td>-0.114103 </td><td>-0.0466977</td><td> 0.067616 </td><td> 0.1932165</td><td>-0.1214746</td><td> 0.101389 </td><td> 0.062210 </td><td>-0.144931 </td></tr>\n",
       "\t<tr><th scope=row>chol</th><td> 0.213678 </td><td>-0.197912 </td><td>-0.076904 </td><td> 0.123174 </td><td> 1.0000000</td><td> 0.0132936</td><td>-0.151040 </td><td>-0.0099398</td><td> 0.067023 </td><td> 0.0539519</td><td>-0.0040378</td><td> 0.070511 </td><td> 0.098803 </td><td>-0.085239 </td></tr>\n",
       "\t<tr><th scope=row>fbs</th><td> 0.121308 </td><td> 0.045032 </td><td> 0.094444 </td><td> 0.177531 </td><td> 0.0132936</td><td> 1.0000000</td><td>-0.084189 </td><td>-0.0085671</td><td> 0.025665 </td><td> 0.0057472</td><td>-0.0598942</td><td> 0.137979 </td><td>-0.032019 </td><td>-0.028046 </td></tr>\n",
       "\t<tr><th scope=row>restecg</th><td>-0.116211 </td><td>-0.058196 </td><td> 0.044421 </td><td>-0.114103 </td><td>-0.1510401</td><td>-0.0841891</td><td> 1.000000 </td><td> 0.0441234</td><td>-0.070733 </td><td>-0.0587702</td><td> 0.0930448</td><td>-0.072042 </td><td>-0.011981 </td><td> 0.137230 </td></tr>\n",
       "\t<tr><th scope=row>thalach</th><td>-0.398522 </td><td>-0.044020 </td><td> 0.295762 </td><td>-0.046698 </td><td>-0.0099398</td><td>-0.0085671</td><td> 0.044123 </td><td> 1.0000000</td><td>-0.378812 </td><td>-0.3441869</td><td> 0.3867844</td><td>-0.213177 </td><td>-0.096439 </td><td> 0.421741 </td></tr>\n",
       "\t<tr><th scope=row>exang</th><td> 0.096801 </td><td> 0.141664 </td><td>-0.394280 </td><td> 0.067616 </td><td> 0.0670228</td><td> 0.0256651</td><td>-0.070733 </td><td>-0.3788121</td><td> 1.000000 </td><td> 0.2882228</td><td>-0.2577484</td><td> 0.115739 </td><td> 0.206754 </td><td>-0.436757 </td></tr>\n",
       "\t<tr><th scope=row>oldpeak</th><td> 0.210013 </td><td> 0.096093 </td><td>-0.149230 </td><td> 0.193216 </td><td> 0.0539519</td><td> 0.0057472</td><td>-0.058770 </td><td>-0.3441869</td><td> 0.288223 </td><td> 1.0000000</td><td>-0.5775368</td><td> 0.222682 </td><td> 0.210244 </td><td>-0.430696 </td></tr>\n",
       "\t<tr><th scope=row>slope</th><td>-0.168814 </td><td>-0.030711 </td><td> 0.119717 </td><td>-0.121475 </td><td>-0.0040378</td><td>-0.0598942</td><td> 0.093045 </td><td> 0.3867844</td><td>-0.257748 </td><td>-0.5775368</td><td> 1.0000000</td><td>-0.080155 </td><td>-0.104764 </td><td> 0.345877 </td></tr>\n",
       "\t<tr><th scope=row>ca</th><td> 0.276326 </td><td> 0.118261 </td><td>-0.181053 </td><td> 0.101389 </td><td> 0.0705109</td><td> 0.1379793</td><td>-0.072042 </td><td>-0.2131769</td><td> 0.115739 </td><td> 0.2226823</td><td>-0.0801552</td><td> 1.000000 </td><td> 0.151832 </td><td>-0.391724 </td></tr>\n",
       "\t<tr><th scope=row>thal</th><td> 0.068001 </td><td> 0.210041 </td><td>-0.161736 </td><td> 0.062210 </td><td> 0.0988030</td><td>-0.0320193</td><td>-0.011981 </td><td>-0.0964391</td><td> 0.206754 </td><td> 0.2102441</td><td>-0.1047638</td><td> 0.151832 </td><td> 1.000000 </td><td>-0.344029 </td></tr>\n",
       "\t<tr><th scope=row>target</th><td>-0.225439 </td><td>-0.280937 </td><td> 0.433798 </td><td>-0.144931 </td><td>-0.0852391</td><td>-0.0280458</td><td> 0.137230 </td><td> 0.4217409</td><td>-0.436757 </td><td>-0.4306960</td><td> 0.3458771</td><td>-0.391724 </td><td>-0.344029 </td><td> 1.000000 </td></tr>\n",
       "</tbody>\n",
       "</table>\n"
      ],
      "text/latex": [
       "\\begin{tabular}{r|llllllllllllll}\n",
       "  & age & sex & cp & trestbps & chol & fbs & restecg & thalach & exang & oldpeak & slope & ca & thal & target\\\\\n",
       "\\hline\n",
       "\tage &  1.000000  & -0.098447  & -0.068653  &  0.279351  &  0.2136780 &  0.1213076 & -0.116211  & -0.3985219 &  0.096801  &  0.2100126 & -0.1688142 &  0.276326  &  0.068001  & -0.225439 \\\\\n",
       "\tsex & -0.098447  &  1.000000  & -0.049353  & -0.056769  & -0.1979122 &  0.0450318 & -0.058196  & -0.0440199 &  0.141664  &  0.0960929 & -0.0307106 &  0.118261  &  0.210041  & -0.280937 \\\\\n",
       "\tcp & -0.068653  & -0.049353  &  1.000000  &  0.047608  & -0.0769044 &  0.0944440 &  0.044421  &  0.2957621 & -0.394280  & -0.1492302 &  0.1197166 & -0.181053  & -0.161736  &  0.433798 \\\\\n",
       "\ttrestbps &  0.279351  & -0.056769  &  0.047608  &  1.000000  &  0.1231742 &  0.1775305 & -0.114103  & -0.0466977 &  0.067616  &  0.1932165 & -0.1214746 &  0.101389  &  0.062210  & -0.144931 \\\\\n",
       "\tchol &  0.213678  & -0.197912  & -0.076904  &  0.123174  &  1.0000000 &  0.0132936 & -0.151040  & -0.0099398 &  0.067023  &  0.0539519 & -0.0040378 &  0.070511  &  0.098803  & -0.085239 \\\\\n",
       "\tfbs &  0.121308  &  0.045032  &  0.094444  &  0.177531  &  0.0132936 &  1.0000000 & -0.084189  & -0.0085671 &  0.025665  &  0.0057472 & -0.0598942 &  0.137979  & -0.032019  & -0.028046 \\\\\n",
       "\trestecg & -0.116211  & -0.058196  &  0.044421  & -0.114103  & -0.1510401 & -0.0841891 &  1.000000  &  0.0441234 & -0.070733  & -0.0587702 &  0.0930448 & -0.072042  & -0.011981  &  0.137230 \\\\\n",
       "\tthalach & -0.398522  & -0.044020  &  0.295762  & -0.046698  & -0.0099398 & -0.0085671 &  0.044123  &  1.0000000 & -0.378812  & -0.3441869 &  0.3867844 & -0.213177  & -0.096439  &  0.421741 \\\\\n",
       "\texang &  0.096801  &  0.141664  & -0.394280  &  0.067616  &  0.0670228 &  0.0256651 & -0.070733  & -0.3788121 &  1.000000  &  0.2882228 & -0.2577484 &  0.115739  &  0.206754  & -0.436757 \\\\\n",
       "\toldpeak &  0.210013  &  0.096093  & -0.149230  &  0.193216  &  0.0539519 &  0.0057472 & -0.058770  & -0.3441869 &  0.288223  &  1.0000000 & -0.5775368 &  0.222682  &  0.210244  & -0.430696 \\\\\n",
       "\tslope & -0.168814  & -0.030711  &  0.119717  & -0.121475  & -0.0040378 & -0.0598942 &  0.093045  &  0.3867844 & -0.257748  & -0.5775368 &  1.0000000 & -0.080155  & -0.104764  &  0.345877 \\\\\n",
       "\tca &  0.276326  &  0.118261  & -0.181053  &  0.101389  &  0.0705109 &  0.1379793 & -0.072042  & -0.2131769 &  0.115739  &  0.2226823 & -0.0801552 &  1.000000  &  0.151832  & -0.391724 \\\\\n",
       "\tthal &  0.068001  &  0.210041  & -0.161736  &  0.062210  &  0.0988030 & -0.0320193 & -0.011981  & -0.0964391 &  0.206754  &  0.2102441 & -0.1047638 &  0.151832  &  1.000000  & -0.344029 \\\\\n",
       "\ttarget & -0.225439  & -0.280937  &  0.433798  & -0.144931  & -0.0852391 & -0.0280458 &  0.137230  &  0.4217409 & -0.436757  & -0.4306960 &  0.3458771 & -0.391724  & -0.344029  &  1.000000 \\\\\n",
       "\\end{tabular}\n"
      ],
      "text/markdown": [
       "\n",
       "| <!--/--> | age | sex | cp | trestbps | chol | fbs | restecg | thalach | exang | oldpeak | slope | ca | thal | target | \n",
       "|---|---|---|---|---|---|---|---|---|---|---|---|---|---|\n",
       "| age |  1.000000  | -0.098447  | -0.068653  |  0.279351  |  0.2136780 |  0.1213076 | -0.116211  | -0.3985219 |  0.096801  |  0.2100126 | -0.1688142 |  0.276326  |  0.068001  | -0.225439  | \n",
       "| sex | -0.098447  |  1.000000  | -0.049353  | -0.056769  | -0.1979122 |  0.0450318 | -0.058196  | -0.0440199 |  0.141664  |  0.0960929 | -0.0307106 |  0.118261  |  0.210041  | -0.280937  | \n",
       "| cp | -0.068653  | -0.049353  |  1.000000  |  0.047608  | -0.0769044 |  0.0944440 |  0.044421  |  0.2957621 | -0.394280  | -0.1492302 |  0.1197166 | -0.181053  | -0.161736  |  0.433798  | \n",
       "| trestbps |  0.279351  | -0.056769  |  0.047608  |  1.000000  |  0.1231742 |  0.1775305 | -0.114103  | -0.0466977 |  0.067616  |  0.1932165 | -0.1214746 |  0.101389  |  0.062210  | -0.144931  | \n",
       "| chol |  0.213678  | -0.197912  | -0.076904  |  0.123174  |  1.0000000 |  0.0132936 | -0.151040  | -0.0099398 |  0.067023  |  0.0539519 | -0.0040378 |  0.070511  |  0.098803  | -0.085239  | \n",
       "| fbs |  0.121308  |  0.045032  |  0.094444  |  0.177531  |  0.0132936 |  1.0000000 | -0.084189  | -0.0085671 |  0.025665  |  0.0057472 | -0.0598942 |  0.137979  | -0.032019  | -0.028046  | \n",
       "| restecg | -0.116211  | -0.058196  |  0.044421  | -0.114103  | -0.1510401 | -0.0841891 |  1.000000  |  0.0441234 | -0.070733  | -0.0587702 |  0.0930448 | -0.072042  | -0.011981  |  0.137230  | \n",
       "| thalach | -0.398522  | -0.044020  |  0.295762  | -0.046698  | -0.0099398 | -0.0085671 |  0.044123  |  1.0000000 | -0.378812  | -0.3441869 |  0.3867844 | -0.213177  | -0.096439  |  0.421741  | \n",
       "| exang |  0.096801  |  0.141664  | -0.394280  |  0.067616  |  0.0670228 |  0.0256651 | -0.070733  | -0.3788121 |  1.000000  |  0.2882228 | -0.2577484 |  0.115739  |  0.206754  | -0.436757  | \n",
       "| oldpeak |  0.210013  |  0.096093  | -0.149230  |  0.193216  |  0.0539519 |  0.0057472 | -0.058770  | -0.3441869 |  0.288223  |  1.0000000 | -0.5775368 |  0.222682  |  0.210244  | -0.430696  | \n",
       "| slope | -0.168814  | -0.030711  |  0.119717  | -0.121475  | -0.0040378 | -0.0598942 |  0.093045  |  0.3867844 | -0.257748  | -0.5775368 |  1.0000000 | -0.080155  | -0.104764  |  0.345877  | \n",
       "| ca |  0.276326  |  0.118261  | -0.181053  |  0.101389  |  0.0705109 |  0.1379793 | -0.072042  | -0.2131769 |  0.115739  |  0.2226823 | -0.0801552 |  1.000000  |  0.151832  | -0.391724  | \n",
       "| thal |  0.068001  |  0.210041  | -0.161736  |  0.062210  |  0.0988030 | -0.0320193 | -0.011981  | -0.0964391 |  0.206754  |  0.2102441 | -0.1047638 |  0.151832  |  1.000000  | -0.344029  | \n",
       "| target | -0.225439  | -0.280937  |  0.433798  | -0.144931  | -0.0852391 | -0.0280458 |  0.137230  |  0.4217409 | -0.436757  | -0.4306960 |  0.3458771 | -0.391724  | -0.344029  |  1.000000  | \n",
       "\n",
       "\n"
      ],
      "text/plain": [
       "         age       sex       cp        trestbps  chol       fbs       \n",
       "age       1.000000 -0.098447 -0.068653  0.279351  0.2136780  0.1213076\n",
       "sex      -0.098447  1.000000 -0.049353 -0.056769 -0.1979122  0.0450318\n",
       "cp       -0.068653 -0.049353  1.000000  0.047608 -0.0769044  0.0944440\n",
       "trestbps  0.279351 -0.056769  0.047608  1.000000  0.1231742  0.1775305\n",
       "chol      0.213678 -0.197912 -0.076904  0.123174  1.0000000  0.0132936\n",
       "fbs       0.121308  0.045032  0.094444  0.177531  0.0132936  1.0000000\n",
       "restecg  -0.116211 -0.058196  0.044421 -0.114103 -0.1510401 -0.0841891\n",
       "thalach  -0.398522 -0.044020  0.295762 -0.046698 -0.0099398 -0.0085671\n",
       "exang     0.096801  0.141664 -0.394280  0.067616  0.0670228  0.0256651\n",
       "oldpeak   0.210013  0.096093 -0.149230  0.193216  0.0539519  0.0057472\n",
       "slope    -0.168814 -0.030711  0.119717 -0.121475 -0.0040378 -0.0598942\n",
       "ca        0.276326  0.118261 -0.181053  0.101389  0.0705109  0.1379793\n",
       "thal      0.068001  0.210041 -0.161736  0.062210  0.0988030 -0.0320193\n",
       "target   -0.225439 -0.280937  0.433798 -0.144931 -0.0852391 -0.0280458\n",
       "         restecg   thalach    exang     oldpeak    slope      ca       \n",
       "age      -0.116211 -0.3985219  0.096801  0.2100126 -0.1688142  0.276326\n",
       "sex      -0.058196 -0.0440199  0.141664  0.0960929 -0.0307106  0.118261\n",
       "cp        0.044421  0.2957621 -0.394280 -0.1492302  0.1197166 -0.181053\n",
       "trestbps -0.114103 -0.0466977  0.067616  0.1932165 -0.1214746  0.101389\n",
       "chol     -0.151040 -0.0099398  0.067023  0.0539519 -0.0040378  0.070511\n",
       "fbs      -0.084189 -0.0085671  0.025665  0.0057472 -0.0598942  0.137979\n",
       "restecg   1.000000  0.0441234 -0.070733 -0.0587702  0.0930448 -0.072042\n",
       "thalach   0.044123  1.0000000 -0.378812 -0.3441869  0.3867844 -0.213177\n",
       "exang    -0.070733 -0.3788121  1.000000  0.2882228 -0.2577484  0.115739\n",
       "oldpeak  -0.058770 -0.3441869  0.288223  1.0000000 -0.5775368  0.222682\n",
       "slope     0.093045  0.3867844 -0.257748 -0.5775368  1.0000000 -0.080155\n",
       "ca       -0.072042 -0.2131769  0.115739  0.2226823 -0.0801552  1.000000\n",
       "thal     -0.011981 -0.0964391  0.206754  0.2102441 -0.1047638  0.151832\n",
       "target    0.137230  0.4217409 -0.436757 -0.4306960  0.3458771 -0.391724\n",
       "         thal      target   \n",
       "age       0.068001 -0.225439\n",
       "sex       0.210041 -0.280937\n",
       "cp       -0.161736  0.433798\n",
       "trestbps  0.062210 -0.144931\n",
       "chol      0.098803 -0.085239\n",
       "fbs      -0.032019 -0.028046\n",
       "restecg  -0.011981  0.137230\n",
       "thalach  -0.096439  0.421741\n",
       "exang     0.206754 -0.436757\n",
       "oldpeak   0.210244 -0.430696\n",
       "slope    -0.104764  0.345877\n",
       "ca        0.151832 -0.391724\n",
       "thal      1.000000 -0.344029\n",
       "target   -0.344029  1.000000"
      ]
     },
     "metadata": {},
     "output_type": "display_data"
    }
   ],
   "source": [
    "cor(df)"
   ]
  },
  {
   "cell_type": "markdown",
   "metadata": {},
   "source": [
    "Ook hier is te zien dat de correlaties tussen de variabelen vrij zwak is. De aanwezigheid van collineariteit is binnen deze dataset niet een probleem. De afwezigheid van enige correlaties echter wel."
   ]
  },
  {
   "cell_type": "code",
   "execution_count": 9,
   "metadata": {
    "scrolled": false
   },
   "outputs": [
    {
     "data": {
      "image/png": "[encoded data removed]",
      "text/plain": [
       "plot without title"
      ]
     },
     "metadata": {},
     "output_type": "display_data"
    }
   ],
   "source": [
    "image(cor(df))"
   ]
  },
  {
   "cell_type": "markdown",
   "metadata": {},
   "source": [
    "# Regressielijnen voor alle verklarende variabelen"
   ]
  },
  {
   "cell_type": "markdown",
   "metadata": {},
   "source": [
    "Alle verklarende variabelen zijn in dit geval de variabelen die het ratio meetniveau hebben. Met de volgende functie wordt er een regressielijn opgesteld en een grafiek gemaakt met de $R^2$ waarde."
   ]
  },
  {
   "cell_type": "code",
   "execution_count": 10,
   "metadata": {},
   "outputs": [],
   "source": [
    "lm2 = function(y, x, ylab, xlab) {\n",
    "    fit = lm(y~x);\n",
    "    SSE = sum(fit$residuals^2)\n",
    "    SST = sum((y - mean(y))^2)\n",
    "    R2 = 1 - SSE / SST\n",
    "    plot(x,y, main=paste(\"R^2: \", round(R2, 3), sep=\"\"), xlab=xlab, ylab=ylab)\n",
    "    abline(fit, lw=2, col='red')\n",
    "    (fit)\n",
    "}"
   ]
  },
  {
   "cell_type": "markdown",
   "metadata": {},
   "source": [
    "Vervolgens wordt er voor elke variabele een regressielijn bepaald met bijbehorende $R^2$ waarde."
   ]
  },
  {
   "cell_type": "code",
   "execution_count": 11,
   "metadata": {},
   "outputs": [
    {
     "data": {
      "text/plain": [
       "\n",
       "Call:\n",
       "lm(formula = y ~ x)\n",
       "\n",
       "Coefficients:\n",
       "(Intercept)            x  \n",
       "     204.29        -1.01  \n"
      ]
     },
     "metadata": {},
     "output_type": "display_data"
    },
    {
     "data": {
      "text/plain": [
       "\n",
       "Call:\n",
       "lm(formula = y ~ x)\n",
       "\n",
       "Coefficients:\n",
       "(Intercept)            x  \n",
       "    157.674       -0.061  \n"
      ]
     },
     "metadata": {},
     "output_type": "display_data"
    },
    {
     "data": {
      "text/plain": [
       "\n",
       "Call:\n",
       "lm(formula = y ~ x)\n",
       "\n",
       "Coefficients:\n",
       "(Intercept)            x  \n",
       "  150.72861     -0.00439  \n"
      ]
     },
     "metadata": {},
     "output_type": "display_data"
    },
    {
     "data": {
      "text/plain": [
       "\n",
       "Call:\n",
       "lm(formula = y ~ x)\n",
       "\n",
       "Coefficients:\n",
       "(Intercept)            x  \n",
       "     156.71        -6.79  \n"
      ]
     },
     "metadata": {},
     "output_type": "display_data"
    },
    {
     "data": {
      "image/png": "[encoded data removed]",
      "text/plain": [
       "Plot with title \"R^2: 0.118\""
      ]
     },
     "metadata": {},
     "output_type": "display_data"
    }
   ],
   "source": [
    "par(mfrow=c(2, 2))\n",
    "lm2(df$thalach, df$age, 'thalanch: maximum heartrate achieved', 'age: leeftijd')\n",
    "lm2(df$thalach, df$trestbps, 'thalanch: maximum heartrate achieved', 'trestbps: resting blood pressure.')\n",
    "lm2(df$thalach, df$chol, 'thalanch: maximum heartrate achieved', 'chol: serum cholestoral in mg/dl')\n",
    "lm2(df$thalach, df$oldpeak, 'thalanch: maximum heartrate achieved', 'oldpeak: ST depression induced')"
   ]
  },
  {
   "cell_type": "markdown",
   "metadata": {},
   "source": [
    "Het 'beste' model wordt verkregen bij het opstellen van een regressielijn met de leeftijd. Echter geeft een $R^2=0.159$ aan dat het model niet echt bruikbaar is. De overige variabelen presteren nog slechter."
   ]
  },
  {
   "cell_type": "markdown",
   "metadata": {},
   "source": [
    "Aangezien de dataset oorspronkelijk is bedoeld voor machine learning, lijkt ons het een logische conclusie dat het verkrijgen van een goed model in dit geval niet met een eenvoudige regressielijn gaat lukken."
   ]
  },
  {
   "cell_type": "markdown",
   "metadata": {},
   "source": [
    "## Controle regressiemodel"
   ]
  },
  {
   "cell_type": "markdown",
   "metadata": {},
   "source": [
    "Ter controle voeren we de berekening waarmee we de coefficienten bepalen met de hand uit. De variabele die we gebruiken is die van de leeftijd."
   ]
  },
  {
   "cell_type": "code",
   "execution_count": 12,
   "metadata": {
    "scrolled": true
   },
   "outputs": [
    {
     "data": {
      "text/plain": [
       "\n",
       "Call:\n",
       "lm(formula = df$thalach ~ df$age)\n",
       "\n",
       "Residuals:\n",
       "   Min     1Q Median     3Q    Max \n",
       "-65.95 -11.95   3.97  15.92  44.98 \n",
       "\n",
       "Coefficients:\n",
       "            Estimate Std. Error t value Pr(>|t|)    \n",
       "(Intercept)  204.289      7.348   27.80  < 2e-16 ***\n",
       "df$age        -1.005      0.133   -7.54  5.6e-13 ***\n",
       "---\n",
       "Signif. codes:  0 '***' 0.001 '**' 0.01 '*' 0.05 '.' 0.1 ' ' 1\n",
       "\n",
       "Residual standard error: 21 on 301 degrees of freedom\n",
       "Multiple R-squared:  0.159,\tAdjusted R-squared:  0.156 \n",
       "F-statistic: 56.8 on 1 and 301 DF,  p-value: 5.63e-13\n"
      ]
     },
     "metadata": {},
     "output_type": "display_data"
    }
   ],
   "source": [
    "summary(lm(df$thalach~df$age))"
   ]
  },
  {
   "cell_type": "markdown",
   "metadata": {},
   "source": [
    "Om de coefficienten te vinden, bepalen we:\n",
    "\n",
    "$$ \\mathbf{Ax} = \\mathbf{b} \\implies \\mathbf{x} = \\left( \\mathbf{A}^T \\mathbf{A} \\right)^{-1} \\mathbf{A}^T \\mathbf{b}. $$"
   ]
  },
  {
   "cell_type": "code",
   "execution_count": 13,
   "metadata": {},
   "outputs": [
    {
     "data": {
      "text/html": [
       "<table>\n",
       "<tbody>\n",
       "\t<tr><td> -1.0051</td></tr>\n",
       "\t<tr><td>204.2892</td></tr>\n",
       "</tbody>\n",
       "</table>\n"
      ],
      "text/latex": [
       "\\begin{tabular}{l}\n",
       "\t  -1.0051\\\\\n",
       "\t 204.2892\\\\\n",
       "\\end{tabular}\n"
      ],
      "text/markdown": [
       "\n",
       "|  -1.0051 | \n",
       "| 204.2892 | \n",
       "\n",
       "\n"
      ],
      "text/plain": [
       "     [,1]    \n",
       "[1,]  -1.0051\n",
       "[2,] 204.2892"
      ]
     },
     "metadata": {},
     "output_type": "display_data"
    }
   ],
   "source": [
    "A = cbind(unlist(df$age), 1)\n",
    "b = unlist(df$thalach)\n",
    "x = solve(t(A) %*% A) %*% t(A) %*% b\n",
    "x"
   ]
  },
  {
   "cell_type": "markdown",
   "metadata": {},
   "source": [
    "Om de residuen te vinden, bepalen we:\n",
    "\n",
    " $$ \\mathbf{Ax} - \\mathbf{b} = \\mathbf{e}.$$"
   ]
  },
  {
   "cell_type": "code",
   "execution_count": 14,
   "metadata": {},
   "outputs": [],
   "source": [
    "e = A %*% x - b"
   ]
  },
  {
   "cell_type": "markdown",
   "metadata": {},
   "source": [
    "En de $R^2$ vinden we met:\n",
    "\n",
    "$$R^2 = 1-\\dfrac{SSE}{SST} = 1-\\dfrac{ \\sum \\left(\\hat{y}_i - y_i\\right)^2}{ \\sum \\left(y_i - \\bar{y}\\right)^2 }. $$"
   ]
  },
  {
   "cell_type": "code",
   "execution_count": 15,
   "metadata": {
    "scrolled": true
   },
   "outputs": [
    {
     "data": {
      "text/html": [
       "0.158819735163772"
      ],
      "text/latex": [
       "0.158819735163772"
      ],
      "text/markdown": [
       "0.158819735163772"
      ],
      "text/plain": [
       "[1] 0.15882"
      ]
     },
     "metadata": {},
     "output_type": "display_data"
    }
   ],
   "source": [
    "SSE = sum(e^2)\n",
    "SST = sum((b-mean(b))^2)\n",
    "R2 = 1 - SSE / SST\n",
    "R2"
   ]
  },
  {
   "cell_type": "markdown",
   "metadata": {},
   "source": [
    "# Meervoudige regressie"
   ]
  },
  {
   "cell_type": "markdown",
   "metadata": {},
   "source": [
    "Aangezien er maar twee variabelen zijn waar we enigszins iets mee kunnen doen, stellen we hier een model voor op:"
   ]
  },
  {
   "cell_type": "code",
   "execution_count": 16,
   "metadata": {},
   "outputs": [
    {
     "data": {
      "text/plain": [
       "\n",
       "Call:\n",
       "lm(formula = Y ~ X1 + X2)\n",
       "\n",
       "Residuals:\n",
       "   Min     1Q Median     3Q    Max \n",
       "-67.99 -11.53   4.01  14.36  39.45 \n",
       "\n",
       "Coefficients:\n",
       "            Estimate Std. Error t value Pr(>|t|)    \n",
       "(Intercept)  202.031      7.056   28.63  < 2e-16 ***\n",
       "X1            -0.861      0.131   -6.59  2.0e-10 ***\n",
       "X2            -5.376      1.022   -5.26  2.8e-07 ***\n",
       "---\n",
       "Signif. codes:  0 '***' 0.001 '**' 0.01 '*' 0.05 '.' 0.1 ' ' 1\n",
       "\n",
       "Residual standard error: 20.2 on 300 degrees of freedom\n",
       "Multiple R-squared:  0.23,\tAdjusted R-squared:  0.225 \n",
       "F-statistic: 44.8 on 2 and 300 DF,  p-value: <2e-16\n"
      ]
     },
     "metadata": {},
     "output_type": "display_data"
    }
   ],
   "source": [
    "Y = unlist(df$thalach)\n",
    "X1 = unlist(df$age)\n",
    "X2 = unlist(df$oldpeak)\n",
    "fit = lm(Y~X1+X2)\n",
    "summary(fit)"
   ]
  },
  {
   "cell_type": "markdown",
   "metadata": {},
   "source": [
    "Voor dit model is de $R^2$ waarde $0.2298$. Door het combineren van de variabelen is het model toch nog beter geworden."
   ]
  },
  {
   "cell_type": "markdown",
   "metadata": {},
   "source": [
    "## Controle meervoudige regressie"
   ]
  },
  {
   "cell_type": "markdown",
   "metadata": {},
   "source": [
    "Eerst berekenen we alle sommaties van de onderstaande vergelijkingen:\n",
    "\n",
    "1. $\\sum Y_i = nb_0 + b_1 \\sum X_{1i} + b_2 \\sum X_{2i}$\n",
    "2. $\\sum X_{1i}Y_i = b_0 \\sum X_{1i} + b_1 \\sum X_{1i}^2 + b_2 \\sum X_{1i}X_{2i}$\n",
    "3. $\\sum X_{2i}Y_i = b_0 \\sum X_{2i} + b_1 \\sum X_{1i}X_{2i} + b_2 \\sum X_{2i}^2$"
   ]
  },
  {
   "cell_type": "code",
   "execution_count": 17,
   "metadata": {},
   "outputs": [
    {
     "data": {
      "text/html": [
       "<ol class=list-inline>\n",
       "\t<li>45343</li>\n",
       "\t<li>16473</li>\n",
       "\t<li>315</li>\n",
       "\t<li>2440096</li>\n",
       "\t<li>920487</li>\n",
       "\t<li>17794.2</li>\n",
       "\t<li>44374.4</li>\n",
       "\t<li>734.6</li>\n",
       "</ol>\n"
      ],
      "text/latex": [
       "\\begin{enumerate*}\n",
       "\\item 45343\n",
       "\\item 16473\n",
       "\\item 315\n",
       "\\item 2440096\n",
       "\\item 920487\n",
       "\\item 17794.2\n",
       "\\item 44374.4\n",
       "\\item 734.6\n",
       "\\end{enumerate*}\n"
      ],
      "text/markdown": [
       "1. 45343\n",
       "2. 16473\n",
       "3. 315\n",
       "4. 2440096\n",
       "5. 920487\n",
       "6. 17794.2\n",
       "7. 44374.4\n",
       "8. 734.6\n",
       "\n",
       "\n"
      ],
      "text/plain": [
       "[1]   45343.0   16473.0     315.0 2440096.0  920487.0   17794.2   44374.4\n",
       "[8]     734.6"
      ]
     },
     "metadata": {},
     "output_type": "display_data"
    }
   ],
   "source": [
    "SY = sum(Y)\n",
    "SX1 = sum(X1)\n",
    "SX2 = sum(X2)\n",
    "SX1Y = sum(X1*Y)\n",
    "SX1_2 = sum(X1^2)\n",
    "SX1X2 = sum(X1*X2)\n",
    "SX2Y = sum(X2*Y)\n",
    "SX2_2 = sum(X2^2)\n",
    "c(SY, SX1, SX2, SX1Y, SX1_2, SX1X2, SX2Y, SX2_2)"
   ]
  },
  {
   "cell_type": "code",
   "execution_count": 18,
   "metadata": {},
   "outputs": [
    {
     "data": {
      "text/html": [
       "303"
      ],
      "text/latex": [
       "303"
      ],
      "text/markdown": [
       "303"
      ],
      "text/plain": [
       "[1] 303"
      ]
     },
     "metadata": {},
     "output_type": "display_data"
    }
   ],
   "source": [
    "length(X1)"
   ]
  },
  {
   "cell_type": "code",
   "execution_count": 19,
   "metadata": {},
   "outputs": [
    {
     "data": {
      "text/html": [
       "<ol class=list-inline>\n",
       "\t<li>202.031038398374</li>\n",
       "\t<li>-0.860739983205589</li>\n",
       "\t<li>-5.37598378210027</li>\n",
       "</ol>\n"
      ],
      "text/latex": [
       "\\begin{enumerate*}\n",
       "\\item 202.031038398374\n",
       "\\item -0.860739983205589\n",
       "\\item -5.37598378210027\n",
       "\\end{enumerate*}\n"
      ],
      "text/markdown": [
       "1. 202.031038398374\n",
       "2. -0.860739983205589\n",
       "3. -5.37598378210027\n",
       "\n",
       "\n"
      ],
      "text/plain": [
       "[1] 202.03104  -0.86074  -5.37598"
      ]
     },
     "metadata": {},
     "output_type": "display_data"
    }
   ],
   "source": [
    "A = cbind(c(length(X1), SX1, SX2), c(SX1, SX1_2, SX1X2), c(SX2, SX1X2, SX2_2))\n",
    "b = c(SY, SX1Y, SX2Y)\n",
    "x = solve(A,b)\n",
    "x"
   ]
  },
  {
   "cell_type": "markdown",
   "metadata": {},
   "source": [
    "Dit komt overeen met het resultaat van `summary(lm(...))`. Op dezelfde manier als bij enkelvoudige regressie, bepalen we ook hier $R^2$:"
   ]
  },
  {
   "cell_type": "code",
   "execution_count": 20,
   "metadata": {},
   "outputs": [
    {
     "data": {
      "text/html": [
       "0.229806899136906"
      ],
      "text/latex": [
       "0.229806899136906"
      ],
      "text/markdown": [
       "0.229806899136906"
      ],
      "text/plain": [
       "[1] 0.22981"
      ]
     },
     "metadata": {},
     "output_type": "display_data"
    }
   ],
   "source": [
    "yhat = x[1] + x[2] * X1 + x[3] * X2 # prediction from regression\n",
    "SSE = sum((yhat - Y)^2)  \n",
    "SST = sum((Y - mean(Y))^2)\n",
    "1 - SSE/SST # R-squared"
   ]
  },
  {
   "cell_type": "markdown",
   "metadata": {},
   "source": [
    "# Conclusie"
   ]
  },
  {
   "cell_type": "markdown",
   "metadata": {},
   "source": [
    "Door de sterke afwezigheid van correlaties is het moeilijk om een goed model te vinden met behulp van een lineaire regressielijn/vlak. Het 'beste' model wat is gevonden heeft een $R^2$ van $0.23$ (afgerond). \n",
    "\n",
    "In dit geval is lineaire regressie misschien niet de beste optie. Het verkregen model met deze methode is in onze ogen niet bruikbaar.  Wellicht levert de vervolgopdracht met logistische regressie betere resultaten op."
   ]
  },
  {
   "cell_type": "code",
   "execution_count": 38,
   "metadata": {},
   "outputs": [
    {
     "ename": "ERROR",
     "evalue": "Error in eval(expr, envir, enclos): object 'mydata' not found\n",
     "output_type": "error",
     "traceback": [
      "Error in eval(expr, envir, enclos): object 'mydata' not found\nTraceback:\n"
     ]
    }
   ],
   "source": [
    "# based on variable values\n",
    "newdata <- mydata[ which(mydata$gender=='F' \n",
    "& mydata$age > 65), ]"
   ]
  },
  {
   "cell_type": "code",
   "execution_count": 46,
   "metadata": {},
   "outputs": [
    {
     "data": {
      "text/html": [
       "<table>\n",
       "<thead><tr><th></th><th scope=col>age</th><th scope=col>sex</th><th scope=col>cp</th><th scope=col>trestbps</th><th scope=col>chol</th><th scope=col>fbs</th><th scope=col>restecg</th><th scope=col>thalach</th><th scope=col>exang</th><th scope=col>oldpeak</th><th scope=col>slope</th><th scope=col>ca</th><th scope=col>thal</th><th scope=col>target</th></tr></thead>\n",
       "<tbody>\n",
       "\t<tr><th scope=row>3</th><td>41 </td><td>0  </td><td>1  </td><td>130</td><td>204</td><td>0  </td><td>0  </td><td>172</td><td>0  </td><td>1.4</td><td>2  </td><td>0  </td><td>2  </td><td>1  </td></tr>\n",
       "\t<tr><th scope=row>5</th><td>57 </td><td>0  </td><td>0  </td><td>120</td><td>354</td><td>0  </td><td>1  </td><td>163</td><td>1  </td><td>0.6</td><td>2  </td><td>0  </td><td>2  </td><td>1  </td></tr>\n",
       "\t<tr><th scope=row>7</th><td>56 </td><td>0  </td><td>1  </td><td>140</td><td>294</td><td>0  </td><td>0  </td><td>153</td><td>0  </td><td>1.3</td><td>1  </td><td>0  </td><td>2  </td><td>1  </td></tr>\n",
       "\t<tr><th scope=row>12</th><td>48 </td><td>0  </td><td>2  </td><td>130</td><td>275</td><td>0  </td><td>1  </td><td>139</td><td>0  </td><td>0.2</td><td>2  </td><td>0  </td><td>2  </td><td>1  </td></tr>\n",
       "\t<tr><th scope=row>15</th><td>58 </td><td>0  </td><td>3  </td><td>150</td><td>283</td><td>1  </td><td>0  </td><td>162</td><td>0  </td><td>1.0</td><td>2  </td><td>0  </td><td>2  </td><td>1  </td></tr>\n",
       "\t<tr><th scope=row>16</th><td>50 </td><td>0  </td><td>2  </td><td>120</td><td>219</td><td>0  </td><td>1  </td><td>158</td><td>0  </td><td>1.6</td><td>1  </td><td>0  </td><td>2  </td><td>1  </td></tr>\n",
       "\t<tr><th scope=row>17</th><td>58 </td><td>0  </td><td>2  </td><td>120</td><td>340</td><td>0  </td><td>1  </td><td>172</td><td>0  </td><td>0.0</td><td>2  </td><td>0  </td><td>2  </td><td>1  </td></tr>\n",
       "\t<tr><th scope=row>18</th><td>66 </td><td>0  </td><td>3  </td><td>150</td><td>226</td><td>0  </td><td>1  </td><td>114</td><td>0  </td><td>2.6</td><td>0  </td><td>0  </td><td>2  </td><td>1  </td></tr>\n",
       "\t<tr><th scope=row>20</th><td>69 </td><td>0  </td><td>3  </td><td>140</td><td>239</td><td>0  </td><td>1  </td><td>151</td><td>0  </td><td>1.8</td><td>2  </td><td>2  </td><td>2  </td><td>1  </td></tr>\n",
       "\t<tr><th scope=row>26</th><td>71 </td><td>0  </td><td>1  </td><td>160</td><td>302</td><td>0  </td><td>1  </td><td>162</td><td>0  </td><td>0.4</td><td>2  </td><td>2  </td><td>2  </td><td>1  </td></tr>\n",
       "\t<tr><th scope=row>29</th><td>65 </td><td>0  </td><td>2  </td><td>140</td><td>417</td><td>1  </td><td>0  </td><td>157</td><td>0  </td><td>0.8</td><td>2  </td><td>1  </td><td>2  </td><td>1  </td></tr>\n",
       "\t<tr><th scope=row>31</th><td>41 </td><td>0  </td><td>1  </td><td>105</td><td>198</td><td>0  </td><td>1  </td><td>168</td><td>0  </td><td>0.0</td><td>2  </td><td>1  </td><td>2  </td><td>1  </td></tr>\n",
       "\t<tr><th scope=row>36</th><td>46 </td><td>0  </td><td>2  </td><td>142</td><td>177</td><td>0  </td><td>0  </td><td>160</td><td>1  </td><td>1.4</td><td>0  </td><td>0  </td><td>2  </td><td>1  </td></tr>\n",
       "\t<tr><th scope=row>37</th><td>54 </td><td>0  </td><td>2  </td><td>135</td><td>304</td><td>1  </td><td>1  </td><td>170</td><td>0  </td><td>0.0</td><td>2  </td><td>0  </td><td>2  </td><td>1  </td></tr>\n",
       "\t<tr><th scope=row>39</th><td>65 </td><td>0  </td><td>2  </td><td>155</td><td>269</td><td>0  </td><td>1  </td><td>148</td><td>0  </td><td>0.8</td><td>2  </td><td>0  </td><td>2  </td><td>1  </td></tr>\n",
       "\t<tr><th scope=row>40</th><td>65 </td><td>0  </td><td>2  </td><td>160</td><td>360</td><td>0  </td><td>0  </td><td>151</td><td>0  </td><td>0.8</td><td>2  </td><td>0  </td><td>2  </td><td>1  </td></tr>\n",
       "\t<tr><th scope=row>41</th><td>51 </td><td>0  </td><td>2  </td><td>140</td><td>308</td><td>0  </td><td>0  </td><td>142</td><td>0  </td><td>1.5</td><td>2  </td><td>1  </td><td>2  </td><td>1  </td></tr>\n",
       "\t<tr><th scope=row>44</th><td>53 </td><td>0  </td><td>0  </td><td>130</td><td>264</td><td>0  </td><td>0  </td><td>143</td><td>0  </td><td>0.4</td><td>1  </td><td>0  </td><td>2  </td><td>1  </td></tr>\n",
       "\t<tr><th scope=row>49</th><td>53 </td><td>0  </td><td>2  </td><td>128</td><td>216</td><td>0  </td><td>0  </td><td>115</td><td>0  </td><td>0.0</td><td>2  </td><td>0  </td><td>0  </td><td>1  </td></tr>\n",
       "\t<tr><th scope=row>50</th><td>53 </td><td>0  </td><td>0  </td><td>138</td><td>234</td><td>0  </td><td>0  </td><td>160</td><td>0  </td><td>0.0</td><td>2  </td><td>0  </td><td>2  </td><td>1  </td></tr>\n",
       "\t<tr><th scope=row>51</th><td>51 </td><td>0  </td><td>2  </td><td>130</td><td>256</td><td>0  </td><td>0  </td><td>149</td><td>0  </td><td>0.5</td><td>2  </td><td>0  </td><td>2  </td><td>1  </td></tr>\n",
       "\t<tr><th scope=row>54</th><td>44 </td><td>0  </td><td>2  </td><td>108</td><td>141</td><td>0  </td><td>1  </td><td>175</td><td>0  </td><td>0.6</td><td>1  </td><td>0  </td><td>2  </td><td>1  </td></tr>\n",
       "\t<tr><th scope=row>55</th><td>63 </td><td>0  </td><td>2  </td><td>135</td><td>252</td><td>0  </td><td>0  </td><td>172</td><td>0  </td><td>0.0</td><td>2  </td><td>0  </td><td>2  </td><td>1  </td></tr>\n",
       "\t<tr><th scope=row>60</th><td>57 </td><td>0  </td><td>0  </td><td>128</td><td>303</td><td>0  </td><td>0  </td><td>159</td><td>0  </td><td>0.0</td><td>2  </td><td>1  </td><td>2  </td><td>1  </td></tr>\n",
       "\t<tr><th scope=row>61</th><td>71 </td><td>0  </td><td>2  </td><td>110</td><td>265</td><td>1  </td><td>0  </td><td>130</td><td>0  </td><td>0.0</td><td>2  </td><td>1  </td><td>2  </td><td>1  </td></tr>\n",
       "\t<tr><th scope=row>66</th><td>35 </td><td>0  </td><td>0  </td><td>138</td><td>183</td><td>0  </td><td>1  </td><td>182</td><td>0  </td><td>1.4</td><td>2  </td><td>0  </td><td>2  </td><td>1  </td></tr>\n",
       "\t<tr><th scope=row>68</th><td>45 </td><td>0  </td><td>1  </td><td>130</td><td>234</td><td>0  </td><td>0  </td><td>175</td><td>0  </td><td>0.6</td><td>1  </td><td>0  </td><td>2  </td><td>1  </td></tr>\n",
       "\t<tr><th scope=row>70</th><td>62 </td><td>0  </td><td>0  </td><td>124</td><td>209</td><td>0  </td><td>1  </td><td>163</td><td>0  </td><td>0.0</td><td>2  </td><td>0  </td><td>2  </td><td>1  </td></tr>\n",
       "\t<tr><th scope=row>75</th><td>43 </td><td>0  </td><td>2  </td><td>122</td><td>213</td><td>0  </td><td>1  </td><td>165</td><td>0  </td><td>0.2</td><td>1  </td><td>0  </td><td>2  </td><td>1  </td></tr>\n",
       "\t<tr><th scope=row>76</th><td>55 </td><td>0  </td><td>1  </td><td>135</td><td>250</td><td>0  </td><td>0  </td><td>161</td><td>0  </td><td>1.4</td><td>1  </td><td>0  </td><td>2  </td><td>1  </td></tr>\n",
       "\t<tr><th scope=row>...</th><td>...</td><td>...</td><td>...</td><td>...</td><td>...</td><td>...</td><td>...</td><td>...</td><td>...</td><td>...</td><td>...</td><td>...</td><td>...</td><td>...</td></tr>\n",
       "\t<tr><th scope=row>148</th><td>60 </td><td>0  </td><td>3  </td><td>150</td><td>240</td><td>0  </td><td>1  </td><td>171</td><td>0  </td><td>0.9</td><td>2  </td><td>0  </td><td>2  </td><td>1  </td></tr>\n",
       "\t<tr><th scope=row>152</th><td>71 </td><td>0  </td><td>0  </td><td>112</td><td>149</td><td>0  </td><td>1  </td><td>125</td><td>0  </td><td>1.6</td><td>1  </td><td>0  </td><td>2  </td><td>1  </td></tr>\n",
       "\t<tr><th scope=row>154</th><td>66 </td><td>0  </td><td>2  </td><td>146</td><td>278</td><td>0  </td><td>0  </td><td>152</td><td>0  </td><td>0.0</td><td>1  </td><td>1  </td><td>2  </td><td>1  </td></tr>\n",
       "\t<tr><th scope=row>155</th><td>39 </td><td>0  </td><td>2  </td><td>138</td><td>220</td><td>0  </td><td>1  </td><td>152</td><td>0  </td><td>0.0</td><td>1  </td><td>0  </td><td>2  </td><td>1  </td></tr>\n",
       "\t<tr><th scope=row>156</th><td>58 </td><td>0  </td><td>0  </td><td>130</td><td>197</td><td>0  </td><td>1  </td><td>131</td><td>0  </td><td>0.6</td><td>1  </td><td>0  </td><td>2  </td><td>1  </td></tr>\n",
       "\t<tr><th scope=row>162</th><td>55 </td><td>0  </td><td>1  </td><td>132</td><td>342</td><td>0  </td><td>1  </td><td>166</td><td>0  </td><td>1.2</td><td>2  </td><td>0  </td><td>2  </td><td>1  </td></tr>\n",
       "\t<tr><th scope=row>168</th><td>62 </td><td>0  </td><td>0  </td><td>140</td><td>268</td><td>0  </td><td>0  </td><td>160</td><td>0  </td><td>3.6</td><td>0  </td><td>2  </td><td>2  </td><td>0  </td></tr>\n",
       "\t<tr><th scope=row>182</th><td>65 </td><td>0  </td><td>0  </td><td>150</td><td>225</td><td>0  </td><td>0  </td><td>114</td><td>0  </td><td>1.0</td><td>1  </td><td>3  </td><td>3  </td><td>0  </td></tr>\n",
       "\t<tr><th scope=row>183</th><td>61 </td><td>0  </td><td>0  </td><td>130</td><td>330</td><td>0  </td><td>0  </td><td>169</td><td>0  </td><td>0.0</td><td>2  </td><td>0  </td><td>2  </td><td>0  </td></tr>\n",
       "\t<tr><th scope=row>191</th><td>51 </td><td>0  </td><td>0  </td><td>130</td><td>305</td><td>0  </td><td>1  </td><td>142</td><td>1  </td><td>1.2</td><td>1  </td><td>0  </td><td>3  </td><td>0  </td></tr>\n",
       "\t<tr><th scope=row>205</th><td>62 </td><td>0  </td><td>0  </td><td>160</td><td>164</td><td>0  </td><td>0  </td><td>145</td><td>0  </td><td>6.2</td><td>0  </td><td>3  </td><td>3  </td><td>0  </td></tr>\n",
       "\t<tr><th scope=row>208</th><td>60 </td><td>0  </td><td>0  </td><td>150</td><td>258</td><td>0  </td><td>0  </td><td>157</td><td>0  </td><td>2.6</td><td>1  </td><td>2  </td><td>3  </td><td>0  </td></tr>\n",
       "\t<tr><th scope=row>214</th><td>61 </td><td>0  </td><td>0  </td><td>145</td><td>307</td><td>0  </td><td>0  </td><td>146</td><td>1  </td><td>1.0</td><td>1  </td><td>0  </td><td>3  </td><td>0  </td></tr>\n",
       "\t<tr><th scope=row>216</th><td>43 </td><td>0  </td><td>0  </td><td>132</td><td>341</td><td>1  </td><td>0  </td><td>136</td><td>1  </td><td>3.0</td><td>1  </td><td>0  </td><td>3  </td><td>0  </td></tr>\n",
       "\t<tr><th scope=row>217</th><td>62 </td><td>0  </td><td>2  </td><td>130</td><td>263</td><td>0  </td><td>1  </td><td> 97</td><td>0  </td><td>1.2</td><td>1  </td><td>1  </td><td>3  </td><td>0  </td></tr>\n",
       "\t<tr><th scope=row>221</th><td>63 </td><td>0  </td><td>0  </td><td>150</td><td>407</td><td>0  </td><td>0  </td><td>154</td><td>0  </td><td>4.0</td><td>1  </td><td>3  </td><td>3  </td><td>0  </td></tr>\n",
       "\t<tr><th scope=row>224</th><td>56 </td><td>0  </td><td>0  </td><td>200</td><td>288</td><td>1  </td><td>0  </td><td>133</td><td>1  </td><td>4.0</td><td>0  </td><td>2  </td><td>3  </td><td>0  </td></tr>\n",
       "\t<tr><th scope=row>242</th><td>59 </td><td>0  </td><td>0  </td><td>174</td><td>249</td><td>0  </td><td>1  </td><td>143</td><td>1  </td><td>0.0</td><td>1  </td><td>0  </td><td>2  </td><td>0  </td></tr>\n",
       "\t<tr><th scope=row>247</th><td>56 </td><td>0  </td><td>0  </td><td>134</td><td>409</td><td>0  </td><td>0  </td><td>150</td><td>1  </td><td>1.9</td><td>1  </td><td>2  </td><td>3  </td><td>0  </td></tr>\n",
       "\t<tr><th scope=row>253</th><td>62 </td><td>0  </td><td>0  </td><td>138</td><td>294</td><td>1  </td><td>1  </td><td>106</td><td>0  </td><td>1.9</td><td>1  </td><td>3  </td><td>2  </td><td>0  </td></tr>\n",
       "\t<tr><th scope=row>259</th><td>62 </td><td>0  </td><td>0  </td><td>150</td><td>244</td><td>0  </td><td>1  </td><td>154</td><td>1  </td><td>1.4</td><td>1  </td><td>0  </td><td>2  </td><td>0  </td></tr>\n",
       "\t<tr><th scope=row>261</th><td>66 </td><td>0  </td><td>0  </td><td>178</td><td>228</td><td>1  </td><td>1  </td><td>165</td><td>1  </td><td>1.0</td><td>1  </td><td>2  </td><td>3  </td><td>0  </td></tr>\n",
       "\t<tr><th scope=row>264</th><td>63 </td><td>0  </td><td>0  </td><td>108</td><td>269</td><td>0  </td><td>1  </td><td>169</td><td>1  </td><td>1.8</td><td>1  </td><td>2  </td><td>2  </td><td>0  </td></tr>\n",
       "\t<tr><th scope=row>267</th><td>55 </td><td>0  </td><td>0  </td><td>180</td><td>327</td><td>0  </td><td>2  </td><td>117</td><td>1  </td><td>3.4</td><td>1  </td><td>0  </td><td>2  </td><td>0  </td></tr>\n",
       "\t<tr><th scope=row>279</th><td>58 </td><td>0  </td><td>1  </td><td>136</td><td>319</td><td>1  </td><td>0  </td><td>152</td><td>0  </td><td>0.0</td><td>2  </td><td>2  </td><td>2  </td><td>0  </td></tr>\n",
       "\t<tr><th scope=row>290</th><td>55 </td><td>0  </td><td>0  </td><td>128</td><td>205</td><td>0  </td><td>2  </td><td>130</td><td>1  </td><td>2.0</td><td>1  </td><td>1  </td><td>3  </td><td>0  </td></tr>\n",
       "\t<tr><th scope=row>293</th><td>58 </td><td>0  </td><td>0  </td><td>170</td><td>225</td><td>1  </td><td>0  </td><td>146</td><td>1  </td><td>2.8</td><td>1  </td><td>2  </td><td>1  </td><td>0  </td></tr>\n",
       "\t<tr><th scope=row>297</th><td>63 </td><td>0  </td><td>0  </td><td>124</td><td>197</td><td>0  </td><td>1  </td><td>136</td><td>1  </td><td>0.0</td><td>1  </td><td>0  </td><td>2  </td><td>0  </td></tr>\n",
       "\t<tr><th scope=row>299</th><td>57 </td><td>0  </td><td>0  </td><td>140</td><td>241</td><td>0  </td><td>1  </td><td>123</td><td>1  </td><td>0.2</td><td>1  </td><td>0  </td><td>3  </td><td>0  </td></tr>\n",
       "\t<tr><th scope=row>303</th><td>57 </td><td>0  </td><td>1  </td><td>130</td><td>236</td><td>0  </td><td>0  </td><td>174</td><td>0  </td><td>0.0</td><td>1  </td><td>1  </td><td>2  </td><td>0  </td></tr>\n",
       "</tbody>\n",
       "</table>\n"
      ],
      "text/latex": [
       "\\begin{tabular}{r|llllllllllllll}\n",
       "  & age & sex & cp & trestbps & chol & fbs & restecg & thalach & exang & oldpeak & slope & ca & thal & target\\\\\n",
       "\\hline\n",
       "\t3 & 41  & 0   & 1   & 130 & 204 & 0   & 0   & 172 & 0   & 1.4 & 2   & 0   & 2   & 1  \\\\\n",
       "\t5 & 57  & 0   & 0   & 120 & 354 & 0   & 1   & 163 & 1   & 0.6 & 2   & 0   & 2   & 1  \\\\\n",
       "\t7 & 56  & 0   & 1   & 140 & 294 & 0   & 0   & 153 & 0   & 1.3 & 1   & 0   & 2   & 1  \\\\\n",
       "\t12 & 48  & 0   & 2   & 130 & 275 & 0   & 1   & 139 & 0   & 0.2 & 2   & 0   & 2   & 1  \\\\\n",
       "\t15 & 58  & 0   & 3   & 150 & 283 & 1   & 0   & 162 & 0   & 1.0 & 2   & 0   & 2   & 1  \\\\\n",
       "\t16 & 50  & 0   & 2   & 120 & 219 & 0   & 1   & 158 & 0   & 1.6 & 1   & 0   & 2   & 1  \\\\\n",
       "\t17 & 58  & 0   & 2   & 120 & 340 & 0   & 1   & 172 & 0   & 0.0 & 2   & 0   & 2   & 1  \\\\\n",
       "\t18 & 66  & 0   & 3   & 150 & 226 & 0   & 1   & 114 & 0   & 2.6 & 0   & 0   & 2   & 1  \\\\\n",
       "\t20 & 69  & 0   & 3   & 140 & 239 & 0   & 1   & 151 & 0   & 1.8 & 2   & 2   & 2   & 1  \\\\\n",
       "\t26 & 71  & 0   & 1   & 160 & 302 & 0   & 1   & 162 & 0   & 0.4 & 2   & 2   & 2   & 1  \\\\\n",
       "\t29 & 65  & 0   & 2   & 140 & 417 & 1   & 0   & 157 & 0   & 0.8 & 2   & 1   & 2   & 1  \\\\\n",
       "\t31 & 41  & 0   & 1   & 105 & 198 & 0   & 1   & 168 & 0   & 0.0 & 2   & 1   & 2   & 1  \\\\\n",
       "\t36 & 46  & 0   & 2   & 142 & 177 & 0   & 0   & 160 & 1   & 1.4 & 0   & 0   & 2   & 1  \\\\\n",
       "\t37 & 54  & 0   & 2   & 135 & 304 & 1   & 1   & 170 & 0   & 0.0 & 2   & 0   & 2   & 1  \\\\\n",
       "\t39 & 65  & 0   & 2   & 155 & 269 & 0   & 1   & 148 & 0   & 0.8 & 2   & 0   & 2   & 1  \\\\\n",
       "\t40 & 65  & 0   & 2   & 160 & 360 & 0   & 0   & 151 & 0   & 0.8 & 2   & 0   & 2   & 1  \\\\\n",
       "\t41 & 51  & 0   & 2   & 140 & 308 & 0   & 0   & 142 & 0   & 1.5 & 2   & 1   & 2   & 1  \\\\\n",
       "\t44 & 53  & 0   & 0   & 130 & 264 & 0   & 0   & 143 & 0   & 0.4 & 1   & 0   & 2   & 1  \\\\\n",
       "\t49 & 53  & 0   & 2   & 128 & 216 & 0   & 0   & 115 & 0   & 0.0 & 2   & 0   & 0   & 1  \\\\\n",
       "\t50 & 53  & 0   & 0   & 138 & 234 & 0   & 0   & 160 & 0   & 0.0 & 2   & 0   & 2   & 1  \\\\\n",
       "\t51 & 51  & 0   & 2   & 130 & 256 & 0   & 0   & 149 & 0   & 0.5 & 2   & 0   & 2   & 1  \\\\\n",
       "\t54 & 44  & 0   & 2   & 108 & 141 & 0   & 1   & 175 & 0   & 0.6 & 1   & 0   & 2   & 1  \\\\\n",
       "\t55 & 63  & 0   & 2   & 135 & 252 & 0   & 0   & 172 & 0   & 0.0 & 2   & 0   & 2   & 1  \\\\\n",
       "\t60 & 57  & 0   & 0   & 128 & 303 & 0   & 0   & 159 & 0   & 0.0 & 2   & 1   & 2   & 1  \\\\\n",
       "\t61 & 71  & 0   & 2   & 110 & 265 & 1   & 0   & 130 & 0   & 0.0 & 2   & 1   & 2   & 1  \\\\\n",
       "\t66 & 35  & 0   & 0   & 138 & 183 & 0   & 1   & 182 & 0   & 1.4 & 2   & 0   & 2   & 1  \\\\\n",
       "\t68 & 45  & 0   & 1   & 130 & 234 & 0   & 0   & 175 & 0   & 0.6 & 1   & 0   & 2   & 1  \\\\\n",
       "\t70 & 62  & 0   & 0   & 124 & 209 & 0   & 1   & 163 & 0   & 0.0 & 2   & 0   & 2   & 1  \\\\\n",
       "\t75 & 43  & 0   & 2   & 122 & 213 & 0   & 1   & 165 & 0   & 0.2 & 1   & 0   & 2   & 1  \\\\\n",
       "\t76 & 55  & 0   & 1   & 135 & 250 & 0   & 0   & 161 & 0   & 1.4 & 1   & 0   & 2   & 1  \\\\\n",
       "\t... & ... & ... & ... & ... & ... & ... & ... & ... & ... & ... & ... & ... & ... & ...\\\\\n",
       "\t148 & 60  & 0   & 3   & 150 & 240 & 0   & 1   & 171 & 0   & 0.9 & 2   & 0   & 2   & 1  \\\\\n",
       "\t152 & 71  & 0   & 0   & 112 & 149 & 0   & 1   & 125 & 0   & 1.6 & 1   & 0   & 2   & 1  \\\\\n",
       "\t154 & 66  & 0   & 2   & 146 & 278 & 0   & 0   & 152 & 0   & 0.0 & 1   & 1   & 2   & 1  \\\\\n",
       "\t155 & 39  & 0   & 2   & 138 & 220 & 0   & 1   & 152 & 0   & 0.0 & 1   & 0   & 2   & 1  \\\\\n",
       "\t156 & 58  & 0   & 0   & 130 & 197 & 0   & 1   & 131 & 0   & 0.6 & 1   & 0   & 2   & 1  \\\\\n",
       "\t162 & 55  & 0   & 1   & 132 & 342 & 0   & 1   & 166 & 0   & 1.2 & 2   & 0   & 2   & 1  \\\\\n",
       "\t168 & 62  & 0   & 0   & 140 & 268 & 0   & 0   & 160 & 0   & 3.6 & 0   & 2   & 2   & 0  \\\\\n",
       "\t182 & 65  & 0   & 0   & 150 & 225 & 0   & 0   & 114 & 0   & 1.0 & 1   & 3   & 3   & 0  \\\\\n",
       "\t183 & 61  & 0   & 0   & 130 & 330 & 0   & 0   & 169 & 0   & 0.0 & 2   & 0   & 2   & 0  \\\\\n",
       "\t191 & 51  & 0   & 0   & 130 & 305 & 0   & 1   & 142 & 1   & 1.2 & 1   & 0   & 3   & 0  \\\\\n",
       "\t205 & 62  & 0   & 0   & 160 & 164 & 0   & 0   & 145 & 0   & 6.2 & 0   & 3   & 3   & 0  \\\\\n",
       "\t208 & 60  & 0   & 0   & 150 & 258 & 0   & 0   & 157 & 0   & 2.6 & 1   & 2   & 3   & 0  \\\\\n",
       "\t214 & 61  & 0   & 0   & 145 & 307 & 0   & 0   & 146 & 1   & 1.0 & 1   & 0   & 3   & 0  \\\\\n",
       "\t216 & 43  & 0   & 0   & 132 & 341 & 1   & 0   & 136 & 1   & 3.0 & 1   & 0   & 3   & 0  \\\\\n",
       "\t217 & 62  & 0   & 2   & 130 & 263 & 0   & 1   &  97 & 0   & 1.2 & 1   & 1   & 3   & 0  \\\\\n",
       "\t221 & 63  & 0   & 0   & 150 & 407 & 0   & 0   & 154 & 0   & 4.0 & 1   & 3   & 3   & 0  \\\\\n",
       "\t224 & 56  & 0   & 0   & 200 & 288 & 1   & 0   & 133 & 1   & 4.0 & 0   & 2   & 3   & 0  \\\\\n",
       "\t242 & 59  & 0   & 0   & 174 & 249 & 0   & 1   & 143 & 1   & 0.0 & 1   & 0   & 2   & 0  \\\\\n",
       "\t247 & 56  & 0   & 0   & 134 & 409 & 0   & 0   & 150 & 1   & 1.9 & 1   & 2   & 3   & 0  \\\\\n",
       "\t253 & 62  & 0   & 0   & 138 & 294 & 1   & 1   & 106 & 0   & 1.9 & 1   & 3   & 2   & 0  \\\\\n",
       "\t259 & 62  & 0   & 0   & 150 & 244 & 0   & 1   & 154 & 1   & 1.4 & 1   & 0   & 2   & 0  \\\\\n",
       "\t261 & 66  & 0   & 0   & 178 & 228 & 1   & 1   & 165 & 1   & 1.0 & 1   & 2   & 3   & 0  \\\\\n",
       "\t264 & 63  & 0   & 0   & 108 & 269 & 0   & 1   & 169 & 1   & 1.8 & 1   & 2   & 2   & 0  \\\\\n",
       "\t267 & 55  & 0   & 0   & 180 & 327 & 0   & 2   & 117 & 1   & 3.4 & 1   & 0   & 2   & 0  \\\\\n",
       "\t279 & 58  & 0   & 1   & 136 & 319 & 1   & 0   & 152 & 0   & 0.0 & 2   & 2   & 2   & 0  \\\\\n",
       "\t290 & 55  & 0   & 0   & 128 & 205 & 0   & 2   & 130 & 1   & 2.0 & 1   & 1   & 3   & 0  \\\\\n",
       "\t293 & 58  & 0   & 0   & 170 & 225 & 1   & 0   & 146 & 1   & 2.8 & 1   & 2   & 1   & 0  \\\\\n",
       "\t297 & 63  & 0   & 0   & 124 & 197 & 0   & 1   & 136 & 1   & 0.0 & 1   & 0   & 2   & 0  \\\\\n",
       "\t299 & 57  & 0   & 0   & 140 & 241 & 0   & 1   & 123 & 1   & 0.2 & 1   & 0   & 3   & 0  \\\\\n",
       "\t303 & 57  & 0   & 1   & 130 & 236 & 0   & 0   & 174 & 0   & 0.0 & 1   & 1   & 2   & 0  \\\\\n",
       "\\end{tabular}\n"
      ],
      "text/markdown": [
       "\n",
       "| <!--/--> | age | sex | cp | trestbps | chol | fbs | restecg | thalach | exang | oldpeak | slope | ca | thal | target | \n",
       "|---|---|---|---|---|---|---|---|---|---|---|---|---|---|---|---|---|---|---|---|---|---|---|---|---|---|---|---|---|---|---|---|---|---|---|---|---|---|---|---|---|---|---|---|---|---|---|---|---|---|---|---|---|---|---|---|---|---|---|---|---|\n",
       "| 3 | 41  | 0   | 1   | 130 | 204 | 0   | 0   | 172 | 0   | 1.4 | 2   | 0   | 2   | 1   | \n",
       "| 5 | 57  | 0   | 0   | 120 | 354 | 0   | 1   | 163 | 1   | 0.6 | 2   | 0   | 2   | 1   | \n",
       "| 7 | 56  | 0   | 1   | 140 | 294 | 0   | 0   | 153 | 0   | 1.3 | 1   | 0   | 2   | 1   | \n",
       "| 12 | 48  | 0   | 2   | 130 | 275 | 0   | 1   | 139 | 0   | 0.2 | 2   | 0   | 2   | 1   | \n",
       "| 15 | 58  | 0   | 3   | 150 | 283 | 1   | 0   | 162 | 0   | 1.0 | 2   | 0   | 2   | 1   | \n",
       "| 16 | 50  | 0   | 2   | 120 | 219 | 0   | 1   | 158 | 0   | 1.6 | 1   | 0   | 2   | 1   | \n",
       "| 17 | 58  | 0   | 2   | 120 | 340 | 0   | 1   | 172 | 0   | 0.0 | 2   | 0   | 2   | 1   | \n",
       "| 18 | 66  | 0   | 3   | 150 | 226 | 0   | 1   | 114 | 0   | 2.6 | 0   | 0   | 2   | 1   | \n",
       "| 20 | 69  | 0   | 3   | 140 | 239 | 0   | 1   | 151 | 0   | 1.8 | 2   | 2   | 2   | 1   | \n",
       "| 26 | 71  | 0   | 1   | 160 | 302 | 0   | 1   | 162 | 0   | 0.4 | 2   | 2   | 2   | 1   | \n",
       "| 29 | 65  | 0   | 2   | 140 | 417 | 1   | 0   | 157 | 0   | 0.8 | 2   | 1   | 2   | 1   | \n",
       "| 31 | 41  | 0   | 1   | 105 | 198 | 0   | 1   | 168 | 0   | 0.0 | 2   | 1   | 2   | 1   | \n",
       "| 36 | 46  | 0   | 2   | 142 | 177 | 0   | 0   | 160 | 1   | 1.4 | 0   | 0   | 2   | 1   | \n",
       "| 37 | 54  | 0   | 2   | 135 | 304 | 1   | 1   | 170 | 0   | 0.0 | 2   | 0   | 2   | 1   | \n",
       "| 39 | 65  | 0   | 2   | 155 | 269 | 0   | 1   | 148 | 0   | 0.8 | 2   | 0   | 2   | 1   | \n",
       "| 40 | 65  | 0   | 2   | 160 | 360 | 0   | 0   | 151 | 0   | 0.8 | 2   | 0   | 2   | 1   | \n",
       "| 41 | 51  | 0   | 2   | 140 | 308 | 0   | 0   | 142 | 0   | 1.5 | 2   | 1   | 2   | 1   | \n",
       "| 44 | 53  | 0   | 0   | 130 | 264 | 0   | 0   | 143 | 0   | 0.4 | 1   | 0   | 2   | 1   | \n",
       "| 49 | 53  | 0   | 2   | 128 | 216 | 0   | 0   | 115 | 0   | 0.0 | 2   | 0   | 0   | 1   | \n",
       "| 50 | 53  | 0   | 0   | 138 | 234 | 0   | 0   | 160 | 0   | 0.0 | 2   | 0   | 2   | 1   | \n",
       "| 51 | 51  | 0   | 2   | 130 | 256 | 0   | 0   | 149 | 0   | 0.5 | 2   | 0   | 2   | 1   | \n",
       "| 54 | 44  | 0   | 2   | 108 | 141 | 0   | 1   | 175 | 0   | 0.6 | 1   | 0   | 2   | 1   | \n",
       "| 55 | 63  | 0   | 2   | 135 | 252 | 0   | 0   | 172 | 0   | 0.0 | 2   | 0   | 2   | 1   | \n",
       "| 60 | 57  | 0   | 0   | 128 | 303 | 0   | 0   | 159 | 0   | 0.0 | 2   | 1   | 2   | 1   | \n",
       "| 61 | 71  | 0   | 2   | 110 | 265 | 1   | 0   | 130 | 0   | 0.0 | 2   | 1   | 2   | 1   | \n",
       "| 66 | 35  | 0   | 0   | 138 | 183 | 0   | 1   | 182 | 0   | 1.4 | 2   | 0   | 2   | 1   | \n",
       "| 68 | 45  | 0   | 1   | 130 | 234 | 0   | 0   | 175 | 0   | 0.6 | 1   | 0   | 2   | 1   | \n",
       "| 70 | 62  | 0   | 0   | 124 | 209 | 0   | 1   | 163 | 0   | 0.0 | 2   | 0   | 2   | 1   | \n",
       "| 75 | 43  | 0   | 2   | 122 | 213 | 0   | 1   | 165 | 0   | 0.2 | 1   | 0   | 2   | 1   | \n",
       "| 76 | 55  | 0   | 1   | 135 | 250 | 0   | 0   | 161 | 0   | 1.4 | 1   | 0   | 2   | 1   | \n",
       "| ... | ... | ... | ... | ... | ... | ... | ... | ... | ... | ... | ... | ... | ... | ... | \n",
       "| 148 | 60  | 0   | 3   | 150 | 240 | 0   | 1   | 171 | 0   | 0.9 | 2   | 0   | 2   | 1   | \n",
       "| 152 | 71  | 0   | 0   | 112 | 149 | 0   | 1   | 125 | 0   | 1.6 | 1   | 0   | 2   | 1   | \n",
       "| 154 | 66  | 0   | 2   | 146 | 278 | 0   | 0   | 152 | 0   | 0.0 | 1   | 1   | 2   | 1   | \n",
       "| 155 | 39  | 0   | 2   | 138 | 220 | 0   | 1   | 152 | 0   | 0.0 | 1   | 0   | 2   | 1   | \n",
       "| 156 | 58  | 0   | 0   | 130 | 197 | 0   | 1   | 131 | 0   | 0.6 | 1   | 0   | 2   | 1   | \n",
       "| 162 | 55  | 0   | 1   | 132 | 342 | 0   | 1   | 166 | 0   | 1.2 | 2   | 0   | 2   | 1   | \n",
       "| 168 | 62  | 0   | 0   | 140 | 268 | 0   | 0   | 160 | 0   | 3.6 | 0   | 2   | 2   | 0   | \n",
       "| 182 | 65  | 0   | 0   | 150 | 225 | 0   | 0   | 114 | 0   | 1.0 | 1   | 3   | 3   | 0   | \n",
       "| 183 | 61  | 0   | 0   | 130 | 330 | 0   | 0   | 169 | 0   | 0.0 | 2   | 0   | 2   | 0   | \n",
       "| 191 | 51  | 0   | 0   | 130 | 305 | 0   | 1   | 142 | 1   | 1.2 | 1   | 0   | 3   | 0   | \n",
       "| 205 | 62  | 0   | 0   | 160 | 164 | 0   | 0   | 145 | 0   | 6.2 | 0   | 3   | 3   | 0   | \n",
       "| 208 | 60  | 0   | 0   | 150 | 258 | 0   | 0   | 157 | 0   | 2.6 | 1   | 2   | 3   | 0   | \n",
       "| 214 | 61  | 0   | 0   | 145 | 307 | 0   | 0   | 146 | 1   | 1.0 | 1   | 0   | 3   | 0   | \n",
       "| 216 | 43  | 0   | 0   | 132 | 341 | 1   | 0   | 136 | 1   | 3.0 | 1   | 0   | 3   | 0   | \n",
       "| 217 | 62  | 0   | 2   | 130 | 263 | 0   | 1   |  97 | 0   | 1.2 | 1   | 1   | 3   | 0   | \n",
       "| 221 | 63  | 0   | 0   | 150 | 407 | 0   | 0   | 154 | 0   | 4.0 | 1   | 3   | 3   | 0   | \n",
       "| 224 | 56  | 0   | 0   | 200 | 288 | 1   | 0   | 133 | 1   | 4.0 | 0   | 2   | 3   | 0   | \n",
       "| 242 | 59  | 0   | 0   | 174 | 249 | 0   | 1   | 143 | 1   | 0.0 | 1   | 0   | 2   | 0   | \n",
       "| 247 | 56  | 0   | 0   | 134 | 409 | 0   | 0   | 150 | 1   | 1.9 | 1   | 2   | 3   | 0   | \n",
       "| 253 | 62  | 0   | 0   | 138 | 294 | 1   | 1   | 106 | 0   | 1.9 | 1   | 3   | 2   | 0   | \n",
       "| 259 | 62  | 0   | 0   | 150 | 244 | 0   | 1   | 154 | 1   | 1.4 | 1   | 0   | 2   | 0   | \n",
       "| 261 | 66  | 0   | 0   | 178 | 228 | 1   | 1   | 165 | 1   | 1.0 | 1   | 2   | 3   | 0   | \n",
       "| 264 | 63  | 0   | 0   | 108 | 269 | 0   | 1   | 169 | 1   | 1.8 | 1   | 2   | 2   | 0   | \n",
       "| 267 | 55  | 0   | 0   | 180 | 327 | 0   | 2   | 117 | 1   | 3.4 | 1   | 0   | 2   | 0   | \n",
       "| 279 | 58  | 0   | 1   | 136 | 319 | 1   | 0   | 152 | 0   | 0.0 | 2   | 2   | 2   | 0   | \n",
       "| 290 | 55  | 0   | 0   | 128 | 205 | 0   | 2   | 130 | 1   | 2.0 | 1   | 1   | 3   | 0   | \n",
       "| 293 | 58  | 0   | 0   | 170 | 225 | 1   | 0   | 146 | 1   | 2.8 | 1   | 2   | 1   | 0   | \n",
       "| 297 | 63  | 0   | 0   | 124 | 197 | 0   | 1   | 136 | 1   | 0.0 | 1   | 0   | 2   | 0   | \n",
       "| 299 | 57  | 0   | 0   | 140 | 241 | 0   | 1   | 123 | 1   | 0.2 | 1   | 0   | 3   | 0   | \n",
       "| 303 | 57  | 0   | 1   | 130 | 236 | 0   | 0   | 174 | 0   | 0.0 | 1   | 1   | 2   | 0   | \n",
       "\n",
       "\n"
      ],
      "text/plain": [
       "    age sex cp  trestbps chol fbs restecg thalach exang oldpeak slope ca  thal\n",
       "3   41  0   1   130      204  0   0       172     0     1.4     2     0   2   \n",
       "5   57  0   0   120      354  0   1       163     1     0.6     2     0   2   \n",
       "7   56  0   1   140      294  0   0       153     0     1.3     1     0   2   \n",
       "12  48  0   2   130      275  0   1       139     0     0.2     2     0   2   \n",
       "15  58  0   3   150      283  1   0       162     0     1.0     2     0   2   \n",
       "16  50  0   2   120      219  0   1       158     0     1.6     1     0   2   \n",
       "17  58  0   2   120      340  0   1       172     0     0.0     2     0   2   \n",
       "18  66  0   3   150      226  0   1       114     0     2.6     0     0   2   \n",
       "20  69  0   3   140      239  0   1       151     0     1.8     2     2   2   \n",
       "26  71  0   1   160      302  0   1       162     0     0.4     2     2   2   \n",
       "29  65  0   2   140      417  1   0       157     0     0.8     2     1   2   \n",
       "31  41  0   1   105      198  0   1       168     0     0.0     2     1   2   \n",
       "36  46  0   2   142      177  0   0       160     1     1.4     0     0   2   \n",
       "37  54  0   2   135      304  1   1       170     0     0.0     2     0   2   \n",
       "39  65  0   2   155      269  0   1       148     0     0.8     2     0   2   \n",
       "40  65  0   2   160      360  0   0       151     0     0.8     2     0   2   \n",
       "41  51  0   2   140      308  0   0       142     0     1.5     2     1   2   \n",
       "44  53  0   0   130      264  0   0       143     0     0.4     1     0   2   \n",
       "49  53  0   2   128      216  0   0       115     0     0.0     2     0   0   \n",
       "50  53  0   0   138      234  0   0       160     0     0.0     2     0   2   \n",
       "51  51  0   2   130      256  0   0       149     0     0.5     2     0   2   \n",
       "54  44  0   2   108      141  0   1       175     0     0.6     1     0   2   \n",
       "55  63  0   2   135      252  0   0       172     0     0.0     2     0   2   \n",
       "60  57  0   0   128      303  0   0       159     0     0.0     2     1   2   \n",
       "61  71  0   2   110      265  1   0       130     0     0.0     2     1   2   \n",
       "66  35  0   0   138      183  0   1       182     0     1.4     2     0   2   \n",
       "68  45  0   1   130      234  0   0       175     0     0.6     1     0   2   \n",
       "70  62  0   0   124      209  0   1       163     0     0.0     2     0   2   \n",
       "75  43  0   2   122      213  0   1       165     0     0.2     1     0   2   \n",
       "76  55  0   1   135      250  0   0       161     0     1.4     1     0   2   \n",
       "... ... ... ... ...      ...  ... ...     ...     ...   ...     ...   ... ... \n",
       "148 60  0   3   150      240  0   1       171     0     0.9     2     0   2   \n",
       "152 71  0   0   112      149  0   1       125     0     1.6     1     0   2   \n",
       "154 66  0   2   146      278  0   0       152     0     0.0     1     1   2   \n",
       "155 39  0   2   138      220  0   1       152     0     0.0     1     0   2   \n",
       "156 58  0   0   130      197  0   1       131     0     0.6     1     0   2   \n",
       "162 55  0   1   132      342  0   1       166     0     1.2     2     0   2   \n",
       "168 62  0   0   140      268  0   0       160     0     3.6     0     2   2   \n",
       "182 65  0   0   150      225  0   0       114     0     1.0     1     3   3   \n",
       "183 61  0   0   130      330  0   0       169     0     0.0     2     0   2   \n",
       "191 51  0   0   130      305  0   1       142     1     1.2     1     0   3   \n",
       "205 62  0   0   160      164  0   0       145     0     6.2     0     3   3   \n",
       "208 60  0   0   150      258  0   0       157     0     2.6     1     2   3   \n",
       "214 61  0   0   145      307  0   0       146     1     1.0     1     0   3   \n",
       "216 43  0   0   132      341  1   0       136     1     3.0     1     0   3   \n",
       "217 62  0   2   130      263  0   1        97     0     1.2     1     1   3   \n",
       "221 63  0   0   150      407  0   0       154     0     4.0     1     3   3   \n",
       "224 56  0   0   200      288  1   0       133     1     4.0     0     2   3   \n",
       "242 59  0   0   174      249  0   1       143     1     0.0     1     0   2   \n",
       "247 56  0   0   134      409  0   0       150     1     1.9     1     2   3   \n",
       "253 62  0   0   138      294  1   1       106     0     1.9     1     3   2   \n",
       "259 62  0   0   150      244  0   1       154     1     1.4     1     0   2   \n",
       "261 66  0   0   178      228  1   1       165     1     1.0     1     2   3   \n",
       "264 63  0   0   108      269  0   1       169     1     1.8     1     2   2   \n",
       "267 55  0   0   180      327  0   2       117     1     3.4     1     0   2   \n",
       "279 58  0   1   136      319  1   0       152     0     0.0     2     2   2   \n",
       "290 55  0   0   128      205  0   2       130     1     2.0     1     1   3   \n",
       "293 58  0   0   170      225  1   0       146     1     2.8     1     2   1   \n",
       "297 63  0   0   124      197  0   1       136     1     0.0     1     0   2   \n",
       "299 57  0   0   140      241  0   1       123     1     0.2     1     0   3   \n",
       "303 57  0   1   130      236  0   0       174     0     0.0     1     1   2   \n",
       "    target\n",
       "3   1     \n",
       "5   1     \n",
       "7   1     \n",
       "12  1     \n",
       "15  1     \n",
       "16  1     \n",
       "17  1     \n",
       "18  1     \n",
       "20  1     \n",
       "26  1     \n",
       "29  1     \n",
       "31  1     \n",
       "36  1     \n",
       "37  1     \n",
       "39  1     \n",
       "40  1     \n",
       "41  1     \n",
       "44  1     \n",
       "49  1     \n",
       "50  1     \n",
       "51  1     \n",
       "54  1     \n",
       "55  1     \n",
       "60  1     \n",
       "61  1     \n",
       "66  1     \n",
       "68  1     \n",
       "70  1     \n",
       "75  1     \n",
       "76  1     \n",
       "... ...   \n",
       "148 1     \n",
       "152 1     \n",
       "154 1     \n",
       "155 1     \n",
       "156 1     \n",
       "162 1     \n",
       "168 0     \n",
       "182 0     \n",
       "183 0     \n",
       "191 0     \n",
       "205 0     \n",
       "208 0     \n",
       "214 0     \n",
       "216 0     \n",
       "217 0     \n",
       "221 0     \n",
       "224 0     \n",
       "242 0     \n",
       "247 0     \n",
       "253 0     \n",
       "259 0     \n",
       "261 0     \n",
       "264 0     \n",
       "267 0     \n",
       "279 0     \n",
       "290 0     \n",
       "293 0     \n",
       "297 0     \n",
       "299 0     \n",
       "303 0     "
      ]
     },
     "metadata": {},
     "output_type": "display_data"
    }
   ],
   "source": [
    "df[df$sex == 0, ]"
   ]
  },
  {
   "cell_type": "code",
   "execution_count": 56,
   "metadata": {},
   "outputs": [
    {
     "data": {
      "image/png": "[encoded data removed]",
      "text/plain": [
       "Plot with title \"Histogram of df[df$sex == 0, ]$thalach\""
      ]
     },
     "metadata": {},
     "output_type": "display_data"
    },
    {
     "data": {
      "image/png": "[encoded data removed]",
      "text/plain": [
       "Plot with title \"Histogram of df[df$sex == 1, ]$thalach\""
      ]
     },
     "metadata": {},
     "output_type": "display_data"
    }
   ],
   "source": [
    "set.seed(42)\n",
    "hist(df[df$sex == 0, ]$thalach, breaks=10)\n",
    "hist(df[df$sex == 1, ]$thalach, breaks=10)"
   ]
  },
  {
   "cell_type": "code",
   "execution_count": 126,
   "metadata": {},
   "outputs": [],
   "source": [
    "klassenmax = head(as.double((substr(str_extract(levels(cut(df$thalach, 10)), ', ?([\\\\d\\\\.]*)'), 2, 1000))), -1)"
   ]
  },
  {
   "cell_type": "code",
   "execution_count": 127,
   "metadata": {},
   "outputs": [],
   "source": [
    "t1 = cut(df[df$sex == 0,]$thalach, klassenmax)"
   ]
  },
  {
   "cell_type": "code",
   "execution_count": 128,
   "metadata": {},
   "outputs": [],
   "source": [
    "t2 = cut(df[df$sex == 1,]$thalach, klassenmax)"
   ]
  },
  {
   "cell_type": "code",
   "execution_count": 129,
   "metadata": {},
   "outputs": [
    {
     "data": {
      "text/plain": [
       "t1\n",
       "(84.1,97.2]  (97.2,110]   (110,123]   (123,136]   (136,150]   (150,163] \n",
       "          2           1          11           8          14          35 \n",
       "  (163,176]   (176,189] \n",
       "         21           3 "
      ]
     },
     "metadata": {},
     "output_type": "display_data"
    }
   ],
   "source": [
    "table(t1)"
   ]
  },
  {
   "cell_type": "code",
   "execution_count": 130,
   "metadata": {},
   "outputs": [
    {
     "data": {
      "image/png": "[encoded data removed]",
      "text/plain": [
       "plot without title"
      ]
     },
     "metadata": {},
     "output_type": "display_data"
    }
   ],
   "source": [
    "barplot(table(t1))"
   ]
  },
  {
   "cell_type": "code",
   "execution_count": 131,
   "metadata": {},
   "outputs": [
    {
     "data": {
      "text/plain": [
       "t2\n",
       "(84.1,97.2]  (97.2,110]   (110,123]   (123,136]   (136,150]   (150,163] \n",
       "          4          10          15          27          46          44 \n",
       "  (163,176]   (176,189] \n",
       "         33          23 "
      ]
     },
     "metadata": {},
     "output_type": "display_data"
    }
   ],
   "source": [
    "table(t2)"
   ]
  },
  {
   "cell_type": "code",
   "execution_count": 132,
   "metadata": {},
   "outputs": [
    {
     "data": {
      "image/png": "[encoded data removed]",
      "text/plain": [
       "plot without title"
      ]
     },
     "metadata": {},
     "output_type": "display_data"
    }
   ],
   "source": [
    "barplot(table(t2))"
   ]
  },
  {
   "cell_type": "code",
   "execution_count": 133,
   "metadata": {},
   "outputs": [
    {
     "ename": "ERROR",
     "evalue": "Error in data.frame(klassenmax, table(t1)): arguments imply differing number of rows: 9, 8\n",
     "output_type": "error",
     "traceback": [
      "Error in data.frame(klassenmax, table(t1)): arguments imply differing number of rows: 9, 8\nTraceback:\n",
      "1. data.frame(klassenmax, table(t1))",
      "2. stop(gettextf(\"arguments imply differing number of rows: %s\", \n .     paste(unique(nrows), collapse = \", \")), domain = NA)"
     ]
    }
   ],
   "source": [
    "data.frame(klassenmax, table(t1))"
   ]
  },
  {
   "cell_type": "code",
   "execution_count": 134,
   "metadata": {},
   "outputs": [
    {
     "data": {
      "text/html": [
       "<ol class=list-inline>\n",
       "\t<li>84.1</li>\n",
       "\t<li>97.2</li>\n",
       "\t<li>110</li>\n",
       "\t<li>123</li>\n",
       "\t<li>136</li>\n",
       "\t<li>150</li>\n",
       "\t<li>163</li>\n",
       "\t<li>176</li>\n",
       "\t<li>189</li>\n",
       "</ol>\n"
      ],
      "text/latex": [
       "\\begin{enumerate*}\n",
       "\\item 84.1\n",
       "\\item 97.2\n",
       "\\item 110\n",
       "\\item 123\n",
       "\\item 136\n",
       "\\item 150\n",
       "\\item 163\n",
       "\\item 176\n",
       "\\item 189\n",
       "\\end{enumerate*}\n"
      ],
      "text/markdown": [
       "1. 84.1\n",
       "2. 97.2\n",
       "3. 110\n",
       "4. 123\n",
       "5. 136\n",
       "6. 150\n",
       "7. 163\n",
       "8. 176\n",
       "9. 189\n",
       "\n",
       "\n"
      ],
      "text/plain": [
       "[1]  84.1  97.2 110.0 123.0 136.0 150.0 163.0 176.0 189.0"
      ]
     },
     "metadata": {},
     "output_type": "display_data"
    }
   ],
   "source": [
    "klassenmax\n"
   ]
  },
  {
   "cell_type": "code",
   "execution_count": 135,
   "metadata": {},
   "outputs": [
    {
     "data": {
      "text/plain": [
       "t1\n",
       "(84.1,97.2]  (97.2,110]   (110,123]   (123,136]   (136,150]   (150,163] \n",
       "          2           1          11           8          14          35 \n",
       "  (163,176]   (176,189] \n",
       "         21           3 "
      ]
     },
     "metadata": {},
     "output_type": "display_data"
    }
   ],
   "source": [
    "table(t1)"
   ]
  },
  {
   "cell_type": "code",
   "execution_count": null,
   "metadata": {},
   "outputs": [],
   "source": []
  }
 ],
 "metadata": {
  "kernelspec": {
   "display_name": "R",
   "language": "R",
   "name": "ir"
  },
  "language_info": {
   "codemirror_mode": "r",
   "file_extension": ".r",
   "mimetype": "text/x-r-source",
   "name": "R",
   "pygments_lexer": "r",
   "version": "3.5.0"
  }
 },
 "nbformat": 4,
 "nbformat_minor": 2
}
