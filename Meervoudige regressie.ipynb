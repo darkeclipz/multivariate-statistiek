{
 "cells": [
  {
   "cell_type": "markdown",
   "metadata": {},
   "source": [
    "# Data"
   ]
  },
  {
   "cell_type": "markdown",
   "metadata": {},
   "source": [
    "Bij een onderzoek naar de studieresultaten van de eerstejaarsstudenten economie wordt bekeken hoe deze resultaten mogelijk samenhangen met de eindexamenresultaten op de middelbare school en de leeftijd van de studenten."
   ]
  },
  {
   "cell_type": "code",
   "execution_count": 3,
   "metadata": {},
   "outputs": [],
   "source": [
    "student = 1:10\n",
    "gem.prop.cijfer = c(4.8, 5.2, 5.5, 6, 6.1, 6.5, 6.8, 7, 7.7, 8.2)\n",
    "wisk.examen = c(5,6,5,6,7,8,7,9,8,9)\n",
    "ec.examen = c(6,8,7,6,6,8,9,6,8,7)\n",
    "leeftijd = c(20,18,23,21,22,19,17,18,19,18)"
   ]
  },
  {
   "cell_type": "code",
   "execution_count": 4,
   "metadata": {},
   "outputs": [
    {
     "data": {
      "text/html": [
       "<table>\n",
       "<thead><tr><th scope=col>student</th><th scope=col>gem.prop.cijfer</th><th scope=col>wisk.examen</th><th scope=col>ec.examen</th><th scope=col>leeftijd</th></tr></thead>\n",
       "<tbody>\n",
       "\t<tr><td> 1 </td><td>4.8</td><td>5  </td><td>6  </td><td>20 </td></tr>\n",
       "\t<tr><td> 2 </td><td>5.2</td><td>6  </td><td>8  </td><td>18 </td></tr>\n",
       "\t<tr><td> 3 </td><td>5.5</td><td>5  </td><td>7  </td><td>23 </td></tr>\n",
       "\t<tr><td> 4 </td><td>6.0</td><td>6  </td><td>6  </td><td>21 </td></tr>\n",
       "\t<tr><td> 5 </td><td>6.1</td><td>7  </td><td>6  </td><td>22 </td></tr>\n",
       "\t<tr><td> 6 </td><td>6.5</td><td>8  </td><td>8  </td><td>19 </td></tr>\n",
       "\t<tr><td> 7 </td><td>6.8</td><td>7  </td><td>9  </td><td>17 </td></tr>\n",
       "\t<tr><td> 8 </td><td>7.0</td><td>9  </td><td>6  </td><td>18 </td></tr>\n",
       "\t<tr><td> 9 </td><td>7.7</td><td>8  </td><td>8  </td><td>19 </td></tr>\n",
       "\t<tr><td>10 </td><td>8.2</td><td>9  </td><td>7  </td><td>18 </td></tr>\n",
       "</tbody>\n",
       "</table>\n"
      ],
      "text/latex": [
       "\\begin{tabular}{r|lllll}\n",
       " student & gem.prop.cijfer & wisk.examen & ec.examen & leeftijd\\\\\n",
       "\\hline\n",
       "\t  1  & 4.8 & 5   & 6   & 20 \\\\\n",
       "\t  2  & 5.2 & 6   & 8   & 18 \\\\\n",
       "\t  3  & 5.5 & 5   & 7   & 23 \\\\\n",
       "\t  4  & 6.0 & 6   & 6   & 21 \\\\\n",
       "\t  5  & 6.1 & 7   & 6   & 22 \\\\\n",
       "\t  6  & 6.5 & 8   & 8   & 19 \\\\\n",
       "\t  7  & 6.8 & 7   & 9   & 17 \\\\\n",
       "\t  8  & 7.0 & 9   & 6   & 18 \\\\\n",
       "\t  9  & 7.7 & 8   & 8   & 19 \\\\\n",
       "\t 10  & 8.2 & 9   & 7   & 18 \\\\\n",
       "\\end{tabular}\n"
      ],
      "text/markdown": [
       "\n",
       "student | gem.prop.cijfer | wisk.examen | ec.examen | leeftijd | \n",
       "|---|---|---|---|---|---|---|---|---|---|\n",
       "|  1  | 4.8 | 5   | 6   | 20  | \n",
       "|  2  | 5.2 | 6   | 8   | 18  | \n",
       "|  3  | 5.5 | 5   | 7   | 23  | \n",
       "|  4  | 6.0 | 6   | 6   | 21  | \n",
       "|  5  | 6.1 | 7   | 6   | 22  | \n",
       "|  6  | 6.5 | 8   | 8   | 19  | \n",
       "|  7  | 6.8 | 7   | 9   | 17  | \n",
       "|  8  | 7.0 | 9   | 6   | 18  | \n",
       "|  9  | 7.7 | 8   | 8   | 19  | \n",
       "| 10  | 8.2 | 9   | 7   | 18  | \n",
       "\n",
       "\n"
      ],
      "text/plain": [
       "   student gem.prop.cijfer wisk.examen ec.examen leeftijd\n",
       "1   1      4.8             5           6         20      \n",
       "2   2      5.2             6           8         18      \n",
       "3   3      5.5             5           7         23      \n",
       "4   4      6.0             6           6         21      \n",
       "5   5      6.1             7           6         22      \n",
       "6   6      6.5             8           8         19      \n",
       "7   7      6.8             7           9         17      \n",
       "8   8      7.0             9           6         18      \n",
       "9   9      7.7             8           8         19      \n",
       "10 10      8.2             9           7         18      "
      ]
     },
     "metadata": {},
     "output_type": "display_data"
    }
   ],
   "source": [
    "df = data.frame(student, gem.prop.cijfer, wisk.examen, ec.examen, leeftijd)\n",
    "df"
   ]
  },
  {
   "cell_type": "markdown",
   "metadata": {},
   "source": [
    "# Meervoudige regressiemodel"
   ]
  },
  {
   "cell_type": "markdown",
   "metadata": {},
   "source": [
    "Het theoretische model luidt:\n",
    "\n",
    "$$ \\underline{Y} = \\beta_0 + \\beta_1 X_1 + \\beta_2 X_2 + \\ldots + \\beta_kX_k + \\epsilon $$"
   ]
  },
  {
   "cell_type": "markdown",
   "metadata": {},
   "source": [
    "hiervan worden $\\beta_0$ tot en met $\\beta_k$ geschat door de grootheden $b_0$ to en met $b_k$, zodat het volgende geschatte model ontstaat:"
   ]
  },
  {
   "cell_type": "markdown",
   "metadata": {},
   "source": [
    "$$ \\underline{Y} = b_0 + b_1X_1 + b_2X_2 + \\ldots + b_kX_k + \\epsilon $$"
   ]
  },
  {
   "cell_type": "markdown",
   "metadata": {},
   "source": [
    "De parameters $b_0$ tot en met $b_k$ worden bepaald met de kleinste kwadratenmethode. De voorspelde Y-waarde kunnen we berekenen zodra we de vergelijking $Y^c = b_0 + b_1X_1 + \\ldots + b_kX_k$ kennen. Het doel is om de uitdrukking $\\sum e_i^2$ te minimaliseren. We beschouwen eerst de uitdrukking:\n",
    "\n",
    "$$ \\sum e^2_i = \\sum\\left( Y_i - b_0 - b_1X_{1i} - b_2X_{2i} \\right)^2 $$\n",
    "\n",
    "Van deze uitdrukking nemen we de afgeleide naar $b_0, b_1, b_2$, het resultaat is een drietal vergelijkingen, de zogenoemde normaalvergelijkingen.\n",
    "\n",
    "1. $\\sum Y_i = nb_0 + b_1 \\sum X_{1i} + b_2 \\sum X_{2i}$\n",
    "2. $\\sum X_{1i}Y_i = b_0 \\sum X_{1i} + b_1 \\sum X_{1i}^2 + b_2 \\sum X_{1i}X_{2i}$\n",
    "3. $\\sum X_{2i}Y_i = b_0 \\sum X_{2i} + b_1 \\sum X_{1i}X_{2i} + b_2 \\sum X_{2i}^2$\n",
    "\n",
    "Omdat de waarnemingen $(Y_i, X_{1i}, X_{2i}$ gegeven zijn, kunnen we alle sommaties berekenen. Daarom leveren de normaalvergelijkingen drie lineaire vergelijkingen met drie onbekende, zodat $b_0$, $b_1$ en $b_2$ opgelost kunnen worden. "
   ]
  },
  {
   "cell_type": "code",
   "execution_count": 12,
   "metadata": {},
   "outputs": [],
   "source": [
    "Y = unlist(df$gem.prop.cijfer)\n",
    "X1 = unlist(df$wisk.examen)\n",
    "X2 = unlist(df$ec.examen)"
   ]
  },
  {
   "cell_type": "markdown",
   "metadata": {},
   "source": [
    "Eerste berekenen we alle sommaties zodat we de drie lineaire vergelijkingen kunnen opstellen."
   ]
  },
  {
   "cell_type": "code",
   "execution_count": 14,
   "metadata": {},
   "outputs": [
    {
     "data": {
      "text/html": [
       "<ol class=list-inline>\n",
       "\t<li>63.8</li>\n",
       "\t<li>70</li>\n",
       "\t<li>71</li>\n",
       "\t<li>459.4</li>\n",
       "\t<li>510</li>\n",
       "\t<li>499</li>\n",
       "\t<li>455.7</li>\n",
       "\t<li>515</li>\n",
       "</ol>\n"
      ],
      "text/latex": [
       "\\begin{enumerate*}\n",
       "\\item 63.8\n",
       "\\item 70\n",
       "\\item 71\n",
       "\\item 459.4\n",
       "\\item 510\n",
       "\\item 499\n",
       "\\item 455.7\n",
       "\\item 515\n",
       "\\end{enumerate*}\n"
      ],
      "text/markdown": [
       "1. 63.8\n",
       "2. 70\n",
       "3. 71\n",
       "4. 459.4\n",
       "5. 510\n",
       "6. 499\n",
       "7. 455.7\n",
       "8. 515\n",
       "\n",
       "\n"
      ],
      "text/plain": [
       "[1]  63.8  70.0  71.0 459.4 510.0 499.0 455.7 515.0"
      ]
     },
     "metadata": {},
     "output_type": "display_data"
    }
   ],
   "source": [
    "SY = sum(Y)\n",
    "SX1 = sum(X1)\n",
    "SX2 = sum(X2)\n",
    "SX1Y = sum(X1*Y)\n",
    "SX1_2 = sum(X1^2)\n",
    "SX1X2 = sum(X1*X2)\n",
    "SX2Y = sum(X2*Y)\n",
    "SX2_2 = sum(X2^2)\n",
    "c(SY, SX1, SX2, SX1Y, SX1_2, SX1X2, SX2Y, SX2_2)"
   ]
  },
  {
   "cell_type": "markdown",
   "metadata": {},
   "source": [
    "Hieruit volgt dat er de volgende drie lineaire vergelijkingen onstaan:"
   ]
  },
  {
   "cell_type": "markdown",
   "metadata": {},
   "source": [
    "1. $63.8 = 10b_0 + 70b_1 + 71b_2$\n",
    "2. $459.4 = 70b_0 + 510b_1 + 499b_2$\n",
    "3. $455.7 = 71b_0 + 499b_1 + 515b_2$\n",
    "\n",
    "Deze kunnen we gemakkelijk oplossen met R:"
   ]
  },
  {
   "cell_type": "code",
   "execution_count": 21,
   "metadata": {},
   "outputs": [
    {
     "data": {
      "text/html": [
       "<ol class=list-inline>\n",
       "\t<li>1.03869158878503</li>\n",
       "\t<li>0.626542056074767</li>\n",
       "\t<li>0.134579439252338</li>\n",
       "</ol>\n"
      ],
      "text/latex": [
       "\\begin{enumerate*}\n",
       "\\item 1.03869158878503\n",
       "\\item 0.626542056074767\n",
       "\\item 0.134579439252338\n",
       "\\end{enumerate*}\n"
      ],
      "text/markdown": [
       "1. 1.03869158878503\n",
       "2. 0.626542056074767\n",
       "3. 0.134579439252338\n",
       "\n",
       "\n"
      ],
      "text/plain": [
       "[1] 1.0386916 0.6265421 0.1345794"
      ]
     },
     "metadata": {},
     "output_type": "display_data"
    }
   ],
   "source": [
    "A = cbind(c(10, 70, 71), c(70, 510, 499), c(71, 499, 515))\n",
    "b = c(63.8, 459.4, 455.7)\n",
    "x = solve(A,b)\n",
    "x"
   ]
  },
  {
   "cell_type": "markdown",
   "metadata": {},
   "source": [
    "De oplossing voor de vergelijking is dus $b_0 = 1.03869, b_1 = 0.626542$ en $b_2 = 0.134579$. Dit leidt tot de vergelijking: $Y^c = 1.04 + 0.63X_1 + 0.13X_2$. Dus voor een student met $X_1 = 7$ en $X_2 = 7$ vinden we dus als voorspelling:"
   ]
  },
  {
   "cell_type": "code",
   "execution_count": 17,
   "metadata": {},
   "outputs": [
    {
     "data": {
      "text/html": [
       "6.36"
      ],
      "text/latex": [
       "6.36"
      ],
      "text/markdown": [
       "6.36"
      ],
      "text/plain": [
       "[1] 6.36"
      ]
     },
     "metadata": {},
     "output_type": "display_data"
    }
   ],
   "source": [
    "Yc = 1.04 + 0.63 * 7 + 0.13 * 7; Yc"
   ]
  },
  {
   "cell_type": "markdown",
   "metadata": {},
   "source": [
    "# Correlatiematrix"
   ]
  },
  {
   "cell_type": "markdown",
   "metadata": {},
   "source": [
    "Met $r_{ij}$ geven we de correlatie aan va nde variabele $X_i$ met $X_j$. Deze vorm van correlatie, die iets zegt over de onderlinge samenhang van verklarende variabelen, wordt _collineariteit_ genoemd. Het is gebruikelijk om alle berekende correlatiecoefficienten te plaatsen in een schema dat de _correlatiematrix_ wordt genoemd."
   ]
  },
  {
   "cell_type": "code",
   "execution_count": 18,
   "metadata": {
    "scrolled": true
   },
   "outputs": [
    {
     "data": {
      "text/html": [
       "<table>\n",
       "<thead><tr><th></th><th scope=col>student</th><th scope=col>gem.prop.cijfer</th><th scope=col>wisk.examen</th><th scope=col>ec.examen</th><th scope=col>leeftijd</th></tr></thead>\n",
       "<tbody>\n",
       "\t<tr><th scope=row>student</th><td> 1.0000000</td><td> 0.9913582</td><td> 0.9108770</td><td> 0.2501042</td><td>-0.4779733</td></tr>\n",
       "\t<tr><th scope=row>gem.prop.cijfer</th><td> 0.9913582</td><td> 1.0000000</td><td> 0.8826117</td><td> 0.2540565</td><td>-0.4620062</td></tr>\n",
       "\t<tr><th scope=row>wisk.examen</th><td> 0.9108770</td><td> 0.8826117</td><td> 1.0000000</td><td> 0.1354571</td><td>-0.5710402</td></tr>\n",
       "\t<tr><th scope=row>ec.examen</th><td> 0.2501042</td><td> 0.2540565</td><td> 0.1354571</td><td> 1.0000000</td><td>-0.5414602</td></tr>\n",
       "\t<tr><th scope=row>leeftijd</th><td>-0.4779733</td><td>-0.4620062</td><td>-0.5710402</td><td>-0.5414602</td><td> 1.0000000</td></tr>\n",
       "</tbody>\n",
       "</table>\n"
      ],
      "text/latex": [
       "\\begin{tabular}{r|lllll}\n",
       "  & student & gem.prop.cijfer & wisk.examen & ec.examen & leeftijd\\\\\n",
       "\\hline\n",
       "\tstudent &  1.0000000 &  0.9913582 &  0.9108770 &  0.2501042 & -0.4779733\\\\\n",
       "\tgem.prop.cijfer &  0.9913582 &  1.0000000 &  0.8826117 &  0.2540565 & -0.4620062\\\\\n",
       "\twisk.examen &  0.9108770 &  0.8826117 &  1.0000000 &  0.1354571 & -0.5710402\\\\\n",
       "\tec.examen &  0.2501042 &  0.2540565 &  0.1354571 &  1.0000000 & -0.5414602\\\\\n",
       "\tleeftijd & -0.4779733 & -0.4620062 & -0.5710402 & -0.5414602 &  1.0000000\\\\\n",
       "\\end{tabular}\n"
      ],
      "text/markdown": [
       "\n",
       "| <!--/--> | student | gem.prop.cijfer | wisk.examen | ec.examen | leeftijd | \n",
       "|---|---|---|---|---|\n",
       "| student |  1.0000000 |  0.9913582 |  0.9108770 |  0.2501042 | -0.4779733 | \n",
       "| gem.prop.cijfer |  0.9913582 |  1.0000000 |  0.8826117 |  0.2540565 | -0.4620062 | \n",
       "| wisk.examen |  0.9108770 |  0.8826117 |  1.0000000 |  0.1354571 | -0.5710402 | \n",
       "| ec.examen |  0.2501042 |  0.2540565 |  0.1354571 |  1.0000000 | -0.5414602 | \n",
       "| leeftijd | -0.4779733 | -0.4620062 | -0.5710402 | -0.5414602 |  1.0000000 | \n",
       "\n",
       "\n"
      ],
      "text/plain": [
       "                student    gem.prop.cijfer wisk.examen ec.examen  leeftijd  \n",
       "student          1.0000000  0.9913582       0.9108770   0.2501042 -0.4779733\n",
       "gem.prop.cijfer  0.9913582  1.0000000       0.8826117   0.2540565 -0.4620062\n",
       "wisk.examen      0.9108770  0.8826117       1.0000000   0.1354571 -0.5710402\n",
       "ec.examen        0.2501042  0.2540565       0.1354571   1.0000000 -0.5414602\n",
       "leeftijd        -0.4779733 -0.4620062      -0.5710402  -0.5414602  1.0000000"
      ]
     },
     "metadata": {},
     "output_type": "display_data"
    }
   ],
   "source": [
    "cor(df)"
   ]
  },
  {
   "cell_type": "code",
   "execution_count": 19,
   "metadata": {},
   "outputs": [
    {
     "data": {
      "text/html": [
       "0.135457092295719"
      ],
      "text/latex": [
       "0.135457092295719"
      ],
      "text/markdown": [
       "0.135457092295719"
      ],
      "text/plain": [
       "[1] 0.1354571"
      ]
     },
     "metadata": {},
     "output_type": "display_data"
    }
   ],
   "source": [
    "cov(X1, X2) / (sd(X1) * sd(X2))"
   ]
  },
  {
   "cell_type": "markdown",
   "metadata": {},
   "source": [
    "# Meervoudige correlatie"
   ]
  },
  {
   "cell_type": "markdown",
   "metadata": {},
   "source": [
    "## Determinatiecoefficient"
   ]
  },
  {
   "cell_type": "markdown",
   "metadata": {},
   "source": [
    "Bij enkelvoudige lineaire regressie kwamen we al in aanraking met het begrip determinatiecoefficient $R^2$. Dit is een belangrijke maatstaaf om vast te stellen in hoeverre de variantie van de variabele $Y$ verklaard wordt door de variabele $X$. "
   ]
  },
  {
   "cell_type": "markdown",
   "metadata": {},
   "source": [
    "1. Totale spreiding $ = SST = \\sum (Y_i - \\bar{Y})^2$\n",
    "2. Verklaarde spreiding $ = SSR = \\sum (Y_i^c - \\bar{Y})^2$\n",
    "3. Onverklaarde spreiding $ = SSE = \\sum ( Y_i^c - Y_i)^2$\n",
    "\n",
    "waarvoor geldt dat $SST = SSR + SSE$."
   ]
  },
  {
   "cell_type": "code",
   "execution_count": 22,
   "metadata": {},
   "outputs": [],
   "source": [
    "Yc =  x[1] + x[2] * X1 + x[3] * X2"
   ]
  },
  {
   "cell_type": "code",
   "execution_count": 25,
   "metadata": {},
   "outputs": [
    {
     "data": {
      "text/html": [
       "10.516"
      ],
      "text/latex": [
       "10.516"
      ],
      "text/markdown": [
       "10.516"
      ],
      "text/plain": [
       "[1] 10.516"
      ]
     },
     "metadata": {},
     "output_type": "display_data"
    },
    {
     "data": {
      "text/html": [
       "8.38579439252339"
      ],
      "text/latex": [
       "8.38579439252339"
      ],
      "text/markdown": [
       "8.38579439252339"
      ],
      "text/plain": [
       "[1] 8.385794"
      ]
     },
     "metadata": {},
     "output_type": "display_data"
    },
    {
     "data": {
      "text/html": [
       "2.13020560747664"
      ],
      "text/latex": [
       "2.13020560747664"
      ],
      "text/markdown": [
       "2.13020560747664"
      ],
      "text/plain": [
       "[1] 2.130206"
      ]
     },
     "metadata": {},
     "output_type": "display_data"
    }
   ],
   "source": [
    "SST = sum((Y - mean(Y))^2)\n",
    "SSR = sum((Yc - mean(Y))^2)\n",
    "SSE = sum((Yc - Y)^2)\n",
    "SST; SSR; SSE"
   ]
  },
  {
   "cell_type": "markdown",
   "metadata": {},
   "source": [
    "De determinatiecoefficient $R^2$ is gedefinieerd als:\n",
    "\n",
    "$$ R^2 = 1 - \\dfrac{\\sum e_i^2}{ \\sum(Y_i - \\bar{Y})^2} = 1 - \\dfrac{SSE}{SST}$$"
   ]
  },
  {
   "cell_type": "code",
   "execution_count": 27,
   "metadata": {},
   "outputs": [
    {
     "data": {
      "text/html": [
       "0.797431950601309"
      ],
      "text/latex": [
       "0.797431950601309"
      ],
      "text/markdown": [
       "0.797431950601309"
      ],
      "text/plain": [
       "[1] 0.797432"
      ]
     },
     "metadata": {},
     "output_type": "display_data"
    }
   ],
   "source": [
    "R2 = 1 - SSE / SST\n",
    "R2"
   ]
  },
  {
   "cell_type": "code",
   "execution_count": null,
   "metadata": {},
   "outputs": [],
   "source": []
  }
 ],
 "metadata": {
  "kernelspec": {
   "display_name": "R",
   "language": "R",
   "name": "ir"
  },
  "language_info": {
   "codemirror_mode": "r",
   "file_extension": ".r",
   "mimetype": "text/x-r-source",
   "name": "R",
   "pygments_lexer": "r",
   "version": "3.4.4"
  }
 },
 "nbformat": 4,
 "nbformat_minor": 2
}
