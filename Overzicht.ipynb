{
 "cells": [
  {
   "cell_type": "markdown",
   "metadata": {},
   "source": [
    "Voor multivariate statistiek wordt er gebruik gemaakt van de onderstaande linkjes:\n",
    "\n",
    " * [Least Squares Regression](http://www.cyclismo.org/tutorial/R/linearLeastSquares.html)\n",
    " * [Covariance Matrix](https://stattrek.com/matrix-algebra/covariance-matrix.aspx)\n",
    " * [MapleTA](https://nhltechniek.mapleta.com/nhltechniek/login)\n",
    " * [The R Book](https://www.cs.upc.edu/~robert/teaching/estadistica/TheRBook.pdf)\n",
    " * [Blackboard](https://blackboard.nhlstenden.com/webapps/blackboard/execute/announcement?method=search&context=course_entry&course_id=_19105_1&handle=announcements_entry&mode=view)\n",
    " * [Statistics using R](http://www.agr.unideb.hu/~baloghp/Statistics/Crawley_Statistics_An%20introduction%20using%20R/Statistics_Using%20R_2nd_Edition.pdf)\n",
    " * [Diagnostic plots](https://data.library.virginia.edu/diagnostic-plots/)\n"
   ]
  },
  {
   "cell_type": "code",
   "execution_count": null,
   "metadata": {},
   "outputs": [],
   "source": []
  }
 ],
 "metadata": {
  "kernelspec": {
   "display_name": "R",
   "language": "R",
   "name": "ir"
  },
  "language_info": {
   "codemirror_mode": "r",
   "file_extension": ".r",
   "mimetype": "text/x-r-source",
   "name": "R",
   "pygments_lexer": "r",
   "version": "3.4.4"
  }
 },
 "nbformat": 4,
 "nbformat_minor": 2
}
