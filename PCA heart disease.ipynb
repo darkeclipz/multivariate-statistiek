{
 "cells": [
  {
   "cell_type": "markdown",
   "metadata": {},
   "source": [
    "# Inleiding"
   ]
  },
  {
   "cell_type": "markdown",
   "metadata": {},
   "source": [
    "In het voorgaande onderzoek is er gekeken met meervoudige regressie, en logistische regressie, of er verbanden zijn te vinden binnen de dataset. \n",
    "\n",
    "Met de meervoudige regressie was het lastig om een goed model op te stellen. De oorzaak hiervan is dat er bijna geen onderlinge correlatie tussen de variabelen is te vinden. Het doel was om `thalanch` te schatten a.d.h.v. de overige ratio variabelen. Het best verkregen model hiervoor had een $R^2$ van $0.229$, wat in onze ogen onbruikbaar is.\n",
    "\n",
    "Met de tweede opdracht, logistische regressie, is er gekeken of er een verband bestaat tussen `thalach` (maximaal behaalde hartslag) and `exang` (optreden van borstpijn tijdens de oefening). Hiervoor is een logistisch regressiemodel opgesteld en is een correlatiecoëfficiënt van $0.9$ gevonden, wat aantoont dat er een sterk positief verband is tussen de variabelen.\n",
    "\n",
    "In de laatste opdracht, de principele componenten analyse, wordt er gekeken welke variabelen invloed hebben om de `target` kolom (wel/geen hartziekte). Op deze manier kan er misschien worden bepaald welke  variabelen invloed hebben of op iemand een hartziekte heeft."
   ]
  },
  {
   "cell_type": "markdown",
   "metadata": {},
   "source": [
    "# Data inlezen"
   ]
  },
  {
   "cell_type": "markdown",
   "metadata": {},
   "source": [
    "Om te beginnen met de principele componenten analyse (PCA), worden eerst de gegevens ingeladen. Vervolgens wordt de kolomnaam voor `age` hersteld. "
   ]
  },
  {
   "cell_type": "code",
   "execution_count": 1,
   "metadata": {
    "scrolled": true
   },
   "outputs": [
    {
     "data": {
      "text/html": [
       "<table>\n",
       "<thead><tr><th scope=col>age</th><th scope=col>sex</th><th scope=col>cp</th><th scope=col>trestbps</th><th scope=col>chol</th><th scope=col>fbs</th><th scope=col>restecg</th><th scope=col>thalach</th><th scope=col>exang</th><th scope=col>oldpeak</th><th scope=col>slope</th><th scope=col>ca</th><th scope=col>thal</th><th scope=col>target</th></tr></thead>\n",
       "<tbody>\n",
       "\t<tr><td>63 </td><td>1  </td><td>3  </td><td>145</td><td>233</td><td>1  </td><td>0  </td><td>150</td><td>0  </td><td>2.3</td><td>0  </td><td>0  </td><td>1  </td><td>1  </td></tr>\n",
       "\t<tr><td>37 </td><td>1  </td><td>2  </td><td>130</td><td>250</td><td>0  </td><td>1  </td><td>187</td><td>0  </td><td>3.5</td><td>0  </td><td>0  </td><td>2  </td><td>1  </td></tr>\n",
       "\t<tr><td>41 </td><td>0  </td><td>1  </td><td>130</td><td>204</td><td>0  </td><td>0  </td><td>172</td><td>0  </td><td>1.4</td><td>2  </td><td>0  </td><td>2  </td><td>1  </td></tr>\n",
       "\t<tr><td>56 </td><td>1  </td><td>1  </td><td>120</td><td>236</td><td>0  </td><td>1  </td><td>178</td><td>0  </td><td>0.8</td><td>2  </td><td>0  </td><td>2  </td><td>1  </td></tr>\n",
       "\t<tr><td>57 </td><td>0  </td><td>0  </td><td>120</td><td>354</td><td>0  </td><td>1  </td><td>163</td><td>1  </td><td>0.6</td><td>2  </td><td>0  </td><td>2  </td><td>1  </td></tr>\n",
       "\t<tr><td>57 </td><td>1  </td><td>0  </td><td>140</td><td>192</td><td>0  </td><td>1  </td><td>148</td><td>0  </td><td>0.4</td><td>1  </td><td>0  </td><td>1  </td><td>1  </td></tr>\n",
       "</tbody>\n",
       "</table>\n"
      ],
      "text/latex": [
       "\\begin{tabular}{r|llllllllllllll}\n",
       " age & sex & cp & trestbps & chol & fbs & restecg & thalach & exang & oldpeak & slope & ca & thal & target\\\\\n",
       "\\hline\n",
       "\t 63  & 1   & 3   & 145 & 233 & 1   & 0   & 150 & 0   & 2.3 & 0   & 0   & 1   & 1  \\\\\n",
       "\t 37  & 1   & 2   & 130 & 250 & 0   & 1   & 187 & 0   & 3.5 & 0   & 0   & 2   & 1  \\\\\n",
       "\t 41  & 0   & 1   & 130 & 204 & 0   & 0   & 172 & 0   & 1.4 & 2   & 0   & 2   & 1  \\\\\n",
       "\t 56  & 1   & 1   & 120 & 236 & 0   & 1   & 178 & 0   & 0.8 & 2   & 0   & 2   & 1  \\\\\n",
       "\t 57  & 0   & 0   & 120 & 354 & 0   & 1   & 163 & 1   & 0.6 & 2   & 0   & 2   & 1  \\\\\n",
       "\t 57  & 1   & 0   & 140 & 192 & 0   & 1   & 148 & 0   & 0.4 & 1   & 0   & 1   & 1  \\\\\n",
       "\\end{tabular}\n"
      ],
      "text/markdown": [
       "\n",
       "age | sex | cp | trestbps | chol | fbs | restecg | thalach | exang | oldpeak | slope | ca | thal | target | \n",
       "|---|---|---|---|---|---|\n",
       "| 63  | 1   | 3   | 145 | 233 | 1   | 0   | 150 | 0   | 2.3 | 0   | 0   | 1   | 1   | \n",
       "| 37  | 1   | 2   | 130 | 250 | 0   | 1   | 187 | 0   | 3.5 | 0   | 0   | 2   | 1   | \n",
       "| 41  | 0   | 1   | 130 | 204 | 0   | 0   | 172 | 0   | 1.4 | 2   | 0   | 2   | 1   | \n",
       "| 56  | 1   | 1   | 120 | 236 | 0   | 1   | 178 | 0   | 0.8 | 2   | 0   | 2   | 1   | \n",
       "| 57  | 0   | 0   | 120 | 354 | 0   | 1   | 163 | 1   | 0.6 | 2   | 0   | 2   | 1   | \n",
       "| 57  | 1   | 0   | 140 | 192 | 0   | 1   | 148 | 0   | 0.4 | 1   | 0   | 1   | 1   | \n",
       "\n",
       "\n"
      ],
      "text/plain": [
       "  age sex cp trestbps chol fbs restecg thalach exang oldpeak slope ca thal\n",
       "1 63  1   3  145      233  1   0       150     0     2.3     0     0  1   \n",
       "2 37  1   2  130      250  0   1       187     0     3.5     0     0  2   \n",
       "3 41  0   1  130      204  0   0       172     0     1.4     2     0  2   \n",
       "4 56  1   1  120      236  0   1       178     0     0.8     2     0  2   \n",
       "5 57  0   0  120      354  0   1       163     1     0.6     2     0  2   \n",
       "6 57  1   0  140      192  0   1       148     0     0.4     1     0  1   \n",
       "  target\n",
       "1 1     \n",
       "2 1     \n",
       "3 1     \n",
       "4 1     \n",
       "5 1     \n",
       "6 1     "
      ]
     },
     "metadata": {},
     "output_type": "display_data"
    },
    {
     "name": "stdout",
     "output_type": "stream",
     "text": [
      "[1] \"Er zijn 303 rijen, en 14  kolommen.\"\n"
     ]
    }
   ],
   "source": [
    "df = read.csv('heart.csv')\n",
    "\n",
    "# kolomnaam herstellen; er staat '`..age'\n",
    "names = colnames(df); \n",
    "names[1] = 'age' \n",
    "colnames(df) = names\n",
    "\n",
    "head(df)\n",
    "print(paste('Er zijn', nrow(df), 'rijen, en', length(df), ' kolommen.'))"
   ]
  },
  {
   "cell_type": "markdown",
   "metadata": {},
   "source": [
    "Er is te zien dat er 303 rijen (aantal samples, $N=303$) zijn en 14 kolommen (aantal variabelen, $v=14$) in de dataset zitten. \n",
    "\n",
    "Omdat er voorspeld moet worden of iemand een hartziekte heeft, wordt de kolom `target` niet in het model opgenomen. Echter wordt `target` wel gebruikt als groepering voor de samples. Alle binaire variabelen worden wel opgenomen in het model. \n",
    "\n",
    "Tot slot worden er alvast een aantal functies gedeclareerd, die later gebruikt worden."
   ]
  },
  {
   "cell_type": "code",
   "execution_count": 2,
   "metadata": {},
   "outputs": [],
   "source": [
    "# Calculate the trace of a matrix M.\n",
    "trace = function(M) { (sum(diag(M))) }\n",
    "\n",
    "# Calculate the variance of a matrix M.\n",
    "matrix.var = function(M) { (trace(t(M) %*% M) / (ncol(M) * nrow(M))) }\n",
    "\n",
    "# Calculate the standard deviation of a matrix M.\n",
    "matrix.sd  = function(M) { (sqrt(matrix.var(M))) }\n",
    "\n",
    "# Calculate the mean for every row of a matrix M.\n",
    "rowMeans = function(M) { (rowSums(M) / ncol(M)) }\n",
    "\n",
    "# Calculate the mean for every column of a matrix M.\n",
    "colMeans = function(M) { (colSums(M) / nrow(M)) }"
   ]
  },
  {
   "cell_type": "markdown",
   "metadata": {},
   "source": [
    "## Beschrijving van de kolommen\n",
    "\n",
    "Op de website waar de dataset is verkregen, is de volgende informatie gevonden over de kolommen. De dataset bevat in totaal 14 kolommen.\n",
    "\n",
    "1. `age`: leeftijd. (Ratio)\n",
    "2. `sex`: geslacht. (Nominaal)\n",
    "3. `cp`: chest pain type (4 values). (Nominaal)\n",
    "4. `trestbps`: resting blood pressure. (Ratio)\n",
    "5. `chol`: serum cholestoral in mg/dl. (Ratio)\n",
    "6. `fbs`: fasting blood sugar > 120 mg/dl. (Nominaal)\n",
    "7. `restecg`: resting electrocardiographic results (values 0, 1, 2). (Nominaal)\n",
    "8. `thalanch`: maximum heartrate achieved. (Ratio)\n",
    "9. `exang`: exercise induced angina. (Nominaal)\n",
    "10. `oldpeak`: ST depression induced by exercise relative to test. (Ratio)\n",
    "11. `slope`: the slope of the peak exercise ST segment. (Nominaal)\n",
    "12. `ca`: number of major vessels (0-3) color by flourosopy. (Ordinaal)\n",
    "13. `thal`: 3 = normal, 6 = fixed defect, 7 = reversable defect. (Nominaal)\n",
    "14. `target`: indicated if someone has heart disease, 0 = false, 1 = true. (Nominaal)\n",
    "\n",
    "Van de meeste variabelen is het niet echt duidelijk waar het voor staat. Neem bijvoorbeeld `oldpeak`, in dit geval is `ST depression` een fenomeen dat voorkomt in een ECG. Een ECG is een electrocardiogram, een grafiek van de electrische activiteit van het hart. In dit geval wordt met `ST depression` een bepaalt patroon in de grafiek bedoeld. [1] Een aantal van deze patronen kunnen duiden op een hartziekte. [2]\n",
    "\n",
    "Een andere variabele is `exang`, wat aangeeft of er angina is voorkomen tijdens de oefening. Een angina is een pijn of oncomfortabelheid in de borst, mogelijk veroorzaakt doordat er te weinig zuurstof-rijk bloed bij die spier komt. Angina is echter geen ziekte, maar mogelijk een symptoom van een onderliggend hartprobleem. [3]"
   ]
  },
  {
   "cell_type": "markdown",
   "metadata": {},
   "source": [
    "# Verdelingen van de gegevens"
   ]
  },
  {
   "cell_type": "markdown",
   "metadata": {},
   "source": [
    "In deze paragraaf wordt er gekeken naar de verdelingen van de gegeven binnen de verschillende variabelen.  Indien de verdelingen sterk qua schaal verschillen, is het wenselijk om de gegevens te standaardiseren. Op deze manier wordt er voorkomen, dat de variabele met een grote schaal, zwaarder worden meegeteld binnen het model.\n",
    "\n",
    "## Nominale/ordinale variabelen"
   ]
  },
  {
   "cell_type": "markdown",
   "metadata": {},
   "source": [
    "In het onderstaande figuur staan staafdiagrammen voor elk van de nominale/ordinale variabelen."
   ]
  },
  {
   "cell_type": "code",
   "execution_count": 3,
   "metadata": {},
   "outputs": [
    {
     "data": {
      "image/png": "[encoded data removed]",
      "text/plain": [
       "Plot with title \"df$targer\""
      ]
     },
     "metadata": {},
     "output_type": "display_data"
    }
   ],
   "source": [
    "par(mfrow=c(3,3))\n",
    "barplot(table(df$sex), main=\"df$sex\")\n",
    "barplot(table(df$cp), main=\"df$cp\")\n",
    "barplot(table(df$fbs), main=\"df$fbs\")\n",
    "barplot(table(df$restecg), main=\"df$restecg\")\n",
    "barplot(table(df$exang), main=\"df$exang\")\n",
    "barplot(table(df$slope), main=\"df$slope\")\n",
    "barplot(table(df$ca), main=\"df$ca\")\n",
    "barplot(table(df$thal), main=\"df$thal\")\n",
    "barplot(table(df$target), main=\"df$targer\")"
   ]
  },
  {
   "cell_type": "markdown",
   "metadata": {},
   "source": [
    "Hier valt het op dat er een combinatie is van binaire variabelen, en variabelen met meerdere schaalpunten. Als er niet gestandaardiseerd wordt, dan worden de variabelen met meerdere groepen zwaarder meegeteld in het model."
   ]
  },
  {
   "cell_type": "markdown",
   "metadata": {},
   "source": [
    "## Ratio variabelen"
   ]
  },
  {
   "cell_type": "markdown",
   "metadata": {},
   "source": [
    "In het onderstaande figuur staan histogrammen van de interval/ratio variabelen."
   ]
  },
  {
   "cell_type": "code",
   "execution_count": 4,
   "metadata": {},
   "outputs": [
    {
     "data": {
      "image/png": "[encoded data removed]",
      "text/plain": [
       "Plot with title \"Histogram of df$oldpeak\""
      ]
     },
     "metadata": {},
     "output_type": "display_data"
    }
   ],
   "source": [
    "par(mfrow=c(3, 2))\n",
    "hist(df$age)\n",
    "hist(df$trestbps)\n",
    "hist(df$chol)\n",
    "hist(df$thalach)\n",
    "hist(df$oldpeak)"
   ]
  },
  {
   "cell_type": "markdown",
   "metadata": {},
   "source": [
    "Het valt op dat de schaal waarop de waarnemingen zijn gemeten sterk verschillen. Vanuit dit oogpunt is het verstandig om de gegevens te standaardiseren."
   ]
  },
  {
   "cell_type": "markdown",
   "metadata": {},
   "source": [
    "# Centreren en standaardiseren"
   ]
  },
  {
   "cell_type": "markdown",
   "metadata": {},
   "source": [
    "Vanuit de vorige paragraaf is gebleken dat het verstandig is om de gegevens, naast het centreren, ook te standaardiseren. Het centreren en standaardiseren, wordt ook wel normalizeren genoemd. Hiervoor wordt de $z$-score berekend. De formule hiervoor is $z = \\frac{x-\\bar{x}}{s}$, waarbij $\\bar{x}$ het gemiddelde is en $s$ de standaardafwijking. \n",
    "\n",
    "Eerst wordt de matrix $X$ opgesteld met de gegevens die relevant zijn. Daarna worden de gegevens gecentreerd, aangeduidt met $X_c$. Door de gegevens te centreren, worden alle hieropvolgende berekeningen vereenvoudigd. Daarnaast worden de gegevens gestandaardiseerd, aangeduidt met $X_{cs}$, zodat elke variabele evenzwaar meetelt binnen het model."
   ]
  },
  {
   "cell_type": "code",
   "execution_count": 5,
   "metadata": {},
   "outputs": [],
   "source": [
    "X = data.matrix(df[,1:13]) # alle gegevens behalve de 'target' kolom\n",
    "m = apply(X,2,mean) # gemiddelde berekenen, voor elke kolom\n",
    "s = apply(X,2,sd) # standaard deviatie berekenen, voor elke kolom\n",
    "Xc = sweep(X,2,m,\"-\") # centreren\n",
    "Xcs = sweep(Xc,2,s,\"/\") # standaardiseren"
   ]
  },
  {
   "cell_type": "markdown",
   "metadata": {},
   "source": [
    "In de onderstaande tabel staat een klein voorbeeld van hoe de gegevens van $X_{cs}$ er nu uitzien. Voor elke kolom is nu het gemiddelde $0$."
   ]
  },
  {
   "cell_type": "code",
   "execution_count": 6,
   "metadata": {},
   "outputs": [
    {
     "data": {
      "text/html": [
       "<table>\n",
       "<thead><tr><th scope=col>age</th><th scope=col>sex</th><th scope=col>cp</th><th scope=col>trestbps</th><th scope=col>chol</th></tr></thead>\n",
       "<tbody>\n",
       "\t<tr><td> 0.9506240 </td><td> 0.6798805 </td><td> 1.96986425</td><td> 0.76269408</td><td>-0.25591036</td></tr>\n",
       "\t<tr><td>-1.9121497 </td><td> 0.6798805 </td><td> 1.00092128</td><td>-0.09258463</td><td> 0.07208025</td></tr>\n",
       "\t<tr><td>-1.4717230 </td><td>-1.4659924 </td><td> 0.03197832</td><td>-0.09258463</td><td>-0.81542377</td></tr>\n",
       "\t<tr><td> 0.1798773 </td><td> 0.6798805 </td><td> 0.03197832</td><td>-0.66277043</td><td>-0.19802967</td></tr>\n",
       "\t<tr><td> 0.2899839 </td><td>-1.4659924 </td><td>-0.93696465</td><td>-0.66277043</td><td> 2.07861109</td></tr>\n",
       "\t<tr><td> 0.2899839 </td><td> 0.6798805 </td><td>-0.93696465</td><td> 0.47760118</td><td>-1.04694656</td></tr>\n",
       "</tbody>\n",
       "</table>\n"
      ],
      "text/latex": [
       "\\begin{tabular}{lllll}\n",
       " age & sex & cp & trestbps & chol\\\\\n",
       "\\hline\n",
       "\t  0.9506240  &  0.6798805  &  1.96986425 &  0.76269408 & -0.25591036\\\\\n",
       "\t -1.9121497  &  0.6798805  &  1.00092128 & -0.09258463 &  0.07208025\\\\\n",
       "\t -1.4717230  & -1.4659924  &  0.03197832 & -0.09258463 & -0.81542377\\\\\n",
       "\t  0.1798773  &  0.6798805  &  0.03197832 & -0.66277043 & -0.19802967\\\\\n",
       "\t  0.2899839  & -1.4659924  & -0.93696465 & -0.66277043 &  2.07861109\\\\\n",
       "\t  0.2899839  &  0.6798805  & -0.93696465 &  0.47760118 & -1.04694656\\\\\n",
       "\\end{tabular}\n"
      ],
      "text/markdown": [
       "\n",
       "age | sex | cp | trestbps | chol | \n",
       "|---|---|---|---|---|---|\n",
       "|  0.9506240  |  0.6798805  |  1.96986425 |  0.76269408 | -0.25591036 | \n",
       "| -1.9121497  |  0.6798805  |  1.00092128 | -0.09258463 |  0.07208025 | \n",
       "| -1.4717230  | -1.4659924  |  0.03197832 | -0.09258463 | -0.81542377 | \n",
       "|  0.1798773  |  0.6798805  |  0.03197832 | -0.66277043 | -0.19802967 | \n",
       "|  0.2899839  | -1.4659924  | -0.93696465 | -0.66277043 |  2.07861109 | \n",
       "|  0.2899839  |  0.6798805  | -0.93696465 |  0.47760118 | -1.04694656 | \n",
       "\n",
       "\n"
      ],
      "text/plain": [
       "     age        sex        cp          trestbps    chol       \n",
       "[1,]  0.9506240  0.6798805  1.96986425  0.76269408 -0.25591036\n",
       "[2,] -1.9121497  0.6798805  1.00092128 -0.09258463  0.07208025\n",
       "[3,] -1.4717230 -1.4659924  0.03197832 -0.09258463 -0.81542377\n",
       "[4,]  0.1798773  0.6798805  0.03197832 -0.66277043 -0.19802967\n",
       "[5,]  0.2899839 -1.4659924 -0.93696465 -0.66277043  2.07861109\n",
       "[6,]  0.2899839  0.6798805 -0.93696465  0.47760118 -1.04694656"
      ]
     },
     "metadata": {},
     "output_type": "display_data"
    }
   ],
   "source": [
    "head(Xcs[,1:5])"
   ]
  },
  {
   "cell_type": "markdown",
   "metadata": {},
   "source": [
    "# Berekenen van principele componenten"
   ]
  },
  {
   "cell_type": "markdown",
   "metadata": {},
   "source": [
    "In deze paragraaf worden de principele componenten bepaald voor de gestandaardiseerde gegevens. Het eerste principele component $PC_1$, is de eigenvector $p_1'=[\\beta_1,\\beta_2,\\ldots,\\beta_{13}]$ met de hoogste eigenwaarde van de covariantie matrix van $X_{cs}$. De covariantiematrix wordt als volgt bepaald:\n",
    "\n",
    "$$ \\textrm{cov}(\\mathbf{X}) = \\dfrac{1}{N-1} \\mathbf{X}^T\\mathbf{X}, $$\n",
    "\n",
    "maar gelukkig kan dit ook in R met `cov(X)`. Vervolgens wordt van de covariantiematrix van $X_{cs}$, de eigenvectoren en eigenwaarden bepaald. Om de eigenvectoren en eigenwaarden te vinden, is er de functie `eigen(X)`. De vectoren worden opgeslagen in `eigen(X)$vectors` en staan al in aflopende volgorde."
   ]
  },
  {
   "cell_type": "code",
   "execution_count": 7,
   "metadata": {
    "scrolled": false
   },
   "outputs": [
    {
     "data": {
      "text/html": [
       "<table>\n",
       "<thead><tr><th></th><th scope=col>PC1</th><th scope=col>PC2</th><th scope=col>PC3</th><th scope=col>PC4</th><th scope=col>PC5</th><th scope=col>PC6</th></tr></thead>\n",
       "<tbody>\n",
       "\t<tr><th scope=row>age</th><td> 0.31420252</td><td>-0.40614872</td><td>-0.09407661</td><td> 0.02066180</td><td> 0.30715312</td><td>-0.12829615</td></tr>\n",
       "\t<tr><th scope=row>sex</th><td> 0.09083783</td><td> 0.37779171</td><td> 0.55484915</td><td> 0.25530873</td><td>-0.05070440</td><td> 0.05496875</td></tr>\n",
       "\t<tr><th scope=row>cp</th><td>-0.27460749</td><td>-0.29726609</td><td> 0.35697431</td><td>-0.28790041</td><td>-0.16317945</td><td>-0.19341117</td></tr>\n",
       "\t<tr><th scope=row>trestbps</th><td> 0.18392019</td><td>-0.43818675</td><td> 0.20384930</td><td>-0.02260103</td><td>-0.18813809</td><td>-0.17945982</td></tr>\n",
       "\t<tr><th scope=row>chol</th><td> 0.11737503</td><td>-0.36451402</td><td>-0.40782498</td><td> 0.34340982</td><td>-0.32006670</td><td>-0.10472957</td></tr>\n",
       "\t<tr><th scope=row>fbs</th><td> 0.07363999</td><td>-0.31743328</td><td> 0.48173624</td><td> 0.06860532</td><td> 0.23344184</td><td> 0.24961364</td></tr>\n",
       "\t<tr><th scope=row>restecg</th><td>-0.12772792</td><td> 0.22088181</td><td>-0.08919083</td><td>-0.26609555</td><td> 0.39366727</td><td>-0.66681339</td></tr>\n",
       "\t<tr><th scope=row>thalach</th><td>-0.41649811</td><td>-0.07787618</td><td> 0.15825529</td><td> 0.18412539</td><td>-0.32328431</td><td>-0.12098445</td></tr>\n",
       "\t<tr><th scope=row>exang</th><td> 0.36126745</td><td> 0.26311790</td><td>-0.12635610</td><td> 0.11505621</td><td>-0.03453568</td><td> 0.23069914</td></tr>\n",
       "\t<tr><th scope=row>oldpeak</th><td> 0.41963899</td><td> 0.05225497</td><td> 0.11034290</td><td>-0.32629597</td><td>-0.25057927</td><td>-0.17007984</td></tr>\n",
       "\t<tr><th scope=row>slope</th><td>-0.37977222</td><td>-0.04837415</td><td>-0.07381839</td><td> 0.49484894</td><td> 0.24682275</td><td>-0.06406935</td></tr>\n",
       "\t<tr><th scope=row>ca</th><td> 0.27326172</td><td>-0.09414721</td><td> 0.18356934</td><td> 0.32801632</td><td> 0.43536515</td><td>-0.18210750</td></tr>\n",
       "\t<tr><th scope=row>thal</th><td> 0.22202375</td><td> 0.20072042</td><td> 0.12501113</td><td> 0.38919138</td><td>-0.33195049</td><td>-0.50885654</td></tr>\n",
       "</tbody>\n",
       "</table>\n"
      ],
      "text/latex": [
       "\\begin{tabular}{r|llllll}\n",
       "  & PC1 & PC2 & PC3 & PC4 & PC5 & PC6\\\\\n",
       "\\hline\n",
       "\tage &  0.31420252 & -0.40614872 & -0.09407661 &  0.02066180 &  0.30715312 & -0.12829615\\\\\n",
       "\tsex &  0.09083783 &  0.37779171 &  0.55484915 &  0.25530873 & -0.05070440 &  0.05496875\\\\\n",
       "\tcp & -0.27460749 & -0.29726609 &  0.35697431 & -0.28790041 & -0.16317945 & -0.19341117\\\\\n",
       "\ttrestbps &  0.18392019 & -0.43818675 &  0.20384930 & -0.02260103 & -0.18813809 & -0.17945982\\\\\n",
       "\tchol &  0.11737503 & -0.36451402 & -0.40782498 &  0.34340982 & -0.32006670 & -0.10472957\\\\\n",
       "\tfbs &  0.07363999 & -0.31743328 &  0.48173624 &  0.06860532 &  0.23344184 &  0.24961364\\\\\n",
       "\trestecg & -0.12772792 &  0.22088181 & -0.08919083 & -0.26609555 &  0.39366727 & -0.66681339\\\\\n",
       "\tthalach & -0.41649811 & -0.07787618 &  0.15825529 &  0.18412539 & -0.32328431 & -0.12098445\\\\\n",
       "\texang &  0.36126745 &  0.26311790 & -0.12635610 &  0.11505621 & -0.03453568 &  0.23069914\\\\\n",
       "\toldpeak &  0.41963899 &  0.05225497 &  0.11034290 & -0.32629597 & -0.25057927 & -0.17007984\\\\\n",
       "\tslope & -0.37977222 & -0.04837415 & -0.07381839 &  0.49484894 &  0.24682275 & -0.06406935\\\\\n",
       "\tca &  0.27326172 & -0.09414721 &  0.18356934 &  0.32801632 &  0.43536515 & -0.18210750\\\\\n",
       "\tthal &  0.22202375 &  0.20072042 &  0.12501113 &  0.38919138 & -0.33195049 & -0.50885654\\\\\n",
       "\\end{tabular}\n"
      ],
      "text/markdown": [
       "\n",
       "| <!--/--> | PC1 | PC2 | PC3 | PC4 | PC5 | PC6 | \n",
       "|---|---|---|---|---|---|---|---|---|---|---|---|---|\n",
       "| age |  0.31420252 | -0.40614872 | -0.09407661 |  0.02066180 |  0.30715312 | -0.12829615 | \n",
       "| sex |  0.09083783 |  0.37779171 |  0.55484915 |  0.25530873 | -0.05070440 |  0.05496875 | \n",
       "| cp | -0.27460749 | -0.29726609 |  0.35697431 | -0.28790041 | -0.16317945 | -0.19341117 | \n",
       "| trestbps |  0.18392019 | -0.43818675 |  0.20384930 | -0.02260103 | -0.18813809 | -0.17945982 | \n",
       "| chol |  0.11737503 | -0.36451402 | -0.40782498 |  0.34340982 | -0.32006670 | -0.10472957 | \n",
       "| fbs |  0.07363999 | -0.31743328 |  0.48173624 |  0.06860532 |  0.23344184 |  0.24961364 | \n",
       "| restecg | -0.12772792 |  0.22088181 | -0.08919083 | -0.26609555 |  0.39366727 | -0.66681339 | \n",
       "| thalach | -0.41649811 | -0.07787618 |  0.15825529 |  0.18412539 | -0.32328431 | -0.12098445 | \n",
       "| exang |  0.36126745 |  0.26311790 | -0.12635610 |  0.11505621 | -0.03453568 |  0.23069914 | \n",
       "| oldpeak |  0.41963899 |  0.05225497 |  0.11034290 | -0.32629597 | -0.25057927 | -0.17007984 | \n",
       "| slope | -0.37977222 | -0.04837415 | -0.07381839 |  0.49484894 |  0.24682275 | -0.06406935 | \n",
       "| ca |  0.27326172 | -0.09414721 |  0.18356934 |  0.32801632 |  0.43536515 | -0.18210750 | \n",
       "| thal |  0.22202375 |  0.20072042 |  0.12501113 |  0.38919138 | -0.33195049 | -0.50885654 | \n",
       "\n",
       "\n"
      ],
      "text/plain": [
       "         PC1         PC2         PC3         PC4         PC5        \n",
       "age       0.31420252 -0.40614872 -0.09407661  0.02066180  0.30715312\n",
       "sex       0.09083783  0.37779171  0.55484915  0.25530873 -0.05070440\n",
       "cp       -0.27460749 -0.29726609  0.35697431 -0.28790041 -0.16317945\n",
       "trestbps  0.18392019 -0.43818675  0.20384930 -0.02260103 -0.18813809\n",
       "chol      0.11737503 -0.36451402 -0.40782498  0.34340982 -0.32006670\n",
       "fbs       0.07363999 -0.31743328  0.48173624  0.06860532  0.23344184\n",
       "restecg  -0.12772792  0.22088181 -0.08919083 -0.26609555  0.39366727\n",
       "thalach  -0.41649811 -0.07787618  0.15825529  0.18412539 -0.32328431\n",
       "exang     0.36126745  0.26311790 -0.12635610  0.11505621 -0.03453568\n",
       "oldpeak   0.41963899  0.05225497  0.11034290 -0.32629597 -0.25057927\n",
       "slope    -0.37977222 -0.04837415 -0.07381839  0.49484894  0.24682275\n",
       "ca        0.27326172 -0.09414721  0.18356934  0.32801632  0.43536515\n",
       "thal      0.22202375  0.20072042  0.12501113  0.38919138 -0.33195049\n",
       "         PC6        \n",
       "age      -0.12829615\n",
       "sex       0.05496875\n",
       "cp       -0.19341117\n",
       "trestbps -0.17945982\n",
       "chol     -0.10472957\n",
       "fbs       0.24961364\n",
       "restecg  -0.66681339\n",
       "thalach  -0.12098445\n",
       "exang     0.23069914\n",
       "oldpeak  -0.17007984\n",
       "slope    -0.06406935\n",
       "ca       -0.18210750\n",
       "thal     -0.50885654"
      ]
     },
     "metadata": {},
     "output_type": "display_data"
    },
    {
     "data": {
      "text/html": [
       "'Totaal: 13 kolommen'"
      ],
      "text/latex": [
       "'Totaal: 13 kolommen'"
      ],
      "text/markdown": [
       "'Totaal: 13 kolommen'"
      ],
      "text/plain": [
       "[1] \"Totaal: 13 kolommen\""
      ]
     },
     "metadata": {},
     "output_type": "display_data"
    }
   ],
   "source": [
    "p = eigen(cor(Xcs))$vectors # eigenvectoren van de covariantiematrix van Xcs \n",
    "                            # bepalen, dit zijn ook direct de PCAs\n",
    "\n",
    "colnames(p) = c('PC1', 'PC2', 'PC3', 'PC4', 'PC5', 'PC6', 'PC7', \n",
    "                'PC8', 'PC9', 'PC10', 'PC11', 'PC12', 'PC13')\n",
    "\n",
    "rownames(p) = colnames(df[,1:13])\n",
    "\n",
    "p[,1:6] # eerste x PCAs weergeven\n",
    "paste('Totaal:', ncol(p), 'kolommen')"
   ]
  },
  {
   "cell_type": "markdown",
   "metadata": {},
   "source": [
    "Er is te zien dat er in totaal $13$ principele componenten zijn, namelijk het aantal variabelen binnen de gegevens. Vanuit de tabel kan de vector voor $PC_1$ worden afgelezen, namelijk:\n",
    "\n",
    "$$ p_1 = \\begin{bmatrix} 0.314 \\\\ 0.090 \\\\ -0.274 \\\\ 0.183 \\\\ 0.117 \\\\ 0.073 \\\\ -0.127 \\\\ -0.416 \\\\ 0.361 \\\\ 0.419 \\\\ -0.379 \\\\ 0.273 \\\\ 0.222 \\end{bmatrix}. $$"
   ]
  },
  {
   "cell_type": "markdown",
   "metadata": {},
   "source": [
    "Alle elementen in $p_1$ worden ook wel _loadings_ genoemd. Aan de loadings valt te zien dat de waarde $0.419$ de hoogste is. Dit betekend dat `oldpeak` het meeste invloed heeft op $PC_1$. Daarnaast heeft `thalach` de hoogste negatieve invloed op $PC_1$, met een waarde van $-0.416$. Om te controleren of dit de juiste vector voor $PC_1$ is, kan er met R worden gekeken met `prcomp(...)`:"
   ]
  },
  {
   "cell_type": "code",
   "execution_count": 8,
   "metadata": {},
   "outputs": [
    {
     "data": {
      "text/html": [
       "<table>\n",
       "<tbody>\n",
       "\t<tr><th scope=row>age</th><td>-0.31420252</td></tr>\n",
       "\t<tr><th scope=row>sex</th><td>-0.09083783</td></tr>\n",
       "\t<tr><th scope=row>cp</th><td> 0.27460749</td></tr>\n",
       "\t<tr><th scope=row>trestbps</th><td>-0.18392019</td></tr>\n",
       "\t<tr><th scope=row>chol</th><td>-0.11737503</td></tr>\n",
       "\t<tr><th scope=row>fbs</th><td>-0.07363999</td></tr>\n",
       "\t<tr><th scope=row>restecg</th><td> 0.12772792</td></tr>\n",
       "\t<tr><th scope=row>thalach</th><td> 0.41649811</td></tr>\n",
       "\t<tr><th scope=row>exang</th><td>-0.36126745</td></tr>\n",
       "\t<tr><th scope=row>oldpeak</th><td>-0.41963899</td></tr>\n",
       "\t<tr><th scope=row>slope</th><td> 0.37977222</td></tr>\n",
       "\t<tr><th scope=row>ca</th><td>-0.27326172</td></tr>\n",
       "\t<tr><th scope=row>thal</th><td>-0.22202375</td></tr>\n",
       "</tbody>\n",
       "</table>\n"
      ],
      "text/latex": [
       "\\begin{tabular}{r|l}\n",
       "\tage & -0.31420252\\\\\n",
       "\tsex & -0.09083783\\\\\n",
       "\tcp &  0.27460749\\\\\n",
       "\ttrestbps & -0.18392019\\\\\n",
       "\tchol & -0.11737503\\\\\n",
       "\tfbs & -0.07363999\\\\\n",
       "\trestecg &  0.12772792\\\\\n",
       "\tthalach &  0.41649811\\\\\n",
       "\texang & -0.36126745\\\\\n",
       "\toldpeak & -0.41963899\\\\\n",
       "\tslope &  0.37977222\\\\\n",
       "\tca & -0.27326172\\\\\n",
       "\tthal & -0.22202375\\\\\n",
       "\\end{tabular}\n"
      ],
      "text/markdown": [
       "\n",
       "| age | -0.31420252 | \n",
       "| sex | -0.09083783 | \n",
       "| cp |  0.27460749 | \n",
       "| trestbps | -0.18392019 | \n",
       "| chol | -0.11737503 | \n",
       "| fbs | -0.07363999 | \n",
       "| restecg |  0.12772792 | \n",
       "| thalach |  0.41649811 | \n",
       "| exang | -0.36126745 | \n",
       "| oldpeak | -0.41963899 | \n",
       "| slope |  0.37977222 | \n",
       "| ca | -0.27326172 | \n",
       "| thal | -0.22202375 | \n",
       "\n",
       "\n"
      ],
      "text/plain": [
       "         [,1]       \n",
       "age      -0.31420252\n",
       "sex      -0.09083783\n",
       "cp        0.27460749\n",
       "trestbps -0.18392019\n",
       "chol     -0.11737503\n",
       "fbs      -0.07363999\n",
       "restecg   0.12772792\n",
       "thalach   0.41649811\n",
       "exang    -0.36126745\n",
       "oldpeak  -0.41963899\n",
       "slope     0.37977222\n",
       "ca       -0.27326172\n",
       "thal     -0.22202375"
      ]
     },
     "metadata": {},
     "output_type": "display_data"
    }
   ],
   "source": [
    "data.matrix(prcomp(df[,1:13], scale=T)$rotation[,1]) # PCA1\n",
    "# data.matrix wordt gebruikt voor de opmaak hieronder."
   ]
  },
  {
   "cell_type": "markdown",
   "metadata": {},
   "source": [
    "Dit komt overeen met de eigenvector met de grootste eigenwaarde van de covariantiematrix van $X_{cs}$, alleen het teken is omgedraaid. In de volgende paragraaf wordt hiervoor een oplossing besproken."
   ]
  },
  {
   "cell_type": "markdown",
   "metadata": {},
   "source": [
    "# Rotatieambivalentie\n",
    "\n",
    "Omdat eigenvectoren allemaal loodrecht op elkaar staan, zijn er altijd twee vectoren mogelijk. Om dezelfde resultaten te krijgen als `prcomp(...)`, is het nodig om alle eigenvectoren om te keren. Dit concept wordt _rotatieambivalentie_ genoemdt. Dit is eenvoudig op te lossen met $p := -p$."
   ]
  },
  {
   "cell_type": "code",
   "execution_count": 9,
   "metadata": {},
   "outputs": [],
   "source": [
    "p = -p"
   ]
  },
  {
   "cell_type": "markdown",
   "metadata": {},
   "source": [
    "# Biplot: score plot + loading plot"
   ]
  },
  {
   "cell_type": "markdown",
   "metadata": {},
   "source": [
    "Om een bi-plot te maken, zijn er twee grafieken nodig. Er is een score plot tussen $PC_1$ en $PC_2$, en een loading plot. \n",
    "\n",
    "Om de scores $t_1$ voor $PC_1$ te bepalen, worden alle waarnemingen loodrecht op $p_1$ geprojecteerd. De afstand vanaf de oorsprong $O$ tot aan de loodrechte projectie op $p_1$ is het nieuwe x-coordinaat van de waarneming in het $p_1, p_2$ vlak. Ditzelfde wordt gedaan om de scores $t_2$ te bepalen voor $p_2$, en dient als y-coordinaat."
   ]
  },
  {
   "cell_type": "code",
   "execution_count": 10,
   "metadata": {},
   "outputs": [],
   "source": [
    "t1 = Xcs %*% p[,1] # projectie op p1\n",
    "t2 = Xcs %*% p[,2] # projectie op p2\n",
    "t = Xcs %*% p # voor alle p"
   ]
  },
  {
   "cell_type": "markdown",
   "metadata": {},
   "source": [
    "Als deze nieuwe scores in een grafiek worden weergegeven, heet dit een score plot. De tweede grafiek, de loading plot, laat zien hoe de loadings van $PC_1$ en $PC_2$ bepalen waar de waarnemingen in de score plot belanden. De loadings mogen geschaald worden voor een weergave in een bi-plot. Het gaat is immers de onderline verhouding die belangrijk is. Met de onderstaande code, worden beide grafieken geplot in een bi-plot:"
   ]
  },
  {
   "cell_type": "code",
   "execution_count": 11,
   "metadata": {},
   "outputs": [
    {
     "data": {
      "image/png": "[encoded data removed]",
      "text/plain": [
       "Plot with title \"PCA bi-plot\""
      ]
     },
     "metadata": {},
     "output_type": "display_data"
    }
   ],
   "source": [
    "# score plot\n",
    "plot(t1, t2, pch=NA, xlab=\"PCA1\", ylab=\"PCA2\" ) \n",
    "abline(h=0,lty=1) \n",
    "abline(v=0,lty=1)\n",
    "title(main='PCA bi-plot')\n",
    "grid()\n",
    "\n",
    "# zet de groepnamen in de plot + rood markeren als target=1\n",
    "text(t1, t2, labels=df$target, pos=1, xpd=NA, col=c('black', 'red')[df$target+1])\n",
    "\n",
    "# loading plot\n",
    "scale = 7\n",
    "arrows(0,0,p[,1] * scale, p[,2] * scale, col='blue', lwd=1)\n",
    "text(p[,1] * scale, p[,2] * scale, labels=colnames(Xcs), col='blue', pos=4)"
   ]
  },
  {
   "cell_type": "markdown",
   "metadata": {},
   "source": [
    "Wat direct opvalt is dat bijna alle waarnemingen die een hartziekte hebben, een positieve waarde hebben voor $PC_1$. Eerder bij de loadings werdt al duidelijk dat `oldpeak` en `thalach` het meeste invloed uit oefenenen, en ook hier valt te zien richting hiervan bijna horizontaal is. Twee andere variabelen die ook een grote loading hebben zijn `slope` en `exang`, maar dit zijn nominale variabelen.\n",
    "\n",
    "Ditzelfde kan ook gedaan worden voor $PC_2$ en $PC_3$:"
   ]
  },
  {
   "cell_type": "code",
   "execution_count": 12,
   "metadata": {},
   "outputs": [
    {
     "data": {
      "image/png": "[encoded data removed]",
      "text/plain": [
       "Plot with title \"PCA bi-plot\""
      ]
     },
     "metadata": {},
     "output_type": "display_data"
    }
   ],
   "source": [
    "# score plot\n",
    "plot(t[,2], t[,3], pch=NA, xlab=\"PCA2\", ylab=\"PCA3\" ) \n",
    "abline(h=0,lty=1) \n",
    "abline(v=0,lty=1)\n",
    "title(main='PCA bi-plot')\n",
    "grid()\n",
    "\n",
    "# zet de groepnamen in de plot + rood markeren als target=1\n",
    "text(t[,2], t[,3], labels=df$target, pos=1, \n",
    "     xpd=NA, col=c('black', 'red')[df$target+1])\n",
    "\n",
    "# loading plot\n",
    "scale = 7\n",
    "arrows(0,0,p[,2] * scale, p[,3] * scale, col='blue', lwd=1)\n",
    "text(p[,2] * scale, p[,3] * scale, labels=colnames(Xcs), \n",
    "     col='blue', pos=4)"
   ]
  },
  {
   "cell_type": "markdown",
   "metadata": {},
   "source": [
    "Hier valt te zien dat er niet echt duidelijk kan worden gemaakt wanneer iemand een hartziekte heeft."
   ]
  },
  {
   "cell_type": "markdown",
   "metadata": {},
   "source": [
    "## Controle met R"
   ]
  },
  {
   "cell_type": "markdown",
   "metadata": {},
   "source": [
    "Om te controleren of alles tot zover goed is gegaan, kan er met R snel een bi-plot worden gemaakt met behulp van `prcomp(...)` en `biplot(model)`."
   ]
  },
  {
   "cell_type": "code",
   "execution_count": 13,
   "metadata": {},
   "outputs": [
    {
     "data": {
      "image/png": "[encoded data removed]",
      "text/plain": [
       "plot without title"
      ]
     },
     "metadata": {},
     "output_type": "display_data"
    }
   ],
   "source": [
    "biplot(prcomp(df[,1:13], scale=T), xlabs=df$target)"
   ]
  },
  {
   "cell_type": "markdown",
   "metadata": {},
   "source": [
    "De bi-plot die door R is gegenereerd, komt goed overeen met de zelfgemaakte bi-plot."
   ]
  },
  {
   "cell_type": "markdown",
   "metadata": {},
   "source": [
    "# Scree plot en grenswaarden"
   ]
  },
  {
   "cell_type": "markdown",
   "metadata": {},
   "source": [
    "Met een scree plot wordt er bepaald hoeveel PCs er worden meegenomen in een model. De grenswaarde die hiervoor geldt is als volgt bepaald:\n",
    "\n",
    "$$ grens = \\dfrac{\\textrm{trace}(\\textrm{Covariantie matrix van }A)}{v}$$\n",
    "\n",
    "waarbij $v$ het aantal variabelen is. Met de onderstaande code wordt een scree plot gegenereerd:"
   ]
  },
  {
   "cell_type": "code",
   "execution_count": 14,
   "metadata": {
    "scrolled": false
   },
   "outputs": [
    {
     "data": {
      "image/png": "[encoded data removed]",
      "text/plain": [
       "Plot with title \"Scree plot\""
      ]
     },
     "metadata": {},
     "output_type": "display_data"
    }
   ],
   "source": [
    "#eigenwaarden bepalen\n",
    "lambdas = eigen(cov(Xcs))$values\n",
    "lambdas = sort(lambdas, decreasing=TRUE)\n",
    "\n",
    "# staafdiagram maken\n",
    "plot(lambdas, type='o', pch=18, col='red', cex=3, lwd=2\n",
    "     , main=\"Scree plot\", xlab=\"Index\", ylab=\"Eigenvalue\",\n",
    "    xlim=c(0, length(lambdas)))\n",
    "\n",
    "# grenswaarde bepalen\n",
    "lim = trace((cov(Xcs))) / length(lambdas)\n",
    "\n",
    "# grenswaarde tekenen\n",
    "abline(h=lim, lt='dashed', lwd=4, col='gray')\n",
    "\n",
    "# eigenwaarden in de grafiek plotten\n",
    "text(lambdas - 0.01, labels=round(lambdas,2))\n",
    "grid()"
   ]
  },
  {
   "cell_type": "markdown",
   "metadata": {},
   "source": [
    "Hier is te zien, omdat er is gestandardiseerd, dat de grenswaarde $1$ is. Dit betekend dat er $5$ PCs zijn waarvan de eigenwaarde groter is dan $1$, en worden alleen deze meegenomen."
   ]
  },
  {
   "cell_type": "markdown",
   "metadata": {},
   "source": [
    "Met R kan ook een scree plot snel worden gecontroleerd:"
   ]
  },
  {
   "cell_type": "code",
   "execution_count": 15,
   "metadata": {},
   "outputs": [
    {
     "data": {
      "image/png": "[encoded data removed]",
      "text/plain": [
       "Plot with title \"prcomp(df[, 1:13], scale = T)\""
      ]
     },
     "metadata": {},
     "output_type": "display_data"
    }
   ],
   "source": [
    "screeplot(prcomp(df[,1:13], scale=T))\n",
    "grid()"
   ]
  },
  {
   "cell_type": "markdown",
   "metadata": {},
   "source": [
    "Met een visuele inspectie valt te zien dat de waarden overeen komen met de zelfgemaakte scree plot."
   ]
  },
  {
   "cell_type": "markdown",
   "metadata": {},
   "source": [
    "# Errormatrices berekenen"
   ]
  },
  {
   "cell_type": "markdown",
   "metadata": {},
   "source": [
    "De waarnemingen kunnen we ook opschrijven in een model als lineaire combinaties van de PCs en de t-scores. Het model hiervoor is:\n",
    "\n",
    "$$ X_{cs} = \\hat{X}_{cs} + E, $$\n",
    "\n",
    "waarbij $\\hat{X}_{cs}$ de verklaarde variantie bevat en $E$ de onverklaarde variantie bevat. Voor dit model worden er $5$ PCs gebruikt, dus het gehele model is als volgt:\n",
    "\n",
    "$$ X_{cs} = t_1 \\cdot p^T_1 + t_2 \\cdot p^T_2 + \\cdots + t_5 \\cdot p^T_5 + E_5. $$"
   ]
  },
  {
   "cell_type": "markdown",
   "metadata": {},
   "source": [
    "Omdat alle $t$ scores al zijn berekend, is het bepalen van de error matrices nog eenvoudiger. De formule hiervoor is $E_n = E_{n-1} - t_n \\cdot p^T_n$. Vanuit de scree plot is er bepaald dat de eerste vijf PCs worden meegenomen in het model. Met de onderstaande code, worden de error matrices berekend."
   ]
  },
  {
   "cell_type": "code",
   "execution_count": 16,
   "metadata": {
    "scrolled": false
   },
   "outputs": [],
   "source": [
    "E0 = Xcs\n",
    "E1 = E0 - t1    %*% t(p[,1])\n",
    "E2 = E1 - t[,2] %*% t(p[,2])\n",
    "E3 = E2 - t[,3] %*% t(p[,3])\n",
    "E4 = E3 - t[,4] %*% t(p[,4])\n",
    "E5 = E4 - t[,5] %*% t(p[,5])\n",
    "E = list(E0, E1, E2, E3, E4, E5)"
   ]
  },
  {
   "cell_type": "markdown",
   "metadata": {},
   "source": [
    "# MSE berekenen en variantie-analyse"
   ]
  },
  {
   "cell_type": "markdown",
   "metadata": {},
   "source": [
    "Om te bepalen hoeveel procent van de variante wordt verklaard per principeel component, wordt er een variantie-analyse uitgevoerd. Hiervoor worden voor alle error matrices $E_1, \\ldots, E_5$ de variantie bepaald.\n",
    "\n",
    "Met de volgende formule wordt de variantie voor een matrix bepaald:\n",
    "\n",
    "$$ \\textrm{matrix.var}(\\mathbf{E}) = \\dfrac{\\sum\\limits_{i=1}^N \\sum\\limits_{j=1}^v e^2_{ij}}{N\\cdot v} = \\dfrac{\\textrm{trace}(E^T\\cdot E)}{N\\cdot v}. $$\n",
    "\n",
    "Vervolgens wordt dit gebruik om een tabel op te stellen met de volgende kolommen:\n",
    "\n",
    " * Aantal PCs in het model\n",
    " * Totale variantie\n",
    " * Resterende variantie in %\n",
    " * Verklaarde variantie in %\n",
    " * Verklaarde variantie per PC\n",
    " \n",
    "Met de onderstaande code wordt deze tabel opgesteld."
   ]
  },
  {
   "cell_type": "code",
   "execution_count": 17,
   "metadata": {},
   "outputs": [
    {
     "data": {
      "text/html": [
       "<table>\n",
       "<thead><tr><th scope=col>PCs in model</th><th scope=col>Total variance</th><th scope=col>Rest variance in %</th><th scope=col>Explained variance in %</th><th scope=col>Explained variance per PC</th></tr></thead>\n",
       "<tbody>\n",
       "\t<tr><td>0         </td><td>0.9966997 </td><td>1.0000000 </td><td>0.0000000 </td><td>0.00000000</td></tr>\n",
       "\t<tr><td>1         </td><td>0.7848606 </td><td>0.7874595 </td><td>0.2125405 </td><td>0.21254053</td></tr>\n",
       "\t<tr><td>2         </td><td>0.6670436 </td><td>0.6692524 </td><td>0.3307476 </td><td>0.11820708</td></tr>\n",
       "\t<tr><td>3         </td><td>0.5732899 </td><td>0.5751882 </td><td>0.4248118 </td><td>0.09406418</td></tr>\n",
       "\t<tr><td>4         </td><td>0.4827324 </td><td>0.4843309 </td><td>0.5156691 </td><td>0.09085735</td></tr>\n",
       "\t<tr><td>5         </td><td>0.4043791 </td><td>0.4043791 </td><td>0.5956209 </td><td>0.07995181</td></tr>\n",
       "</tbody>\n",
       "</table>\n"
      ],
      "text/latex": [
       "\\begin{tabular}{r|lllll}\n",
       " PCs in model & Total variance & Rest variance in \\% & Explained variance in \\% & Explained variance per PC\\\\\n",
       "\\hline\n",
       "\t 0          & 0.9966997  & 1.0000000  & 0.0000000  & 0.00000000\\\\\n",
       "\t 1          & 0.7848606  & 0.7874595  & 0.2125405  & 0.21254053\\\\\n",
       "\t 2          & 0.6670436  & 0.6692524  & 0.3307476  & 0.11820708\\\\\n",
       "\t 3          & 0.5732899  & 0.5751882  & 0.4248118  & 0.09406418\\\\\n",
       "\t 4          & 0.4827324  & 0.4843309  & 0.5156691  & 0.09085735\\\\\n",
       "\t 5          & 0.4043791  & 0.4043791  & 0.5956209  & 0.07995181\\\\\n",
       "\\end{tabular}\n"
      ],
      "text/markdown": [
       "\n",
       "PCs in model | Total variance | Rest variance in % | Explained variance in % | Explained variance per PC | \n",
       "|---|---|---|---|---|---|\n",
       "| 0          | 0.9966997  | 1.0000000  | 0.0000000  | 0.00000000 | \n",
       "| 1          | 0.7848606  | 0.7874595  | 0.2125405  | 0.21254053 | \n",
       "| 2          | 0.6670436  | 0.6692524  | 0.3307476  | 0.11820708 | \n",
       "| 3          | 0.5732899  | 0.5751882  | 0.4248118  | 0.09406418 | \n",
       "| 4          | 0.4827324  | 0.4843309  | 0.5156691  | 0.09085735 | \n",
       "| 5          | 0.4043791  | 0.4043791  | 0.5956209  | 0.07995181 | \n",
       "\n",
       "\n"
      ],
      "text/plain": [
       "  PCs in model Total variance Rest variance in % Explained variance in %\n",
       "1 0            0.9966997      1.0000000          0.0000000              \n",
       "2 1            0.7848606      0.7874595          0.2125405              \n",
       "3 2            0.6670436      0.6692524          0.3307476              \n",
       "4 3            0.5732899      0.5751882          0.4248118              \n",
       "5 4            0.4827324      0.4843309          0.5156691              \n",
       "6 5            0.4043791      0.4043791          0.5956209              \n",
       "  Explained variance per PC\n",
       "1 0.00000000               \n",
       "2 0.21254053               \n",
       "3 0.11820708               \n",
       "4 0.09406418               \n",
       "5 0.09085735               \n",
       "6 0.07995181               "
      ]
     },
     "metadata": {},
     "output_type": "display_data"
    }
   ],
   "source": [
    "# aantal PCs\n",
    "pcs = 0:5\n",
    "\n",
    "# totale variantie bepalen\n",
    "total.var = c(matrix.var(E0), matrix.var(E1), matrix.var(E2),\n",
    "             matrix.var(E3), matrix.var(E4), matrix.var(E5))\n",
    "\n",
    "# resterende variantie bepalen\n",
    "rest.var = c(1, total.var[2] / total.var[1], total.var[3] / total.var[1], \n",
    "             total.var[4] / total.var[1], total.var[5] / total.var[1], total.var[6])\n",
    "\n",
    "# verklaarde variantie bepalen\n",
    "expl.var = 1 - rest.var\n",
    "\n",
    "# verklaarde variantie per PC bepalen\n",
    "var.per.pc = c(0, diff(expl.var))\n",
    "\n",
    "# tabel opstellen\n",
    "df.vars = data.frame(pcs, total.var, rest.var, expl.var, var.per.pc)\n",
    "colnames(df.vars) = c(\"PCs in model\", \"Total variance\", \"Rest variance in %\", \n",
    "                      \"Explained variance in %\", \"Explained variance per PC\")\n",
    "df.vars"
   ]
  },
  {
   "cell_type": "markdown",
   "metadata": {},
   "source": [
    "Wat opvalt is de $PC_1$ een redelijk deel van de variantie verklaard, namelijk $21\\%$. De volgende, $PC_2$, voegt slechts $12\\%$ toe. \n",
    "\n",
    "Ook is de tabel te controleren met R. Dezelfde kan tabel kan worden gevonden met `summary(...)`."
   ]
  },
  {
   "cell_type": "code",
   "execution_count": 18,
   "metadata": {
    "scrolled": false
   },
   "outputs": [
    {
     "data": {
      "text/plain": [
       "Importance of components:\n",
       "                          PC1    PC2     PC3     PC4     PC5     PC6     PC7\n",
       "Standard deviation     1.6622 1.2396 1.10582 1.08681 1.01092 0.98489 0.92885\n",
       "Proportion of Variance 0.2125 0.1182 0.09406 0.09086 0.07861 0.07462 0.06637\n",
       "Cumulative Proportion  0.2125 0.3307 0.42481 0.51567 0.59428 0.66890 0.73527\n",
       "                           PC8    PC9    PC10    PC11    PC12   PC13\n",
       "Standard deviation     0.88088 0.8479 0.78840 0.72808 0.65049 0.6098\n",
       "Proportion of Variance 0.05969 0.0553 0.04781 0.04078 0.03255 0.0286\n",
       "Cumulative Proportion  0.79495 0.8503 0.89807 0.93885 0.97140 1.0000"
      ]
     },
     "metadata": {},
     "output_type": "display_data"
    }
   ],
   "source": [
    "summary(prcomp(df[,1:13], scale=T))"
   ]
  },
  {
   "cell_type": "markdown",
   "metadata": {},
   "source": [
    "Hier valt te zien dat de verklaarde variantie in % voor een model met één PC overeenkomt met $0.212$. De tabel kan ook worden weergegeven in een grafiek. Dit wordt gedaan met de onderstaande code."
   ]
  },
  {
   "cell_type": "code",
   "execution_count": 25,
   "metadata": {
    "scrolled": false
   },
   "outputs": [
    {
     "data": {
      "image/png": "[encoded data removed]",
      "text/plain": [
       "Plot with title \"Explained variance per PC\""
      ]
     },
     "metadata": {},
     "output_type": "display_data"
    }
   ],
   "source": [
    "# lijngrafiek maken voor verklaarde variantie\n",
    "plot(df.vars[,1], df.vars[,3], type='o', col='red', lwd=2, pch=18, cex=2, \n",
    "     main=\"Explained variance per PC\", ylim=c(0,1),\n",
    "     ylab=\"% of Total variance\", xlab=\"# of PCs\")\n",
    "\n",
    "# lijngrafiek toevoegen voor onverklaarde variantie\n",
    "lines(df.vars[,1], df.vars[,4], type='o', col='gold', pch=17, lwd=2, cex=2)\n",
    "\n",
    "legend(\"bottomright\", col=c('red', 'gold'), \n",
    "       legend=c('Remaining variance', 'Explained variance'), pch=c(18, 17))\n",
    "grid()"
   ]
  },
  {
   "cell_type": "markdown",
   "metadata": {},
   "source": [
    "Wat opvalt is dat bij de grenswaarde, waardoor er $5$ PCs werden opgenomen, de lijnen elkaar kruisen. Op het moment dat er $5$ PCs in het model zijn opgenomen, is de verklaarde variantie $59\\%$."
   ]
  },
  {
   "cell_type": "markdown",
   "metadata": {},
   "source": [
    "Een andere aspect is het kijken naar mogelijke uitbijters. Hiervoor wordt er gekeken naar de gemiddelde kolom of rij varianties van de error matrices. Omdat er nogal veel waarnemingen zijn, is een grafiek van de rijen niet overzichtelijk. Echter is het wel mogelijk om van de kolommen een error matrix plot te maken. Met de onderstaande code wordt deze grafiek gegenereerd."
   ]
  },
  {
   "cell_type": "code",
   "execution_count": 20,
   "metadata": {},
   "outputs": [
    {
     "data": {
      "image/png": "[encoded data removed]",
      "text/plain": [
       "Plot with title \"Final Error Matrix (Variables)\""
      ]
     },
     "metadata": {},
     "output_type": "display_data"
    }
   ],
   "source": [
    "rownames(E5) = 1:nrow(df)\n",
    "barplot(colMeans(E5^2), las=2, col='orangered1')\n",
    "grid()\n",
    "title(main=\"Final Error Matrix (Variables)\")"
   ]
  },
  {
   "cell_type": "markdown",
   "metadata": {},
   "source": [
    "Hier is te zien dat de fout over alle variabelen goed verdeeld is. Er is geen variabele die een grote fout veroorzaakt in de laatste error matrix ($E_5$). Vanuit dit oogpunt zitten er geen uitbijters in de gegevens."
   ]
  },
  {
   "cell_type": "markdown",
   "metadata": {},
   "source": [
    "# Samplevarianties en variabele varianties"
   ]
  },
  {
   "cell_type": "markdown",
   "metadata": {},
   "source": [
    "Een andere grafiek laat zien hoe de variantie afneemt bij het toevoegen van meerdere PCs. Ook hier is er de mogelijkheid om dit voor de kolommen en de rijen te doen. Aangezien er veel rijen zijn, wordt dit alleen voor de kolommen gedaan. De grafiek die anders ontstaat is niet duidelijk.\n",
    "\n",
    "Met de onderstaande code wordt deze grafiek gegereerd voor de variabelen."
   ]
  },
  {
   "cell_type": "code",
   "execution_count": 21,
   "metadata": {},
   "outputs": [
    {
     "data": {
      "image/png": "[encoded data removed]",
      "text/plain": [
       "Plot with title \"Variable variances plot\""
      ]
     },
     "metadata": {},
     "output_type": "display_data"
    }
   ],
   "source": [
    "# kolomgemiddelden bepalen voor de error matrices\n",
    "variable.vars = data.frame(colMeans((E0)^2),colMeans((E1)^2),\n",
    "                           colMeans((E2)^2),colMeans((E3)^2),\n",
    "                           colMeans((E4)^2),colMeans((E5)^2))\n",
    "\n",
    "# kleuren\n",
    "colors = c('#018786', '#019592', '#01a299', \n",
    "           '#00b3a6', '#00c4b4', '#70efde')\n",
    "\n",
    "# staafdiagram maken\n",
    "barplot(t(variable.vars), las=2, beside=T, \n",
    "        main=\"Variable variances plot\", col=colors)\n",
    "legend(\"topright\", legend=c(\"PC 0\", \"PC 1\", \"PC 2\", \n",
    "                            \"PC 3\", \"PC 4\", \"PC 5\"), fill=colors)\n",
    "grid()"
   ]
  },
  {
   "cell_type": "markdown",
   "metadata": {},
   "source": [
    "Hier valt te zien dat een gedeelte van de variantie is opgenomen in het eerste principele component $PC_1$. Voornamelijk voor de variabele met een grote loading in $p_1$, is er te zien dat een deel van de variantie wordt verklaard met $PC_1$. Doordat de variabelen `thalach`, `exang`, `oldpeak` en `slope` een grote loading hebben, hebben ze vermoedelijk een grote invloed op het feit of iemand een hartziekte heeft. De analyse laat zien dat deze variabelen het zwaarst mee wegen in het eerste model.\n",
    "\n",
    "Vanuit de loading plot is ook goed te zien dat juist deze variabelen ook de correcte richting uitoefenen op waar de waarnemingen belanden in de score plot."
   ]
  },
  {
   "cell_type": "markdown",
   "metadata": {},
   "source": [
    "# Verschillen en verbanden"
   ]
  },
  {
   "cell_type": "markdown",
   "metadata": {},
   "source": [
    "In de vorige paragraaf is gebleken dat een gedeelte van de variantie in het model met $1$ PC wordt verklaard door de variabelen `thalach`, `exang`, `oldpeak` en `slope`. Om te kijken of er inderdaad een significant verschil is tussen deze variabelen en de splitsingsvariabele `target`, is er met SPSS een t-toets uitgevoerd voor het verschil in gemiddelden. Hiervoor is alleen van `slope` geen toets uitgevoerd, omdat in dit geval beide variabelen nominaal zijn. \n",
    "\n",
    "Het resultaat van de toets tussen alle ratio variabelen en de splitsingsvariabele `target` is te vinden in de onderstaande tabel:\n",
    "\n",
    "![t-toets](t-toets.PNG)"
   ]
  },
  {
   "cell_type": "markdown",
   "metadata": {},
   "source": [
    "Hier is te zien dat `age`, `trestbps`, `thalach` en `oldpeak` allen een significant verschil vertonen. In de loading plot is te zien dat `trestbps` en `age` beide een richting uitoefenen die bijna loodrecht op `thalach` en `oldpeak` staat. Wat ook opvalt is dat voor de groep met een hartziekte, de maximaal behaalde hartslag tijden de oefening, gemiddeld bijna $20$ BPM hoger is dan bij de groep zonder hartziekte. Ditzelfde geldt voor `oldpeak`, deze scoort gemiddeld `1` lager bij de groep met een hartziekte. Dit geeft de volgende vraag, is er een verband tussen `oldpeak` en `thalach`? Vanuit het onderzoek met meervoudige regressie is gebleken dat de correlatiecoëfficiënt hiertussen $-0.344$ is. Een snelle toets in SPSS toont aan dat dit resultaat significant is met een p-waarde van $0.00$ (toetsresultaat achterwege gelaten). Er is dus een negatief zwak verband tussen `oldpeak` en `thalach`."
   ]
  },
  {
   "cell_type": "markdown",
   "metadata": {},
   "source": [
    "# Conclusie"
   ]
  },
  {
   "cell_type": "markdown",
   "metadata": {},
   "source": [
    "Vanuit de principele componenten analyse en de verschiltoets is gebleken dat de variabelen die de grootste invloed uitoefenen op de mogelijkheid of iemand een hartziekte heeft, `oldpeak` en `thalach` zijn. Uit de loading plot valt te zien dat `slope` en `exang` een grote invloed uitoefenen op de mogelijkheid of iemand een hartziekte heeft. Echter zijn dit nominale variabelen en is hiervan geen verschiltoets uitgevoerd.\n",
    "\n",
    "De variabele `oldpeak` staat voor _ST depression induced by exercise relative to test_. Hiermee wordt een specifiek fenomeen bedoeld wat voorkomt in een ECG (electrocardiograph) wat een indicatie is voor een onderliggend probleem genaamd ischemia. [1] Als een van de bloedvatten verstoopt raakt, onstaat er een ernstig probleem genaamd _ischemia_. [4] De variabele `slope` duidt een ander fenomeen aan in een ECG, wat ook duidt op een onderliggend hartprobleem.\n",
    "\n",
    "De andere variabele `thalach` geeft de maximaal behaalde hartslag tijdens de oefening aan. Hier valt het op dat bij de mensen met een hartprobleem, deze gemiddeld $20$ BPM hoger is.\n",
    "\n",
    "Beide variabelen geven een goede indicatie op mogelijke hartproblemen. Aangezien niet iedereen thuis een ECG heeft, kan je dit zelf niet controleren. Echter is het wel mogelijk om zelf de maximaal behaalde hartslag tijdens een oefening bij te houden. Als deze hoger ligt dan het gemiddelde, wat bepaald is per leeftijd, is dat een goede reden voor een doktersbezoek.\n",
    "\n",
    "De laatste variabele, `exang`, geeft aan of iemand pijn of oncomfortabelheden in zijn of haar borst heeft ervaren gedurende de oefening. Dit fenomeen wordt angina genoemd. Dit word mogelijk veroorzaakt doordat er te weinig zuurstof-rijk bloed bij die spier komt. Ook dit is een symptoom van een onderliggend hartprobleem. [3]"
   ]
  },
  {
   "cell_type": "markdown",
   "metadata": {},
   "source": [
    "# Referenties"
   ]
  },
  {
   "cell_type": "markdown",
   "metadata": {},
   "source": [
    "In dit rapport zijn de volgende referenties geraadpleegd.\n",
    "\n",
    "1. https://ecgwaves.com/ecg-topic/ecg-st-segment-depression-ischemia-infarction-differential-diagnoses/\n",
    "2. https://www.webmd.com/heart-disease/electrocardiogram-ekgs#1\n",
    "3. https://www.heart.org/en/health-topics/heart-attack/angina-chest-pain\n",
    "4. https://www.webmd.com/heart-disease/what-is-ischemia#1"
   ]
  }
 ],
 "metadata": {
  "kernelspec": {
   "display_name": "R",
   "language": "R",
   "name": "ir"
  },
  "language_info": {
   "codemirror_mode": "r",
   "file_extension": ".r",
   "mimetype": "text/x-r-source",
   "name": "R",
   "pygments_lexer": "r",
   "version": "3.4.4"
  }
 },
 "nbformat": 4,
 "nbformat_minor": 2
}
