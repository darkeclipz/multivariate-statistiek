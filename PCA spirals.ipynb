{
 "cells": [
  {
   "cell_type": "code",
   "execution_count": 14,
   "metadata": {},
   "outputs": [],
   "source": [
    "library(scatterplot3d)"
   ]
  },
  {
   "cell_type": "markdown",
   "metadata": {},
   "source": [
    "# Load data"
   ]
  },
  {
   "cell_type": "code",
   "execution_count": 19,
   "metadata": {},
   "outputs": [
    {
     "data": {
      "image/png": "[encoded data removed]",
      "text/plain": [
       "Plot with title \"3D Scatterplot of Spiral Data\""
      ]
     },
     "metadata": {},
     "output_type": "display_data"
    }
   ],
   "source": [
    "df = read.csv('spiral.csv', sep=';')\n",
    "scatterplot3d(df$L, df$a, df$b, main=\"3D Scatterplot of Spiral Data\")"
   ]
  },
  {
   "cell_type": "markdown",
   "metadata": {},
   "source": [
    "# Center data"
   ]
  },
  {
   "cell_type": "code",
   "execution_count": 30,
   "metadata": {},
   "outputs": [
    {
     "data": {
      "image/png": "[encoded data removed]",
      "text/plain": [
       "Plot with title \"3D Scatterplot of Centered Spiral Data\""
      ]
     },
     "metadata": {},
     "output_type": "display_data"
    }
   ],
   "source": [
    "xvarCol = 3:5\n",
    "X = data.matrix(df[xvarCol])\n",
    "\n",
    "m = apply(X,2,mean)\n",
    "s = apply(X,2,sd)\n",
    "\n",
    "Xc = sweep(X,2,m,\"-\")\n",
    "\n",
    "scatterplot3d(Xc, main=\"3D Scatterplot of Centered Spiral Data\")"
   ]
  },
  {
   "cell_type": "markdown",
   "metadata": {},
   "source": [
    "# Standardizing"
   ]
  },
  {
   "cell_type": "markdown",
   "metadata": {},
   "source": [
    "Only applicable if the data of the variables strongly differ in variance. When minimizing a sum of squares, the high variance variable will dominate the solution. It is not applicable to this dataset.\n",
    "\n",
    "To normalize the variable, simply calculate the z-score with $z = \\frac{x - \\bar{x}}{s}$. "
   ]
  },
  {
   "cell_type": "markdown",
   "metadata": {},
   "source": [
    "# Normalizing\n",
    "\n",
    "The combination of centering and standardizing is called normalizing."
   ]
  },
  {
   "cell_type": "code",
   "execution_count": 32,
   "metadata": {},
   "outputs": [
    {
     "data": {
      "text/html": [
       "<table>\n",
       "<thead><tr><th scope=col>L</th><th scope=col>a</th><th scope=col>b</th></tr></thead>\n",
       "<tbody>\n",
       "\t<tr><td>-0.443016958</td><td> 0.76821601 </td><td> 0.15882545 </td></tr>\n",
       "\t<tr><td> 0.633269640</td><td>-0.61457281 </td><td> 1.69727879 </td></tr>\n",
       "\t<tr><td> 1.416023530</td><td>-0.18357370 </td><td>-0.82239282 </td></tr>\n",
       "\t<tr><td>-0.540861195</td><td> 0.04988416 </td><td>-0.05922305 </td></tr>\n",
       "\t<tr><td>-0.491939077</td><td> 1.12738194 </td><td> 0.23150829 </td></tr>\n",
       "\t<tr><td>-0.100562132</td><td> 1.68408913 </td><td> 0.77662955 </td></tr>\n",
       "\t<tr><td> 0.486503286</td><td> 0.24742542 </td><td> 0.44955679 </td></tr>\n",
       "\t<tr><td> 0.388659049</td><td>-1.58432082 </td><td>-0.88296184 </td></tr>\n",
       "\t<tr><td> 1.024646585</td><td> 1.84571380 </td><td> 1.16427133 </td></tr>\n",
       "\t<tr><td> 0.780035994</td><td> 0.71434113 </td><td>-1.71881444 </td></tr>\n",
       "\t<tr><td> 1.367101412</td><td>-0.66844770 </td><td>-0.30149917 </td></tr>\n",
       "\t<tr><td> 0.095126341</td><td>-0.14765710 </td><td>-0.58011670 </td></tr>\n",
       "\t<tr><td>-0.981160258</td><td> 0.15763394 </td><td>-1.44019691 </td></tr>\n",
       "\t<tr><td>-2.889122864</td><td>-0.84803067 </td><td> 0.92199522 </td></tr>\n",
       "\t<tr><td>-0.002717895</td><td> 0.28334201 </td><td> 0.71606052 </td></tr>\n",
       "\t<tr><td>-0.002717895</td><td>-1.02761363 </td><td>-0.33784058 </td></tr>\n",
       "\t<tr><td>-0.785471785</td><td>-1.74594549 </td><td>-1.30694505 </td></tr>\n",
       "\t<tr><td> 0.046204223</td><td>-0.05786562 </td><td> 1.33386462 </td></tr>\n",
       "</tbody>\n",
       "</table>\n"
      ],
      "text/latex": [
       "\\begin{tabular}{lll}\n",
       " L & a & b\\\\\n",
       "\\hline\n",
       "\t -0.443016958 &  0.76821601  &  0.15882545 \\\\\n",
       "\t  0.633269640 & -0.61457281  &  1.69727879 \\\\\n",
       "\t  1.416023530 & -0.18357370  & -0.82239282 \\\\\n",
       "\t -0.540861195 &  0.04988416  & -0.05922305 \\\\\n",
       "\t -0.491939077 &  1.12738194  &  0.23150829 \\\\\n",
       "\t -0.100562132 &  1.68408913  &  0.77662955 \\\\\n",
       "\t  0.486503286 &  0.24742542  &  0.44955679 \\\\\n",
       "\t  0.388659049 & -1.58432082  & -0.88296184 \\\\\n",
       "\t  1.024646585 &  1.84571380  &  1.16427133 \\\\\n",
       "\t  0.780035994 &  0.71434113  & -1.71881444 \\\\\n",
       "\t  1.367101412 & -0.66844770  & -0.30149917 \\\\\n",
       "\t  0.095126341 & -0.14765710  & -0.58011670 \\\\\n",
       "\t -0.981160258 &  0.15763394  & -1.44019691 \\\\\n",
       "\t -2.889122864 & -0.84803067  &  0.92199522 \\\\\n",
       "\t -0.002717895 &  0.28334201  &  0.71606052 \\\\\n",
       "\t -0.002717895 & -1.02761363  & -0.33784058 \\\\\n",
       "\t -0.785471785 & -1.74594549  & -1.30694505 \\\\\n",
       "\t  0.046204223 & -0.05786562  &  1.33386462 \\\\\n",
       "\\end{tabular}\n"
      ],
      "text/markdown": [
       "\n",
       "L | a | b | \n",
       "|---|---|---|---|---|---|---|---|---|---|---|---|---|---|---|---|---|---|\n",
       "| -0.443016958 |  0.76821601  |  0.15882545  | \n",
       "|  0.633269640 | -0.61457281  |  1.69727879  | \n",
       "|  1.416023530 | -0.18357370  | -0.82239282  | \n",
       "| -0.540861195 |  0.04988416  | -0.05922305  | \n",
       "| -0.491939077 |  1.12738194  |  0.23150829  | \n",
       "| -0.100562132 |  1.68408913  |  0.77662955  | \n",
       "|  0.486503286 |  0.24742542  |  0.44955679  | \n",
       "|  0.388659049 | -1.58432082  | -0.88296184  | \n",
       "|  1.024646585 |  1.84571380  |  1.16427133  | \n",
       "|  0.780035994 |  0.71434113  | -1.71881444  | \n",
       "|  1.367101412 | -0.66844770  | -0.30149917  | \n",
       "|  0.095126341 | -0.14765710  | -0.58011670  | \n",
       "| -0.981160258 |  0.15763394  | -1.44019691  | \n",
       "| -2.889122864 | -0.84803067  |  0.92199522  | \n",
       "| -0.002717895 |  0.28334201  |  0.71606052  | \n",
       "| -0.002717895 | -1.02761363  | -0.33784058  | \n",
       "| -0.785471785 | -1.74594549  | -1.30694505  | \n",
       "|  0.046204223 | -0.05786562  |  1.33386462  | \n",
       "\n",
       "\n"
      ],
      "text/plain": [
       "      L            a           b          \n",
       " [1,] -0.443016958  0.76821601  0.15882545\n",
       " [2,]  0.633269640 -0.61457281  1.69727879\n",
       " [3,]  1.416023530 -0.18357370 -0.82239282\n",
       " [4,] -0.540861195  0.04988416 -0.05922305\n",
       " [5,] -0.491939077  1.12738194  0.23150829\n",
       " [6,] -0.100562132  1.68408913  0.77662955\n",
       " [7,]  0.486503286  0.24742542  0.44955679\n",
       " [8,]  0.388659049 -1.58432082 -0.88296184\n",
       " [9,]  1.024646585  1.84571380  1.16427133\n",
       "[10,]  0.780035994  0.71434113 -1.71881444\n",
       "[11,]  1.367101412 -0.66844770 -0.30149917\n",
       "[12,]  0.095126341 -0.14765710 -0.58011670\n",
       "[13,] -0.981160258  0.15763394 -1.44019691\n",
       "[14,] -2.889122864 -0.84803067  0.92199522\n",
       "[15,] -0.002717895  0.28334201  0.71606052\n",
       "[16,] -0.002717895 -1.02761363 -0.33784058\n",
       "[17,] -0.785471785 -1.74594549 -1.30694505\n",
       "[18,]  0.046204223 -0.05786562  1.33386462"
      ]
     },
     "metadata": {},
     "output_type": "display_data"
    }
   ],
   "source": [
    "Xcs = sweep(Xc,2,s,\"/\")\n",
    "Xcs"
   ]
  },
  {
   "cell_type": "markdown",
   "metadata": {},
   "source": [
    "# Calculate the first principal component (PC1)"
   ]
  },
  {
   "cell_type": "markdown",
   "metadata": {},
   "source": [
    "Steps to calculate PC1:\n",
    "\n",
    " 1. The first principal component will be a vector $p_1' = \\begin{bmatrix} \\beta_1, \\beta_2, \\beta_3 \\end{bmatrix}$.\n",
    " 2. Project all the samples in the dataset orthogonally onto the vector $p_1'$.\n",
    " 3. Find the length of the line segment between the sample and the orthogonally projection onto the vector $p_1'$.\n",
    " 4. Calculate the sum of squares of the line segments.\n",
    " 5. Determine $\\beta_1, \\beta_2, \\beta_3$ in such a way that the sum of squares is minimized."
   ]
  },
  {
   "cell_type": "markdown",
   "metadata": {},
   "source": [
    "# Determining $\\beta_1, \\beta_2, \\beta_3$ of PC1"
   ]
  },
  {
   "cell_type": "markdown",
   "metadata": {},
   "source": [
    "As a notation, $X_c'$ will denote the transponse of $X_c$. To calculate the covariance matrix, we can determine:\n",
    "\n",
    "$$ S = \\frac{X_c'X_c}{N-1}. $$\n",
    "\n",
    "The variances are on the main diagonal, and the covariances on the off-diagonal elements."
   ]
  },
  {
   "cell_type": "code",
   "execution_count": 39,
   "metadata": {},
   "outputs": [
    {
     "data": {
      "text/html": [
       "<table>\n",
       "<thead><tr><th></th><th scope=col>L</th><th scope=col>a</th><th scope=col>b</th></tr></thead>\n",
       "<tbody>\n",
       "\t<tr><th scope=row>L</th><td> 0.04178203</td><td>0.01975752 </td><td>-0.01214052</td></tr>\n",
       "\t<tr><th scope=row>a</th><td> 0.01975752</td><td>0.31007712 </td><td> 0.14223203</td></tr>\n",
       "\t<tr><th scope=row>b</th><td>-0.01214052</td><td>0.14223203 </td><td> 0.68145752</td></tr>\n",
       "</tbody>\n",
       "</table>\n"
      ],
      "text/latex": [
       "\\begin{tabular}{r|lll}\n",
       "  & L & a & b\\\\\n",
       "\\hline\n",
       "\tL &  0.04178203 & 0.01975752  & -0.01214052\\\\\n",
       "\ta &  0.01975752 & 0.31007712  &  0.14223203\\\\\n",
       "\tb & -0.01214052 & 0.14223203  &  0.68145752\\\\\n",
       "\\end{tabular}\n"
      ],
      "text/markdown": [
       "\n",
       "| <!--/--> | L | a | b | \n",
       "|---|---|---|\n",
       "| L |  0.04178203 | 0.01975752  | -0.01214052 | \n",
       "| a |  0.01975752 | 0.31007712  |  0.14223203 | \n",
       "| b | -0.01214052 | 0.14223203  |  0.68145752 | \n",
       "\n",
       "\n"
      ],
      "text/plain": [
       "  L           a          b          \n",
       "L  0.04178203 0.01975752 -0.01214052\n",
       "a  0.01975752 0.31007712  0.14223203\n",
       "b -0.01214052 0.14223203  0.68145752"
      ]
     },
     "metadata": {},
     "output_type": "display_data"
    }
   ],
   "source": [
    "t(Xc) %*% Xc / (nrow(Xc) - 1)"
   ]
  },
  {
   "cell_type": "markdown",
   "metadata": {},
   "source": [
    "This can be done quickly with `cov(...)`:"
   ]
  },
  {
   "cell_type": "code",
   "execution_count": 40,
   "metadata": {},
   "outputs": [
    {
     "data": {
      "text/html": [
       "<table>\n",
       "<thead><tr><th></th><th scope=col>L</th><th scope=col>a</th><th scope=col>b</th></tr></thead>\n",
       "<tbody>\n",
       "\t<tr><th scope=row>L</th><td> 0.04178203</td><td>0.01975752 </td><td>-0.01214052</td></tr>\n",
       "\t<tr><th scope=row>a</th><td> 0.01975752</td><td>0.31007712 </td><td> 0.14223203</td></tr>\n",
       "\t<tr><th scope=row>b</th><td>-0.01214052</td><td>0.14223203 </td><td> 0.68145752</td></tr>\n",
       "</tbody>\n",
       "</table>\n"
      ],
      "text/latex": [
       "\\begin{tabular}{r|lll}\n",
       "  & L & a & b\\\\\n",
       "\\hline\n",
       "\tL &  0.04178203 & 0.01975752  & -0.01214052\\\\\n",
       "\ta &  0.01975752 & 0.31007712  &  0.14223203\\\\\n",
       "\tb & -0.01214052 & 0.14223203  &  0.68145752\\\\\n",
       "\\end{tabular}\n"
      ],
      "text/markdown": [
       "\n",
       "| <!--/--> | L | a | b | \n",
       "|---|---|---|\n",
       "| L |  0.04178203 | 0.01975752  | -0.01214052 | \n",
       "| a |  0.01975752 | 0.31007712  |  0.14223203 | \n",
       "| b | -0.01214052 | 0.14223203  |  0.68145752 | \n",
       "\n",
       "\n"
      ],
      "text/plain": [
       "  L           a          b          \n",
       "L  0.04178203 0.01975752 -0.01214052\n",
       "a  0.01975752 0.31007712  0.14223203\n",
       "b -0.01214052 0.14223203  0.68145752"
      ]
     },
     "metadata": {},
     "output_type": "display_data"
    }
   ],
   "source": [
    "cov(Xc)"
   ]
  },
  {
   "cell_type": "markdown",
   "metadata": {},
   "source": [
    "The first principle component PC1, vector $p_1' = \\begin{bmatrix} \\beta_1, \\beta_2, \\beta_3 \\end{bmatrix}$ is the eigenvector with the highest eigenvalue of the covariance matrix. "
   ]
  },
  {
   "cell_type": "code",
   "execution_count": 42,
   "metadata": {},
   "outputs": [
    {
     "data": {
      "text/plain": [
       "eigen() decomposition\n",
       "$values\n",
       "[1] 0.72970941 0.26416200 0.03944526\n",
       "\n",
       "$vectors\n",
       "             [,1]       [,2]        [,3]\n",
       "[1,] -0.007505357 -0.1011221  0.99484571\n",
       "[2,]  0.320680456 -0.9425723 -0.09338946\n",
       "[3,]  0.947157703  0.3183267  0.03950223\n"
      ]
     },
     "metadata": {},
     "output_type": "display_data"
    }
   ],
   "source": [
    "eigen(cov(Xc))"
   ]
  },
  {
   "cell_type": "markdown",
   "metadata": {},
   "source": [
    "This means that the vector for PC1 is $\\begin{bmatrix} -0.0075, -0.1011,  0.9948 \\end{bmatrix}$."
   ]
  },
  {
   "cell_type": "code",
   "execution_count": 54,
   "metadata": {},
   "outputs": [],
   "source": [
    "p1 = eigen(cov(Xc))$vectors[,1]\n",
    "p2 = eigen(cov(Xc))$vectors[,2]"
   ]
  },
  {
   "cell_type": "markdown",
   "metadata": {},
   "source": [
    "# Finding PC2"
   ]
  },
  {
   "cell_type": "markdown",
   "metadata": {},
   "source": [
    "The second principle component PC2 is orthogonal to PC1. Also, the second principle component is the eigenvector with the second highest value of the covariance matrix, vector $p_2' = \\begin{bmatrix} 0.3206, -0.9425, -0.0933 \\end{bmatrix}$."
   ]
  },
  {
   "cell_type": "markdown",
   "metadata": {},
   "source": [
    "# Rotationary ambivalence"
   ]
  },
  {
   "cell_type": "markdown",
   "metadata": {},
   "source": [
    "Because there is another vector that is orthogonal to $p_1'$, which is the vector in the opposite direction. Both vectors are correct, and this phenoma is called _rotationary ambivalence_. If you don't like the result, simple change the sign $p := -p$."
   ]
  },
  {
   "cell_type": "code",
   "execution_count": 69,
   "metadata": {},
   "outputs": [],
   "source": [
    "p2 = -p2"
   ]
  },
  {
   "cell_type": "markdown",
   "metadata": {},
   "source": [
    "# Loadings $p$"
   ]
  },
  {
   "cell_type": "markdown",
   "metadata": {},
   "source": [
    "* Elements in the principle component vector $p$ are also called _loadings_.\n",
    "* The vectors $p_1$ and $p_2$ are orthogonal to each other, thus they span a plane.\n",
    "* In the way $p_1$ and $p_2$ are determined, this plane contains the maximed form of information of the samples in the original $v$-dimensional space.\n",
    "* Then we project the samples in the plane and look at the graph where $p_1$ is the x-axis, and $p_2$ is the y-axis."
   ]
  },
  {
   "cell_type": "markdown",
   "metadata": {},
   "source": [
    "# Scores $t$"
   ]
  },
  {
   "cell_type": "markdown",
   "metadata": {},
   "source": [
    "* Project every samples orthogonal onto the vector $p_1$.\n",
    "* The distance from the origin $O$ to the orthogonal projection onto $p_1$ is the new x-coordinate of the sample in the $p_1, p_2$-plane.\n",
    "* These new coordinates are called _Scores_.\n",
    "* Also do this for $p_2$, and then plot $t_2$ on the y-axis and $t_1$ on the x-axis."
   ]
  },
  {
   "cell_type": "markdown",
   "metadata": {},
   "source": [
    "# Calculating scores $t$"
   ]
  },
  {
   "cell_type": "markdown",
   "metadata": {},
   "source": [
    "For example, project the sample `M17` where $x_c = [-0.16, -0.98, -1.08]$ orthogonal onto $p_1' = [-0.01, 0.32, 0.95]$. The formula for this is:\n",
    "\n",
    "$$ t = \\dfrac{x_c \\cdot p_1}{p_1' \\cdot p_1} $$\n",
    "\n",
    "However, the length $l$ of $p_1 = 1$. This means that $p_1' \\cdot p_1 = (-0.01) ^2 + 0.32^2 + 0.95^2 = 1$. This simplifies the formula to $t=x_c\\cdot p_1$. **(Do note that the multiplication operator $\\cdot$ denotes a dot-product between two vectors.)**"
   ]
  },
  {
   "cell_type": "code",
   "execution_count": 92,
   "metadata": {},
   "outputs": [
    {
     "data": {
      "text/html": [
       "<table>\n",
       "<tbody>\n",
       "\t<tr><td>-1.332446</td></tr>\n",
       "</tbody>\n",
       "</table>\n"
      ],
      "text/latex": [
       "\\begin{tabular}{l}\n",
       "\t -1.332446\\\\\n",
       "\\end{tabular}\n"
      ],
      "text/markdown": [
       "\n",
       "| -1.332446 | \n",
       "\n",
       "\n"
      ],
      "text/plain": [
       "     [,1]     \n",
       "[1,] -1.332446"
      ]
     },
     "metadata": {},
     "output_type": "display_data"
    }
   ],
   "source": [
    "Xc[17,] %*% p1"
   ]
  },
  {
   "cell_type": "markdown",
   "metadata": {},
   "source": [
    "If we do this for all the samples, and plot the scores:"
   ]
  },
  {
   "cell_type": "code",
   "execution_count": 106,
   "metadata": {},
   "outputs": [],
   "source": [
    "t1 = Xc %*% p1\n",
    "t2 = Xc %*% p2"
   ]
  },
  {
   "cell_type": "markdown",
   "metadata": {},
   "source": [
    "# Score plot"
   ]
  },
  {
   "cell_type": "code",
   "execution_count": 107,
   "metadata": {},
   "outputs": [
    {
     "data": {
      "image/png": "[encoded data removed]",
      "text/plain": [
       "Plot with title \"PCA Score plot\""
      ]
     },
     "metadata": {},
     "output_type": "display_data"
    }
   ],
   "source": [
    "plot(t1, t2, col=df$Spiraal, pch=19, cex=2) \n",
    "text(t1, t2, labels=df$Sample, col=df$Spiraal, pos=3, xpd=NA)\n",
    "abline(h=0,lty=1)\n",
    "abline(v=0,lty=1)\n",
    "title(main='PCA Score plot')\n",
    "grid()"
   ]
  },
  {
   "cell_type": "markdown",
   "metadata": {},
   "source": [
    "# Loading plot"
   ]
  },
  {
   "cell_type": "markdown",
   "metadata": {},
   "source": [
    "The loadings $p_1$ and $p_2$ show the most important structure in the dataset. They determine where the samples will end in the score plot: $t = x_c \\cdot p$. This means that for $p_1' = [-0.01, 0.32, 0.95 ]$:\n",
    "\n",
    " * the variable $L$ is not important.\n",
    " * the variable $a$ has a positive contribution.\n",
    " * the variable $b$ also has a positive contribution and is the most important one.\n",
    " \n",
    "The loadings plot of $p_1$ and $p_2$ determines the position of the samples in the score plot."
   ]
  },
  {
   "cell_type": "code",
   "execution_count": 112,
   "metadata": {},
   "outputs": [
    {
     "data": {
      "image/png": "[encoded data removed]",
      "text/plain": [
       "Plot with title \"PCA Loading plot\""
      ]
     },
     "metadata": {},
     "output_type": "display_data"
    }
   ],
   "source": [
    "plot(p1,p2,pch=19,cex=2,col=\"blue\")\n",
    "arrows(0,0,p1,p2,col=\"blue\") \n",
    "text(p1,p2,labels=colnames(X),pos=3,col=\"blue\",xpd=NA)\n",
    "abline(h=0,lty=1)\n",
    "abline(v=0,lty=1)\n",
    "title(main=\"PCA Loading plot\")"
   ]
  },
  {
   "cell_type": "markdown",
   "metadata": {},
   "source": [
    "# Bi-plot"
   ]
  },
  {
   "cell_type": "markdown",
   "metadata": {},
   "source": [
    "The most informative plot is the combination of the score plot and the loading plot. This is called a bi-plot. Usually the loadings coefficients are very small numbers, compared to the scores. To display them properly into the score plot, they have to be rescaled by a positive constant. This is allowed, because the underlying relationship is what matters. "
   ]
  },
  {
   "cell_type": "code",
   "execution_count": 118,
   "metadata": {
    "scrolled": false
   },
   "outputs": [
    {
     "data": {
      "image/png": "[encoded data removed]",
      "text/plain": [
       "Plot with title \"PCA bi-plot\""
      ]
     },
     "metadata": {},
     "output_type": "display_data"
    }
   ],
   "source": [
    "# scores plot\n",
    "lim = max(t1) * 1.05\n",
    "plot(t1, t2, col=df$Spiraal, pch=19, cex=2, ylim=c(-lim,lim), xlim=c(-lim,lim)) \n",
    "text(t1, t2, labels=df$Sample, col=df$Spiraal, pos=3, xpd=NA)\n",
    "abline(h=0,lty=1)\n",
    "abline(v=0,lty=1)\n",
    "title(main='PCA bi-plot')\n",
    "grid()\n",
    "\n",
    "# loading plot\n",
    "loadingScale = max(p1)\n",
    "arrows(0,0,p1*loadingScale,p2*loadingScale,col=\"blue\") \n",
    "text(p1*loadingScale,p2*loadingScale,labels=c('L', 'a', 'b'), col='blue')"
   ]
  }
 ],
 "metadata": {
  "kernelspec": {
   "display_name": "R",
   "language": "R",
   "name": "ir"
  },
  "language_info": {
   "codemirror_mode": "r",
   "file_extension": ".r",
   "mimetype": "text/x-r-source",
   "name": "R",
   "pygments_lexer": "r",
   "version": "3.4.4"
  }
 },
 "nbformat": 4,
 "nbformat_minor": 2
}
