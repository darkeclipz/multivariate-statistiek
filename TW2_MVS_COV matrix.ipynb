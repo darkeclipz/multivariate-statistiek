{
 "cells": [
  {
   "cell_type": "code",
   "execution_count": 1,
   "metadata": {},
   "outputs": [],
   "source": [
    "X = c(3.764, 5.059, 5.684, 5.807, 6.102, 6.216, 6.394, 7.366, 9.201, 10.02)\n",
    "Y = c(8.695, 8.725, 9.181, 9.381, 9.837, 10.6, 11.86, 14.2, 14.25, 14.61)\n",
    "Z = c(16.49, 19.64, 22.04, 22.88, 23.86, 24.05, 24.84, 25.72, 26.05, 26.58)"
   ]
  },
  {
   "cell_type": "markdown",
   "metadata": {},
   "source": [
    "# Variance-Covariance matrix"
   ]
  },
  {
   "cell_type": "markdown",
   "metadata": {},
   "source": [
    " * **Variance**: is a measure of the variability or spread in the set of data, it can be computed with the following formula:\n",
    " \n",
    " $$ \\textrm{Var}(X) = \\dfrac{\\sum \\left(X_i - \\bar{X}\\right)^2}{N} $$\n",
    " \n",
    " * **Covariance**: is a measure of the extent to which corresponding elements from two sets of ordered data move in the same direction. We use the following formula to computer the covariance:\n",
    " \n",
    " $$ \\textrm{Cov}(X,Y) = \\dfrac{\\sum \\left( X_i - \\bar{X} \\right)\\left(Y_i - \\bar{Y} \\right)}{N} $$"
   ]
  },
  {
   "cell_type": "markdown",
   "metadata": {},
   "source": [
    "The variance and covariance are often displayed together in a variance-covariance matrix (aka the _covariance matrix_), the $m \\times n$ matrix is defined as:\n",
    "\n",
    "$$ \\mathbf{V} = \\begin{bmatrix} \\textrm{Var}(X_1) && \\textrm{Cov}(X_1, X_2) && \\ldots && \\textrm{Cov}(X_1, X_m) \\\\ \\textrm{Cov}(X_2, X_1) && \\textrm{Var}(X_2) && \\ldots && \\textrm{Cov}(X_2, X_m) \\\\ \\vdots && \\vdots && \\ddots && \\vdots \\\\ \\textrm{Cov}(X_n, X_1) && \\textrm{Cov}(X_n, X_2) && \\ldots && \\textrm{Var}(X_n) \\end{bmatrix} $$"
   ]
  },
  {
   "cell_type": "markdown",
   "metadata": {},
   "source": [
    "## Example"
   ]
  },
  {
   "cell_type": "code",
   "execution_count": 2,
   "metadata": {},
   "outputs": [
    {
     "data": {
      "text/html": [
       "10"
      ],
      "text/latex": [
       "10"
      ],
      "text/markdown": [
       "10"
      ],
      "text/plain": [
       "[1] 10"
      ]
     },
     "metadata": {},
     "output_type": "display_data"
    }
   ],
   "source": [
    "n = length(X); n"
   ]
  },
  {
   "cell_type": "code",
   "execution_count": 3,
   "metadata": {},
   "outputs": [],
   "source": [
    "A = cbind(X,Y,Z)"
   ]
  },
  {
   "cell_type": "code",
   "execution_count": 4,
   "metadata": {},
   "outputs": [
    {
     "data": {
      "text/html": [
       "<table>\n",
       "<thead><tr><th scope=col>X</th><th scope=col>Y</th><th scope=col>Z</th></tr></thead>\n",
       "<tbody>\n",
       "\t<tr><td> 3.764</td><td> 8.695</td><td>16.49 </td></tr>\n",
       "\t<tr><td> 5.059</td><td> 8.725</td><td>19.64 </td></tr>\n",
       "\t<tr><td> 5.684</td><td> 9.181</td><td>22.04 </td></tr>\n",
       "\t<tr><td> 5.807</td><td> 9.381</td><td>22.88 </td></tr>\n",
       "\t<tr><td> 6.102</td><td> 9.837</td><td>23.86 </td></tr>\n",
       "\t<tr><td> 6.216</td><td>10.600</td><td>24.05 </td></tr>\n",
       "\t<tr><td> 6.394</td><td>11.860</td><td>24.84 </td></tr>\n",
       "\t<tr><td> 7.366</td><td>14.200</td><td>25.72 </td></tr>\n",
       "\t<tr><td> 9.201</td><td>14.250</td><td>26.05 </td></tr>\n",
       "\t<tr><td>10.020</td><td>14.610</td><td>26.58 </td></tr>\n",
       "</tbody>\n",
       "</table>\n"
      ],
      "text/latex": [
       "\\begin{tabular}{lll}\n",
       " X & Y & Z\\\\\n",
       "\\hline\n",
       "\t  3.764 &  8.695 & 16.49 \\\\\n",
       "\t  5.059 &  8.725 & 19.64 \\\\\n",
       "\t  5.684 &  9.181 & 22.04 \\\\\n",
       "\t  5.807 &  9.381 & 22.88 \\\\\n",
       "\t  6.102 &  9.837 & 23.86 \\\\\n",
       "\t  6.216 & 10.600 & 24.05 \\\\\n",
       "\t  6.394 & 11.860 & 24.84 \\\\\n",
       "\t  7.366 & 14.200 & 25.72 \\\\\n",
       "\t  9.201 & 14.250 & 26.05 \\\\\n",
       "\t 10.020 & 14.610 & 26.58 \\\\\n",
       "\\end{tabular}\n"
      ],
      "text/markdown": [
       "\n",
       "X | Y | Z | \n",
       "|---|---|---|---|---|---|---|---|---|---|\n",
       "|  3.764 |  8.695 | 16.49  | \n",
       "|  5.059 |  8.725 | 19.64  | \n",
       "|  5.684 |  9.181 | 22.04  | \n",
       "|  5.807 |  9.381 | 22.88  | \n",
       "|  6.102 |  9.837 | 23.86  | \n",
       "|  6.216 | 10.600 | 24.05  | \n",
       "|  6.394 | 11.860 | 24.84  | \n",
       "|  7.366 | 14.200 | 25.72  | \n",
       "|  9.201 | 14.250 | 26.05  | \n",
       "| 10.020 | 14.610 | 26.58  | \n",
       "\n",
       "\n"
      ],
      "text/plain": [
       "      X      Y      Z    \n",
       " [1,]  3.764  8.695 16.49\n",
       " [2,]  5.059  8.725 19.64\n",
       " [3,]  5.684  9.181 22.04\n",
       " [4,]  5.807  9.381 22.88\n",
       " [5,]  6.102  9.837 23.86\n",
       " [6,]  6.216 10.600 24.05\n",
       " [7,]  6.394 11.860 24.84\n",
       " [8,]  7.366 14.200 25.72\n",
       " [9,]  9.201 14.250 26.05\n",
       "[10,] 10.020 14.610 26.58"
      ]
     },
     "metadata": {},
     "output_type": "display_data"
    }
   ],
   "source": [
    "A"
   ]
  },
  {
   "cell_type": "markdown",
   "metadata": {},
   "source": [
    "First we transform the _raw_ scores in matrix $\\mathbf{A}$ to _deviation scores_ in matrix $\\mathbf{a}$ with the formula:\n",
    "\n",
    "$$ \\mathbf{a} = \\mathbf{A} - \\mathbf{11^TA} \\cdot \\frac{1}{n} $$"
   ]
  },
  {
   "cell_type": "code",
   "execution_count": 5,
   "metadata": {},
   "outputs": [
    {
     "data": {
      "text/html": [
       "<table>\n",
       "<tbody>\n",
       "\t<tr><td>1</td><td>1</td><td>1</td><td>1</td><td>1</td></tr>\n",
       "\t<tr><td>1</td><td>1</td><td>1</td><td>1</td><td>1</td></tr>\n",
       "\t<tr><td>1</td><td>1</td><td>1</td><td>1</td><td>1</td></tr>\n",
       "\t<tr><td>1</td><td>1</td><td>1</td><td>1</td><td>1</td></tr>\n",
       "\t<tr><td>1</td><td>1</td><td>1</td><td>1</td><td>1</td></tr>\n",
       "</tbody>\n",
       "</table>\n"
      ],
      "text/latex": [
       "\\begin{tabular}{lllll}\n",
       "\t 1 & 1 & 1 & 1 & 1\\\\\n",
       "\t 1 & 1 & 1 & 1 & 1\\\\\n",
       "\t 1 & 1 & 1 & 1 & 1\\\\\n",
       "\t 1 & 1 & 1 & 1 & 1\\\\\n",
       "\t 1 & 1 & 1 & 1 & 1\\\\\n",
       "\\end{tabular}\n"
      ],
      "text/markdown": [
       "\n",
       "| 1 | 1 | 1 | 1 | 1 | \n",
       "| 1 | 1 | 1 | 1 | 1 | \n",
       "| 1 | 1 | 1 | 1 | 1 | \n",
       "| 1 | 1 | 1 | 1 | 1 | \n",
       "| 1 | 1 | 1 | 1 | 1 | \n",
       "\n",
       "\n"
      ],
      "text/plain": [
       "     [,1] [,2] [,3] [,4] [,5]\n",
       "[1,] 1    1    1    1    1   \n",
       "[2,] 1    1    1    1    1   \n",
       "[3,] 1    1    1    1    1   \n",
       "[4,] 1    1    1    1    1   \n",
       "[5,] 1    1    1    1    1   "
      ]
     },
     "metadata": {},
     "output_type": "display_data"
    }
   ],
   "source": [
    "rep(1, 5) %*% t(rep(1, 5))"
   ]
  },
  {
   "cell_type": "code",
   "execution_count": 6,
   "metadata": {},
   "outputs": [],
   "source": [
    "a = A - rep(1, n) %*% t(rep(1, n)) %*% A / n"
   ]
  },
  {
   "cell_type": "code",
   "execution_count": 7,
   "metadata": {},
   "outputs": [
    {
     "data": {
      "text/html": [
       "6.5613"
      ],
      "text/latex": [
       "6.5613"
      ],
      "text/markdown": [
       "6.5613"
      ],
      "text/plain": [
       "[1] 6.5613"
      ]
     },
     "metadata": {},
     "output_type": "display_data"
    }
   ],
   "source": [
    "mean(X)"
   ]
  },
  {
   "cell_type": "code",
   "execution_count": 8,
   "metadata": {},
   "outputs": [
    {
     "data": {
      "text/html": [
       "<table>\n",
       "<thead><tr><th scope=col>X</th><th scope=col>Y</th><th scope=col>Z</th></tr></thead>\n",
       "<tbody>\n",
       "\t<tr><td>-2.7973</td><td>-2.4389</td><td>-6.725 </td></tr>\n",
       "\t<tr><td>-1.5023</td><td>-2.4089</td><td>-3.575 </td></tr>\n",
       "\t<tr><td>-0.8773</td><td>-1.9529</td><td>-1.175 </td></tr>\n",
       "\t<tr><td>-0.7543</td><td>-1.7529</td><td>-0.335 </td></tr>\n",
       "\t<tr><td>-0.4593</td><td>-1.2969</td><td> 0.645 </td></tr>\n",
       "\t<tr><td>-0.3453</td><td>-0.5339</td><td> 0.835 </td></tr>\n",
       "\t<tr><td>-0.1673</td><td> 0.7261</td><td> 1.625 </td></tr>\n",
       "\t<tr><td> 0.8047</td><td> 3.0661</td><td> 2.505 </td></tr>\n",
       "\t<tr><td> 2.6397</td><td> 3.1161</td><td> 2.835 </td></tr>\n",
       "\t<tr><td> 3.4587</td><td> 3.4761</td><td> 3.365 </td></tr>\n",
       "</tbody>\n",
       "</table>\n"
      ],
      "text/latex": [
       "\\begin{tabular}{lll}\n",
       " X & Y & Z\\\\\n",
       "\\hline\n",
       "\t -2.7973 & -2.4389 & -6.725 \\\\\n",
       "\t -1.5023 & -2.4089 & -3.575 \\\\\n",
       "\t -0.8773 & -1.9529 & -1.175 \\\\\n",
       "\t -0.7543 & -1.7529 & -0.335 \\\\\n",
       "\t -0.4593 & -1.2969 &  0.645 \\\\\n",
       "\t -0.3453 & -0.5339 &  0.835 \\\\\n",
       "\t -0.1673 &  0.7261 &  1.625 \\\\\n",
       "\t  0.8047 &  3.0661 &  2.505 \\\\\n",
       "\t  2.6397 &  3.1161 &  2.835 \\\\\n",
       "\t  3.4587 &  3.4761 &  3.365 \\\\\n",
       "\\end{tabular}\n"
      ],
      "text/markdown": [
       "\n",
       "X | Y | Z | \n",
       "|---|---|---|---|---|---|---|---|---|---|\n",
       "| -2.7973 | -2.4389 | -6.725  | \n",
       "| -1.5023 | -2.4089 | -3.575  | \n",
       "| -0.8773 | -1.9529 | -1.175  | \n",
       "| -0.7543 | -1.7529 | -0.335  | \n",
       "| -0.4593 | -1.2969 |  0.645  | \n",
       "| -0.3453 | -0.5339 |  0.835  | \n",
       "| -0.1673 |  0.7261 |  1.625  | \n",
       "|  0.8047 |  3.0661 |  2.505  | \n",
       "|  2.6397 |  3.1161 |  2.835  | \n",
       "|  3.4587 |  3.4761 |  3.365  | \n",
       "\n",
       "\n"
      ],
      "text/plain": [
       "      X       Y       Z     \n",
       " [1,] -2.7973 -2.4389 -6.725\n",
       " [2,] -1.5023 -2.4089 -3.575\n",
       " [3,] -0.8773 -1.9529 -1.175\n",
       " [4,] -0.7543 -1.7529 -0.335\n",
       " [5,] -0.4593 -1.2969  0.645\n",
       " [6,] -0.3453 -0.5339  0.835\n",
       " [7,] -0.1673  0.7261  1.625\n",
       " [8,]  0.8047  3.0661  2.505\n",
       " [9,]  2.6397  3.1161  2.835\n",
       "[10,]  3.4587  3.4761  3.365"
      ]
     },
     "metadata": {},
     "output_type": "display_data"
    }
   ],
   "source": [
    "a"
   ]
  },
  {
   "cell_type": "markdown",
   "metadata": {},
   "source": [
    "Then to find the _deviation score_ sums of squares matrix, we compute $\\mathbf{a^ta}$:"
   ]
  },
  {
   "cell_type": "code",
   "execution_count": 9,
   "metadata": {},
   "outputs": [
    {
     "data": {
      "text/html": [
       "<table>\n",
       "<thead><tr><th></th><th scope=col>X</th><th scope=col>Y</th><th scope=col>Z</th></tr></thead>\n",
       "<tbody>\n",
       "\t<tr><th scope=row>X</th><td>31.35676</td><td>36.85091</td><td>45.74749</td></tr>\n",
       "\t<tr><th scope=row>Y</th><td>36.85091</td><td>52.32605</td><td>56.00470</td></tr>\n",
       "\t<tr><th scope=row>Z</th><td>45.74749</td><td>56.00470</td><td>88.88845</td></tr>\n",
       "</tbody>\n",
       "</table>\n"
      ],
      "text/latex": [
       "\\begin{tabular}{r|lll}\n",
       "  & X & Y & Z\\\\\n",
       "\\hline\n",
       "\tX & 31.35676 & 36.85091 & 45.74749\\\\\n",
       "\tY & 36.85091 & 52.32605 & 56.00470\\\\\n",
       "\tZ & 45.74749 & 56.00470 & 88.88845\\\\\n",
       "\\end{tabular}\n"
      ],
      "text/markdown": [
       "\n",
       "| <!--/--> | X | Y | Z | \n",
       "|---|---|---|\n",
       "| X | 31.35676 | 36.85091 | 45.74749 | \n",
       "| Y | 36.85091 | 52.32605 | 56.00470 | \n",
       "| Z | 45.74749 | 56.00470 | 88.88845 | \n",
       "\n",
       "\n"
      ],
      "text/plain": [
       "  X        Y        Z       \n",
       "X 31.35676 36.85091 45.74749\n",
       "Y 36.85091 52.32605 56.00470\n",
       "Z 45.74749 56.00470 88.88845"
      ]
     },
     "metadata": {},
     "output_type": "display_data"
    }
   ],
   "source": [
    "t(a) %*% a"
   ]
  },
  {
   "cell_type": "markdown",
   "metadata": {},
   "source": [
    "And finally to create the _variance-covariance_ matrix, we divide each element in the deviation sum of squares matrix by $n$, i.e.: $\\mathbf{V} = \\mathbf{a'a} \\cdot \\frac{1}{n}$:"
   ]
  },
  {
   "cell_type": "code",
   "execution_count": 27,
   "metadata": {},
   "outputs": [
    {
     "data": {
      "text/html": [
       "<table>\n",
       "<thead><tr><th></th><th scope=col>X</th><th scope=col>Y</th><th scope=col>Z</th></tr></thead>\n",
       "<tbody>\n",
       "\t<tr><th scope=row>X</th><td>6.271352 </td><td> 7.370182</td><td> 9.149499</td></tr>\n",
       "\t<tr><th scope=row>Y</th><td>7.370182 </td><td>10.465210</td><td>11.200941</td></tr>\n",
       "\t<tr><th scope=row>Z</th><td>9.149499 </td><td>11.200941</td><td>17.777690</td></tr>\n",
       "</tbody>\n",
       "</table>\n"
      ],
      "text/latex": [
       "\\begin{tabular}{r|lll}\n",
       "  & X & Y & Z\\\\\n",
       "\\hline\n",
       "\tX & 6.271352  &  7.370182 &  9.149499\\\\\n",
       "\tY & 7.370182  & 10.465210 & 11.200941\\\\\n",
       "\tZ & 9.149499  & 11.200941 & 17.777690\\\\\n",
       "\\end{tabular}\n"
      ],
      "text/markdown": [
       "\n",
       "| <!--/--> | X | Y | Z | \n",
       "|---|---|---|\n",
       "| X | 6.271352  |  7.370182 |  9.149499 | \n",
       "| Y | 7.370182  | 10.465210 | 11.200941 | \n",
       "| Z | 9.149499  | 11.200941 | 17.777690 | \n",
       "\n",
       "\n"
      ],
      "text/plain": [
       "  X        Y         Z        \n",
       "X 6.271352  7.370182  9.149499\n",
       "Y 7.370182 10.465210 11.200941\n",
       "Z 9.149499 11.200941 17.777690"
      ]
     },
     "metadata": {},
     "output_type": "display_data"
    }
   ],
   "source": [
    "V = t(a) %*% a * (1/n)\n",
    "V"
   ]
  },
  {
   "cell_type": "code",
   "execution_count": 22,
   "metadata": {
    "scrolled": true
   },
   "outputs": [
    {
     "data": {
      "text/html": [
       "3.48408423333333"
      ],
      "text/latex": [
       "3.48408423333333"
      ],
      "text/markdown": [
       "3.48408423333333"
      ],
      "text/plain": [
       "[1] 3.484084"
      ]
     },
     "metadata": {},
     "output_type": "display_data"
    }
   ],
   "source": [
    "var(X)"
   ]
  },
  {
   "cell_type": "code",
   "execution_count": 12,
   "metadata": {},
   "outputs": [
    {
     "data": {
      "text/html": [
       "31.3567581"
      ],
      "text/latex": [
       "31.3567581"
      ],
      "text/markdown": [
       "31.3567581"
      ],
      "text/plain": [
       "[1] 31.35676"
      ]
     },
     "metadata": {},
     "output_type": "display_data"
    }
   ],
   "source": [
    "sum(  (X - mean(X))^2 )"
   ]
  },
  {
   "cell_type": "code",
   "execution_count": 13,
   "metadata": {},
   "outputs": [
    {
     "data": {
      "text/html": [
       "3.13567581"
      ],
      "text/latex": [
       "3.13567581"
      ],
      "text/markdown": [
       "3.13567581"
      ],
      "text/plain": [
       "[1] 3.135676"
      ]
     },
     "metadata": {},
     "output_type": "display_data"
    }
   ],
   "source": [
    "sum(  (X - mean(X))^2 ) / (10)"
   ]
  },
  {
   "cell_type": "code",
   "execution_count": 14,
   "metadata": {},
   "outputs": [
    {
     "data": {
      "text/html": [
       "2.98127489507425"
      ],
      "text/latex": [
       "2.98127489507425"
      ],
      "text/markdown": [
       "2.98127489507425"
      ],
      "text/plain": [
       "[1] 2.981275"
      ]
     },
     "metadata": {},
     "output_type": "display_data"
    }
   ],
   "source": [
    "sqrt(8.888)"
   ]
  },
  {
   "cell_type": "markdown",
   "metadata": {},
   "source": [
    "## Example 2"
   ]
  },
  {
   "cell_type": "code",
   "execution_count": 15,
   "metadata": {},
   "outputs": [],
   "source": [
    "B = cbind(\n",
    "    c(90,90,60,60,30),\n",
    "    c(60,90,60,60,30),\n",
    "    c(90,30,60,90,30)\n",
    ")"
   ]
  },
  {
   "cell_type": "code",
   "execution_count": 16,
   "metadata": {},
   "outputs": [],
   "source": [
    "n = length(B)/3"
   ]
  },
  {
   "cell_type": "code",
   "execution_count": 17,
   "metadata": {},
   "outputs": [],
   "source": [
    "b = B - rep(1,n) %*% t(rep(1,n)) %*% B / n"
   ]
  },
  {
   "cell_type": "code",
   "execution_count": 18,
   "metadata": {},
   "outputs": [
    {
     "data": {
      "text/html": [
       "<table>\n",
       "<tbody>\n",
       "\t<tr><td> 24</td><td>  0</td><td> 30</td></tr>\n",
       "\t<tr><td> 24</td><td> 30</td><td>-30</td></tr>\n",
       "\t<tr><td> -6</td><td>  0</td><td>  0</td></tr>\n",
       "\t<tr><td> -6</td><td>  0</td><td> 30</td></tr>\n",
       "\t<tr><td>-36</td><td>-30</td><td>-30</td></tr>\n",
       "</tbody>\n",
       "</table>\n"
      ],
      "text/latex": [
       "\\begin{tabular}{lll}\n",
       "\t  24 &   0 &  30\\\\\n",
       "\t  24 &  30 & -30\\\\\n",
       "\t  -6 &   0 &   0\\\\\n",
       "\t  -6 &   0 &  30\\\\\n",
       "\t -36 & -30 & -30\\\\\n",
       "\\end{tabular}\n"
      ],
      "text/markdown": [
       "\n",
       "|  24 |   0 |  30 | \n",
       "|  24 |  30 | -30 | \n",
       "|  -6 |   0 |   0 | \n",
       "|  -6 |   0 |  30 | \n",
       "| -36 | -30 | -30 | \n",
       "\n",
       "\n"
      ],
      "text/plain": [
       "     [,1] [,2] [,3]\n",
       "[1,]  24    0   30 \n",
       "[2,]  24   30  -30 \n",
       "[3,]  -6    0    0 \n",
       "[4,]  -6    0   30 \n",
       "[5,] -36  -30  -30 "
      ]
     },
     "metadata": {},
     "output_type": "display_data"
    }
   ],
   "source": [
    "b"
   ]
  },
  {
   "cell_type": "code",
   "execution_count": 19,
   "metadata": {},
   "outputs": [
    {
     "data": {
      "text/html": [
       "<table>\n",
       "<tbody>\n",
       "\t<tr><td>504</td><td>360</td><td>180</td></tr>\n",
       "\t<tr><td>360</td><td>360</td><td>  0</td></tr>\n",
       "\t<tr><td>180</td><td>  0</td><td>720</td></tr>\n",
       "</tbody>\n",
       "</table>\n"
      ],
      "text/latex": [
       "\\begin{tabular}{lll}\n",
       "\t 504 & 360 & 180\\\\\n",
       "\t 360 & 360 &   0\\\\\n",
       "\t 180 &   0 & 720\\\\\n",
       "\\end{tabular}\n"
      ],
      "text/markdown": [
       "\n",
       "| 504 | 360 | 180 | \n",
       "| 360 | 360 |   0 | \n",
       "| 180 |   0 | 720 | \n",
       "\n",
       "\n"
      ],
      "text/plain": [
       "     [,1] [,2] [,3]\n",
       "[1,] 504  360  180 \n",
       "[2,] 360  360    0 \n",
       "[3,] 180    0  720 "
      ]
     },
     "metadata": {},
     "output_type": "display_data"
    }
   ],
   "source": [
    "t(b) %*% b / n"
   ]
  },
  {
   "cell_type": "code",
   "execution_count": 20,
   "metadata": {},
   "outputs": [
    {
     "data": {
      "text/html": [
       "630"
      ],
      "text/latex": [
       "630"
      ],
      "text/markdown": [
       "630"
      ],
      "text/plain": [
       "[1] 630"
      ]
     },
     "metadata": {},
     "output_type": "display_data"
    }
   ],
   "source": [
    "var(c(90,90,60,60,30))"
   ]
  }
 ],
 "metadata": {
  "kernelspec": {
   "display_name": "R",
   "language": "R",
   "name": "ir"
  },
  "language_info": {
   "codemirror_mode": "r",
   "file_extension": ".r",
   "mimetype": "text/x-r-source",
   "name": "R",
   "pygments_lexer": "r",
   "version": "3.5.0"
  }
 },
 "nbformat": 4,
 "nbformat_minor": 2
}
