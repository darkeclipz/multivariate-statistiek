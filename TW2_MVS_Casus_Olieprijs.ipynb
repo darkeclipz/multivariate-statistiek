{
 "cells": [
  {
   "cell_type": "code",
   "execution_count": 46,
   "metadata": {},
   "outputs": [],
   "source": [
    "oil = c(81,75,70,91,103,116,111,101)\n",
    "euro = c(1.54,1.55,1.45,1.57,1.63,1.63,1.59,1.54)\n",
    "rate = c(1.34,1.32,1.31,1.38,1.54,1.5,1.51,1.49)\n",
    "oil.euro = oil / rate"
   ]
  },
  {
   "cell_type": "code",
   "execution_count": 47,
   "metadata": {},
   "outputs": [],
   "source": [
    "fit = lm(euro~oil)"
   ]
  },
  {
   "cell_type": "code",
   "execution_count": 48,
   "metadata": {},
   "outputs": [
    {
     "data": {
      "text/plain": [
       "\n",
       "Call:\n",
       "lm(formula = euro ~ oil)\n",
       "\n",
       "Residuals:\n",
       "      Min        1Q    Median        3Q       Max \n",
       "-0.047106 -0.026741  0.008586  0.020588  0.041064 \n",
       "\n",
       "Coefficients:\n",
       "             Estimate Std. Error t value Pr(>|t|)    \n",
       "(Intercept) 1.3023140  0.0777934  16.741  2.9e-06 ***\n",
       "oil         0.0027827  0.0008203   3.392   0.0146 *  \n",
       "---\n",
       "Signif. codes:  0 '***' 0.001 '**' 0.01 '*' 0.05 '.' 0.1 ' ' 1\n",
       "\n",
       "Residual standard error: 0.03683 on 6 degrees of freedom\n",
       "Multiple R-squared:  0.6573,\tAdjusted R-squared:  0.6002 \n",
       "F-statistic: 11.51 on 1 and 6 DF,  p-value: 0.01463\n"
      ]
     },
     "metadata": {},
     "output_type": "display_data"
    }
   ],
   "source": [
    "summary(fit)"
   ]
  },
  {
   "cell_type": "code",
   "execution_count": 49,
   "metadata": {},
   "outputs": [
    {
     "data": {
      "text/html": [
       "0.810747821505052"
      ],
      "text/latex": [
       "0.810747821505052"
      ],
      "text/markdown": [
       "0.810747821505052"
      ],
      "text/plain": [
       "[1] 0.8107478"
      ]
     },
     "metadata": {},
     "output_type": "display_data"
    }
   ],
   "source": [
    "cor(oil, euro)"
   ]
  },
  {
   "cell_type": "code",
   "execution_count": 50,
   "metadata": {
    "scrolled": false
   },
   "outputs": [
    {
     "data": {
      "image/png": "[encoded data removed]",
      "text/plain": [
       "plot without title"
      ]
     },
     "metadata": {},
     "output_type": "display_data"
    }
   ],
   "source": [
    "plot(oil, euro)\n",
    "abline(fit, col='red', lw=2)"
   ]
  },
  {
   "cell_type": "code",
   "execution_count": 52,
   "metadata": {},
   "outputs": [],
   "source": [
    "fit = lm(euro~oil.euro)"
   ]
  },
  {
   "cell_type": "code",
   "execution_count": 53,
   "metadata": {},
   "outputs": [
    {
     "data": {
      "text/plain": [
       "\n",
       "Call:\n",
       "lm(formula = euro ~ oil.euro)\n",
       "\n",
       "Residuals:\n",
       "      Min        1Q    Median        3Q       Max \n",
       "-0.044121 -0.024345  0.000703  0.013103  0.058175 \n",
       "\n",
       "Coefficients:\n",
       "            Estimate Std. Error t value Pr(>|t|)    \n",
       "(Intercept) 1.185368   0.115439  10.268 4.98e-05 ***\n",
       "oil.euro    0.005778   0.001757   3.289   0.0166 *  \n",
       "---\n",
       "Signif. codes:  0 '***' 0.001 '**' 0.01 '*' 0.05 '.' 0.1 ' ' 1\n",
       "\n",
       "Residual standard error: 0.03758 on 6 degrees of freedom\n",
       "Multiple R-squared:  0.6432,\tAdjusted R-squared:  0.5837 \n",
       "F-statistic: 10.82 on 1 and 6 DF,  p-value: 0.01664\n"
      ]
     },
     "metadata": {},
     "output_type": "display_data"
    }
   ],
   "source": [
    "summary(fit)"
   ]
  },
  {
   "cell_type": "code",
   "execution_count": 54,
   "metadata": {},
   "outputs": [
    {
     "data": {
      "text/html": [
       "0.801997224188425"
      ],
      "text/latex": [
       "0.801997224188425"
      ],
      "text/markdown": [
       "0.801997224188425"
      ],
      "text/plain": [
       "[1] 0.8019972"
      ]
     },
     "metadata": {},
     "output_type": "display_data"
    }
   ],
   "source": [
    "cor(euro, oil.euro)"
   ]
  },
  {
   "cell_type": "code",
   "execution_count": 56,
   "metadata": {},
   "outputs": [
    {
     "data": {
      "image/png": "[encoded data removed]",
      "text/plain": [
       "plot without title"
      ]
     },
     "metadata": {},
     "output_type": "display_data"
    }
   ],
   "source": [
    "plot(oil.euro, euro)\n",
    "abline(fit, col='red', lw=2)"
   ]
  },
  {
   "cell_type": "markdown",
   "metadata": {},
   "source": [
    "De variantie van de storingsterm wordt aangeduidt met $s_\\epsilon^2$, dit kunnen we op de volgende manier bepalen:"
   ]
  },
  {
   "cell_type": "code",
   "execution_count": 89,
   "metadata": {},
   "outputs": [
    {
     "data": {
      "text/html": [
       "<table>\n",
       "<tbody>\n",
       "\t<tr><td>-0.012284226</td></tr>\n",
       "\t<tr><td>-0.038980655</td></tr>\n",
       "\t<tr><td> 0.047105655</td></tr>\n",
       "\t<tr><td>-0.014456845</td></tr>\n",
       "\t<tr><td>-0.041063988</td></tr>\n",
       "\t<tr><td>-0.004888393</td></tr>\n",
       "\t<tr><td> 0.021197917</td></tr>\n",
       "\t<tr><td> 0.043370536</td></tr>\n",
       "</tbody>\n",
       "</table>\n"
      ],
      "text/latex": [
       "\\begin{tabular}{l}\n",
       "\t -0.012284226\\\\\n",
       "\t -0.038980655\\\\\n",
       "\t  0.047105655\\\\\n",
       "\t -0.014456845\\\\\n",
       "\t -0.041063988\\\\\n",
       "\t -0.004888393\\\\\n",
       "\t  0.021197917\\\\\n",
       "\t  0.043370536\\\\\n",
       "\\end{tabular}\n"
      ],
      "text/markdown": [
       "\n",
       "| -0.012284226 | \n",
       "| -0.038980655 | \n",
       "|  0.047105655 | \n",
       "| -0.014456845 | \n",
       "| -0.041063988 | \n",
       "| -0.004888393 | \n",
       "|  0.021197917 | \n",
       "|  0.043370536 | \n",
       "\n",
       "\n"
      ],
      "text/plain": [
       "     [,1]        \n",
       "[1,] -0.012284226\n",
       "[2,] -0.038980655\n",
       "[3,]  0.047105655\n",
       "[4,] -0.014456845\n",
       "[5,] -0.041063988\n",
       "[6,] -0.004888393\n",
       "[7,]  0.021197917\n",
       "[8,]  0.043370536"
      ]
     },
     "metadata": {},
     "output_type": "display_data"
    }
   ],
   "source": [
    "A = cbind(oil, 1)\n",
    "b = euro\n",
    "x = solve(t(A) %*% A) %*% t(A) %*% b\n",
    "e = A %*% x - b\n",
    "e"
   ]
  },
  {
   "cell_type": "markdown",
   "metadata": {},
   "source": [
    "De fout (wortel van de voortplantingswet van varianties) wordt op de volgende manier bepaald:\n",
    "\n",
    "$$ s_\\epsilon = \\sqrt{ \\sum{ \\left(\\epsilon_i - \\bar{\\epsilon}\\right)^2 } } $$"
   ]
  },
  {
   "cell_type": "code",
   "execution_count": 88,
   "metadata": {},
   "outputs": [
    {
     "data": {
      "text/html": [
       "0.0902155157703722"
      ],
      "text/latex": [
       "0.0902155157703722"
      ],
      "text/markdown": [
       "0.0902155157703722"
      ],
      "text/plain": [
       "[1] 0.09021552"
      ]
     },
     "metadata": {},
     "output_type": "display_data"
    }
   ],
   "source": [
    "sqrt(sum((e-mean(e))^2))"
   ]
  }
 ],
 "metadata": {
  "kernelspec": {
   "display_name": "R",
   "language": "R",
   "name": "ir"
  },
  "language_info": {
   "codemirror_mode": "r",
   "file_extension": ".r",
   "mimetype": "text/x-r-source",
   "name": "R",
   "pygments_lexer": "r",
   "version": "3.5.0"
  }
 },
 "nbformat": 4,
 "nbformat_minor": 2
}
