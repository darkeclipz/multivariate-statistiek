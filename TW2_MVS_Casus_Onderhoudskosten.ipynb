{
 "cells": [
  {
   "cell_type": "code",
   "execution_count": 1,
   "metadata": {},
   "outputs": [],
   "source": [
    "leeftijd = c(1.6,6.8,5.1,7.2,3.5,6.2,9.4,5.5,8,2.7)\n",
    "kosten = c(450,930,670,920,640,900,1440,760,1260,530)"
   ]
  },
  {
   "cell_type": "code",
   "execution_count": 2,
   "metadata": {},
   "outputs": [],
   "source": [
    "SXi = 56\n",
    "SYi = 8500\n",
    "SXi2 = 367.24\n",
    "SYi2 = 8102000\n",
    "SXiYi = 54132"
   ]
  },
  {
   "cell_type": "code",
   "execution_count": 3,
   "metadata": {},
   "outputs": [],
   "source": [
    "fit = lm(kosten~leeftijd)"
   ]
  },
  {
   "cell_type": "code",
   "execution_count": 4,
   "metadata": {},
   "outputs": [
    {
     "data": {
      "image/png": "[encoded data removed]",
      "text/plain": [
       "plot without title"
      ]
     },
     "metadata": {},
     "output_type": "display_data"
    }
   ],
   "source": [
    "plot(leeftijd, kosten)\n",
    "abline(fit, col='red', lw=2)"
   ]
  },
  {
   "cell_type": "code",
   "execution_count": 6,
   "metadata": {},
   "outputs": [
    {
     "data": {
      "text/plain": [
       "\n",
       "Call:\n",
       "lm(formula = kosten ~ leeftijd)\n",
       "\n",
       "Residuals:\n",
       "     Min       1Q   Median       3Q      Max \n",
       "-124.840  -74.899    5.041   76.756  127.256 \n",
       "\n",
       "Coefficients:\n",
       "            Estimate Std. Error t value Pr(>|t|)    \n",
       "(Intercept)   168.06      83.55   2.012   0.0791 .  \n",
       "leeftijd      121.77      13.79   8.833 2.13e-05 ***\n",
       "---\n",
       "Signif. codes:  0 '***' 0.001 '**' 0.01 '*' 0.05 '.' 0.1 ' ' 1\n",
       "\n",
       "Residual standard error: 101 on 8 degrees of freedom\n",
       "Multiple R-squared:  0.907,\tAdjusted R-squared:  0.8954 \n",
       "F-statistic: 78.02 on 1 and 8 DF,  p-value: 2.127e-05\n"
      ]
     },
     "metadata": {},
     "output_type": "display_data"
    }
   ],
   "source": [
    "summary(fit)"
   ]
  },
  {
   "cell_type": "code",
   "execution_count": 59,
   "metadata": {},
   "outputs": [
    {
     "data": {
      "text/html": [
       "<dl class=dl-horizontal>\n",
       "\t<dt>(Intercept)</dt>\n",
       "\t\t<dd>168.061148396719</dd>\n",
       "\t<dt>leeftijd</dt>\n",
       "\t\t<dd>121.774794929157</dd>\n",
       "</dl>\n"
      ],
      "text/latex": [
       "\\begin{description*}\n",
       "\\item[(Intercept)] 168.061148396719\n",
       "\\item[leeftijd] 121.774794929157\n",
       "\\end{description*}\n"
      ],
      "text/markdown": [
       "(Intercept)\n",
       ":   168.061148396719leeftijd\n",
       ":   121.774794929157\n",
       "\n"
      ],
      "text/plain": [
       "(Intercept)    leeftijd \n",
       "   168.0611    121.7748 "
      ]
     },
     "metadata": {},
     "output_type": "display_data"
    }
   ],
   "source": [
    "fit$coefficients"
   ]
  },
  {
   "cell_type": "markdown",
   "metadata": {},
   "source": [
    "We kunnen $R^2$ op de volgende manier bepalen:\n",
    "\n",
    "$$ R^2 = 1 - \\dfrac{SS_{res}}{SS_{tot}} $$\n",
    "\n",
    "Waarbij geldt dat $SS_{res}$ en $SS_{tot}$ op de volgende manier kunnen worden bepaald:\n",
    "\n",
    "1. $ SS_{tot} = \\sum(y_i - \\bar{y})^2 $\n",
    "2. $ SS_{res} = \\sum(y_i - f_i)^2 = \\sum e^2_i $"
   ]
  },
  {
   "cell_type": "markdown",
   "metadata": {},
   "source": [
    "Eerste bepalen we de kwadratensom voor de $y_i$ waarden."
   ]
  },
  {
   "cell_type": "code",
   "execution_count": 13,
   "metadata": {},
   "outputs": [
    {
     "data": {
      "text/html": [
       "877000"
      ],
      "text/latex": [
       "877000"
      ],
      "text/markdown": [
       "877000"
      ],
      "text/plain": [
       "[1] 877000"
      ]
     },
     "metadata": {},
     "output_type": "display_data"
    }
   ],
   "source": [
    "SStot = sum((kosten - mean(kosten))^2)\n",
    "SStot"
   ]
  },
  {
   "cell_type": "markdown",
   "metadata": {},
   "source": [
    "Vervolgens de kwadratensom voor de residueen, die we kunnen vinden met `fit$residuals`:"
   ]
  },
  {
   "cell_type": "code",
   "execution_count": 16,
   "metadata": {
    "scrolled": true
   },
   "outputs": [
    {
     "data": {
      "text/html": [
       "81567.0395227442"
      ],
      "text/latex": [
       "81567.0395227442"
      ],
      "text/markdown": [
       "81567.0395227442"
      ],
      "text/plain": [
       "[1] 81567.04"
      ]
     },
     "metadata": {},
     "output_type": "display_data"
    }
   ],
   "source": [
    "SSres = sum(fit$residuals^2)\n",
    "SSres"
   ]
  },
  {
   "cell_type": "markdown",
   "metadata": {},
   "source": [
    "Nu kunnen we $R^2$ bepalen:"
   ]
  },
  {
   "cell_type": "code",
   "execution_count": 22,
   "metadata": {},
   "outputs": [
    {
     "data": {
      "text/html": [
       "0.906993113429026"
      ],
      "text/latex": [
       "0.906993113429026"
      ],
      "text/markdown": [
       "0.906993113429026"
      ],
      "text/plain": [
       "[1] 0.9069931"
      ]
     },
     "metadata": {},
     "output_type": "display_data"
    }
   ],
   "source": [
    "R2 = 1 - SSres / SStot\n",
    "R2"
   ]
  },
  {
   "cell_type": "markdown",
   "metadata": {},
   "source": [
    "Hieruit kunnen we zien dat $\\sum e^2$ gelijk is aan $\\sum (y_i - \\bar{y})^2 \\cdot (1- R^2)$."
   ]
  },
  {
   "cell_type": "code",
   "execution_count": 28,
   "metadata": {},
   "outputs": [
    {
     "data": {
      "text/html": [
       "81567.0395227442"
      ],
      "text/latex": [
       "81567.0395227442"
      ],
      "text/markdown": [
       "81567.0395227442"
      ],
      "text/plain": [
       "[1] 81567.04"
      ]
     },
     "metadata": {},
     "output_type": "display_data"
    },
    {
     "data": {
      "text/html": [
       "81567.0395227443"
      ],
      "text/latex": [
       "81567.0395227443"
      ],
      "text/markdown": [
       "81567.0395227443"
      ],
      "text/plain": [
       "[1] 81567.04"
      ]
     },
     "metadata": {},
     "output_type": "display_data"
    }
   ],
   "source": [
    "SSres; SStot * (1 - R2)"
   ]
  },
  {
   "cell_type": "markdown",
   "metadata": {},
   "source": [
    "Het aantal vrijheidsgraden is $n-df$:"
   ]
  },
  {
   "cell_type": "code",
   "execution_count": 29,
   "metadata": {},
   "outputs": [
    {
     "data": {
      "text/html": [
       "8"
      ],
      "text/latex": [
       "8"
      ],
      "text/markdown": [
       "8"
      ],
      "text/plain": [
       "[1] 8"
      ]
     },
     "metadata": {},
     "output_type": "display_data"
    }
   ],
   "source": [
    "length(kosten) - 2"
   ]
  },
  {
   "cell_type": "markdown",
   "metadata": {},
   "source": [
    "Er zijn in totaal 10 waarnemingen en er zijn twee variabelen."
   ]
  },
  {
   "cell_type": "markdown",
   "metadata": {},
   "source": [
    "Nu kunnen we de geschatte standaardafwijking vinden met:\n",
    "\n",
    "$$ s_\\epsilon = \\sqrt{\\dfrac{\\sum e_i^2}{n-2}} = \\sqrt{\\dfrac{SS_{res}}{n-2}} $$"
   ]
  },
  {
   "cell_type": "code",
   "execution_count": 31,
   "metadata": {},
   "outputs": [
    {
     "data": {
      "text/html": [
       "100.974649988713"
      ],
      "text/latex": [
       "100.974649988713"
      ],
      "text/markdown": [
       "100.974649988713"
      ],
      "text/plain": [
       "[1] 100.9746"
      ]
     },
     "metadata": {},
     "output_type": "display_data"
    }
   ],
   "source": [
    "SE = sqrt(SSres / 8)\n",
    "SE"
   ]
  },
  {
   "cell_type": "markdown",
   "metadata": {},
   "source": [
    "Nu gaan we de standaardafwijking van de voorspelling, $s_f$ voor $X_0=10$ bepalen. Hierbij gebruiken we:\n",
    "\n",
    "$$ s_f = s_\\epsilon \\sqrt{1 + \\dfrac{1}{n} + \\dfrac{(X_0 - \\bar{X})^2}{\\sum(X_i - \\bar{X})^2} } $$"
   ]
  },
  {
   "cell_type": "code",
   "execution_count": 32,
   "metadata": {},
   "outputs": [],
   "source": [
    "X0 = 10"
   ]
  },
  {
   "cell_type": "code",
   "execution_count": 46,
   "metadata": {},
   "outputs": [
    {
     "data": {
      "text/html": [
       "122.046764277015"
      ],
      "text/latex": [
       "122.046764277015"
      ],
      "text/markdown": [
       "122.046764277015"
      ],
      "text/plain": [
       "[1] 122.0468"
      ]
     },
     "metadata": {},
     "output_type": "display_data"
    }
   ],
   "source": [
    "sf = SE * sqrt(1 + 1 / length(kosten) + (X0 - mean(leeftijd))^2 / sum((leeftijd - mean(leeftijd))^2))\n",
    "sf"
   ]
  },
  {
   "cell_type": "code",
   "execution_count": 42,
   "metadata": {},
   "outputs": [],
   "source": [
    "alpha = 0.05"
   ]
  },
  {
   "cell_type": "code",
   "execution_count": 44,
   "metadata": {},
   "outputs": [
    {
     "data": {
      "text/html": [
       "2.30600413520417"
      ],
      "text/latex": [
       "2.30600413520417"
      ],
      "text/markdown": [
       "2.30600413520417"
      ],
      "text/plain": [
       "[1] 2.306004"
      ]
     },
     "metadata": {},
     "output_type": "display_data"
    }
   ],
   "source": [
    "t = qt(alpha/2, length(leeftijd) - 2)\n",
    "t = abs(t)\n",
    "t"
   ]
  },
  {
   "cell_type": "code",
   "execution_count": 62,
   "metadata": {},
   "outputs": [
    {
     "data": {
      "text/html": [
       "<strong>leeftijd:</strong> 1385.80909768829"
      ],
      "text/latex": [
       "\\textbf{leeftijd:} 1385.80909768829"
      ],
      "text/markdown": [
       "**leeftijd:** 1385.80909768829"
      ],
      "text/plain": [
       "leeftijd \n",
       "1385.809 "
      ]
     },
     "metadata": {},
     "output_type": "display_data"
    }
   ],
   "source": [
    "Yc = fit$coefficients[2] * X0 + fit$coefficients[1]\n",
    "Yc"
   ]
  },
  {
   "cell_type": "code",
   "execution_count": 58,
   "metadata": {},
   "outputs": [
    {
     "data": {
      "text/html": [
       "<dl class=dl-horizontal>\n",
       "\t<dt>leeftijd</dt>\n",
       "\t\t<dd>1104.36875457721</dd>\n",
       "\t<dt>leeftijd</dt>\n",
       "\t\t<dd>1667.24944079938</dd>\n",
       "</dl>\n"
      ],
      "text/latex": [
       "\\begin{description*}\n",
       "\\item[leeftijd] 1104.36875457721\n",
       "\\item[leeftijd] 1667.24944079938\n",
       "\\end{description*}\n"
      ],
      "text/markdown": [
       "leeftijd\n",
       ":   1104.36875457721leeftijd\n",
       ":   1667.24944079938\n",
       "\n"
      ],
      "text/plain": [
       "leeftijd leeftijd \n",
       "1104.369 1667.249 "
      ]
     },
     "metadata": {},
     "output_type": "display_data"
    }
   ],
   "source": [
    "interval = c(Yc - t * sf, Yc + t * sf)\n",
    "interval"
   ]
  },
  {
   "cell_type": "markdown",
   "metadata": {},
   "source": [
    "Dit is een betrouwbaarheidsinterval voor de onderhoudskosten."
   ]
  }
 ],
 "metadata": {
  "kernelspec": {
   "display_name": "R",
   "language": "R",
   "name": "ir"
  },
  "language_info": {
   "codemirror_mode": "r",
   "file_extension": ".r",
   "mimetype": "text/x-r-source",
   "name": "R",
   "pygments_lexer": "r",
   "version": "3.5.0"
  }
 },
 "nbformat": 4,
 "nbformat_minor": 2
}
