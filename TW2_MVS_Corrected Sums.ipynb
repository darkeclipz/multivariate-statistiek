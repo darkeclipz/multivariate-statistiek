{
 "cells": [
  {
   "cell_type": "code",
   "execution_count": 1,
   "metadata": {},
   "outputs": [],
   "source": [
    "X = c(4.578, 5.23, 6.093, 6.894, 7.625, 8.808, 10.49, 11.11, 11.28, 12.06)\n",
    "Y = c(7.913, 10.62, 11.08, 11.09, 11.29, 14, 16.04, 16.94, 18.52, 19.87)"
   ]
  },
  {
   "cell_type": "markdown",
   "metadata": {},
   "source": [
    "$ SSX = \\sum\\left(X - \\bar{X}\\right)^2 $"
   ]
  },
  {
   "cell_type": "code",
   "execution_count": 6,
   "metadata": {},
   "outputs": [
    {
     "data": {
      "text/html": [
       "66.4133356"
      ],
      "text/latex": [
       "66.4133356"
      ],
      "text/markdown": [
       "66.4133356"
      ],
      "text/plain": [
       "[1] 66.41334"
      ]
     },
     "metadata": {},
     "output_type": "display_data"
    }
   ],
   "source": [
    "SSX = sum((X - mean(X))^2)\n",
    "SSX"
   ]
  },
  {
   "cell_type": "markdown",
   "metadata": {},
   "source": [
    "$ SSY = \\sum\\left(Y - \\bar{Y}\\right)^2 $"
   ]
  },
  {
   "cell_type": "code",
   "execution_count": 7,
   "metadata": {},
   "outputs": [
    {
     "data": {
      "text/html": [
       "139.8116921"
      ],
      "text/latex": [
       "139.8116921"
      ],
      "text/markdown": [
       "139.8116921"
      ],
      "text/plain": [
       "[1] 139.8117"
      ]
     },
     "metadata": {},
     "output_type": "display_data"
    }
   ],
   "source": [
    "SSY = sum((Y - mean(Y))^2)\n",
    "SSY"
   ]
  },
  {
   "cell_type": "markdown",
   "metadata": {},
   "source": [
    "$ SSXY = \\sum\\left(X-\\bar{X}\\right)\\left(Y-\\bar{Y}\\right) $"
   ]
  },
  {
   "cell_type": "code",
   "execution_count": 8,
   "metadata": {},
   "outputs": [
    {
     "data": {
      "text/html": [
       "93.9753656"
      ],
      "text/latex": [
       "93.9753656"
      ],
      "text/markdown": [
       "93.9753656"
      ],
      "text/plain": [
       "[1] 93.97537"
      ]
     },
     "metadata": {},
     "output_type": "display_data"
    }
   ],
   "source": [
    "SSXY = sum((X - mean(X))*(Y - mean(Y)))\n",
    "SSXY"
   ]
  },
  {
   "cell_type": "markdown",
   "metadata": {},
   "source": [
    "De richtingscoefficient $b= \\dfrac{SSXY}{SSX}$."
   ]
  },
  {
   "cell_type": "code",
   "execution_count": 9,
   "metadata": {},
   "outputs": [
    {
     "data": {
      "text/html": [
       "1.41500746425391"
      ],
      "text/latex": [
       "1.41500746425391"
      ],
      "text/markdown": [
       "1.41500746425391"
      ],
      "text/plain": [
       "[1] 1.415007"
      ]
     },
     "metadata": {},
     "output_type": "display_data"
    }
   ],
   "source": [
    "b = SSXY/SSX\n",
    "b"
   ]
  },
  {
   "cell_type": "markdown",
   "metadata": {},
   "source": [
    "De intercept wordt bepaald met $a = \\bar{Y} - b \\bar{X}$."
   ]
  },
  {
   "cell_type": "code",
   "execution_count": 11,
   "metadata": {},
   "outputs": [
    {
     "data": {
      "text/html": [
       "1.82646517486768"
      ],
      "text/latex": [
       "1.82646517486768"
      ],
      "text/markdown": [
       "1.82646517486768"
      ],
      "text/plain": [
       "[1] 1.826465"
      ]
     },
     "metadata": {},
     "output_type": "display_data"
    }
   ],
   "source": [
    "a = mean(Y) - b * mean(X)\n",
    "a"
   ]
  },
  {
   "cell_type": "code",
   "execution_count": 12,
   "metadata": {},
   "outputs": [
    {
     "data": {
      "text/html": [
       "0.975247018870997"
      ],
      "text/latex": [
       "0.975247018870997"
      ],
      "text/markdown": [
       "0.975247018870997"
      ],
      "text/plain": [
       "[1] 0.975247"
      ]
     },
     "metadata": {},
     "output_type": "display_data"
    }
   ],
   "source": [
    "cor(X,Y)"
   ]
  }
 ],
 "metadata": {
  "kernelspec": {
   "display_name": "R",
   "language": "R",
   "name": "ir"
  },
  "language_info": {
   "codemirror_mode": "r",
   "file_extension": ".r",
   "mimetype": "text/x-r-source",
   "name": "R",
   "pygments_lexer": "r",
   "version": "3.5.0"
  }
 },
 "nbformat": 4,
 "nbformat_minor": 2
}
