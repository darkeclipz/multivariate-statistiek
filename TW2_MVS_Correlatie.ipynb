{
 "cells": [
  {
   "cell_type": "markdown",
   "metadata": {},
   "source": [
    "# Vraag 3"
   ]
  },
  {
   "cell_type": "code",
   "execution_count": 2,
   "metadata": {},
   "outputs": [],
   "source": [
    "X = c(7, 8, 9, 10, 11, 12, 13, 14, 15, 16, 17, 18, 19, 20, 21, 22, 23, 24, 25, 26)\n",
    "Y = c( 5.9, 6.4, 7.5, 7.9, 7.8, 9.2, 8.8, 9.6, 12, 10.9, 11.1, 13, 13.2, 13.4, 14, 13, 13.9, 14.4, 15.5, 16.3)"
   ]
  },
  {
   "cell_type": "code",
   "execution_count": 4,
   "metadata": {},
   "outputs": [
    {
     "data": {
      "text/plain": [
       "\n",
       "Call:\n",
       "lm(formula = Y ~ X)\n",
       "\n",
       "Coefficients:\n",
       "(Intercept)            X  \n",
       "      2.660        0.517  \n"
      ]
     },
     "metadata": {},
     "output_type": "display_data"
    }
   ],
   "source": [
    "lm(Y~X)"
   ]
  },
  {
   "cell_type": "code",
   "execution_count": 7,
   "metadata": {},
   "outputs": [
    {
     "data": {
      "text/html": [
       "0.978818170459437"
      ],
      "text/latex": [
       "0.978818170459437"
      ],
      "text/markdown": [
       "0.978818170459437"
      ],
      "text/plain": [
       "[1] 0.9788182"
      ]
     },
     "metadata": {},
     "output_type": "display_data"
    }
   ],
   "source": [
    "cor(X,Y)"
   ]
  },
  {
   "cell_type": "code",
   "execution_count": 8,
   "metadata": {},
   "outputs": [
    {
     "data": {
      "text/html": [
       "18.0947368421053"
      ],
      "text/latex": [
       "18.0947368421053"
      ],
      "text/markdown": [
       "18.0947368421053"
      ],
      "text/plain": [
       "[1] 18.09474"
      ]
     },
     "metadata": {},
     "output_type": "display_data"
    }
   ],
   "source": [
    "cov(X,Y)"
   ]
  },
  {
   "cell_type": "markdown",
   "metadata": {},
   "source": [
    "# Vraag 2"
   ]
  },
  {
   "cell_type": "code",
   "execution_count": 10,
   "metadata": {},
   "outputs": [],
   "source": [
    "X = c(5, 6, 7, 8, 9, 10, 11, 12, 13, 14, 15, 16, 17, 18, 19, 20, 21, 22, 23, 24)\n",
    "Y = c(6, 6.2, 6.9, 7.1, 7.2, 10, 8.7, 9, 9.1, 10.4, 11.4, 12, 11.3, 12.8, 14.3, 14.4, 15.5, 14.3, 15.9, 17)"
   ]
  },
  {
   "cell_type": "code",
   "execution_count": 11,
   "metadata": {},
   "outputs": [
    {
     "data": {
      "text/html": [
       "20.05"
      ],
      "text/latex": [
       "20.05"
      ],
      "text/markdown": [
       "20.05"
      ],
      "text/plain": [
       "[1] 20.05"
      ]
     },
     "metadata": {},
     "output_type": "display_data"
    }
   ],
   "source": [
    "cov(X,Y)"
   ]
  },
  {
   "cell_type": "code",
   "execution_count": 12,
   "metadata": {},
   "outputs": [
    {
     "data": {
      "text/html": [
       "0.980843524299865"
      ],
      "text/latex": [
       "0.980843524299865"
      ],
      "text/markdown": [
       "0.980843524299865"
      ],
      "text/plain": [
       "[1] 0.9808435"
      ]
     },
     "metadata": {},
     "output_type": "display_data"
    }
   ],
   "source": [
    "cor(X,Y)"
   ]
  },
  {
   "cell_type": "code",
   "execution_count": 13,
   "metadata": {},
   "outputs": [
    {
     "data": {
      "text/html": [
       "0.980843524299865"
      ],
      "text/latex": [
       "0.980843524299865"
      ],
      "text/markdown": [
       "0.980843524299865"
      ],
      "text/plain": [
       "[1] 0.9808435"
      ]
     },
     "metadata": {},
     "output_type": "display_data"
    }
   ],
   "source": [
    "cov(X,Y) / (sd(X) * sd(Y))"
   ]
  },
  {
   "cell_type": "markdown",
   "metadata": {},
   "source": [
    "# Vraag 3"
   ]
  },
  {
   "cell_type": "code",
   "execution_count": 14,
   "metadata": {},
   "outputs": [
    {
     "data": {
      "text/html": [
       "0.953146164329794"
      ],
      "text/latex": [
       "0.953146164329794"
      ],
      "text/markdown": [
       "0.953146164329794"
      ],
      "text/plain": [
       "[1] 0.9531462"
      ]
     },
     "metadata": {},
     "output_type": "display_data"
    }
   ],
   "source": [
    "X = c(6, 7, 8, 9, 10, 11, 12, 13, 14, 15, 16, 17, 18, 19, 20, 21, 22, 23, 24, 25)\n",
    "Y = c(2, 6.5, 6.6, 7.1, 8.1, 9.5, 8.7, 9.8, 11.7, 10.3, 11.3, 12.8, 13.4, 12.1, 12.5, 14.8, 13.8, 14.1, 15.5, 16.9)\n",
    "cor(X,Y)"
   ]
  },
  {
   "cell_type": "code",
   "execution_count": 15,
   "metadata": {},
   "outputs": [
    {
     "data": {
      "text/html": [
       "20.5921052631579"
      ],
      "text/latex": [
       "20.5921052631579"
      ],
      "text/markdown": [
       "20.5921052631579"
      ],
      "text/plain": [
       "[1] 20.59211"
      ]
     },
     "metadata": {},
     "output_type": "display_data"
    }
   ],
   "source": [
    "cov(X,Y)"
   ]
  },
  {
   "cell_type": "code",
   "execution_count": 1,
   "metadata": {},
   "outputs": [
    {
     "data": {
      "text/plain": [
       "\n",
       "Call:\n",
       "lm(formula = Y ~ X)\n",
       "\n",
       "Residuals:\n",
       "    Min      1Q  Median      3Q     Max \n",
       "-1.3319 -0.4950 -0.1856  0.7060  1.1544 \n",
       "\n",
       "Coefficients:\n",
       "            Estimate Std. Error t value Pr(>|t|)    \n",
       "(Intercept)  3.11173    0.49977   6.226 7.11e-06 ***\n",
       "X            0.51376    0.03022  17.001 1.56e-12 ***\n",
       "---\n",
       "Signif. codes:  0 '***' 0.001 '**' 0.01 '*' 0.05 '.' 0.1 ' ' 1\n",
       "\n",
       "Residual standard error: 0.7793 on 18 degrees of freedom\n",
       "Multiple R-squared:  0.9414,\tAdjusted R-squared:  0.9381 \n",
       "F-statistic:   289 on 1 and 18 DF,  p-value: 1.56e-12\n"
      ]
     },
     "metadata": {},
     "output_type": "display_data"
    }
   ],
   "source": [
    "X = c(6, 7, 8, 9, 10, 11, 12, 13, 14, 15, 16, 17, 18, 19, 20, 21, 22, 23, 24, 25)\n",
    "Y = c(6, 6.3, 6.3, 7.9, 9, 9.5, 9.1, 9.5, 11, 10, 10, 13, 12.8, 13.8, 13.1, 14.9, 15.1, 14.6, 14.4, 15.2)\n",
    "summary(lm(Y~X))"
   ]
  },
  {
   "cell_type": "code",
   "execution_count": 3,
   "metadata": {},
   "outputs": [
    {
     "data": {
      "text/html": [
       "0.970243348079367"
      ],
      "text/latex": [
       "0.970243348079367"
      ],
      "text/markdown": [
       "0.970243348079367"
      ],
      "text/plain": [
       "[1] 0.9702433"
      ]
     },
     "metadata": {},
     "output_type": "display_data"
    }
   ],
   "source": [
    "cor(X,Y)"
   ]
  },
  {
   "cell_type": "code",
   "execution_count": 4,
   "metadata": {},
   "outputs": [
    {
     "data": {
      "text/html": [
       "17.9815789473684"
      ],
      "text/latex": [
       "17.9815789473684"
      ],
      "text/markdown": [
       "17.9815789473684"
      ],
      "text/plain": [
       "[1] 17.98158"
      ]
     },
     "metadata": {},
     "output_type": "display_data"
    }
   ],
   "source": [
    "cov(X,Y)"
   ]
  },
  {
   "cell_type": "markdown",
   "metadata": {},
   "source": [
    "# P5"
   ]
  },
  {
   "cell_type": "code",
   "execution_count": 5,
   "metadata": {},
   "outputs": [],
   "source": [
    "X = c(5, 6, 7, 8, 9, 10, 11, 12, 13, 14, 15, 16, 17, 18, 19, 20, 21, 22, 23, 24)\n",
    "Y = c(6, 6.5, 6.8, 7.3, 8.6, 8.6, 9.5, 9.8, 10.9, 10.1, 11.5, 12.9, 13.2, 12, 13.8, 13.1, 14.3, 15.9, 14.7, 17)"
   ]
  },
  {
   "cell_type": "code",
   "execution_count": 6,
   "metadata": {},
   "outputs": [
    {
     "data": {
      "text/html": [
       "18.7921052631579"
      ],
      "text/latex": [
       "18.7921052631579"
      ],
      "text/markdown": [
       "18.7921052631579"
      ],
      "text/plain": [
       "[1] 18.79211"
      ]
     },
     "metadata": {},
     "output_type": "display_data"
    }
   ],
   "source": [
    "cov(X,Y)"
   ]
  },
  {
   "cell_type": "code",
   "execution_count": 7,
   "metadata": {},
   "outputs": [
    {
     "data": {
      "text/html": [
       "0.981904087031602"
      ],
      "text/latex": [
       "0.981904087031602"
      ],
      "text/markdown": [
       "0.981904087031602"
      ],
      "text/plain": [
       "[1] 0.9819041"
      ]
     },
     "metadata": {},
     "output_type": "display_data"
    }
   ],
   "source": [
    "cor(X,Y)"
   ]
  },
  {
   "cell_type": "markdown",
   "metadata": {},
   "source": [
    " # P6"
   ]
  },
  {
   "cell_type": "code",
   "execution_count": 8,
   "metadata": {},
   "outputs": [],
   "source": [
    "X = c(5, 6, 7, 8, 9, 10, 11, 12, 13, 14, 15, 16, 17, 18, 19, 20, 21, 22, 23, 24)\n",
    "Y = c(16.9, 15.7, 15.1, 15.5, 13.3, 12.2, 12.4, 11.8, 12.9, 10.4, 10.3, 10.2, 10.8, 9.4, 9.6, 7.7, 7.2, 7.2, 6.2, 6.3)"
   ]
  },
  {
   "cell_type": "code",
   "execution_count": 9,
   "metadata": {},
   "outputs": [
    {
     "data": {
      "text/html": [
       "-18.6447368421053"
      ],
      "text/latex": [
       "-18.6447368421053"
      ],
      "text/markdown": [
       "-18.6447368421053"
      ],
      "text/plain": [
       "[1] -18.64474"
      ]
     },
     "metadata": {},
     "output_type": "display_data"
    }
   ],
   "source": [
    "cov(X,Y)"
   ]
  },
  {
   "cell_type": "code",
   "execution_count": 10,
   "metadata": {},
   "outputs": [
    {
     "data": {
      "text/html": [
       "-0.976781487373702"
      ],
      "text/latex": [
       "-0.976781487373702"
      ],
      "text/markdown": [
       "-0.976781487373702"
      ],
      "text/plain": [
       "[1] -0.9767815"
      ]
     },
     "metadata": {},
     "output_type": "display_data"
    }
   ],
   "source": [
    "cor(X,Y)"
   ]
  },
  {
   "cell_type": "code",
   "execution_count": 11,
   "metadata": {},
   "outputs": [
    {
     "data": {
      "text/plain": [
       "\n",
       "Call:\n",
       "lm(formula = Y ~ X)\n",
       "\n",
       "Residuals:\n",
       "     Min       1Q   Median       3Q      Max \n",
       "-1.25218 -0.49635 -0.00312  0.42536  1.07677 \n",
       "\n",
       "Coefficients:\n",
       "            Estimate Std. Error t value Pr(>|t|)    \n",
       "(Intercept) 18.77925    0.42973   43.70  < 2e-16 ***\n",
       "X           -0.53271    0.02754  -19.34 1.71e-13 ***\n",
       "---\n",
       "Signif. codes:  0 '***' 0.001 '**' 0.01 '*' 0.05 '.' 0.1 ' ' 1\n",
       "\n",
       "Residual standard error: 0.7102 on 18 degrees of freedom\n",
       "Multiple R-squared:  0.9541,\tAdjusted R-squared:  0.9516 \n",
       "F-statistic: 374.2 on 1 and 18 DF,  p-value: 1.712e-13\n"
      ]
     },
     "metadata": {},
     "output_type": "display_data"
    }
   ],
   "source": [
    "summary(lm(Y~X))"
   ]
  },
  {
   "cell_type": "code",
   "execution_count": null,
   "metadata": {},
   "outputs": [],
   "source": []
  }
 ],
 "metadata": {
  "kernelspec": {
   "display_name": "R",
   "language": "R",
   "name": "ir"
  },
  "language_info": {
   "codemirror_mode": "r",
   "file_extension": ".r",
   "mimetype": "text/x-r-source",
   "name": "R",
   "pygments_lexer": "r",
   "version": "3.5.0"
  }
 },
 "nbformat": 4,
 "nbformat_minor": 2
}
