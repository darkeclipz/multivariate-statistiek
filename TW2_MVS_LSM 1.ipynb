{
 "cells": [
  {
   "cell_type": "markdown",
   "metadata": {},
   "source": [
    "# Vraag 1"
   ]
  },
  {
   "cell_type": "code",
   "execution_count": 2,
   "metadata": {},
   "outputs": [],
   "source": [
    "A = cbind(c(1,5,8), c(1,1,1))\n",
    "b = c(1, 3, 7)"
   ]
  },
  {
   "cell_type": "code",
   "execution_count": 3,
   "metadata": {},
   "outputs": [
    {
     "data": {
      "text/html": [
       "<table>\n",
       "<tbody>\n",
       "\t<tr><td>1</td><td>1</td></tr>\n",
       "\t<tr><td>5</td><td>1</td></tr>\n",
       "\t<tr><td>8</td><td>1</td></tr>\n",
       "</tbody>\n",
       "</table>\n"
      ],
      "text/latex": [
       "\\begin{tabular}{ll}\n",
       "\t 1 & 1\\\\\n",
       "\t 5 & 1\\\\\n",
       "\t 8 & 1\\\\\n",
       "\\end{tabular}\n"
      ],
      "text/markdown": [
       "\n",
       "| 1 | 1 | \n",
       "| 5 | 1 | \n",
       "| 8 | 1 | \n",
       "\n",
       "\n"
      ],
      "text/plain": [
       "     [,1] [,2]\n",
       "[1,] 1    1   \n",
       "[2,] 5    1   \n",
       "[3,] 8    1   "
      ]
     },
     "metadata": {},
     "output_type": "display_data"
    }
   ],
   "source": [
    "A"
   ]
  },
  {
   "cell_type": "code",
   "execution_count": 5,
   "metadata": {},
   "outputs": [],
   "source": [
    "X = solve(t(A) %*% A) %*% t(A) %*% b"
   ]
  },
  {
   "cell_type": "code",
   "execution_count": 9,
   "metadata": {},
   "outputs": [
    {
     "data": {
      "text/html": [
       "1.35135135135135"
      ],
      "text/latex": [
       "1.35135135135135"
      ],
      "text/markdown": [
       "1.35135135135135"
      ],
      "text/plain": [
       "[1] 1.351351"
      ]
     },
     "metadata": {},
     "output_type": "display_data"
    }
   ],
   "source": [
    "sum((A %*% X - b)^2)"
   ]
  },
  {
   "cell_type": "markdown",
   "metadata": {},
   "source": [
    "# Vraag 2"
   ]
  },
  {
   "cell_type": "code",
   "execution_count": 11,
   "metadata": {},
   "outputs": [
    {
     "data": {
      "text/html": [
       "<table>\n",
       "<tbody>\n",
       "\t<tr><td>0.6666667</td></tr>\n",
       "\t<tr><td>2.0000000</td></tr>\n",
       "</tbody>\n",
       "</table>\n"
      ],
      "text/latex": [
       "\\begin{tabular}{l}\n",
       "\t 0.6666667\\\\\n",
       "\t 2.0000000\\\\\n",
       "\\end{tabular}\n"
      ],
      "text/markdown": [
       "\n",
       "| 0.6666667 | \n",
       "| 2.0000000 | \n",
       "\n",
       "\n"
      ],
      "text/plain": [
       "     [,1]     \n",
       "[1,] 0.6666667\n",
       "[2,] 2.0000000"
      ]
     },
     "metadata": {},
     "output_type": "display_data"
    }
   ],
   "source": [
    "A = cbind(c(0,6,9), c(1,1,1))\n",
    "b = c(2,6,8)\n",
    "X = solve(t(A) %*% A) %*% t(A) %*% b\n",
    "X"
   ]
  },
  {
   "cell_type": "code",
   "execution_count": 14,
   "metadata": {},
   "outputs": [
    {
     "data": {
      "text/html": [
       "4.93038065763132e-30"
      ],
      "text/latex": [
       "4.93038065763132e-30"
      ],
      "text/markdown": [
       "4.93038065763132e-30"
      ],
      "text/plain": [
       "[1] 4.930381e-30"
      ]
     },
     "metadata": {},
     "output_type": "display_data"
    }
   ],
   "source": [
    "sum((A %*% X - b)**2)"
   ]
  },
  {
   "cell_type": "markdown",
   "metadata": {},
   "source": [
    "# Vraag 3"
   ]
  },
  {
   "cell_type": "code",
   "execution_count": 15,
   "metadata": {},
   "outputs": [],
   "source": [
    "A = cbind(c(1,5,8,9), c(1,1,1,1))\n",
    "b = c(1,3,7,9)\n",
    "X = solve(t(A) %*% A) %*% t(A) %*% b"
   ]
  },
  {
   "cell_type": "code",
   "execution_count": 16,
   "metadata": {},
   "outputs": [
    {
     "data": {
      "text/html": [
       "<table>\n",
       "<tbody>\n",
       "\t<tr><td> 0.9806452</td></tr>\n",
       "\t<tr><td>-0.6387097</td></tr>\n",
       "</tbody>\n",
       "</table>\n"
      ],
      "text/latex": [
       "\\begin{tabular}{l}\n",
       "\t  0.9806452\\\\\n",
       "\t -0.6387097\\\\\n",
       "\\end{tabular}\n"
      ],
      "text/markdown": [
       "\n",
       "|  0.9806452 | \n",
       "| -0.6387097 | \n",
       "\n",
       "\n"
      ],
      "text/plain": [
       "     [,1]      \n",
       "[1,]  0.9806452\n",
       "[2,] -0.6387097"
      ]
     },
     "metadata": {},
     "output_type": "display_data"
    }
   ],
   "source": [
    "X"
   ]
  },
  {
   "cell_type": "code",
   "execution_count": 2,
   "metadata": {},
   "outputs": [
    {
     "data": {
      "text/html": [
       "<table>\n",
       "<tbody>\n",
       "\t<tr><th scope=row>X</th><td> 1.0714286</td></tr>\n",
       "\t<tr><th scope=row>ones</th><td>-0.4285714</td></tr>\n",
       "</tbody>\n",
       "</table>\n"
      ],
      "text/latex": [
       "\\begin{tabular}{r|l}\n",
       "\tX &  1.0714286\\\\\n",
       "\tones & -0.4285714\\\\\n",
       "\\end{tabular}\n"
      ],
      "text/markdown": [
       "\n",
       "| X |  1.0714286 | \n",
       "| ones | -0.4285714 | \n",
       "\n",
       "\n"
      ],
      "text/plain": [
       "     [,1]      \n",
       "X     1.0714286\n",
       "ones -0.4285714"
      ]
     },
     "metadata": {},
     "output_type": "display_data"
    }
   ],
   "source": [
    "X = c(2,5,6,11)\n",
    "Y = c(1,6,6,11)\n",
    "\n",
    "ones = c(1,1,1,1)\n",
    "A = cbind(X, ones)\n",
    "b = Y\n",
    "\n",
    "solve(t(A) %*% A) %*% t(A) %*% b\n"
   ]
  },
  {
   "cell_type": "code",
   "execution_count": 3,
   "metadata": {},
   "outputs": [
    {
     "data": {
      "text/plain": [
       "\n",
       "Call:\n",
       "lm(formula = X ~ Y)\n",
       "\n",
       "Coefficients:\n",
       "(Intercept)            Y  \n",
       "        0.6          0.9  \n"
      ]
     },
     "metadata": {},
     "output_type": "display_data"
    }
   ],
   "source": [
    "lm(X~Y)"
   ]
  },
  {
   "cell_type": "code",
   "execution_count": 4,
   "metadata": {},
   "outputs": [
    {
     "data": {
      "text/plain": [
       "\n",
       "Call:\n",
       "lm(formula = Y ~ X)\n",
       "\n",
       "Coefficients:\n",
       "(Intercept)            X  \n",
       "    -0.4286       1.0714  \n"
      ]
     },
     "metadata": {},
     "output_type": "display_data"
    }
   ],
   "source": [
    "lm(Y~X)"
   ]
  },
  {
   "cell_type": "code",
   "execution_count": 8,
   "metadata": {},
   "outputs": [
    {
     "data": {
      "text/plain": [
       "\n",
       "Call:\n",
       "lm(formula = c(3, 3, 9) ~ c(1, 4, 7))\n",
       "\n",
       "Residuals:\n",
       " 1  2  3 \n",
       " 1 -2  1 \n",
       "\n",
       "Coefficients:\n",
       "            Estimate Std. Error t value Pr(>|t|)\n",
       "(Intercept)   1.0000     2.7080   0.369    0.775\n",
       "c(1, 4, 7)    1.0000     0.5774   1.732    0.333\n",
       "\n",
       "Residual standard error: 2.449 on 1 degrees of freedom\n",
       "Multiple R-squared:   0.75,\tAdjusted R-squared:    0.5 \n",
       "F-statistic:     3 on 1 and 1 DF,  p-value: 0.3333\n"
      ]
     },
     "metadata": {},
     "output_type": "display_data"
    }
   ],
   "source": [
    "fit = lm(c(3,3,9)~c(1,4,7))\n",
    "summary(fit)"
   ]
  },
  {
   "cell_type": "code",
   "execution_count": 9,
   "metadata": {},
   "outputs": [
    {
     "data": {
      "text/html": [
       "<table>\n",
       "<thead><tr><th scope=col>a</th><th scope=col>b</th><th scope=col>c</th></tr></thead>\n",
       "<tbody>\n",
       "\t<tr><td>0 </td><td>-3</td><td>1 </td></tr>\n",
       "\t<tr><td>5 </td><td> 4</td><td>1 </td></tr>\n",
       "\t<tr><td>7 </td><td> 9</td><td>1 </td></tr>\n",
       "\t<tr><td>8 </td><td> 9</td><td>1 </td></tr>\n",
       "</tbody>\n",
       "</table>\n"
      ],
      "text/latex": [
       "\\begin{tabular}{lll}\n",
       " a & b & c\\\\\n",
       "\\hline\n",
       "\t 0  & -3 & 1 \\\\\n",
       "\t 5  &  4 & 1 \\\\\n",
       "\t 7  &  9 & 1 \\\\\n",
       "\t 8  &  9 & 1 \\\\\n",
       "\\end{tabular}\n"
      ],
      "text/markdown": [
       "\n",
       "a | b | c | \n",
       "|---|---|---|---|\n",
       "| 0  | -3 | 1  | \n",
       "| 5  |  4 | 1  | \n",
       "| 7  |  9 | 1  | \n",
       "| 8  |  9 | 1  | \n",
       "\n",
       "\n"
      ],
      "text/plain": [
       "     a b  c\n",
       "[1,] 0 -3 1\n",
       "[2,] 5  4 1\n",
       "[3,] 7  9 1\n",
       "[4,] 8  9 1"
      ]
     },
     "metadata": {},
     "output_type": "display_data"
    }
   ],
   "source": [
    "a = c(0,5,7,8)\n",
    "b = c(-3,4,9,9)\n",
    "c = c(1, 1, 1, 1)\n",
    "A = cbind(a,b,c)\n",
    "A"
   ]
  },
  {
   "cell_type": "code",
   "execution_count": 10,
   "metadata": {},
   "outputs": [
    {
     "data": {
      "text/html": [
       "<table>\n",
       "<tbody>\n",
       "\t<tr><th scope=row>a</th><td> 2.398082e-14</td></tr>\n",
       "\t<tr><th scope=row>b</th><td> 1.000000e+00</td></tr>\n",
       "\t<tr><th scope=row>c</th><td>-4.440892e-14</td></tr>\n",
       "</tbody>\n",
       "</table>\n"
      ],
      "text/latex": [
       "\\begin{tabular}{r|l}\n",
       "\ta &  2.398082e-14\\\\\n",
       "\tb &  1.000000e+00\\\\\n",
       "\tc & -4.440892e-14\\\\\n",
       "\\end{tabular}\n"
      ],
      "text/markdown": [
       "\n",
       "| a |  2.398082e-14 | \n",
       "| b |  1.000000e+00 | \n",
       "| c | -4.440892e-14 | \n",
       "\n",
       "\n"
      ],
      "text/plain": [
       "  [,1]         \n",
       "a  2.398082e-14\n",
       "b  1.000000e+00\n",
       "c -4.440892e-14"
      ]
     },
     "metadata": {},
     "output_type": "display_data"
    }
   ],
   "source": [
    "solve(t(A) %*% A) %*% t(A) %*% b"
   ]
  },
  {
   "cell_type": "code",
   "execution_count": 11,
   "metadata": {},
   "outputs": [
    {
     "data": {
      "image/png": "[encoded data removed]",
      "text/plain": [
       "plot without title"
      ]
     },
     "metadata": {},
     "output_type": "display_data"
    }
   ],
   "source": [
    "plot(a,b)"
   ]
  },
  {
   "cell_type": "markdown",
   "metadata": {},
   "source": [
    "$$ \\mathbf{A} \\mathbf{x} = \\mathbf{b} \\\\ \\mathbf{(A\\cdot A^Tx)} = \\mathbf{A^Tb} \\\\ \\mathbf{(A \\cdot A^T)^{-1} (A \\cdot A^T) x} = \\mathbf{(A \\cdot A^T)^{-1} A^T b} \\\\ \\mathbf{Ix = (A\\cdot A^T)^{-1}A^T\\cdot b}$$"
   ]
  },
  {
   "cell_type": "code",
   "execution_count": 50,
   "metadata": {},
   "outputs": [],
   "source": [
    "lin.reg = function(X, b) {\n",
    "    ones = rep(1, length(X))\n",
    "    # matrix Ab=x opstellen\n",
    "    A = cbind(X, ones)\n",
    "    # oplossen voor x\n",
    "    x = solve(t(A) %*% A) %*% t(A) %*% b\n",
    "    print(paste(\"Intercept:\", x[2]))\n",
    "    print(paste(\"Coefficient:\", x[1]))\n",
    "    plot(X,Y)\n",
    "    fit = lm(Y~X)\n",
    "    abline(fit, col=\"red\", lw=3)\n",
    "    E = A %*% x - b\n",
    "    res = sqrt(t(E) %*% E)\n",
    "    print(paste(\"Residual standard error:\", res))\n",
    "    summary(fit)\n",
    "}"
   ]
  },
  {
   "cell_type": "code",
   "execution_count": 51,
   "metadata": {},
   "outputs": [
    {
     "name": "stdout",
     "output_type": "stream",
     "text": [
      "[1] \"Intercept: 0.282442748091604\"\n",
      "[1] \"Coefficient: 1.04580152671756\"\n",
      "[1] \"Residual standard error: 1.71210330001541\"\n"
     ]
    },
    {
     "data": {
      "text/plain": [
       "\n",
       "Call:\n",
       "lm(formula = Y ~ X)\n",
       "\n",
       "Residuals:\n",
       "      1       2       3       4 \n",
       " 0.6718  0.4885 -1.4656  0.3053 \n",
       "\n",
       "Coefficients:\n",
       "            Estimate Std. Error t value Pr(>|t|)  \n",
       "(Intercept)   0.2824     1.1731   0.241   0.8322  \n",
       "X             1.0458     0.2115   4.944   0.0386 *\n",
       "---\n",
       "Signif. codes:  0 '***' 0.001 '**' 0.01 '*' 0.05 '.' 0.1 ' ' 1\n",
       "\n",
       "Residual standard error: 1.211 on 2 degrees of freedom\n",
       "Multiple R-squared:  0.9244,\tAdjusted R-squared:  0.8865 \n",
       "F-statistic: 24.44 on 1 and 2 DF,  p-value: 0.03857\n"
      ]
     },
     "metadata": {},
     "output_type": "display_data"
    },
    {
     "data": {
      "image/png": "[encoded data removed]",
      "text/plain": [
       "plot without title"
      ]
     },
     "metadata": {},
     "output_type": "display_data"
    }
   ],
   "source": [
    "X = c(1,5,4,9)\n",
    "Y = c(2,6,3,10)\n",
    "lin.reg(X, Y)"
   ]
  },
  {
   "cell_type": "code",
   "execution_count": null,
   "metadata": {},
   "outputs": [],
   "source": []
  }
 ],
 "metadata": {
  "kernelspec": {
   "display_name": "R",
   "language": "R",
   "name": "ir"
  },
  "language_info": {
   "codemirror_mode": "r",
   "file_extension": ".r",
   "mimetype": "text/x-r-source",
   "name": "R",
   "pygments_lexer": "r",
   "version": "3.4.4"
  }
 },
 "nbformat": 4,
 "nbformat_minor": 2
}
