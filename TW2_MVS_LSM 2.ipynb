{
 "cells": [
  {
   "cell_type": "markdown",
   "metadata": {},
   "source": [
    "Een parabool heeft de vergelijking $y = ax^2 + bx + c$. Vindt de best passende parabool door de volgende punten:\n",
    "\n",
    " * $A(3,3)$\n",
    " * $B(5,4)$\n",
    " * $C(7,7)$\n",
    " * $D(8,9)$\n",
    " \n",
    "Hiervoor bepalen we de coefficienten $a,b$ en de intercept $c$.\n",
    "\n",
    "Als we de punten invullen in de vergelijking van de parabool, kunnen we de coefficient vinden voor $a$ en $b$.\n",
    "\n",
    " * $A(3,3) \\rightarrow 3 = 9a + 3b + c$\n",
    " * $B(5,4) \\rightarrow 4 = 25a + 5b + c$\n",
    " * $C(7,7) \\rightarrow 7 = 49a + 7b + c$\n",
    " * $D(8,9) \\rightarrow 9 = 64a + 8b + c$\n",
    " \n",
    "Vervolgens zetten de dit om naar de volgende matrix:\n",
    "\n",
    "$$ \\begin{bmatrix} \\mathbf{a} & \\mathbf{b} & \\mathbf{c} \\end{bmatrix} \\cdot \\mathbf{x} = \\mathbf{d} $$"
   ]
  },
  {
   "cell_type": "code",
   "execution_count": 11,
   "metadata": {},
   "outputs": [
    {
     "data": {
      "text/html": [
       "<table>\n",
       "<thead><tr><th scope=col>a</th><th scope=col>b</th><th scope=col>c</th></tr></thead>\n",
       "<tbody>\n",
       "\t<tr><td> 0</td><td>0 </td><td>1 </td></tr>\n",
       "\t<tr><td> 9</td><td>3 </td><td>1 </td></tr>\n",
       "\t<tr><td>64</td><td>8 </td><td>1 </td></tr>\n",
       "\t<tr><td>81</td><td>9 </td><td>1 </td></tr>\n",
       "</tbody>\n",
       "</table>\n"
      ],
      "text/latex": [
       "\\begin{tabular}{lll}\n",
       " a & b & c\\\\\n",
       "\\hline\n",
       "\t  0 & 0  & 1 \\\\\n",
       "\t  9 & 3  & 1 \\\\\n",
       "\t 64 & 8  & 1 \\\\\n",
       "\t 81 & 9  & 1 \\\\\n",
       "\\end{tabular}\n"
      ],
      "text/markdown": [
       "\n",
       "a | b | c | \n",
       "|---|---|---|---|\n",
       "|  0 | 0  | 1  | \n",
       "|  9 | 3  | 1  | \n",
       "| 64 | 8  | 1  | \n",
       "| 81 | 9  | 1  | \n",
       "\n",
       "\n"
      ],
      "text/plain": [
       "     a  b c\n",
       "[1,]  0 0 1\n",
       "[2,]  9 3 1\n",
       "[3,] 64 8 1\n",
       "[4,] 81 9 1"
      ]
     },
     "metadata": {},
     "output_type": "display_data"
    }
   ],
   "source": [
    "b = c(0,3,8,9)\n",
    "a = b^2\n",
    "c = rep(1, length(a))\n",
    "A = cbind(a,b,c)\n",
    "d = c(2,3,7,8)\n",
    "A"
   ]
  },
  {
   "cell_type": "code",
   "execution_count": 12,
   "metadata": {},
   "outputs": [
    {
     "data": {
      "text/html": [
       "<ol class=list-inline>\n",
       "\t<li>2</li>\n",
       "\t<li>3</li>\n",
       "\t<li>7</li>\n",
       "\t<li>8</li>\n",
       "</ol>\n"
      ],
      "text/latex": [
       "\\begin{enumerate*}\n",
       "\\item 2\n",
       "\\item 3\n",
       "\\item 7\n",
       "\\item 8\n",
       "\\end{enumerate*}\n"
      ],
      "text/markdown": [
       "1. 2\n",
       "2. 3\n",
       "3. 7\n",
       "4. 8\n",
       "\n",
       "\n"
      ],
      "text/plain": [
       "[1] 2 3 7 8"
      ]
     },
     "metadata": {},
     "output_type": "display_data"
    }
   ],
   "source": [
    "d"
   ]
  },
  {
   "cell_type": "code",
   "execution_count": 13,
   "metadata": {},
   "outputs": [
    {
     "data": {
      "text/html": [
       "<table>\n",
       "<tbody>\n",
       "\t<tr><th scope=row>a</th><td>0.05444273</td></tr>\n",
       "\t<tr><th scope=row>b</th><td>0.18310221</td></tr>\n",
       "\t<tr><th scope=row>c</th><td>1.98844376</td></tr>\n",
       "</tbody>\n",
       "</table>\n"
      ],
      "text/latex": [
       "\\begin{tabular}{r|l}\n",
       "\ta & 0.05444273\\\\\n",
       "\tb & 0.18310221\\\\\n",
       "\tc & 1.98844376\\\\\n",
       "\\end{tabular}\n"
      ],
      "text/markdown": [
       "\n",
       "| a | 0.05444273 | \n",
       "| b | 0.18310221 | \n",
       "| c | 1.98844376 | \n",
       "\n",
       "\n"
      ],
      "text/plain": [
       "  [,1]      \n",
       "a 0.05444273\n",
       "b 0.18310221\n",
       "c 1.98844376"
      ]
     },
     "metadata": {},
     "output_type": "display_data"
    }
   ],
   "source": [
    "solve(t(A) %*% A) %*% t(A) %*% d"
   ]
  }
 ],
 "metadata": {
  "kernelspec": {
   "display_name": "R",
   "language": "R",
   "name": "ir"
  },
  "language_info": {
   "codemirror_mode": "r",
   "file_extension": ".r",
   "mimetype": "text/x-r-source",
   "name": "R",
   "pygments_lexer": "r",
   "version": "3.5.0"
  }
 },
 "nbformat": 4,
 "nbformat_minor": 2
}
