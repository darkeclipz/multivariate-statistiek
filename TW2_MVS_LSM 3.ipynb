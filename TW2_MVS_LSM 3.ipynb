{
 "cells": [
  {
   "cell_type": "markdown",
   "metadata": {},
   "source": [
    "# Regressielijn voor $e^{kt}$"
   ]
  },
  {
   "cell_type": "markdown",
   "metadata": {},
   "source": [
    "Voor een exponentieële verdeling $P(t) = C\\cdot e^{k\\cdot t}$ waarbij $P$ de omvang van de populatie is en $t$ een functie van tijd.\n",
    "\n",
    "Bepaal de best passende $k$-factor m.b.v. de kleinste kwadraten methode."
   ]
  },
  {
   "cell_type": "code",
   "execution_count": 17,
   "metadata": {},
   "outputs": [],
   "source": [
    "# [2.54,3.07,3.77,4.49,5.28,6.13]\n",
    "\n",
    "y = c(2.54,3.07,3.77,4.49,5.28,6.13)\n",
    "t = 2:7"
   ]
  },
  {
   "cell_type": "markdown",
   "metadata": {},
   "source": [
    "Het $C$ getal is de eerste waarneming die we tegenkomen, dus $C=2.54$.\n",
    "\n",
    "Vervolgens nemen we het logaritme en krijgen we $\\ln y = \\ln C + kt$, ofwel $\\ln \\frac{y}{C} = kt$ wat in de vorm is van $y=ax$.\n",
    "\n",
    "Beginnende met $A\\mathbf{x} = \\mathbf{b}$. Hier geldt dat $A = \\begin{bmatrix} \\mathbf{t} \\end{bmatrix}$, en $\\mathbf{b} = \\ln \\frac{y}{C}$. Nu krijgen we de matrix $\\begin{bmatrix} \\mathbf{t} \\end{bmatrix} \\cdot \\mathbf{x} = \\mathbf{b}$."
   ]
  },
  {
   "cell_type": "code",
   "execution_count": 18,
   "metadata": {},
   "outputs": [],
   "source": [
    "A = t-2\n",
    "b = log(y/2.54)"
   ]
  },
  {
   "cell_type": "code",
   "execution_count": 19,
   "metadata": {},
   "outputs": [
    {
     "data": {
      "text/html": [
       "<table>\n",
       "<tbody>\n",
       "\t<tr><td>0.1821928</td></tr>\n",
       "</tbody>\n",
       "</table>\n"
      ],
      "text/latex": [
       "\\begin{tabular}{l}\n",
       "\t 0.1821928\\\\\n",
       "\\end{tabular}\n"
      ],
      "text/markdown": [
       "\n",
       "| 0.1821928 | \n",
       "\n",
       "\n"
      ],
      "text/plain": [
       "     [,1]     \n",
       "[1,] 0.1821928"
      ]
     },
     "metadata": {},
     "output_type": "display_data"
    }
   ],
   "source": [
    "solve(t(A) %*% A) %*% t(A) %*% b"
   ]
  }
 ],
 "metadata": {
  "kernelspec": {
   "display_name": "R",
   "language": "R",
   "name": "ir"
  },
  "language_info": {
   "codemirror_mode": "r",
   "file_extension": ".r",
   "mimetype": "text/x-r-source",
   "name": "R",
   "pygments_lexer": "r",
   "version": "3.5.0"
  }
 },
 "nbformat": 4,
 "nbformat_minor": 2
}
