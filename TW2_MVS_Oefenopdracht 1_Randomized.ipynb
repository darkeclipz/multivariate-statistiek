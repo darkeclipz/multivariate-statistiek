{
 "cells": [
  {
   "cell_type": "code",
   "execution_count": 1,
   "metadata": {},
   "outputs": [],
   "source": [
    "Y = c(8.893,9.319,9.338,9.548,10.09,10.09,10.13,10.24,10.32,10.34,10.55,10.68,10.83,11.11,11.13,11.29,11.44,11.46,11.59,11.65,11.73,11.87,11.89,12.31)\n",
    "X1 = c(6.482,6.785,6.880,6.890,6.929,7.159,7.290,7.329,7.420,7.606,7.672,7.686,7.825,7.903,8.315,8.367,8.494,8.825,9.084,9.189,9.336,9.646,10.59,10.95)\n",
    "X2 = c(15.75,17.86,18.42,18.44,18.61,19.32,19.34,19.66,19.74,19.88,19.95,20.40,20.40,20.48,20.63,20.95,21.15,21.27,21.72,22.24,22.46,22.47,22.86,25.30)"
   ]
  },
  {
   "cell_type": "code",
   "execution_count": 5,
   "metadata": {},
   "outputs": [],
   "source": [
    "df = data.frame(X1,X2,Y)"
   ]
  },
  {
   "cell_type": "code",
   "execution_count": 6,
   "metadata": {},
   "outputs": [
    {
     "data": {
      "image/png": "[encoded data removed]",
      "text/plain": [
       "plot without title"
      ]
     },
     "metadata": {},
     "output_type": "display_data"
    }
   ],
   "source": [
    "plot(df)"
   ]
  },
  {
   "cell_type": "code",
   "execution_count": 7,
   "metadata": {},
   "outputs": [
    {
     "data": {
      "text/html": [
       "0.949242666548126"
      ],
      "text/latex": [
       "0.949242666548126"
      ],
      "text/markdown": [
       "0.949242666548126"
      ],
      "text/plain": [
       "[1] 0.9492427"
      ]
     },
     "metadata": {},
     "output_type": "display_data"
    }
   ],
   "source": [
    "cor(X1,X2)"
   ]
  },
  {
   "cell_type": "code",
   "execution_count": 8,
   "metadata": {},
   "outputs": [
    {
     "data": {
      "text/html": [
       "<table>\n",
       "<thead><tr><th scope=col>X1</th><th scope=col>X2</th><th scope=col>Y</th></tr></thead>\n",
       "<tbody>\n",
       "\t<tr><td> 6.482</td><td>15.75 </td><td> 8.893</td></tr>\n",
       "\t<tr><td> 6.785</td><td>17.86 </td><td> 9.319</td></tr>\n",
       "\t<tr><td> 6.880</td><td>18.42 </td><td> 9.338</td></tr>\n",
       "\t<tr><td> 6.890</td><td>18.44 </td><td> 9.548</td></tr>\n",
       "\t<tr><td> 6.929</td><td>18.61 </td><td>10.090</td></tr>\n",
       "\t<tr><td> 7.159</td><td>19.32 </td><td>10.090</td></tr>\n",
       "\t<tr><td> 7.290</td><td>19.34 </td><td>10.130</td></tr>\n",
       "\t<tr><td> 7.329</td><td>19.66 </td><td>10.240</td></tr>\n",
       "\t<tr><td> 7.420</td><td>19.74 </td><td>10.320</td></tr>\n",
       "\t<tr><td> 7.606</td><td>19.88 </td><td>10.340</td></tr>\n",
       "\t<tr><td> 7.672</td><td>19.95 </td><td>10.550</td></tr>\n",
       "\t<tr><td> 7.686</td><td>20.40 </td><td>10.680</td></tr>\n",
       "\t<tr><td> 7.825</td><td>20.40 </td><td>10.830</td></tr>\n",
       "\t<tr><td> 7.903</td><td>20.48 </td><td>11.110</td></tr>\n",
       "\t<tr><td> 8.315</td><td>20.63 </td><td>11.130</td></tr>\n",
       "\t<tr><td> 8.367</td><td>20.95 </td><td>11.290</td></tr>\n",
       "\t<tr><td> 8.494</td><td>21.15 </td><td>11.440</td></tr>\n",
       "\t<tr><td> 8.825</td><td>21.27 </td><td>11.460</td></tr>\n",
       "\t<tr><td> 9.084</td><td>21.72 </td><td>11.590</td></tr>\n",
       "\t<tr><td> 9.189</td><td>22.24 </td><td>11.650</td></tr>\n",
       "\t<tr><td> 9.336</td><td>22.46 </td><td>11.730</td></tr>\n",
       "\t<tr><td> 9.646</td><td>22.47 </td><td>11.870</td></tr>\n",
       "\t<tr><td>10.590</td><td>22.86 </td><td>11.890</td></tr>\n",
       "\t<tr><td>10.950</td><td>25.30 </td><td>12.310</td></tr>\n",
       "</tbody>\n",
       "</table>\n"
      ],
      "text/latex": [
       "\\begin{tabular}{r|lll}\n",
       " X1 & X2 & Y\\\\\n",
       "\\hline\n",
       "\t  6.482 & 15.75  &  8.893\\\\\n",
       "\t  6.785 & 17.86  &  9.319\\\\\n",
       "\t  6.880 & 18.42  &  9.338\\\\\n",
       "\t  6.890 & 18.44  &  9.548\\\\\n",
       "\t  6.929 & 18.61  & 10.090\\\\\n",
       "\t  7.159 & 19.32  & 10.090\\\\\n",
       "\t  7.290 & 19.34  & 10.130\\\\\n",
       "\t  7.329 & 19.66  & 10.240\\\\\n",
       "\t  7.420 & 19.74  & 10.320\\\\\n",
       "\t  7.606 & 19.88  & 10.340\\\\\n",
       "\t  7.672 & 19.95  & 10.550\\\\\n",
       "\t  7.686 & 20.40  & 10.680\\\\\n",
       "\t  7.825 & 20.40  & 10.830\\\\\n",
       "\t  7.903 & 20.48  & 11.110\\\\\n",
       "\t  8.315 & 20.63  & 11.130\\\\\n",
       "\t  8.367 & 20.95  & 11.290\\\\\n",
       "\t  8.494 & 21.15  & 11.440\\\\\n",
       "\t  8.825 & 21.27  & 11.460\\\\\n",
       "\t  9.084 & 21.72  & 11.590\\\\\n",
       "\t  9.189 & 22.24  & 11.650\\\\\n",
       "\t  9.336 & 22.46  & 11.730\\\\\n",
       "\t  9.646 & 22.47  & 11.870\\\\\n",
       "\t 10.590 & 22.86  & 11.890\\\\\n",
       "\t 10.950 & 25.30  & 12.310\\\\\n",
       "\\end{tabular}\n"
      ],
      "text/markdown": [
       "\n",
       "X1 | X2 | Y | \n",
       "|---|---|---|---|---|---|---|---|---|---|---|---|---|---|---|---|---|---|---|---|---|---|---|---|\n",
       "|  6.482 | 15.75  |  8.893 | \n",
       "|  6.785 | 17.86  |  9.319 | \n",
       "|  6.880 | 18.42  |  9.338 | \n",
       "|  6.890 | 18.44  |  9.548 | \n",
       "|  6.929 | 18.61  | 10.090 | \n",
       "|  7.159 | 19.32  | 10.090 | \n",
       "|  7.290 | 19.34  | 10.130 | \n",
       "|  7.329 | 19.66  | 10.240 | \n",
       "|  7.420 | 19.74  | 10.320 | \n",
       "|  7.606 | 19.88  | 10.340 | \n",
       "|  7.672 | 19.95  | 10.550 | \n",
       "|  7.686 | 20.40  | 10.680 | \n",
       "|  7.825 | 20.40  | 10.830 | \n",
       "|  7.903 | 20.48  | 11.110 | \n",
       "|  8.315 | 20.63  | 11.130 | \n",
       "|  8.367 | 20.95  | 11.290 | \n",
       "|  8.494 | 21.15  | 11.440 | \n",
       "|  8.825 | 21.27  | 11.460 | \n",
       "|  9.084 | 21.72  | 11.590 | \n",
       "|  9.189 | 22.24  | 11.650 | \n",
       "|  9.336 | 22.46  | 11.730 | \n",
       "|  9.646 | 22.47  | 11.870 | \n",
       "| 10.590 | 22.86  | 11.890 | \n",
       "| 10.950 | 25.30  | 12.310 | \n",
       "\n",
       "\n"
      ],
      "text/plain": [
       "   X1     X2    Y     \n",
       "1   6.482 15.75  8.893\n",
       "2   6.785 17.86  9.319\n",
       "3   6.880 18.42  9.338\n",
       "4   6.890 18.44  9.548\n",
       "5   6.929 18.61 10.090\n",
       "6   7.159 19.32 10.090\n",
       "7   7.290 19.34 10.130\n",
       "8   7.329 19.66 10.240\n",
       "9   7.420 19.74 10.320\n",
       "10  7.606 19.88 10.340\n",
       "11  7.672 19.95 10.550\n",
       "12  7.686 20.40 10.680\n",
       "13  7.825 20.40 10.830\n",
       "14  7.903 20.48 11.110\n",
       "15  8.315 20.63 11.130\n",
       "16  8.367 20.95 11.290\n",
       "17  8.494 21.15 11.440\n",
       "18  8.825 21.27 11.460\n",
       "19  9.084 21.72 11.590\n",
       "20  9.189 22.24 11.650\n",
       "21  9.336 22.46 11.730\n",
       "22  9.646 22.47 11.870\n",
       "23 10.590 22.86 11.890\n",
       "24 10.950 25.30 12.310"
      ]
     },
     "metadata": {},
     "output_type": "display_data"
    }
   ],
   "source": [
    "df"
   ]
  },
  {
   "cell_type": "code",
   "execution_count": 11,
   "metadata": {},
   "outputs": [],
   "source": [
    "df['X1Y'] = df['X1'] * df['Y']\n",
    "df['X1_2'] = df['X1']^2\n",
    "df['X1X2'] = df['X1'] * df['X2']\n",
    "df['X2Y'] = df['X2'] * df['Y']\n",
    "df['X2_2'] = df['X2']^2"
   ]
  },
  {
   "cell_type": "code",
   "execution_count": 12,
   "metadata": {
    "scrolled": false
   },
   "outputs": [
    {
     "data": {
      "text/html": [
       "<table>\n",
       "<thead><tr><th scope=col>X1</th><th scope=col>X2</th><th scope=col>Y</th><th scope=col>X1Y</th><th scope=col>X1_2</th><th scope=col>X1X2</th><th scope=col>X2Y</th><th scope=col>X2_2</th></tr></thead>\n",
       "<tbody>\n",
       "\t<tr><td> 6.482   </td><td>15.75    </td><td> 8.893   </td><td> 57.64443</td><td> 42.01632</td><td>102.0915 </td><td>140.0648 </td><td>248.0625 </td></tr>\n",
       "\t<tr><td> 6.785   </td><td>17.86    </td><td> 9.319   </td><td> 63.22942</td><td> 46.03623</td><td>121.1801 </td><td>166.4373 </td><td>318.9796 </td></tr>\n",
       "\t<tr><td> 6.880   </td><td>18.42    </td><td> 9.338   </td><td> 64.24544</td><td> 47.33440</td><td>126.7296 </td><td>172.0060 </td><td>339.2964 </td></tr>\n",
       "\t<tr><td> 6.890   </td><td>18.44    </td><td> 9.548   </td><td> 65.78572</td><td> 47.47210</td><td>127.0516 </td><td>176.0651 </td><td>340.0336 </td></tr>\n",
       "\t<tr><td> 6.929   </td><td>18.61    </td><td>10.090   </td><td> 69.91361</td><td> 48.01104</td><td>128.9487 </td><td>187.7749 </td><td>346.3321 </td></tr>\n",
       "\t<tr><td> 7.159   </td><td>19.32    </td><td>10.090   </td><td> 72.23431</td><td> 51.25128</td><td>138.3119 </td><td>194.9388 </td><td>373.2624 </td></tr>\n",
       "\t<tr><td> 7.290   </td><td>19.34    </td><td>10.130   </td><td> 73.84770</td><td> 53.14410</td><td>140.9886 </td><td>195.9142 </td><td>374.0356 </td></tr>\n",
       "\t<tr><td> 7.329   </td><td>19.66    </td><td>10.240   </td><td> 75.04896</td><td> 53.71424</td><td>144.0881 </td><td>201.3184 </td><td>386.5156 </td></tr>\n",
       "\t<tr><td> 7.420   </td><td>19.74    </td><td>10.320   </td><td> 76.57440</td><td> 55.05640</td><td>146.4708 </td><td>203.7168 </td><td>389.6676 </td></tr>\n",
       "\t<tr><td> 7.606   </td><td>19.88    </td><td>10.340   </td><td> 78.64604</td><td> 57.85124</td><td>151.2073 </td><td>205.5592 </td><td>395.2144 </td></tr>\n",
       "\t<tr><td> 7.672   </td><td>19.95    </td><td>10.550   </td><td> 80.93960</td><td> 58.85958</td><td>153.0564 </td><td>210.4725 </td><td>398.0025 </td></tr>\n",
       "\t<tr><td> 7.686   </td><td>20.40    </td><td>10.680   </td><td> 82.08648</td><td> 59.07460</td><td>156.7944 </td><td>217.8720 </td><td>416.1600 </td></tr>\n",
       "\t<tr><td> 7.825   </td><td>20.40    </td><td>10.830   </td><td> 84.74475</td><td> 61.23063</td><td>159.6300 </td><td>220.9320 </td><td>416.1600 </td></tr>\n",
       "\t<tr><td> 7.903   </td><td>20.48    </td><td>11.110   </td><td> 87.80233</td><td> 62.45741</td><td>161.8534 </td><td>227.5328 </td><td>419.4304 </td></tr>\n",
       "\t<tr><td> 8.315   </td><td>20.63    </td><td>11.130   </td><td> 92.54595</td><td> 69.13922</td><td>171.5384 </td><td>229.6119 </td><td>425.5969 </td></tr>\n",
       "\t<tr><td> 8.367   </td><td>20.95    </td><td>11.290   </td><td> 94.46343</td><td> 70.00669</td><td>175.2887 </td><td>236.5255 </td><td>438.9025 </td></tr>\n",
       "\t<tr><td> 8.494   </td><td>21.15    </td><td>11.440   </td><td> 97.17136</td><td> 72.14804</td><td>179.6481 </td><td>241.9560 </td><td>447.3225 </td></tr>\n",
       "\t<tr><td> 8.825   </td><td>21.27    </td><td>11.460   </td><td>101.13450</td><td> 77.88062</td><td>187.7077 </td><td>243.7542 </td><td>452.4129 </td></tr>\n",
       "\t<tr><td> 9.084   </td><td>21.72    </td><td>11.590   </td><td>105.28356</td><td> 82.51906</td><td>197.3045 </td><td>251.7348 </td><td>471.7584 </td></tr>\n",
       "\t<tr><td> 9.189   </td><td>22.24    </td><td>11.650   </td><td>107.05185</td><td> 84.43772</td><td>204.3634 </td><td>259.0960 </td><td>494.6176 </td></tr>\n",
       "\t<tr><td> 9.336   </td><td>22.46    </td><td>11.730   </td><td>109.51128</td><td> 87.16090</td><td>209.6866 </td><td>263.4558 </td><td>504.4516 </td></tr>\n",
       "\t<tr><td> 9.646   </td><td>22.47    </td><td>11.870   </td><td>114.49802</td><td> 93.04532</td><td>216.7456 </td><td>266.7189 </td><td>504.9009 </td></tr>\n",
       "\t<tr><td>10.590   </td><td>22.86    </td><td>11.890   </td><td>125.91510</td><td>112.14810</td><td>242.0874 </td><td>271.8054 </td><td>522.5796 </td></tr>\n",
       "\t<tr><td>10.950   </td><td>25.30    </td><td>12.310   </td><td>134.79450</td><td>119.90250</td><td>277.0350 </td><td>311.4430 </td><td>640.0900 </td></tr>\n",
       "</tbody>\n",
       "</table>\n"
      ],
      "text/latex": [
       "\\begin{tabular}{r|llllllll}\n",
       " X1 & X2 & Y & X1Y & X1\\_2 & X1X2 & X2Y & X2\\_2\\\\\n",
       "\\hline\n",
       "\t  6.482    & 15.75     &  8.893    &  57.64443 &  42.01632 & 102.0915  & 140.0648  & 248.0625 \\\\\n",
       "\t  6.785    & 17.86     &  9.319    &  63.22942 &  46.03623 & 121.1801  & 166.4373  & 318.9796 \\\\\n",
       "\t  6.880    & 18.42     &  9.338    &  64.24544 &  47.33440 & 126.7296  & 172.0060  & 339.2964 \\\\\n",
       "\t  6.890    & 18.44     &  9.548    &  65.78572 &  47.47210 & 127.0516  & 176.0651  & 340.0336 \\\\\n",
       "\t  6.929    & 18.61     & 10.090    &  69.91361 &  48.01104 & 128.9487  & 187.7749  & 346.3321 \\\\\n",
       "\t  7.159    & 19.32     & 10.090    &  72.23431 &  51.25128 & 138.3119  & 194.9388  & 373.2624 \\\\\n",
       "\t  7.290    & 19.34     & 10.130    &  73.84770 &  53.14410 & 140.9886  & 195.9142  & 374.0356 \\\\\n",
       "\t  7.329    & 19.66     & 10.240    &  75.04896 &  53.71424 & 144.0881  & 201.3184  & 386.5156 \\\\\n",
       "\t  7.420    & 19.74     & 10.320    &  76.57440 &  55.05640 & 146.4708  & 203.7168  & 389.6676 \\\\\n",
       "\t  7.606    & 19.88     & 10.340    &  78.64604 &  57.85124 & 151.2073  & 205.5592  & 395.2144 \\\\\n",
       "\t  7.672    & 19.95     & 10.550    &  80.93960 &  58.85958 & 153.0564  & 210.4725  & 398.0025 \\\\\n",
       "\t  7.686    & 20.40     & 10.680    &  82.08648 &  59.07460 & 156.7944  & 217.8720  & 416.1600 \\\\\n",
       "\t  7.825    & 20.40     & 10.830    &  84.74475 &  61.23063 & 159.6300  & 220.9320  & 416.1600 \\\\\n",
       "\t  7.903    & 20.48     & 11.110    &  87.80233 &  62.45741 & 161.8534  & 227.5328  & 419.4304 \\\\\n",
       "\t  8.315    & 20.63     & 11.130    &  92.54595 &  69.13922 & 171.5384  & 229.6119  & 425.5969 \\\\\n",
       "\t  8.367    & 20.95     & 11.290    &  94.46343 &  70.00669 & 175.2887  & 236.5255  & 438.9025 \\\\\n",
       "\t  8.494    & 21.15     & 11.440    &  97.17136 &  72.14804 & 179.6481  & 241.9560  & 447.3225 \\\\\n",
       "\t  8.825    & 21.27     & 11.460    & 101.13450 &  77.88062 & 187.7077  & 243.7542  & 452.4129 \\\\\n",
       "\t  9.084    & 21.72     & 11.590    & 105.28356 &  82.51906 & 197.3045  & 251.7348  & 471.7584 \\\\\n",
       "\t  9.189    & 22.24     & 11.650    & 107.05185 &  84.43772 & 204.3634  & 259.0960  & 494.6176 \\\\\n",
       "\t  9.336    & 22.46     & 11.730    & 109.51128 &  87.16090 & 209.6866  & 263.4558  & 504.4516 \\\\\n",
       "\t  9.646    & 22.47     & 11.870    & 114.49802 &  93.04532 & 216.7456  & 266.7189  & 504.9009 \\\\\n",
       "\t 10.590    & 22.86     & 11.890    & 125.91510 & 112.14810 & 242.0874  & 271.8054  & 522.5796 \\\\\n",
       "\t 10.950    & 25.30     & 12.310    & 134.79450 & 119.90250 & 277.0350  & 311.4430  & 640.0900 \\\\\n",
       "\\end{tabular}\n"
      ],
      "text/markdown": [
       "\n",
       "X1 | X2 | Y | X1Y | X1_2 | X1X2 | X2Y | X2_2 | \n",
       "|---|---|---|---|---|---|---|---|---|---|---|---|---|---|---|---|---|---|---|---|---|---|---|---|\n",
       "|  6.482    | 15.75     |  8.893    |  57.64443 |  42.01632 | 102.0915  | 140.0648  | 248.0625  | \n",
       "|  6.785    | 17.86     |  9.319    |  63.22942 |  46.03623 | 121.1801  | 166.4373  | 318.9796  | \n",
       "|  6.880    | 18.42     |  9.338    |  64.24544 |  47.33440 | 126.7296  | 172.0060  | 339.2964  | \n",
       "|  6.890    | 18.44     |  9.548    |  65.78572 |  47.47210 | 127.0516  | 176.0651  | 340.0336  | \n",
       "|  6.929    | 18.61     | 10.090    |  69.91361 |  48.01104 | 128.9487  | 187.7749  | 346.3321  | \n",
       "|  7.159    | 19.32     | 10.090    |  72.23431 |  51.25128 | 138.3119  | 194.9388  | 373.2624  | \n",
       "|  7.290    | 19.34     | 10.130    |  73.84770 |  53.14410 | 140.9886  | 195.9142  | 374.0356  | \n",
       "|  7.329    | 19.66     | 10.240    |  75.04896 |  53.71424 | 144.0881  | 201.3184  | 386.5156  | \n",
       "|  7.420    | 19.74     | 10.320    |  76.57440 |  55.05640 | 146.4708  | 203.7168  | 389.6676  | \n",
       "|  7.606    | 19.88     | 10.340    |  78.64604 |  57.85124 | 151.2073  | 205.5592  | 395.2144  | \n",
       "|  7.672    | 19.95     | 10.550    |  80.93960 |  58.85958 | 153.0564  | 210.4725  | 398.0025  | \n",
       "|  7.686    | 20.40     | 10.680    |  82.08648 |  59.07460 | 156.7944  | 217.8720  | 416.1600  | \n",
       "|  7.825    | 20.40     | 10.830    |  84.74475 |  61.23063 | 159.6300  | 220.9320  | 416.1600  | \n",
       "|  7.903    | 20.48     | 11.110    |  87.80233 |  62.45741 | 161.8534  | 227.5328  | 419.4304  | \n",
       "|  8.315    | 20.63     | 11.130    |  92.54595 |  69.13922 | 171.5384  | 229.6119  | 425.5969  | \n",
       "|  8.367    | 20.95     | 11.290    |  94.46343 |  70.00669 | 175.2887  | 236.5255  | 438.9025  | \n",
       "|  8.494    | 21.15     | 11.440    |  97.17136 |  72.14804 | 179.6481  | 241.9560  | 447.3225  | \n",
       "|  8.825    | 21.27     | 11.460    | 101.13450 |  77.88062 | 187.7077  | 243.7542  | 452.4129  | \n",
       "|  9.084    | 21.72     | 11.590    | 105.28356 |  82.51906 | 197.3045  | 251.7348  | 471.7584  | \n",
       "|  9.189    | 22.24     | 11.650    | 107.05185 |  84.43772 | 204.3634  | 259.0960  | 494.6176  | \n",
       "|  9.336    | 22.46     | 11.730    | 109.51128 |  87.16090 | 209.6866  | 263.4558  | 504.4516  | \n",
       "|  9.646    | 22.47     | 11.870    | 114.49802 |  93.04532 | 216.7456  | 266.7189  | 504.9009  | \n",
       "| 10.590    | 22.86     | 11.890    | 125.91510 | 112.14810 | 242.0874  | 271.8054  | 522.5796  | \n",
       "| 10.950    | 25.30     | 12.310    | 134.79450 | 119.90250 | 277.0350  | 311.4430  | 640.0900  | \n",
       "\n",
       "\n"
      ],
      "text/plain": [
       "   X1     X2    Y      X1Y       X1_2      X1X2     X2Y      X2_2    \n",
       "1   6.482 15.75  8.893  57.64443  42.01632 102.0915 140.0648 248.0625\n",
       "2   6.785 17.86  9.319  63.22942  46.03623 121.1801 166.4373 318.9796\n",
       "3   6.880 18.42  9.338  64.24544  47.33440 126.7296 172.0060 339.2964\n",
       "4   6.890 18.44  9.548  65.78572  47.47210 127.0516 176.0651 340.0336\n",
       "5   6.929 18.61 10.090  69.91361  48.01104 128.9487 187.7749 346.3321\n",
       "6   7.159 19.32 10.090  72.23431  51.25128 138.3119 194.9388 373.2624\n",
       "7   7.290 19.34 10.130  73.84770  53.14410 140.9886 195.9142 374.0356\n",
       "8   7.329 19.66 10.240  75.04896  53.71424 144.0881 201.3184 386.5156\n",
       "9   7.420 19.74 10.320  76.57440  55.05640 146.4708 203.7168 389.6676\n",
       "10  7.606 19.88 10.340  78.64604  57.85124 151.2073 205.5592 395.2144\n",
       "11  7.672 19.95 10.550  80.93960  58.85958 153.0564 210.4725 398.0025\n",
       "12  7.686 20.40 10.680  82.08648  59.07460 156.7944 217.8720 416.1600\n",
       "13  7.825 20.40 10.830  84.74475  61.23063 159.6300 220.9320 416.1600\n",
       "14  7.903 20.48 11.110  87.80233  62.45741 161.8534 227.5328 419.4304\n",
       "15  8.315 20.63 11.130  92.54595  69.13922 171.5384 229.6119 425.5969\n",
       "16  8.367 20.95 11.290  94.46343  70.00669 175.2887 236.5255 438.9025\n",
       "17  8.494 21.15 11.440  97.17136  72.14804 179.6481 241.9560 447.3225\n",
       "18  8.825 21.27 11.460 101.13450  77.88062 187.7077 243.7542 452.4129\n",
       "19  9.084 21.72 11.590 105.28356  82.51906 197.3045 251.7348 471.7584\n",
       "20  9.189 22.24 11.650 107.05185  84.43772 204.3634 259.0960 494.6176\n",
       "21  9.336 22.46 11.730 109.51128  87.16090 209.6866 263.4558 504.4516\n",
       "22  9.646 22.47 11.870 114.49802  93.04532 216.7456 266.7189 504.9009\n",
       "23 10.590 22.86 11.890 125.91510 112.14810 242.0874 271.8054 522.5796\n",
       "24 10.950 25.30 12.310 134.79450 119.90250 277.0350 311.4430 640.0900"
      ]
     },
     "metadata": {},
     "output_type": "display_data"
    }
   ],
   "source": [
    "df"
   ]
  },
  {
   "cell_type": "code",
   "execution_count": 15,
   "metadata": {
    "scrolled": false
   },
   "outputs": [
    {
     "data": {
      "text/html": [
       "<table>\n",
       "<thead><tr><th></th><th scope=col>X1</th><th scope=col>X2</th><th scope=col>Y</th><th scope=col>X1Y</th><th scope=col>X1_2</th><th scope=col>X1X2</th><th scope=col>X2Y</th><th scope=col>X2_2</th></tr></thead>\n",
       "<tbody>\n",
       "\t<tr><th scope=row>X1</th><td>1.0000000</td><td>0.9492427</td><td>0.9317615</td><td>0.9959509</td><td>0.9971713</td><td>0.9940356</td><td>0.9636500</td><td>0.9597268</td></tr>\n",
       "\t<tr><th scope=row>X2</th><td>0.9492427</td><td>1.0000000</td><td>0.9565700</td><td>0.9626380</td><td>0.9358910</td><td>0.9719109</td><td>0.9912137</td><td>0.9970172</td></tr>\n",
       "\t<tr><th scope=row>Y</th><td>0.9317615</td><td>0.9565700</td><td>1.0000000</td><td>0.9596883</td><td>0.9053110</td><td>0.9338626</td><td>0.9833782</td><td>0.9460781</td></tr>\n",
       "\t<tr><th scope=row>X1Y</th><td>0.9959509</td><td>0.9626380</td><td>0.9596883</td><td>1.0000000</td><td>0.9879711</td><td>0.9926250</td><td>0.9809070</td><td>0.9691917</td></tr>\n",
       "\t<tr><th scope=row>X1_2</th><td>0.9971713</td><td>0.9358910</td><td>0.9053110</td><td>0.9879711</td><td>1.0000000</td><td>0.9919732</td><td>0.9473114</td><td>0.9511165</td></tr>\n",
       "\t<tr><th scope=row>X1X2</th><td>0.9940356</td><td>0.9719109</td><td>0.9338626</td><td>0.9926250</td><td>0.9919732</td><td>1.0000000</td><td>0.9761705</td><td>0.9824340</td></tr>\n",
       "\t<tr><th scope=row>X2Y</th><td>0.9636500</td><td>0.9912137</td><td>0.9833782</td><td>0.9809070</td><td>0.9473114</td><td>0.9761705</td><td>1.0000000</td><td>0.9889255</td></tr>\n",
       "\t<tr><th scope=row>X2_2</th><td>0.9597268</td><td>0.9970172</td><td>0.9460781</td><td>0.9691917</td><td>0.9511165</td><td>0.9824340</td><td>0.9889255</td><td>1.0000000</td></tr>\n",
       "</tbody>\n",
       "</table>\n"
      ],
      "text/latex": [
       "\\begin{tabular}{r|llllllll}\n",
       "  & X1 & X2 & Y & X1Y & X1\\_2 & X1X2 & X2Y & X2\\_2\\\\\n",
       "\\hline\n",
       "\tX1 & 1.0000000 & 0.9492427 & 0.9317615 & 0.9959509 & 0.9971713 & 0.9940356 & 0.9636500 & 0.9597268\\\\\n",
       "\tX2 & 0.9492427 & 1.0000000 & 0.9565700 & 0.9626380 & 0.9358910 & 0.9719109 & 0.9912137 & 0.9970172\\\\\n",
       "\tY & 0.9317615 & 0.9565700 & 1.0000000 & 0.9596883 & 0.9053110 & 0.9338626 & 0.9833782 & 0.9460781\\\\\n",
       "\tX1Y & 0.9959509 & 0.9626380 & 0.9596883 & 1.0000000 & 0.9879711 & 0.9926250 & 0.9809070 & 0.9691917\\\\\n",
       "\tX1\\_2 & 0.9971713 & 0.9358910 & 0.9053110 & 0.9879711 & 1.0000000 & 0.9919732 & 0.9473114 & 0.9511165\\\\\n",
       "\tX1X2 & 0.9940356 & 0.9719109 & 0.9338626 & 0.9926250 & 0.9919732 & 1.0000000 & 0.9761705 & 0.9824340\\\\\n",
       "\tX2Y & 0.9636500 & 0.9912137 & 0.9833782 & 0.9809070 & 0.9473114 & 0.9761705 & 1.0000000 & 0.9889255\\\\\n",
       "\tX2\\_2 & 0.9597268 & 0.9970172 & 0.9460781 & 0.9691917 & 0.9511165 & 0.9824340 & 0.9889255 & 1.0000000\\\\\n",
       "\\end{tabular}\n"
      ],
      "text/markdown": [
       "\n",
       "| <!--/--> | X1 | X2 | Y | X1Y | X1_2 | X1X2 | X2Y | X2_2 | \n",
       "|---|---|---|---|---|---|---|---|\n",
       "| X1 | 1.0000000 | 0.9492427 | 0.9317615 | 0.9959509 | 0.9971713 | 0.9940356 | 0.9636500 | 0.9597268 | \n",
       "| X2 | 0.9492427 | 1.0000000 | 0.9565700 | 0.9626380 | 0.9358910 | 0.9719109 | 0.9912137 | 0.9970172 | \n",
       "| Y | 0.9317615 | 0.9565700 | 1.0000000 | 0.9596883 | 0.9053110 | 0.9338626 | 0.9833782 | 0.9460781 | \n",
       "| X1Y | 0.9959509 | 0.9626380 | 0.9596883 | 1.0000000 | 0.9879711 | 0.9926250 | 0.9809070 | 0.9691917 | \n",
       "| X1_2 | 0.9971713 | 0.9358910 | 0.9053110 | 0.9879711 | 1.0000000 | 0.9919732 | 0.9473114 | 0.9511165 | \n",
       "| X1X2 | 0.9940356 | 0.9719109 | 0.9338626 | 0.9926250 | 0.9919732 | 1.0000000 | 0.9761705 | 0.9824340 | \n",
       "| X2Y | 0.9636500 | 0.9912137 | 0.9833782 | 0.9809070 | 0.9473114 | 0.9761705 | 1.0000000 | 0.9889255 | \n",
       "| X2_2 | 0.9597268 | 0.9970172 | 0.9460781 | 0.9691917 | 0.9511165 | 0.9824340 | 0.9889255 | 1.0000000 | \n",
       "\n",
       "\n"
      ],
      "text/plain": [
       "     X1        X2        Y         X1Y       X1_2      X1X2      X2Y      \n",
       "X1   1.0000000 0.9492427 0.9317615 0.9959509 0.9971713 0.9940356 0.9636500\n",
       "X2   0.9492427 1.0000000 0.9565700 0.9626380 0.9358910 0.9719109 0.9912137\n",
       "Y    0.9317615 0.9565700 1.0000000 0.9596883 0.9053110 0.9338626 0.9833782\n",
       "X1Y  0.9959509 0.9626380 0.9596883 1.0000000 0.9879711 0.9926250 0.9809070\n",
       "X1_2 0.9971713 0.9358910 0.9053110 0.9879711 1.0000000 0.9919732 0.9473114\n",
       "X1X2 0.9940356 0.9719109 0.9338626 0.9926250 0.9919732 1.0000000 0.9761705\n",
       "X2Y  0.9636500 0.9912137 0.9833782 0.9809070 0.9473114 0.9761705 1.0000000\n",
       "X2_2 0.9597268 0.9970172 0.9460781 0.9691917 0.9511165 0.9824340 0.9889255\n",
       "     X2_2     \n",
       "X1   0.9597268\n",
       "X2   0.9970172\n",
       "Y    0.9460781\n",
       "X1Y  0.9691917\n",
       "X1_2 0.9511165\n",
       "X1X2 0.9824340\n",
       "X2Y  0.9889255\n",
       "X2_2 1.0000000"
      ]
     },
     "metadata": {},
     "output_type": "display_data"
    }
   ],
   "source": [
    "cor(df)"
   ]
  },
  {
   "cell_type": "code",
   "execution_count": 16,
   "metadata": {},
   "outputs": [
    {
     "data": {
      "text/html": [
       "<table>\n",
       "<thead><tr><th></th><th scope=col>X1</th><th scope=col>X2</th><th scope=col>Y</th><th scope=col>X1Y</th><th scope=col>X1_2</th><th scope=col>X1X2</th><th scope=col>X2Y</th><th scope=col>X2_2</th></tr></thead>\n",
       "<tbody>\n",
       "\t<tr><th scope=row>X1</th><td> 1.442290 </td><td>  2.232180</td><td> 1.0398970</td><td>  24.46496</td><td>  24.77377</td><td>  49.20999</td><td>  45.63762</td><td>  92.86012</td></tr>\n",
       "\t<tr><th scope=row>X2</th><td> 2.232180 </td><td>  3.833993</td><td> 1.7406107</td><td>  38.55395</td><td>  37.90940</td><td>  78.44715</td><td>  76.53680</td><td> 157.28365</td></tr>\n",
       "\t<tr><th scope=row>Y</th><td> 1.039897 </td><td>  1.740611</td><td> 0.8636115</td><td>  18.24188</td><td>  17.40415</td><td>  35.77398</td><td>  36.03771</td><td>  70.83395</td></tr>\n",
       "\t<tr><th scope=row>X1Y</th><td>24.464955 </td><td> 38.553947</td><td>18.2418783</td><td> 418.36977</td><td> 418.04236</td><td> 836.93240</td><td> 791.19831</td><td>1597.14778</td></tr>\n",
       "\t<tr><th scope=row>X1_2</th><td>24.773765 </td><td> 37.909396</td><td>17.4041535</td><td> 418.04236</td><td> 427.94878</td><td> 845.90358</td><td> 772.79809</td><td>1585.20289</td></tr>\n",
       "\t<tr><th scope=row>X1X2</th><td>49.209993 </td><td> 78.447145</td><td>35.7739751</td><td> 836.93240</td><td> 845.90358</td><td>1699.22169</td><td>1586.82145</td><td>3262.74902</td></tr>\n",
       "\t<tr><th scope=row>X2Y</th><td>45.637625 </td><td> 76.536804</td><td>36.0377061</td><td> 791.19831</td><td> 772.79809</td><td>1586.82145</td><td>1555.08713</td><td>3141.92770</td></tr>\n",
       "\t<tr><th scope=row>X2_2</th><td>92.860120 </td><td>157.283655</td><td>70.8339532</td><td>1597.14778</td><td>1585.20289</td><td>3262.74902</td><td>3141.92770</td><td>6490.98382</td></tr>\n",
       "</tbody>\n",
       "</table>\n"
      ],
      "text/latex": [
       "\\begin{tabular}{r|llllllll}\n",
       "  & X1 & X2 & Y & X1Y & X1\\_2 & X1X2 & X2Y & X2\\_2\\\\\n",
       "\\hline\n",
       "\tX1 &  1.442290  &   2.232180 &  1.0398970 &   24.46496 &   24.77377 &   49.20999 &   45.63762 &   92.86012\\\\\n",
       "\tX2 &  2.232180  &   3.833993 &  1.7406107 &   38.55395 &   37.90940 &   78.44715 &   76.53680 &  157.28365\\\\\n",
       "\tY &  1.039897  &   1.740611 &  0.8636115 &   18.24188 &   17.40415 &   35.77398 &   36.03771 &   70.83395\\\\\n",
       "\tX1Y & 24.464955  &  38.553947 & 18.2418783 &  418.36977 &  418.04236 &  836.93240 &  791.19831 & 1597.14778\\\\\n",
       "\tX1\\_2 & 24.773765  &  37.909396 & 17.4041535 &  418.04236 &  427.94878 &  845.90358 &  772.79809 & 1585.20289\\\\\n",
       "\tX1X2 & 49.209993  &  78.447145 & 35.7739751 &  836.93240 &  845.90358 & 1699.22169 & 1586.82145 & 3262.74902\\\\\n",
       "\tX2Y & 45.637625  &  76.536804 & 36.0377061 &  791.19831 &  772.79809 & 1586.82145 & 1555.08713 & 3141.92770\\\\\n",
       "\tX2\\_2 & 92.860120  & 157.283655 & 70.8339532 & 1597.14778 & 1585.20289 & 3262.74902 & 3141.92770 & 6490.98382\\\\\n",
       "\\end{tabular}\n"
      ],
      "text/markdown": [
       "\n",
       "| <!--/--> | X1 | X2 | Y | X1Y | X1_2 | X1X2 | X2Y | X2_2 | \n",
       "|---|---|---|---|---|---|---|---|\n",
       "| X1 |  1.442290  |   2.232180 |  1.0398970 |   24.46496 |   24.77377 |   49.20999 |   45.63762 |   92.86012 | \n",
       "| X2 |  2.232180  |   3.833993 |  1.7406107 |   38.55395 |   37.90940 |   78.44715 |   76.53680 |  157.28365 | \n",
       "| Y |  1.039897  |   1.740611 |  0.8636115 |   18.24188 |   17.40415 |   35.77398 |   36.03771 |   70.83395 | \n",
       "| X1Y | 24.464955  |  38.553947 | 18.2418783 |  418.36977 |  418.04236 |  836.93240 |  791.19831 | 1597.14778 | \n",
       "| X1_2 | 24.773765  |  37.909396 | 17.4041535 |  418.04236 |  427.94878 |  845.90358 |  772.79809 | 1585.20289 | \n",
       "| X1X2 | 49.209993  |  78.447145 | 35.7739751 |  836.93240 |  845.90358 | 1699.22169 | 1586.82145 | 3262.74902 | \n",
       "| X2Y | 45.637625  |  76.536804 | 36.0377061 |  791.19831 |  772.79809 | 1586.82145 | 1555.08713 | 3141.92770 | \n",
       "| X2_2 | 92.860120  | 157.283655 | 70.8339532 | 1597.14778 | 1585.20289 | 3262.74902 | 3141.92770 | 6490.98382 | \n",
       "\n",
       "\n"
      ],
      "text/plain": [
       "     X1        X2         Y          X1Y        X1_2       X1X2      \n",
       "X1    1.442290   2.232180  1.0398970   24.46496   24.77377   49.20999\n",
       "X2    2.232180   3.833993  1.7406107   38.55395   37.90940   78.44715\n",
       "Y     1.039897   1.740611  0.8636115   18.24188   17.40415   35.77398\n",
       "X1Y  24.464955  38.553947 18.2418783  418.36977  418.04236  836.93240\n",
       "X1_2 24.773765  37.909396 17.4041535  418.04236  427.94878  845.90358\n",
       "X1X2 49.209993  78.447145 35.7739751  836.93240  845.90358 1699.22169\n",
       "X2Y  45.637625  76.536804 36.0377061  791.19831  772.79809 1586.82145\n",
       "X2_2 92.860120 157.283655 70.8339532 1597.14778 1585.20289 3262.74902\n",
       "     X2Y        X2_2      \n",
       "X1     45.63762   92.86012\n",
       "X2     76.53680  157.28365\n",
       "Y      36.03771   70.83395\n",
       "X1Y   791.19831 1597.14778\n",
       "X1_2  772.79809 1585.20289\n",
       "X1X2 1586.82145 3262.74902\n",
       "X2Y  1555.08713 3141.92770\n",
       "X2_2 3141.92770 6490.98382"
      ]
     },
     "metadata": {},
     "output_type": "display_data"
    }
   ],
   "source": [
    "var(df)"
   ]
  },
  {
   "cell_type": "code",
   "execution_count": 20,
   "metadata": {},
   "outputs": [
    {
     "data": {
      "image/png": "[encoded data removed]",
      "text/plain": [
       "plot without title"
      ]
     },
     "metadata": {},
     "output_type": "display_data"
    }
   ],
   "source": [
    "plot(var(df))"
   ]
  },
  {
   "cell_type": "code",
   "execution_count": null,
   "metadata": {},
   "outputs": [],
   "source": []
  }
 ],
 "metadata": {
  "kernelspec": {
   "display_name": "R",
   "language": "R",
   "name": "ir"
  },
  "language_info": {
   "codemirror_mode": "r",
   "file_extension": ".r",
   "mimetype": "text/x-r-source",
   "name": "R",
   "pygments_lexer": "r",
   "version": "3.5.0"
  }
 },
 "nbformat": 4,
 "nbformat_minor": 2
}
