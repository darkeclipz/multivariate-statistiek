{
 "cells": [
  {
   "cell_type": "code",
   "execution_count": 77,
   "metadata": {},
   "outputs": [],
   "source": [
    "Y = c(9.605,10.20,10.28,10.37,10.49,10.52,10.78,10.82,10.91,11.20,11.30,11.43,11.43,11.54,11.60,11.62,11.67,11.75,11.98,12.00,12.10,12.31,12.66,12.86)\n",
    "X1 = c(6.354,6.730,6.973,7.192,7.231,7.340,7.367,7.832,7.916,7.923,7.954,7.993,8.241,8.340,8.403,8.431,8.510,8.618,8.877,8.894,9.200,9.334,9.508,9.613)\n",
    "X2 = c(13.89,16.05,18.28,18.92,19.37,19.49,19.64,19.67,19.94,20.17,20.18,20.46,20.66,20.66,20.77,21.01,21.18,21.30,21.67,21.90,22.21,22.49,22.99,24.98)"
   ]
  },
  {
   "cell_type": "code",
   "execution_count": 78,
   "metadata": {},
   "outputs": [],
   "source": [
    "df = data.frame(X1,X2,Y)"
   ]
  },
  {
   "cell_type": "code",
   "execution_count": 79,
   "metadata": {},
   "outputs": [
    {
     "data": {
      "text/plain": [
       "\n",
       "Call:\n",
       "lm(formula = Y ~ X1 + X2)\n",
       "\n",
       "Residuals:\n",
       "      Min        1Q    Median        3Q       Max \n",
       "-0.230008 -0.063153  0.003029  0.066308  0.215594 \n",
       "\n",
       "Coefficients:\n",
       "            Estimate Std. Error t value Pr(>|t|)    \n",
       "(Intercept)  3.82552    0.24269  15.763 4.12e-13 ***\n",
       "X1           0.81898    0.08278   9.894 2.33e-09 ***\n",
       "X2           0.04119    0.03313   1.243    0.227    \n",
       "---\n",
       "Signif. codes:  0 '***' 0.001 '**' 0.01 '*' 0.05 '.' 0.1 ' ' 1\n",
       "\n",
       "Residual standard error: 0.124 on 21 degrees of freedom\n",
       "Multiple R-squared:  0.9791,\tAdjusted R-squared:  0.9771 \n",
       "F-statistic: 491.3 on 2 and 21 DF,  p-value: < 2.2e-16\n"
      ]
     },
     "metadata": {},
     "output_type": "display_data"
    }
   ],
   "source": [
    "fit = lm(Y~X1+X2)\n",
    "summary(fit)"
   ]
  },
  {
   "cell_type": "code",
   "execution_count": 82,
   "metadata": {
    "scrolled": true
   },
   "outputs": [
    {
     "data": {
      "text/html": [
       "<dl class=dl-horizontal>\n",
       "\t<dt>(Intercept)</dt>\n",
       "\t\t<dd>3.82551965347638</dd>\n",
       "\t<dt>X1</dt>\n",
       "\t\t<dd>0.818977321504394</dd>\n",
       "\t<dt>X2</dt>\n",
       "\t\t<dd>0.0411925873121873</dd>\n",
       "</dl>\n"
      ],
      "text/latex": [
       "\\begin{description*}\n",
       "\\item[(Intercept)] 3.82551965347638\n",
       "\\item[X1] 0.818977321504394\n",
       "\\item[X2] 0.0411925873121873\n",
       "\\end{description*}\n"
      ],
      "text/markdown": [
       "(Intercept)\n",
       ":   3.82551965347638X1\n",
       ":   0.818977321504394X2\n",
       ":   0.0411925873121873\n",
       "\n"
      ],
      "text/plain": [
       "(Intercept)          X1          X2 \n",
       " 3.82551965  0.81897732  0.04119259 "
      ]
     },
     "metadata": {},
     "output_type": "display_data"
    }
   ],
   "source": [
    "fit$coefficients"
   ]
  },
  {
   "cell_type": "code",
   "execution_count": 80,
   "metadata": {},
   "outputs": [
    {
     "data": {
      "text/html": [
       "0.0140405076149368"
      ],
      "text/latex": [
       "0.0140405076149368"
      ],
      "text/markdown": [
       "0.0140405076149368"
      ],
      "text/plain": [
       "[1] 0.01404051"
      ]
     },
     "metadata": {},
     "output_type": "display_data"
    }
   ],
   "source": [
    "sum((fit$residuals - mean(fit$residuals))^2) / 23"
   ]
  },
  {
   "cell_type": "code",
   "execution_count": 81,
   "metadata": {},
   "outputs": [
    {
     "data": {
      "text/html": [
       "0.0140405076149368"
      ],
      "text/latex": [
       "0.0140405076149368"
      ],
      "text/markdown": [
       "0.0140405076149368"
      ],
      "text/plain": [
       "[1] 0.01404051"
      ]
     },
     "metadata": {},
     "output_type": "display_data"
    }
   ],
   "source": [
    "var(fit$residuals)"
   ]
  },
  {
   "cell_type": "code",
   "execution_count": 83,
   "metadata": {},
   "outputs": [
    {
     "data": {
      "text/html": [
       "<strong>(Intercept):</strong> 11.2423825590675"
      ],
      "text/latex": [
       "\\textbf{(Intercept):} 11.2423825590675"
      ],
      "text/markdown": [
       "**(Intercept):** 11.2423825590675"
      ],
      "text/plain": [
       "(Intercept) \n",
       "   11.24238 "
      ]
     },
     "metadata": {},
     "output_type": "display_data"
    }
   ],
   "source": [
    "fit$coefficients[1] + fit$coefficients[2] * 8 + fit$coefficients[3] * 21"
   ]
  },
  {
   "cell_type": "code",
   "execution_count": 84,
   "metadata": {},
   "outputs": [
    {
     "data": {
      "text/html": [
       "0.819133041829831"
      ],
      "text/latex": [
       "0.819133041829831"
      ],
      "text/markdown": [
       "0.819133041829831"
      ],
      "text/plain": [
       "[1] 0.819133"
      ]
     },
     "metadata": {},
     "output_type": "display_data"
    },
    {
     "data": {
      "text/html": [
       "0.884844221940478"
      ],
      "text/latex": [
       "0.884844221940478"
      ],
      "text/markdown": [
       "0.884844221940478"
      ],
      "text/plain": [
       "[1] 0.8848442"
      ]
     },
     "metadata": {},
     "output_type": "display_data"
    },
    {
     "data": {
      "text/html": [
       "2.21098377998626"
      ],
      "text/latex": [
       "2.21098377998626"
      ],
      "text/markdown": [
       "2.21098377998626"
      ],
      "text/plain": [
       "[1] 2.210984"
      ]
     },
     "metadata": {},
     "output_type": "display_data"
    }
   ],
   "source": [
    "sd(Y)\n",
    "sd(X1)\n",
    "sd(X2)"
   ]
  },
  {
   "cell_type": "code",
   "execution_count": 85,
   "metadata": {},
   "outputs": [
    {
     "data": {
      "text/html": [
       "0.988703143704232"
      ],
      "text/latex": [
       "0.988703143704232"
      ],
      "text/markdown": [
       "0.988703143704232"
      ],
      "text/plain": [
       "[1] 0.9887031"
      ]
     },
     "metadata": {},
     "output_type": "display_data"
    }
   ],
   "source": [
    "cor(Y, X1)"
   ]
  },
  {
   "cell_type": "code",
   "execution_count": 86,
   "metadata": {},
   "outputs": [
    {
     "data": {
      "text/html": [
       "0.938900782688856"
      ],
      "text/latex": [
       "0.938900782688856"
      ],
      "text/markdown": [
       "0.938900782688856"
      ],
      "text/plain": [
       "[1] 0.9389008"
      ]
     },
     "metadata": {},
     "output_type": "display_data"
    }
   ],
   "source": [
    "cor(Y, X2)"
   ]
  },
  {
   "cell_type": "code",
   "execution_count": 87,
   "metadata": {
    "scrolled": true
   },
   "outputs": [
    {
     "data": {
      "text/html": [
       "0.935613438245323"
      ],
      "text/latex": [
       "0.935613438245323"
      ],
      "text/markdown": [
       "0.935613438245323"
      ],
      "text/plain": [
       "[1] 0.9356134"
      ]
     },
     "metadata": {},
     "output_type": "display_data"
    }
   ],
   "source": [
    "cor(X1, X2)"
   ]
  },
  {
   "cell_type": "code",
   "execution_count": 88,
   "metadata": {},
   "outputs": [
    {
     "data": {
      "text/html": [
       "24"
      ],
      "text/latex": [
       "24"
      ],
      "text/markdown": [
       "24"
      ],
      "text/plain": [
       "[1] 24"
      ]
     },
     "metadata": {},
     "output_type": "display_data"
    }
   ],
   "source": [
    "n = length(X1)\n",
    "n"
   ]
  },
  {
   "cell_type": "code",
   "execution_count": 89,
   "metadata": {},
   "outputs": [],
   "source": [
    "v = n - 3\n",
    "alpha = 0.05"
   ]
  },
  {
   "cell_type": "code",
   "execution_count": 90,
   "metadata": {},
   "outputs": [
    {
     "data": {
      "text/html": [
       "2.07961384472768"
      ],
      "text/latex": [
       "2.07961384472768"
      ],
      "text/markdown": [
       "2.07961384472768"
      ],
      "text/plain": [
       "[1] 2.079614"
      ]
     },
     "metadata": {},
     "output_type": "display_data"
    }
   ],
   "source": [
    "qt(1-alpha/2, v)"
   ]
  },
  {
   "cell_type": "code",
   "execution_count": 94,
   "metadata": {},
   "outputs": [
    {
     "data": {
      "text/html": [
       "0.999999998832932"
      ],
      "text/latex": [
       "0.999999998832932"
      ],
      "text/markdown": [
       "0.999999998832932"
      ],
      "text/plain": [
       "[1] 1"
      ]
     },
     "metadata": {},
     "output_type": "display_data"
    }
   ],
   "source": [
    "pt(9.894, 21)"
   ]
  },
  {
   "cell_type": "code",
   "execution_count": 95,
   "metadata": {},
   "outputs": [
    {
     "data": {
      "text/html": [
       "0.113783856902417"
      ],
      "text/latex": [
       "0.113783856902417"
      ],
      "text/markdown": [
       "0.113783856902417"
      ],
      "text/plain": [
       "[1] 0.1137839"
      ]
     },
     "metadata": {},
     "output_type": "display_data"
    }
   ],
   "source": [
    "1-pt(1.243, 21)"
   ]
  },
  {
   "cell_type": "code",
   "execution_count": null,
   "metadata": {},
   "outputs": [],
   "source": []
  }
 ],
 "metadata": {
  "kernelspec": {
   "display_name": "R",
   "language": "R",
   "name": "ir"
  },
  "language_info": {
   "codemirror_mode": "r",
   "file_extension": ".r",
   "mimetype": "text/x-r-source",
   "name": "R",
   "pygments_lexer": "r",
   "version": "3.5.0"
  }
 },
 "nbformat": 4,
 "nbformat_minor": 2
}
