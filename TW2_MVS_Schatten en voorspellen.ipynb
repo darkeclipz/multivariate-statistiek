{
 "cells": [
  {
   "cell_type": "markdown",
   "metadata": {},
   "source": [
    "# TW2 MWS Week 2\n",
    "\n",
    "Variantie van de storingsterm\n",
    "\n",
    "ref: \n",
    "[1] Arie Buijs (2012). \"Statistiek om mee te werken\". 13.3.1 Variantie van de storingsterm.\n",
    "\n",
    "\n",
    "R-code"
   ]
  },
  {
   "cell_type": "markdown",
   "metadata": {},
   "source": [
    "```r\n",
    "\n",
    "# data invoeren\n",
    "X<-c(12,2,3,5,10,9,8)\n",
    "Y<-c(125,30,43,62,108,102,90)\n",
    "n<-length(X)\n",
    "one<-rep(1,7)\n",
    "# matrix vergelijking\n",
    "A<-cbind(X,one)\n",
    "b<-Y\n",
    "# laden library met matrixinverse\n",
    "library(MASS)\n",
    "# oplossing geeft vector met coefficienten a en b\n",
    "oplossing<-(ginv(t(A) %*% A) %*% t(A) %*% b)\n",
    "# storingsterm (fout) bepalen\n",
    "error<-A %*% oplossing-b\n",
    "# deze foutenvector geeft per datapuntje het verschil met de best passende lijn\n",
    "# de variantie van de stroingsterm wordt geschat door de grootheid S[error]^2 (SE2), formule zie Buijs [1] p.382.\n",
    "SE2<-(t(error) %*% error)/(n-2)\n",
    "STDV2=sqrt(SE2)\n",
    "# Q: wat is de interpretatie van dit getal?\n",
    "\n",
    "2. Quick and dirty:\n",
    "# data invoeren\n",
    "X<-c(12,2,3,5,10,9,8)\n",
    "Y<-c(125,30,43,62,108,102,90)\n",
    "# kleinste kwadraten methode laten uivoeren door R:\n",
    "lm(Y~X)\n",
    "# Q: Wat is de betekenis van deze twee getallen?\n",
    "# volgende stap is het bepalen van de fout van de benadering:\n",
    "summary(lm(Y~X))\n",
    "# Let vooral op de Residual standard error!\n",
    "# Wiskunde is leuk en educatief\n",
    "\n",
    "+++++++++++++++++++++\n",
    "\n",
    "TW2\n",
    "\n",
    "Schatten en voorspellen\n",
    "\n",
    "reference: \n",
    "[1] Arie Buijs (2012). \"Statistiek om mee te werken\". 13.3.2. Twee intervallen.\n",
    "\n",
    "R-code\n",
    "\n",
    "1. By hand:\n",
    "\n",
    "X<-matrix(c(52,63,78,101,90,104,72))\n",
    "Y<-matrix(c(250,305,358,449,401,466,340))\n",
    "n<-length(X)\n",
    "#famous five:\n",
    "sum(X)\n",
    "sum(X^2)\t#SSX\n",
    "sum(Y)\n",
    "sum(Y^2)\t#SSY\n",
    "sum(X*Y)\t#SSXY\n",
    "# toewijzen mighty five aan variabelen\n",
    "SSX<-sum(X^2)\n",
    "SSY<-sum(Y^2)\n",
    "SSXY<-sum(X*Y)\n",
    "# richtingscoefficient bepalen: \n",
    "Sxis<-sum((X-mean(X))^2)\n",
    "Sxiyi<-sum((X-mean(X))*(Y-mean(Y)))\n",
    "rc<-Sxiyi/Sxis\n",
    "# startgetal (intercept) bepalen\n",
    "intercept<-mean(Y)-rc*mean(X)\n",
    "# Q: wat is de vergelijking van de best passende lijn?\n",
    "# voorspelling bij gegeven waarde\n",
    "x=70\n",
    "y<-intercept+rc*x\n",
    "# variantie van de storingsterm\n",
    "varSe<-(sum(Y^2)-intercept*sum(Y)-rc*t(X)%*%Y)/(n-2)\n",
    "varSe\n",
    "stdvSe<-sqrt(varSe)\n",
    "stdvSe\n",
    "# bepalen van 95% betrouwbaarheidsinterval rond gegeven waarde van x\n",
    "# stap 1: bepaal de standaardafwijking voor gegeven x\n",
    "stdvx<-stdvSe*sqrt(1/n+(x-mean(X))^2/sum((X-mean(X))^2))\n",
    "# stap 2: bepaal t-waarde\n",
    "t<-qt(c(.975),df=5)\n",
    "# stap 3: bepaal betrouwbaarheidsinterval\n",
    "lower<-y-t*stdvx\n",
    "upper<-y+t*stdvx\n",
    "\n",
    "2. Quick and dirty\n",
    "X<-matrix(c(52,63,78,101,90,104,72))\n",
    "Y<-matrix(c(250,305,358,449,401,466,340))\n",
    "# regressielijn\n",
    "lm(Y~X)\n",
    "# schatting variantie storingsterm\n",
    "summary(lm(Y~X))\n",
    "# Q: Hoe groot is de variantie?\n",
    "# t.b.d.\n",
    "\n",
    "+++++++++++++++++++++\n",
    "\n",
    "TW2\n",
    "\n",
    "MVS\n",
    "\n",
    "Reference:\n",
    "[1] Michael J. Crawley (2013). \"The R-book\". Chapter 10 Regression.\n",
    "[2] Arie Buijs (2012). \"Statistiek om mee te werken\". 13.3 Schatten en voorspellen met de regressielijn\n",
    "\n",
    "\n",
    "R-code\n",
    "\n",
    "# 10.1 Linear regression\n",
    "\n",
    "# randomized data\n",
    "# X<-sort(rnorm(20,10,3))\n",
    "# Y<-sort(rnorm(20,50,6))\n",
    "# data tannin (X) & growth (Y) from the R-book\n",
    "X<-matrix(c(0,1,2,3,4,5,6,7,8))\n",
    "Y<-matrix(c(12,10,8,11,6,7,2,3,3))\n",
    "plot(X,Y)\n",
    "# find an objective method to determine the best estimates of the parameters\n",
    "# X = explanatory var; Y = response var; a = intercept; b = slope.\n",
    "# convenient method is Maximum Likelihood Estimates (MLE) --> Least Squares Method (LSM).\n",
    "# Assumptions: \n",
    "# ASU1: var(y) is constant\n",
    "# ASU2: explanatory var X without error\n",
    "# ASU3: residuals are measured on the scale of Y\n",
    "# ASU4: residuals are normally distributed. \n",
    "# now run the LSM to find the best fit\n",
    "model<-lm(Y~X)\n",
    "# richtingscoefficient bepalen: \n",
    "Sxis<-sum((X-mean(X))^2)\n",
    "Sxiyi<-sum((X-mean(X))*(Y-mean(Y)))\n",
    "rc<-Sxiyi/Sxis\n",
    "# startgetal (intercept) bepalen\n",
    "intercept<-mean(Y)-rc*mean(X)\n",
    "# plot the best fit and residuals\n",
    "abline(model,col=\"red\")\n",
    "yhat<-predict(model,X=X)\n",
    "# plot residuals\n",
    "join<-function(i)\n",
    "\tlines(c(X[i],X[i]),c(Y[i],yhat[i]),col=\"green\")\n",
    "sapply(1:20,join)\n",
    "# yhat predicted values for Y\n",
    "# now see how we find the minumium error.\n",
    "bs<-seq(rc-0.5,rc+0.5,0.01)\n",
    "SSE<-function(i) sum((Y-intercept-bs[i]*X)^2)\n",
    "plot(bs,sapply(1:length(bs),SSE),type=\"l\",ylim=c(25,160),\n",
    "\txlab=\"slobe b\",ylab=\"sum of squared residuals\",col=\"blue\")\n",
    "# adjust the ylim(..) accordingly. \n",
    "# Suggestion is to calculate sum of squares and use interval around it\n",
    "\n",
    "+++++++++++++++++++++\n",
    "\n",
    "#10.1.1 The famous five in R\n",
    "\n",
    "sum(X);sum(X^2);sum(Y);sum(Y^2);sum(X*Y);\n",
    "# or with matrix multiplication\n",
    "XY<-cbind(1,X,Y)\n",
    "t(XY) %*% XY\n",
    "# Q: what is the interpretation of these numbers?\n",
    "\n",
    "+++++++++++++++++++++\n",
    "\n",
    "#10.1.2 Corrected sums (..)\n",
    "\n",
    "SSX=sum((X-mean(X))^2)\n",
    "SSY=sum((Y-mean(Y))^2)\n",
    "SSXY=sum((X-mean(X))*(Y-mean(Y)))\n",
    "rc=SSXY/SSX\n",
    "intercept=mean(Y)-rc*mean(X)\n",
    "#check the results with LSM\n",
    "lm(Y~X)\n",
    "\n",
    "+++++++++++++++++++++\n",
    "\n",
    "#10.1.3 Degree of scatter\n",
    "\n",
    "# issue: two datasets with same intercept and slope can look quite different \n",
    "# aim is to quantify the degree of fit --> sum of squares of the residuals\n",
    "# better known as the error sum of squares SSE\n",
    "# SSE=sigma(y-a-bx)^2\n",
    "# be aware the \"lack of scatter\" is quantified with r, zero scatter giver r=1\n",
    "# SSY refers to total variation in the response variable\n",
    "# SSE is the unexplained variation in the response variable (Y)\n",
    "# SSY-SSE is the explained variation\n",
    "# r^2=(SSY-SSE)/SSE\n",
    "# sum of squares of the residuals:\n",
    "deviance(lm(Y~X))\n",
    "\n",
    "+++++++++++++++++++++\n",
    "\n",
    "#10.1.4 Analysis of variance in regression\n",
    "\n",
    "# SSR is the variation explained by the model or Regression Sum of Squares (SSR)\n",
    "SSR<-SSXY^2/SSX\n",
    "# SSE is the unexplained variation called the error sum of squares (SSE)\n",
    "SSE<-SSY-SSR\n",
    "# another way to calculate is:\n",
    "SSE1<-deviance(lm(Y~X))\n",
    "SSY1<-deviance(lm(Y~1))\n",
    "SSR1<-SSY1-SSE1\n",
    "# SSY df = n-1 because one parameter (yhat=mean(Y)) has to be estimated \n",
    "# SSE df = n-2 because has two estimated parameters, intercept and slope \n",
    "anova(lm(Y~X))\n",
    "# how to assess the F-ratio?\n",
    "# method 1\n",
    "# F-test, 1 df numerator and 7 df denumerator\n",
    "# uncertainty: alpha=0.05 --> certainty=0.95 and calculate the critical value (cv)\n",
    "cv<-qf(0.95,1,8)\n",
    "# F-value>>critical value --> reject H0\n",
    "# method 2\n",
    "# what is the probability of getting the calculated F-value (147.24)?\n",
    "1-pf(147.24,1,8)\n",
    "# p<0.001 so very unlikely indeed\n",
    "# p is the of obtaining a F-value greater than our calculated given H0 is true\n",
    "# Q: so H0 ..?\n",
    "  \n",
    "+++++++++++++++++++++\n",
    "\n",
    "#10.1.5 Unreliability estimates for the parameters\n",
    "\n",
    "# finding the slope and intercept is only hals the story\n",
    "# we need to measure the unreliability associated with each of the estimated parameters\n",
    "# so calculate the standard error of the slope and intercept\n",
    "# Standard error of the estimated slope\n",
    "# se[b]=sqrt(s^2/SSX)\n",
    "# uncertainty will increase with increasing variance and when range of x values is small, measure by SSX \n",
    "# uncertainty declines with increasing number of points\n",
    "# lets start with calculating the variance s^2, see Buijs 13.3.1, ref[2], n-2=7\n",
    "var<-(sum(Y^2)-intercept*sum(Y)-rc*sum(X*Y))/7\n",
    "# standard error of the slope (b)\n",
    "seb<-sqrt(var/SSX)\n",
    "# standard error of the intercept (a)\n",
    "sea<-sqrt(var*sum(X^2)/(9*SSX))\n",
    "# errors Quick And Dirty (QAD)\n",
    "summary(lm(Y~X))\n",
    "# find the errors sea & seb\n",
    "\n",
    "+++++++++++++++++++++\n",
    "\n",
    "#10.1.6 Prediction using the fitted model\n",
    "\n",
    "# good practice: safe results in named project\n",
    "model<-lm(Y~X)\n",
    "# predicting values\n",
    "predict(model,list(Y=5.5))\n",
    "\n",
    "+++++++++++++++++++++\n",
    "\n",
    "#10.1.7 Model checking\n",
    "\n",
    "# final thing: expose model to critical appraisal\n",
    "# be sure about consistancy of variance and normality of errors\n",
    "# how? model-checking plots\n",
    "windows(7,7)\n",
    "par(mfrow=c(2,2))\n",
    "plot(model)\n",
    "# interpretation of plots\n",
    "# plot 1: you do not want to see lots of structure or patern in the plot!\n",
    "# plot 2: shows the qqnorm-plot gives straight line for normally distributed errors\n",
    "# plot 3: identical to plot 1 on other scale\n",
    "\n",
    "+++++++++++++++++++++\n",
    "\n",
    "R-codes without comments:\n",
    "\n",
    "X<-matrix(c(0,1,2,3,4,5,6,7,8))\n",
    "Y<-matrix(c(12,10,8,11,6,7,2,3,3))\n",
    "plot(X,Y)\n",
    "model<-lm(Y~X)\n",
    "Sxis<-sum((X-mean(X))^2)\n",
    "Sxiyi<-sum((X-mean(X))*(Y-mean(Y)))\n",
    "rc<-Sxiyi/Sxis\n",
    "intercept<-mean(Y)-rc*mean(X)\n",
    "abline(model,col=\"red\")\n",
    "yhat<-predict(model,X=X)\n",
    "join<-function(i)\n",
    "\tlines(c(X[i],X[i]),c(Y[i],yhat[i]),col=\"green\")\n",
    "sapply(1:20,join)\n",
    "bs<-seq(rc-0.5,rc+0.5,0.01)\n",
    "SSE<-function(i) sum((Y-intercept-bs[i]*X)^2)\n",
    "plot(bs,sapply(1:length(bs),SSE),type=\"l\",ylim=c(25,160),\n",
    "\txlab=\"slobe b\",ylab=\"sum of squared residuals\",col=\"blue\")\n",
    "SSX=sum((X-mean(X))^2)\n",
    "SSY=sum((Y-mean(Y))^2)\n",
    "SSXY=sum((X-mean(X))*(Y-mean(Y)))\n",
    "rc=SSXY/SSX\n",
    "intercept=mean(Y)-rc*mean(X)\n",
    "#check the results with LSM\n",
    "lm(Y~X)\n",
    "deviance(lm(Y~X))\n",
    "SSR<-SSXY^2/SSX\n",
    "SSE<-SSY-SSR\n",
    "SSE1<-deviance(lm(Y~X))\n",
    "SSY1<-deviance(lm(Y~1))\n",
    "SSR1<-SSY1-SSE1\n",
    "anova(lm(Y~X))\n",
    "cv<-qf(0.95,1,7)\n",
    "1-pf(147.24,1,8)\n",
    "var<-(sum(Y^2)-intercept*sum(Y)-rc*sum(X*Y))/7\n",
    "seb<-sqrt(var/SSX)\n",
    "sea<-sqrt(var*sum(X^2)/(9*SSX))\n",
    "summary(lm(Y~X))\n",
    "\n",
    "+++++++++++++++++++++\n",
    "\n",
    "TW2\n",
    "\n",
    "MVS\n",
    "\n",
    "Reference:\n",
    "[1] Michael J. Crawley (2013). \"The R-book\". Chapter 10 Regression.\n",
    "\n",
    "R-code\n",
    "\n",
    "#10.6 Prediction following regression\n",
    "\n",
    "# predicting the future?\n",
    "# all branches of applied science rely upon prediction\n",
    "# main issue: how to deal with uncertainty?\n",
    "# uncertainty 1: suitability of fitted model\n",
    "# uncertainty 2: representativeness of the data used to parameterize the model\n",
    "# uncertainty 3: future conditions\n",
    "# two kinds of prediction: interpolation (within measured range) & extrapolation (beyond measured range) \n",
    "X<-matrix(c(0,1,2,3,4,5,6,7,8))\n",
    "Y<-matrix(c(12,10,8,11,6,7,2,3,3))\n",
    "plot(X,Y)\n",
    "model<-lm(Y~X)\n",
    "abline(model,col=\"blue\")\n",
    "# get the slope\n",
    "coef(model)[2]\n",
    "# standard error of the slope\n",
    "summary(model)[[4]][4]\t\t#try how this works!\n",
    "\n",
    "+++++++++++++++++++++\n",
    "\n",
    "# now focus on uncertainty of parameter estimates..\n",
    "# how to plot the estimated slope plus and minus one standard error of the slope:\n",
    "se.lines<-function(model){\n",
    "\tb1<-coef(model)[2]+summary(model)[[4]][4]\n",
    "\tb2<-coef(model)[2]-summary(model)[[4]][4]\n",
    "\txm<-sapply(model[[12]][2],mean)\n",
    "\tym<-sapply(model[[12]][1],mean)\n",
    "\ta1<-ym-b1*xm\n",
    "\ta2<-ym-b2*xm\n",
    "\t\tabline(a1,b1,lty=2,col=\"blue\")\n",
    "\t\tabline(a2,b2,lty=2,col=\"blue\")\n",
    "\t}\n",
    "\tse.lines(model)\n",
    "# Q: how to interpret the dotted lines?\n",
    "\n",
    "+++++++++++++++++++++\n",
    "\n",
    "# now focus on the uncertainty about predicted values..\n",
    "# how to draw the 95% confidence interval associated with predictions of Y at different intervals of x\n",
    "ci.lines<-function(model){\n",
    "\txm<-sapply(model[[12]][2],mean)\n",
    "\tn<-sapply(model[[12]][2],length)\n",
    "\tssx<-sum(model[[12]][2]^2)-sum(model[[12]][2])^2/n\n",
    "\ts.t<-qt(0.975,(n-2))\n",
    "xv<-seq(min(model[[12]][2]),max(model[[12]][2]),length=100)\n",
    "yv<-coef(model)[1]+coef(model)[2]*xv\n",
    "se<-sqrt(summary(model)[[6]]^2*(1/n+(xv-xm)^2/ssx))\n",
    "ci<-s.t*se\n",
    "\tuyv<-yv+ci\n",
    "\tlyv<-yv-ci\n",
    "\tlines(xv,uyv,lty=2,col=\"blue\")\n",
    "  \tlines(xv,lyv,lty=2,col=\"blue\")\n",
    "}\n",
    "# replot linear regression with confidence intervals\n",
    "plot(X,Y,pch=21,col=\"blue\",bg=\"red\")\n",
    "abline(model, col=\"blue\")\n",
    "ci.lines(model)\n",
    "\n",
    "+++++++++++++++++++++\n",
    "\n",
    "# QAD\n",
    "plot(X,Y,pch=16,ylim=c(0,15))\n",
    "model<-lm(Y~X)\n",
    "xv<-seq(0,8,0.1)\n",
    "yv<-predict(model,list(X=xv),int=\"c\")\n",
    "matlines(xv,yv,lty=c(1,2,2),col=\"black\")\n",
    "\n",
    "+++++++++++++++++++++\n",
    "\n",
    "TW2\n",
    "\n",
    "MVS\n",
    "\n",
    "Reference: \n",
    "[1] Johnson & Wichern (2002). \"Applied Multivariate Statistical Analysis\".\n",
    "[2] https://data.library.virginia.edu/diagnostic-plots/\n",
    "[3] https://data.library.virginia.edu/understanding-q-q-plots/\n",
    "\n",
    "# [1] 7.6 Model checking (..)\n",
    "\n",
    "# if the model is valid, the residual error is assumed to be a normal random variable with a mean of zero\n",
    "# cov matrix is not diagonal with cov=var*[I-H]\n",
    "# residuals have unequal variances and nonzero correlations\n",
    "# practice: correlations are small and vraiances are nearly equal\n",
    "# residuals should be plotted in various ways to detect possible anomalies\n",
    "# data\n",
    "# import the twosample.txt\n",
    "x<-twosample[,\"x\"]\t# extract the x variabe\n",
    "y<-twosample[,\"y\"]\n",
    "data<-cbind(x,y)\n",
    "model<-lm(y~x)\n",
    "# par(mfrow=c(2,2))\t# Change the panel layout to 2 x 2\n",
    "# par(mfrow=c(1,1)) \t# Change back to 1 x 1\n",
    "plot(model)\n",
    "\n",
    "# interpretation of the plots:\n",
    "# 1. residual versus fitted: shows if residuals have non-linear patterns.\n",
    "# look for equally sread residuals around a horizontal line indicationg NO non linear patterns\n",
    "# showing the dependence of the residuals on the predicted value. perfect is a horizontal band(width) indicating equal variances and no dependence on the predicted value of y (yhat)\n",
    "\n",
    "# 2. QQ plot: are the errors normally distributed?\n",
    "# a straight line indicates that residuals are normally distributed\n",
    "# some calculations by hand first iot calculate the error vector\n",
    "n<-length(y)\n",
    "x0<-matrix(1L,nrow=n,ncol=1)\n",
    "# terms in LSM\n",
    "Z<-cbind(x0,x)\n",
    "library(MASS)\n",
    "b<-ginv(t(Z)%*%Z)%*%t(Z)%*%y\n",
    "yhat<-Z%*%b\n",
    "yhat\n",
    "error<-y-yhat\n",
    "# QQ plot\n",
    "qqnorm(error)\n",
    "qqline(error)\n",
    "\n",
    "# 3. Scale-location \n",
    "# also called the spread-location plot\n",
    "# shows if residuals are spread equally along the line of predictors\n",
    "# good to see a horizontal line with equally spread points\n",
    "\n",
    "# 4. Residuals versus Leverage (hefboomwerking)\n",
    "# this plots helps to find influential cases (if any)\n",
    "# influence of outliers on the regression line\n",
    "# look for outlying values athe the upper or lower right corner (where cases are influential on the regline) outside the dashed lines (Cook's distance)\n",
    "# exclude cases from regression\n",
    "# pattern is NOT relevant\n",
    "# departures from the regression model are often hidden by the fitting process\n",
    "# outliers can have considerable effect but are hard to detect from the residual plot(s)\n",
    "# the average leverage equals h=(r+1)/n\n",
    "# change in yhat = h * (change in y)\n",
    "# leverage equals 1 means prediction is almost solely determined by that variable\n",
    "\n",
    "+++++++++++++++++++++\n",
    "\n",
    "TW2\n",
    "\n",
    "MVS\n",
    "\n",
    "Reference: \n",
    "[1] Johnson & Wichern (2002). \"Applied Multivariate Statistical Analysis\".\n",
    "\n",
    "# [1] 7.4 Inferences about the regression model\n",
    "## variables definition\n",
    "# z1~total dwelling size\n",
    "# z2~assessed value\n",
    "# Y~selling price\n",
    "z1<-matrix(c(15.31,15.2,16.25,14.33,14.57,17.33,14.48,14.91,15.25,13.89,15.18,14.44,14.87,18.63,15.2,25.76,19.05,15.37,18.06,16.35))\n",
    "z2<-matrix(c(57.3,63.8,65.4,57,63.8,63.2,60.2,57.7,56.4,55.6,62.6,63.4,60.2,67.2,57.1,89.6,68.6,60.1,66.3,65.8))\n",
    "Y<-matrix(c(74.8,74,72.9,70,74.9,76,72,73.5,74.5,73.5,71.5,71,78.9,86.5,68,102,84,69,88,76))\n",
    "data<-cbind(z1,z2,Y)\n",
    "n=length(Y)\n",
    "## design matrix Z\n",
    "z0<-matrix(1L,nrow=20,ncol=1)\n",
    "Z<-cbind(z0,z1,z2)\n",
    "r<-3\t#rank of Z\n",
    "## coefficients\n",
    "b<-ginv(t(Z)%*%Z)%*%t(Z)%*%Y\n",
    "model<-lm(Y~z1+z2)\n",
    "summary(model)\n",
    "# intercept=30.966, b1=2.634 and b2=0.045\n",
    "## error of the model\n",
    "e<-Y-Z%*%b\n",
    "summary(e)\n",
    "# assumption is that the errors are normally distributed: see 7.6 model checking\n",
    "```"
   ]
  },
  {
   "cell_type": "markdown",
   "metadata": {},
   "source": [
    "# Problem 1"
   ]
  },
  {
   "cell_type": "markdown",
   "metadata": {},
   "source": [
    "Statistiek met R: Regressie en correlatie.\n",
    "\n",
    " \n",
    "\n",
    "Een student(e) heeft de volgende data verzameld:\n",
    "\n",
    " \n",
    "\n",
    "Data X:   -0.2269, 0.4634, 4.768, 5.526, 5.707, 6.917, 7.399, 7.475, 8.067, 10.33\n",
    "\n",
    " \n",
    "\n",
    "Data Y:   7.272, 7.29, 11.7, 12.05, 13.49, 13.56, 14.6, 14.96, 15.64, 16.24\n",
    "\n",
    " \n",
    "\n",
    "Het vermoeden bestaat dat de X data een indicator vormen voor de Y data. De student(e) wil graag weten wat de verwachte Y-waarde is bij een X-waarde van 70. Volg de stappen hieronder om tot het antwoord te komen. Waar nodig ga je uit van een significantieniveau van 2.5 %. \n",
    "\n",
    "Importeer deze data in R en voer de onderstaande berekeningen uit m.b.v. R:\n",
    "\n",
    "a. De schatting van de variantie van de storingsterm S2ϵ is gelijk aan:     \n",
    "Number\n",
    " .\n",
    "\n",
    "b. De standaardafwijking van de schatting op het gemiddelde sμ is gelijk aan:    \n",
    "Number\n",
    " . \n",
    "\n",
    "Bereken nu het betrouwbaarheidsinterval voor de verwachte waarde Y-waarde voor de gegeven X-waarde van 70.\n",
    "\n",
    "c. De ondergrens van het betrouwbaarheidsinterval rond μy is gelijk aan:    \n",
    "Number\n",
    " .\n",
    "\n",
    "d. Idem voor de bovengrens:    \n",
    "Number\n",
    " . \n",
    "\n",
    "Geef je antwoord op berekeningen in 2 cijfers achter de decimale punt nauwkeurig."
   ]
  },
  {
   "cell_type": "code",
   "execution_count": 79,
   "metadata": {},
   "outputs": [],
   "source": [
    "X = c(0.9116, 1.966, 4, 4.898, 7.127, 7.163, 8.057, 8.337, 9.158, 10.43)\n",
    "Y = c(9.419, 10.62, 11.55, 11.57, 11.6, 11.61, 11.93, 12.37, 14.69, 14.72)\n",
    "alpha = 0.035"
   ]
  },
  {
   "cell_type": "markdown",
   "metadata": {},
   "source": [
    "Het vermoeden bestaat dat de X data een indicator vormen voor de Y data. De student(e) wil graag weten wat de verwachte Y-waarde is bij een X-waarde van 70. Volg de stappen hieronder om tot het antwoord te komen. Waar nodig ga je uit van een significantieniveau van 2.5 %."
   ]
  },
  {
   "cell_type": "markdown",
   "metadata": {},
   "source": [
    "a. De schatting van de variantie van de storingsterm $S^2_ϵ$ is gelijk aan:"
   ]
  },
  {
   "cell_type": "markdown",
   "metadata": {},
   "source": [
    "```r\n",
    "# data invoeren\n",
    "X<-c(12,2,3,5,10,9,8)\n",
    "Y<-c(125,30,43,62,108,102,90)\n",
    "n<-length(X)\n",
    "one<-rep(1,7)\n",
    "# matrix vergelijking\n",
    "A<-cbind(X,one)\n",
    "b<-Y\n",
    "# laden library met matrixinverse\n",
    "library(MASS)\n",
    "# oplossing geeft vector met coefficienten a en b\n",
    "oplossing<-(ginv(t(A) %*% A) %*% t(A) %*% b)\n",
    "# storingsterm (fout) bepalen\n",
    "error<-A %*% oplossing-b\n",
    "# deze foutenvector geeft per datapuntje het verschil met de best passende lijn\n",
    "# de variantie van de stroingsterm wordt geschat door de grootheid S[error]^2 (SE2), formule zie Buijs [1] p.382.\n",
    "SE2<-(t(error) %*% error)/(n-2)\n",
    "STDV2=sqrt(SE2)\n",
    "# Q: wat is de interpretatie van dit getal?\n",
    "\n",
    "2. Quick and dirty:\n",
    "# data invoeren\n",
    "X<-c(12,2,3,5,10,9,8)\n",
    "Y<-c(125,30,43,62,108,102,90)\n",
    "# kleinste kwadraten methode laten uivoeren door R:\n",
    "lm(Y~X)\n",
    "# Q: Wat is de betekenis van deze twee getallen?\n",
    "# volgende stap is het bepalen van de fout van de benadering:\n",
    "summary(lm(Y~X))\n",
    "# Let vooral op de Residual standard error!\n",
    "# Wiskunde is leuk en educatief\n",
    "```"
   ]
  },
  {
   "cell_type": "code",
   "execution_count": 80,
   "metadata": {},
   "outputs": [
    {
     "data": {
      "text/html": [
       "10"
      ],
      "text/latex": [
       "10"
      ],
      "text/markdown": [
       "10"
      ],
      "text/plain": [
       "[1] 10"
      ]
     },
     "metadata": {},
     "output_type": "display_data"
    },
    {
     "data": {
      "text/html": [
       "<ol class=list-inline>\n",
       "\t<li>1</li>\n",
       "\t<li>1</li>\n",
       "\t<li>1</li>\n",
       "\t<li>1</li>\n",
       "\t<li>1</li>\n",
       "\t<li>1</li>\n",
       "\t<li>1</li>\n",
       "\t<li>1</li>\n",
       "\t<li>1</li>\n",
       "\t<li>1</li>\n",
       "</ol>\n"
      ],
      "text/latex": [
       "\\begin{enumerate*}\n",
       "\\item 1\n",
       "\\item 1\n",
       "\\item 1\n",
       "\\item 1\n",
       "\\item 1\n",
       "\\item 1\n",
       "\\item 1\n",
       "\\item 1\n",
       "\\item 1\n",
       "\\item 1\n",
       "\\end{enumerate*}\n"
      ],
      "text/markdown": [
       "1. 1\n",
       "2. 1\n",
       "3. 1\n",
       "4. 1\n",
       "5. 1\n",
       "6. 1\n",
       "7. 1\n",
       "8. 1\n",
       "9. 1\n",
       "10. 1\n",
       "\n",
       "\n"
      ],
      "text/plain": [
       " [1] 1 1 1 1 1 1 1 1 1 1"
      ]
     },
     "metadata": {},
     "output_type": "display_data"
    }
   ],
   "source": [
    "n = length(X)\n",
    "one = rep(1, n) \n",
    "n; one"
   ]
  },
  {
   "cell_type": "code",
   "execution_count": 81,
   "metadata": {},
   "outputs": [
    {
     "data": {
      "text/html": [
       "<table>\n",
       "<thead><tr><th scope=col>X</th><th scope=col>one</th></tr></thead>\n",
       "<tbody>\n",
       "\t<tr><td> 0.9116</td><td>1      </td></tr>\n",
       "\t<tr><td> 1.9660</td><td>1      </td></tr>\n",
       "\t<tr><td> 4.0000</td><td>1      </td></tr>\n",
       "\t<tr><td> 4.8980</td><td>1      </td></tr>\n",
       "\t<tr><td> 7.1270</td><td>1      </td></tr>\n",
       "\t<tr><td> 7.1630</td><td>1      </td></tr>\n",
       "\t<tr><td> 8.0570</td><td>1      </td></tr>\n",
       "\t<tr><td> 8.3370</td><td>1      </td></tr>\n",
       "\t<tr><td> 9.1580</td><td>1      </td></tr>\n",
       "\t<tr><td>10.4300</td><td>1      </td></tr>\n",
       "</tbody>\n",
       "</table>\n"
      ],
      "text/latex": [
       "\\begin{tabular}{ll}\n",
       " X & one\\\\\n",
       "\\hline\n",
       "\t  0.9116 & 1      \\\\\n",
       "\t  1.9660 & 1      \\\\\n",
       "\t  4.0000 & 1      \\\\\n",
       "\t  4.8980 & 1      \\\\\n",
       "\t  7.1270 & 1      \\\\\n",
       "\t  7.1630 & 1      \\\\\n",
       "\t  8.0570 & 1      \\\\\n",
       "\t  8.3370 & 1      \\\\\n",
       "\t  9.1580 & 1      \\\\\n",
       "\t 10.4300 & 1      \\\\\n",
       "\\end{tabular}\n"
      ],
      "text/markdown": [
       "\n",
       "X | one | \n",
       "|---|---|---|---|---|---|---|---|---|---|\n",
       "|  0.9116 | 1       | \n",
       "|  1.9660 | 1       | \n",
       "|  4.0000 | 1       | \n",
       "|  4.8980 | 1       | \n",
       "|  7.1270 | 1       | \n",
       "|  7.1630 | 1       | \n",
       "|  8.0570 | 1       | \n",
       "|  8.3370 | 1       | \n",
       "|  9.1580 | 1       | \n",
       "| 10.4300 | 1       | \n",
       "\n",
       "\n"
      ],
      "text/plain": [
       "      X       one\n",
       " [1,]  0.9116 1  \n",
       " [2,]  1.9660 1  \n",
       " [3,]  4.0000 1  \n",
       " [4,]  4.8980 1  \n",
       " [5,]  7.1270 1  \n",
       " [6,]  7.1630 1  \n",
       " [7,]  8.0570 1  \n",
       " [8,]  8.3370 1  \n",
       " [9,]  9.1580 1  \n",
       "[10,] 10.4300 1  "
      ]
     },
     "metadata": {},
     "output_type": "display_data"
    },
    {
     "data": {
      "text/html": [
       "<ol class=list-inline>\n",
       "\t<li>9.419</li>\n",
       "\t<li>10.62</li>\n",
       "\t<li>11.55</li>\n",
       "\t<li>11.57</li>\n",
       "\t<li>11.6</li>\n",
       "\t<li>11.61</li>\n",
       "\t<li>11.93</li>\n",
       "\t<li>12.37</li>\n",
       "\t<li>14.69</li>\n",
       "\t<li>14.72</li>\n",
       "</ol>\n"
      ],
      "text/latex": [
       "\\begin{enumerate*}\n",
       "\\item 9.419\n",
       "\\item 10.62\n",
       "\\item 11.55\n",
       "\\item 11.57\n",
       "\\item 11.6\n",
       "\\item 11.61\n",
       "\\item 11.93\n",
       "\\item 12.37\n",
       "\\item 14.69\n",
       "\\item 14.72\n",
       "\\end{enumerate*}\n"
      ],
      "text/markdown": [
       "1. 9.419\n",
       "2. 10.62\n",
       "3. 11.55\n",
       "4. 11.57\n",
       "5. 11.6\n",
       "6. 11.61\n",
       "7. 11.93\n",
       "8. 12.37\n",
       "9. 14.69\n",
       "10. 14.72\n",
       "\n",
       "\n"
      ],
      "text/plain": [
       " [1]  9.419 10.620 11.550 11.570 11.600 11.610 11.930 12.370 14.690 14.720"
      ]
     },
     "metadata": {},
     "output_type": "display_data"
    }
   ],
   "source": [
    "A = cbind(X, one)\n",
    "b = Y\n",
    "A; b"
   ]
  },
  {
   "cell_type": "code",
   "execution_count": 82,
   "metadata": {},
   "outputs": [
    {
     "data": {
      "text/html": [
       "<table>\n",
       "<tbody>\n",
       "\t<tr><th scope=row>X</th><td>0.4547893</td></tr>\n",
       "\t<tr><th scope=row>one</th><td>9.1860413</td></tr>\n",
       "</tbody>\n",
       "</table>\n"
      ],
      "text/latex": [
       "\\begin{tabular}{r|l}\n",
       "\tX & 0.4547893\\\\\n",
       "\tone & 9.1860413\\\\\n",
       "\\end{tabular}\n"
      ],
      "text/markdown": [
       "\n",
       "| X | 0.4547893 | \n",
       "| one | 9.1860413 | \n",
       "\n",
       "\n"
      ],
      "text/plain": [
       "    [,1]     \n",
       "X   0.4547893\n",
       "one 9.1860413"
      ]
     },
     "metadata": {},
     "output_type": "display_data"
    }
   ],
   "source": [
    "S = solve(t(A) %*% A) %*% t(A) %*% b\n",
    "S"
   ]
  },
  {
   "cell_type": "code",
   "execution_count": 83,
   "metadata": {},
   "outputs": [
    {
     "data": {
      "text/html": [
       "<table>\n",
       "<tbody>\n",
       "\t<tr><td> 0.1816273</td></tr>\n",
       "\t<tr><td>-0.5398428</td></tr>\n",
       "\t<tr><td>-0.5448013</td></tr>\n",
       "\t<tr><td>-0.1564005</td></tr>\n",
       "\t<tr><td> 0.8273249</td></tr>\n",
       "\t<tr><td> 0.8336973</td></tr>\n",
       "\t<tr><td> 0.9202790</td></tr>\n",
       "\t<tr><td> 0.6076200</td></tr>\n",
       "\t<tr><td>-1.3389979</td></tr>\n",
       "\t<tr><td>-0.7905059</td></tr>\n",
       "</tbody>\n",
       "</table>\n"
      ],
      "text/latex": [
       "\\begin{tabular}{l}\n",
       "\t  0.1816273\\\\\n",
       "\t -0.5398428\\\\\n",
       "\t -0.5448013\\\\\n",
       "\t -0.1564005\\\\\n",
       "\t  0.8273249\\\\\n",
       "\t  0.8336973\\\\\n",
       "\t  0.9202790\\\\\n",
       "\t  0.6076200\\\\\n",
       "\t -1.3389979\\\\\n",
       "\t -0.7905059\\\\\n",
       "\\end{tabular}\n"
      ],
      "text/markdown": [
       "\n",
       "|  0.1816273 | \n",
       "| -0.5398428 | \n",
       "| -0.5448013 | \n",
       "| -0.1564005 | \n",
       "|  0.8273249 | \n",
       "|  0.8336973 | \n",
       "|  0.9202790 | \n",
       "|  0.6076200 | \n",
       "| -1.3389979 | \n",
       "| -0.7905059 | \n",
       "\n",
       "\n"
      ],
      "text/plain": [
       "      [,1]      \n",
       " [1,]  0.1816273\n",
       " [2,] -0.5398428\n",
       " [3,] -0.5448013\n",
       " [4,] -0.1564005\n",
       " [5,]  0.8273249\n",
       " [6,]  0.8336973\n",
       " [7,]  0.9202790\n",
       " [8,]  0.6076200\n",
       " [9,] -1.3389979\n",
       "[10,] -0.7905059"
      ]
     },
     "metadata": {},
     "output_type": "display_data"
    }
   ],
   "source": [
    "error = A %*% S - b\n",
    "error"
   ]
  },
  {
   "cell_type": "markdown",
   "metadata": {},
   "source": [
    "blz 421 Buijs... -_-"
   ]
  },
  {
   "cell_type": "markdown",
   "metadata": {},
   "source": [
    "$$ s_\\underline{\\epsilon}^2 = \\dfrac{\\sum e_i^2}{n-2} $$"
   ]
  },
  {
   "cell_type": "code",
   "execution_count": 84,
   "metadata": {},
   "outputs": [
    {
     "data": {
      "text/html": [
       "<table>\n",
       "<tbody>\n",
       "\t<tr><td>0.7073921</td></tr>\n",
       "</tbody>\n",
       "</table>\n"
      ],
      "text/latex": [
       "\\begin{tabular}{l}\n",
       "\t 0.7073921\\\\\n",
       "\\end{tabular}\n"
      ],
      "text/markdown": [
       "\n",
       "| 0.7073921 | \n",
       "\n",
       "\n"
      ],
      "text/plain": [
       "     [,1]     \n",
       "[1,] 0.7073921"
      ]
     },
     "metadata": {},
     "output_type": "display_data"
    },
    {
     "data": {
      "text/html": [
       "<table>\n",
       "<tbody>\n",
       "\t<tr><td>0.841066</td></tr>\n",
       "</tbody>\n",
       "</table>\n"
      ],
      "text/latex": [
       "\\begin{tabular}{l}\n",
       "\t 0.841066\\\\\n",
       "\\end{tabular}\n"
      ],
      "text/markdown": [
       "\n",
       "| 0.841066 | \n",
       "\n",
       "\n"
      ],
      "text/plain": [
       "     [,1]    \n",
       "[1,] 0.841066"
      ]
     },
     "metadata": {},
     "output_type": "display_data"
    }
   ],
   "source": [
    "SE2<-(t(error) %*% error)/(n-2)\n",
    "STDV2=sqrt(SE2)\n",
    "SE2; STDV2"
   ]
  },
  {
   "cell_type": "markdown",
   "metadata": {},
   "source": [
    "b. De standaardafwijking van de schatting op het gemiddelde $s_μ$ is gelijk aan:\n",
    "Number."
   ]
  },
  {
   "cell_type": "code",
   "execution_count": 85,
   "metadata": {},
   "outputs": [
    {
     "data": {
      "text/html": [
       "10"
      ],
      "text/latex": [
       "10"
      ],
      "text/markdown": [
       "10"
      ],
      "text/plain": [
       "[1] 10"
      ]
     },
     "metadata": {},
     "output_type": "display_data"
    }
   ],
   "source": [
    "n"
   ]
  },
  {
   "cell_type": "code",
   "execution_count": 86,
   "metadata": {},
   "outputs": [
    {
     "data": {
      "text/html": [
       "<table>\n",
       "<tbody>\n",
       "\t<tr><td>0.7073921</td></tr>\n",
       "</tbody>\n",
       "</table>\n"
      ],
      "text/latex": [
       "\\begin{tabular}{l}\n",
       "\t 0.7073921\\\\\n",
       "\\end{tabular}\n"
      ],
      "text/markdown": [
       "\n",
       "| 0.7073921 | \n",
       "\n",
       "\n"
      ],
      "text/plain": [
       "     [,1]     \n",
       "[1,] 0.7073921"
      ]
     },
     "metadata": {},
     "output_type": "display_data"
    },
    {
     "data": {
      "text/html": [
       "<table>\n",
       "<tbody>\n",
       "\t<tr><td>0.841066</td></tr>\n",
       "</tbody>\n",
       "</table>\n"
      ],
      "text/latex": [
       "\\begin{tabular}{l}\n",
       "\t 0.841066\\\\\n",
       "\\end{tabular}\n"
      ],
      "text/markdown": [
       "\n",
       "| 0.841066 | \n",
       "\n",
       "\n"
      ],
      "text/plain": [
       "     [,1]    \n",
       "[1,] 0.841066"
      ]
     },
     "metadata": {},
     "output_type": "display_data"
    },
    {
     "data": {
      "text/html": [
       "<table>\n",
       "<tbody>\n",
       "\t<tr><td>29.11198</td></tr>\n",
       "</tbody>\n",
       "</table>\n"
      ],
      "text/latex": [
       "\\begin{tabular}{l}\n",
       "\t 29.11198\\\\\n",
       "\\end{tabular}\n"
      ],
      "text/markdown": [
       "\n",
       "| 29.11198 | \n",
       "\n",
       "\n"
      ],
      "text/plain": [
       "     [,1]    \n",
       "[1,] 29.11198"
      ]
     },
     "metadata": {},
     "output_type": "display_data"
    },
    {
     "data": {
      "text/html": [
       "<table>\n",
       "<tbody>\n",
       "\t<tr><td>52.93061</td></tr>\n",
       "</tbody>\n",
       "</table>\n"
      ],
      "text/latex": [
       "\\begin{tabular}{l}\n",
       "\t 52.93061\\\\\n",
       "\\end{tabular}\n"
      ],
      "text/markdown": [
       "\n",
       "| 52.93061 | \n",
       "\n",
       "\n"
      ],
      "text/plain": [
       "     [,1]    \n",
       "[1,] 52.93061"
      ]
     },
     "metadata": {},
     "output_type": "display_data"
    }
   ],
   "source": [
    "# toewijzen mighty five aan variabelen\n",
    "SSX<-sum(X^2)\n",
    "SSY<-sum(Y^2)\n",
    "SSXY<-sum(X*Y)\n",
    "# richtingscoefficient bepalen: \n",
    "Sxis<-sum((X-mean(X))^2)\n",
    "Sxiyi<-sum((X-mean(X))*(Y-mean(Y)))\n",
    "rc<-Sxiyi/Sxis\n",
    "# startgetal (intercept) bepalen\n",
    "intercept<-mean(Y)-rc*mean(X)\n",
    "# Q: wat is de vergelijking van de best passende lijn?\n",
    "# voorspelling bij gegeven waarde\n",
    "x=70 # !!!!!!!!!!!! \n",
    "y<-intercept+rc*x\n",
    "# variantie van de storingsterm\n",
    "varSe<-(sum(Y^2)-intercept*sum(Y)-rc*t(X)%*%Y)/(n-2)\n",
    "stdvSe<-sqrt(varSe)\n",
    "# bepalen van 95% betrouwbaarheidsinterval rond gegeven waarde van x\n",
    "# stap 1: bepaal de standaardafwijking voor gegeven x\n",
    "stdvx<-stdvSe*sqrt(1/n+(x-mean(X))^2/sum((X-mean(X))^2))\n",
    "# stap 2: bepaal t-waarde\n",
    "t<-qt(c(1 - alpha),df=n-2) # !!!!!!!!!!!!!!! dfdfdfdf\n",
    "# stap 3: bepaal betrouwbaarheidsinterval\n",
    "lower<-y-t*stdvx\n",
    "upper<-y+t*stdvx\n",
    "\n",
    "varSe; stdvSe; lower; upper;"
   ]
  },
  {
   "cell_type": "markdown",
   "metadata": {},
   "source": [
    "antwoord a,b,c,d:"
   ]
  },
  {
   "cell_type": "code",
   "execution_count": 87,
   "metadata": {},
   "outputs": [
    {
     "data": {
      "text/html": [
       "<table>\n",
       "<tbody>\n",
       "\t<tr><td>0.7073921</td></tr>\n",
       "</tbody>\n",
       "</table>\n"
      ],
      "text/latex": [
       "\\begin{tabular}{l}\n",
       "\t 0.7073921\\\\\n",
       "\\end{tabular}\n"
      ],
      "text/markdown": [
       "\n",
       "| 0.7073921 | \n",
       "\n",
       "\n"
      ],
      "text/plain": [
       "     [,1]     \n",
       "[1,] 0.7073921"
      ]
     },
     "metadata": {},
     "output_type": "display_data"
    },
    {
     "data": {
      "text/html": [
       "<table>\n",
       "<tbody>\n",
       "\t<tr><td>0.841066</td></tr>\n",
       "</tbody>\n",
       "</table>\n"
      ],
      "text/latex": [
       "\\begin{tabular}{l}\n",
       "\t 0.841066\\\\\n",
       "\\end{tabular}\n"
      ],
      "text/markdown": [
       "\n",
       "| 0.841066 | \n",
       "\n",
       "\n"
      ],
      "text/plain": [
       "     [,1]    \n",
       "[1,] 0.841066"
      ]
     },
     "metadata": {},
     "output_type": "display_data"
    },
    {
     "data": {
      "text/html": [
       "<table>\n",
       "<tbody>\n",
       "\t<tr><td>29.11198</td></tr>\n",
       "</tbody>\n",
       "</table>\n"
      ],
      "text/latex": [
       "\\begin{tabular}{l}\n",
       "\t 29.11198\\\\\n",
       "\\end{tabular}\n"
      ],
      "text/markdown": [
       "\n",
       "| 29.11198 | \n",
       "\n",
       "\n"
      ],
      "text/plain": [
       "     [,1]    \n",
       "[1,] 29.11198"
      ]
     },
     "metadata": {},
     "output_type": "display_data"
    },
    {
     "data": {
      "text/html": [
       "<table>\n",
       "<tbody>\n",
       "\t<tr><td>52.93061</td></tr>\n",
       "</tbody>\n",
       "</table>\n"
      ],
      "text/latex": [
       "\\begin{tabular}{l}\n",
       "\t 52.93061\\\\\n",
       "\\end{tabular}\n"
      ],
      "text/markdown": [
       "\n",
       "| 52.93061 | \n",
       "\n",
       "\n"
      ],
      "text/plain": [
       "     [,1]    \n",
       "[1,] 52.93061"
      ]
     },
     "metadata": {},
     "output_type": "display_data"
    }
   ],
   "source": [
    "SE2; stdvSe; lower; upper"
   ]
  },
  {
   "cell_type": "markdown",
   "metadata": {},
   "source": [
    "# ???"
   ]
  },
  {
   "cell_type": "code",
   "execution_count": null,
   "metadata": {},
   "outputs": [],
   "source": []
  }
 ],
 "metadata": {
  "kernelspec": {
   "display_name": "R",
   "language": "R",
   "name": "ir"
  },
  "language_info": {
   "codemirror_mode": "r",
   "file_extension": ".r",
   "mimetype": "text/x-r-source",
   "name": "R",
   "pygments_lexer": "r",
   "version": "3.4.4"
  }
 },
 "nbformat": 4,
 "nbformat_minor": 2
}
