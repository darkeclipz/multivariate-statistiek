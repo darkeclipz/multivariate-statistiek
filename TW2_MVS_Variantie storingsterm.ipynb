{
 "cells": [
  {
   "cell_type": "code",
   "execution_count": 3,
   "metadata": {},
   "outputs": [
    {
     "data": {
      "text/html": [
       "<table>\n",
       "<thead><tr><th scope=col>X</th><th scope=col>one</th></tr></thead>\n",
       "<tbody>\n",
       "\t<tr><td>12</td><td>1 </td></tr>\n",
       "\t<tr><td> 3</td><td>1 </td></tr>\n",
       "\t<tr><td> 3</td><td>1 </td></tr>\n",
       "\t<tr><td> 6</td><td>1 </td></tr>\n",
       "\t<tr><td>11</td><td>1 </td></tr>\n",
       "\t<tr><td> 9</td><td>1 </td></tr>\n",
       "\t<tr><td> 9</td><td>1 </td></tr>\n",
       "</tbody>\n",
       "</table>\n"
      ],
      "text/latex": [
       "\\begin{tabular}{ll}\n",
       " X & one\\\\\n",
       "\\hline\n",
       "\t 12 & 1 \\\\\n",
       "\t  3 & 1 \\\\\n",
       "\t  3 & 1 \\\\\n",
       "\t  6 & 1 \\\\\n",
       "\t 11 & 1 \\\\\n",
       "\t  9 & 1 \\\\\n",
       "\t  9 & 1 \\\\\n",
       "\\end{tabular}\n"
      ],
      "text/markdown": [
       "\n",
       "X | one | \n",
       "|---|---|---|---|---|---|---|\n",
       "| 12 | 1  | \n",
       "|  3 | 1  | \n",
       "|  3 | 1  | \n",
       "|  6 | 1  | \n",
       "| 11 | 1  | \n",
       "|  9 | 1  | \n",
       "|  9 | 1  | \n",
       "\n",
       "\n"
      ],
      "text/plain": [
       "     X  one\n",
       "[1,] 12 1  \n",
       "[2,]  3 1  \n",
       "[3,]  3 1  \n",
       "[4,]  6 1  \n",
       "[5,] 11 1  \n",
       "[6,]  9 1  \n",
       "[7,]  9 1  "
      ]
     },
     "metadata": {},
     "output_type": "display_data"
    },
    {
     "data": {
      "text/html": [
       "<ol class=list-inline>\n",
       "\t<li>125</li>\n",
       "\t<li>33</li>\n",
       "\t<li>45</li>\n",
       "\t<li>62</li>\n",
       "\t<li>105</li>\n",
       "\t<li>106</li>\n",
       "\t<li>92</li>\n",
       "</ol>\n"
      ],
      "text/latex": [
       "\\begin{enumerate*}\n",
       "\\item 125\n",
       "\\item 33\n",
       "\\item 45\n",
       "\\item 62\n",
       "\\item 105\n",
       "\\item 106\n",
       "\\item 92\n",
       "\\end{enumerate*}\n"
      ],
      "text/markdown": [
       "1. 125\n",
       "2. 33\n",
       "3. 45\n",
       "4. 62\n",
       "5. 105\n",
       "6. 106\n",
       "7. 92\n",
       "\n",
       "\n"
      ],
      "text/plain": [
       "[1] 125  33  45  62 105 106  92"
      ]
     },
     "metadata": {},
     "output_type": "display_data"
    }
   ],
   "source": [
    "X = c(12, 3, 3, 6, 11, 9, 9)\n",
    "Y = c(125, 33, 45, 62, 105, 106, 92)\n",
    "n = length(X)\n",
    "one = rep(1, n)\n",
    "A = cbind(X, one)\n",
    "b = Y\n",
    "A;b;"
   ]
  },
  {
   "cell_type": "markdown",
   "metadata": {},
   "source": [
    "x = solve(t(A) %*% A) %*% t(A) %*% b; x"
   ]
  },
  {
   "cell_type": "code",
   "execution_count": 5,
   "metadata": {},
   "outputs": [
    {
     "data": {
      "text/plain": [
       "\n",
       "Call:\n",
       "lm(formula = Y ~ X)\n",
       "\n",
       "Residuals:\n",
       "     1      2      3      4      5      6      7 \n",
       " 2.611 -5.566  6.434 -4.507 -8.075 11.552 -2.448 \n",
       "\n",
       "Coefficients:\n",
       "            Estimate Std. Error t value Pr(>|t|)    \n",
       "(Intercept)  10.6254     7.2414   1.467 0.202208    \n",
       "X             9.3136     0.8736  10.662 0.000126 ***\n",
       "---\n",
       "Signif. codes:  0 '***' 0.001 '**' 0.01 '*' 0.05 '.' 0.1 ' ' 1\n",
       "\n",
       "Residual standard error: 7.799 on 5 degrees of freedom\n",
       "Multiple R-squared:  0.9579,\tAdjusted R-squared:  0.9494 \n",
       "F-statistic: 113.7 on 1 and 5 DF,  p-value: 0.0001256\n"
      ]
     },
     "metadata": {},
     "output_type": "display_data"
    }
   ],
   "source": [
    "summary(lm(Y~X))"
   ]
  },
  {
   "cell_type": "markdown",
   "metadata": {},
   "source": [
    "De storingsterm kunnen we op de volgende manier bepalen:\n",
    "\n",
    " $$ \\mathbf{Ax} = \\mathbf{b} + \\epsilon \\iff \\epsilon = \\mathbf{Ax-b} $$"
   ]
  },
  {
   "cell_type": "code",
   "execution_count": 9,
   "metadata": {},
   "outputs": [
    {
     "data": {
      "text/html": [
       "<table>\n",
       "<tbody>\n",
       "\t<tr><td> -2.611111</td></tr>\n",
       "\t<tr><td>  5.566308</td></tr>\n",
       "\t<tr><td> -6.433692</td></tr>\n",
       "\t<tr><td>  4.507168</td></tr>\n",
       "\t<tr><td>  8.075269</td></tr>\n",
       "\t<tr><td>-11.551971</td></tr>\n",
       "\t<tr><td>  2.448029</td></tr>\n",
       "</tbody>\n",
       "</table>\n"
      ],
      "text/latex": [
       "\\begin{tabular}{l}\n",
       "\t  -2.611111\\\\\n",
       "\t   5.566308\\\\\n",
       "\t  -6.433692\\\\\n",
       "\t   4.507168\\\\\n",
       "\t   8.075269\\\\\n",
       "\t -11.551971\\\\\n",
       "\t   2.448029\\\\\n",
       "\\end{tabular}\n"
      ],
      "text/markdown": [
       "\n",
       "|  -2.611111 | \n",
       "|   5.566308 | \n",
       "|  -6.433692 | \n",
       "|   4.507168 | \n",
       "|   8.075269 | \n",
       "| -11.551971 | \n",
       "|   2.448029 | \n",
       "\n",
       "\n"
      ],
      "text/plain": [
       "     [,1]      \n",
       "[1,]  -2.611111\n",
       "[2,]   5.566308\n",
       "[3,]  -6.433692\n",
       "[4,]   4.507168\n",
       "[5,]   8.075269\n",
       "[6,] -11.551971\n",
       "[7,]   2.448029"
      ]
     },
     "metadata": {},
     "output_type": "display_data"
    }
   ],
   "source": [
    "e = A %*% x - b; e"
   ]
  },
  {
   "cell_type": "code",
   "execution_count": 10,
   "metadata": {},
   "outputs": [
    {
     "data": {
      "text/html": [
       "7.11991922013967"
      ],
      "text/latex": [
       "7.11991922013967"
      ],
      "text/markdown": [
       "7.11991922013967"
      ],
      "text/plain": [
       "[1] 7.119919"
      ]
     },
     "metadata": {},
     "output_type": "display_data"
    }
   ],
   "source": [
    "sd(e)"
   ]
  },
  {
   "cell_type": "code",
   "execution_count": 16,
   "metadata": {},
   "outputs": [
    {
     "data": {
      "text/html": [
       "7.79948072897017"
      ],
      "text/latex": [
       "7.79948072897017"
      ],
      "text/markdown": [
       "7.79948072897017"
      ],
      "text/plain": [
       "[1] 7.799481"
      ]
     },
     "metadata": {},
     "output_type": "display_data"
    }
   ],
   "source": [
    "sqrt(sum((e - mean(e))^2)/(n-2))"
   ]
  },
  {
   "cell_type": "markdown",
   "metadata": {},
   "source": [
    "# EZ way"
   ]
  },
  {
   "cell_type": "code",
   "execution_count": 17,
   "metadata": {},
   "outputs": [
    {
     "data": {
      "text/plain": [
       "\n",
       "Call:\n",
       "lm(formula = Y ~ X)\n",
       "\n",
       "Residuals:\n",
       "      1       2       3       4       5       6       7 \n",
       " 18.042   1.234   4.460 -12.636  -1.958  -5.958  -3.184 \n",
       "\n",
       "Coefficients:\n",
       "            Estimate Std. Error t value Pr(>|t|)    \n",
       "(Intercept)    9.218      9.926   0.929 0.395703    \n",
       "X              9.774      1.248   7.833 0.000544 ***\n",
       "---\n",
       "Signif. codes:  0 '***' 0.001 '**' 0.01 '*' 0.05 '.' 0.1 ' ' 1\n",
       "\n",
       "Residual standard error: 10.55 on 5 degrees of freedom\n",
       "Multiple R-squared:  0.9246,\tAdjusted R-squared:  0.9096 \n",
       "F-statistic: 61.36 on 1 and 5 DF,  p-value: 0.0005441\n"
      ]
     },
     "metadata": {},
     "output_type": "display_data"
    }
   ],
   "source": [
    "X = c(10, 2, 3, 7, 10, 10, 9)\n",
    "Y = c(125, 30, 43, 65, 105, 101, 94)\n",
    "summary(lm(Y~X))"
   ]
  },
  {
   "cell_type": "code",
   "execution_count": 19,
   "metadata": {},
   "outputs": [
    {
     "data": {
      "text/html": [
       "<table>\n",
       "<thead><tr><th scope=col>X</th><th scope=col></th></tr></thead>\n",
       "<tbody>\n",
       "\t<tr><td>10</td><td>1 </td></tr>\n",
       "\t<tr><td> 2</td><td>1 </td></tr>\n",
       "\t<tr><td> 3</td><td>1 </td></tr>\n",
       "\t<tr><td> 7</td><td>1 </td></tr>\n",
       "\t<tr><td>10</td><td>1 </td></tr>\n",
       "\t<tr><td>10</td><td>1 </td></tr>\n",
       "\t<tr><td> 9</td><td>1 </td></tr>\n",
       "</tbody>\n",
       "</table>\n"
      ],
      "text/latex": [
       "\\begin{tabular}{ll}\n",
       " X & \\\\\n",
       "\\hline\n",
       "\t 10 & 1 \\\\\n",
       "\t  2 & 1 \\\\\n",
       "\t  3 & 1 \\\\\n",
       "\t  7 & 1 \\\\\n",
       "\t 10 & 1 \\\\\n",
       "\t 10 & 1 \\\\\n",
       "\t  9 & 1 \\\\\n",
       "\\end{tabular}\n"
      ],
      "text/markdown": [
       "\n",
       "X |  | \n",
       "|---|---|---|---|---|---|---|\n",
       "| 10 | 1  | \n",
       "|  2 | 1  | \n",
       "|  3 | 1  | \n",
       "|  7 | 1  | \n",
       "| 10 | 1  | \n",
       "| 10 | 1  | \n",
       "|  9 | 1  | \n",
       "\n",
       "\n"
      ],
      "text/plain": [
       "     X   \n",
       "[1,] 10 1\n",
       "[2,]  2 1\n",
       "[3,]  3 1\n",
       "[4,]  7 1\n",
       "[5,] 10 1\n",
       "[6,] 10 1\n",
       "[7,]  9 1"
      ]
     },
     "metadata": {},
     "output_type": "display_data"
    },
    {
     "data": {
      "text/html": [
       "<ol class=list-inline>\n",
       "\t<li>125</li>\n",
       "\t<li>30</li>\n",
       "\t<li>43</li>\n",
       "\t<li>65</li>\n",
       "\t<li>105</li>\n",
       "\t<li>101</li>\n",
       "\t<li>94</li>\n",
       "</ol>\n"
      ],
      "text/latex": [
       "\\begin{enumerate*}\n",
       "\\item 125\n",
       "\\item 30\n",
       "\\item 43\n",
       "\\item 65\n",
       "\\item 105\n",
       "\\item 101\n",
       "\\item 94\n",
       "\\end{enumerate*}\n"
      ],
      "text/markdown": [
       "1. 125\n",
       "2. 30\n",
       "3. 43\n",
       "4. 65\n",
       "5. 105\n",
       "6. 101\n",
       "7. 94\n",
       "\n",
       "\n"
      ],
      "text/plain": [
       "[1] 125  30  43  65 105 101  94"
      ]
     },
     "metadata": {},
     "output_type": "display_data"
    }
   ],
   "source": [
    "A = cbind(X, rep(1, length(X))); A\n",
    "b = Y; b"
   ]
  },
  {
   "cell_type": "code",
   "execution_count": 31,
   "metadata": {},
   "outputs": [
    {
     "data": {
      "text/html": [
       "<table>\n",
       "<tbody>\n",
       "\t<tr><th scope=row>X</th><td>9.774</td></tr>\n",
       "\t<tr><th scope=row></th><td>9.218</td></tr>\n",
       "</tbody>\n",
       "</table>\n"
      ],
      "text/latex": [
       "\\begin{tabular}{r|l}\n",
       "\tX & 9.774\\\\\n",
       "\t & 9.218\\\\\n",
       "\\end{tabular}\n"
      ],
      "text/markdown": [
       "\n",
       "| X | 9.774 | \n",
       "|  | 9.218 | \n",
       "\n",
       "\n"
      ],
      "text/plain": [
       "  [,1] \n",
       "X 9.774\n",
       "  9.218"
      ]
     },
     "metadata": {},
     "output_type": "display_data"
    }
   ],
   "source": [
    "x = solve(t(A) %*% A) %*% t(A) %*% b; x"
   ]
  },
  {
   "cell_type": "code",
   "execution_count": 24,
   "metadata": {},
   "outputs": [
    {
     "data": {
      "text/html": [
       "<table>\n",
       "<tbody>\n",
       "\t<tr><td>-18.042</td></tr>\n",
       "\t<tr><td> -1.234</td></tr>\n",
       "\t<tr><td> -4.460</td></tr>\n",
       "\t<tr><td> 12.636</td></tr>\n",
       "\t<tr><td>  1.958</td></tr>\n",
       "\t<tr><td>  5.958</td></tr>\n",
       "\t<tr><td>  3.184</td></tr>\n",
       "</tbody>\n",
       "</table>\n"
      ],
      "text/latex": [
       "\\begin{tabular}{l}\n",
       "\t -18.042\\\\\n",
       "\t  -1.234\\\\\n",
       "\t  -4.460\\\\\n",
       "\t  12.636\\\\\n",
       "\t   1.958\\\\\n",
       "\t   5.958\\\\\n",
       "\t   3.184\\\\\n",
       "\\end{tabular}\n"
      ],
      "text/markdown": [
       "\n",
       "| -18.042 | \n",
       "|  -1.234 | \n",
       "|  -4.460 | \n",
       "|  12.636 | \n",
       "|   1.958 | \n",
       "|   5.958 | \n",
       "|   3.184 | \n",
       "\n",
       "\n"
      ],
      "text/plain": [
       "     [,1]   \n",
       "[1,] -18.042\n",
       "[2,]  -1.234\n",
       "[3,]  -4.460\n",
       "[4,]  12.636\n",
       "[5,]   1.958\n",
       "[6,]   5.958\n",
       "[7,]   3.184"
      ]
     },
     "metadata": {},
     "output_type": "display_data"
    }
   ],
   "source": [
    "e = A %*% x - b; e"
   ]
  },
  {
   "cell_type": "code",
   "execution_count": 25,
   "metadata": {
    "scrolled": true
   },
   "outputs": [
    {
     "data": {
      "text/html": [
       "9.62692405011417"
      ],
      "text/latex": [
       "9.62692405011417"
      ],
      "text/markdown": [
       "9.62692405011417"
      ],
      "text/plain": [
       "[1] 9.626924"
      ]
     },
     "metadata": {},
     "output_type": "display_data"
    }
   ],
   "source": [
    "sd(e)"
   ]
  },
  {
   "cell_type": "code",
   "execution_count": 29,
   "metadata": {},
   "outputs": [
    {
     "data": {
      "text/html": [
       "10.5457669232731"
      ],
      "text/latex": [
       "10.5457669232731"
      ],
      "text/markdown": [
       "10.5457669232731"
      ],
      "text/plain": [
       "[1] 10.54577"
      ]
     },
     "metadata": {},
     "output_type": "display_data"
    }
   ],
   "source": [
    "sqrt(sum((e - mean(e))^2) / (n-2))"
   ]
  },
  {
   "cell_type": "markdown",
   "metadata": {},
   "source": [
    "Mailen naar N.Booij@nhl.nl."
   ]
  }
 ],
 "metadata": {
  "kernelspec": {
   "display_name": "R",
   "language": "R",
   "name": "ir"
  },
  "language_info": {
   "codemirror_mode": "r",
   "file_extension": ".r",
   "mimetype": "text/x-r-source",
   "name": "R",
   "pygments_lexer": "r",
   "version": "3.5.0"
  }
 },
 "nbformat": 4,
 "nbformat_minor": 2
}
