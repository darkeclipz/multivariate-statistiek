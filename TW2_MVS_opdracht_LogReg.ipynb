{
 "cells": [
  {
   "cell_type": "code",
   "execution_count": 3,
   "metadata": {},
   "outputs": [],
   "source": [
    "klassemidden<-matrix(c(10,30,50,70,90,125,175))\n",
    "huur<-matrix(c(76,108,128,54,18,4,1))\n",
    "koop<-matrix(c(4,12,32,36,42,36,19))"
   ]
  },
  {
   "cell_type": "code",
   "execution_count": 7,
   "metadata": {},
   "outputs": [
    {
     "data": {
      "text/html": [
       "<table>\n",
       "<thead><tr><th scope=col>klassemidden</th><th scope=col>huur</th><th scope=col>koop</th><th scope=col>n</th><th scope=col>p_huur</th><th scope=col>p_koop</th><th scope=col>ln_odds</th></tr></thead>\n",
       "<tbody>\n",
       "\t<tr><td> 10        </td><td> 76        </td><td> 4         </td><td> 80        </td><td>0.95       </td><td>0.05       </td><td>-2.99573227</td></tr>\n",
       "\t<tr><td> 30        </td><td>108        </td><td>12         </td><td>120        </td><td>0.90       </td><td>0.10       </td><td>-2.30258509</td></tr>\n",
       "\t<tr><td> 50        </td><td>128        </td><td>32         </td><td>160        </td><td>0.80       </td><td>0.20       </td><td>-1.60943791</td></tr>\n",
       "\t<tr><td> 70        </td><td> 54        </td><td>36         </td><td> 90        </td><td>0.60       </td><td>0.40       </td><td>-0.91629073</td></tr>\n",
       "\t<tr><td> 90        </td><td> 18        </td><td>42         </td><td> 60        </td><td>0.30       </td><td>0.70       </td><td>-0.35667494</td></tr>\n",
       "\t<tr><td>125        </td><td>  4        </td><td>36         </td><td> 40        </td><td>0.10       </td><td>0.90       </td><td>-0.10536052</td></tr>\n",
       "\t<tr><td>175        </td><td>  1        </td><td>19         </td><td> 20        </td><td>0.05       </td><td>0.95       </td><td>-0.05129329</td></tr>\n",
       "</tbody>\n",
       "</table>\n"
      ],
      "text/latex": [
       "\\begin{tabular}{r|lllllll}\n",
       " klassemidden & huur & koop & n & p\\_huur & p\\_koop & ln\\_odds\\\\\n",
       "\\hline\n",
       "\t  10         &  76         &  4          &  80         & 0.95        & 0.05        & -2.99573227\\\\\n",
       "\t  30         & 108         & 12          & 120         & 0.90        & 0.10        & -2.30258509\\\\\n",
       "\t  50         & 128         & 32          & 160         & 0.80        & 0.20        & -1.60943791\\\\\n",
       "\t  70         &  54         & 36          &  90         & 0.60        & 0.40        & -0.91629073\\\\\n",
       "\t  90         &  18         & 42          &  60         & 0.30        & 0.70        & -0.35667494\\\\\n",
       "\t 125         &   4         & 36          &  40         & 0.10        & 0.90        & -0.10536052\\\\\n",
       "\t 175         &   1         & 19          &  20         & 0.05        & 0.95        & -0.05129329\\\\\n",
       "\\end{tabular}\n"
      ],
      "text/markdown": [
       "\n",
       "klassemidden | huur | koop | n | p_huur | p_koop | ln_odds | \n",
       "|---|---|---|---|---|---|---|\n",
       "|  10         |  76         |  4          |  80         | 0.95        | 0.05        | -2.99573227 | \n",
       "|  30         | 108         | 12          | 120         | 0.90        | 0.10        | -2.30258509 | \n",
       "|  50         | 128         | 32          | 160         | 0.80        | 0.20        | -1.60943791 | \n",
       "|  70         |  54         | 36          |  90         | 0.60        | 0.40        | -0.91629073 | \n",
       "|  90         |  18         | 42          |  60         | 0.30        | 0.70        | -0.35667494 | \n",
       "| 125         |   4         | 36          |  40         | 0.10        | 0.90        | -0.10536052 | \n",
       "| 175         |   1         | 19          |  20         | 0.05        | 0.95        | -0.05129329 | \n",
       "\n",
       "\n"
      ],
      "text/plain": [
       "  klassemidden huur koop n   p_huur p_koop ln_odds    \n",
       "1  10           76   4    80 0.95   0.05   -2.99573227\n",
       "2  30          108  12   120 0.90   0.10   -2.30258509\n",
       "3  50          128  32   160 0.80   0.20   -1.60943791\n",
       "4  70           54  36    90 0.60   0.40   -0.91629073\n",
       "5  90           18  42    60 0.30   0.70   -0.35667494\n",
       "6 125            4  36    40 0.10   0.90   -0.10536052\n",
       "7 175            1  19    20 0.05   0.95   -0.05129329"
      ]
     },
     "metadata": {},
     "output_type": "display_data"
    }
   ],
   "source": [
    "df = data.frame(klassemidden, huur, koop)\n",
    "df['n'] = df['huur'] + df['koop']\n",
    "df['p_huur'] = df['huur'] / df['n']\n",
    "df['p_koop'] = 1 - df['p_huur']\n",
    "df['ln_odds'] = log(df['p_koop'])\n",
    "df"
   ]
  },
  {
   "cell_type": "code",
   "execution_count": 19,
   "metadata": {},
   "outputs": [
    {
     "data": {
      "text/html": [
       "<table>\n",
       "<tbody>\n",
       "\t<tr><td> 10</td><td>1  </td></tr>\n",
       "\t<tr><td> 30</td><td>1  </td></tr>\n",
       "\t<tr><td> 50</td><td>1  </td></tr>\n",
       "\t<tr><td> 70</td><td>1  </td></tr>\n",
       "\t<tr><td> 90</td><td>1  </td></tr>\n",
       "\t<tr><td>125</td><td>1  </td></tr>\n",
       "\t<tr><td>175</td><td>1  </td></tr>\n",
       "</tbody>\n",
       "</table>\n"
      ],
      "text/latex": [
       "\\begin{tabular}{ll}\n",
       "\t  10 & 1  \\\\\n",
       "\t  30 & 1  \\\\\n",
       "\t  50 & 1  \\\\\n",
       "\t  70 & 1  \\\\\n",
       "\t  90 & 1  \\\\\n",
       "\t 125 & 1  \\\\\n",
       "\t 175 & 1  \\\\\n",
       "\\end{tabular}\n"
      ],
      "text/markdown": [
       "\n",
       "|  10 | 1   | \n",
       "|  30 | 1   | \n",
       "|  50 | 1   | \n",
       "|  70 | 1   | \n",
       "|  90 | 1   | \n",
       "| 125 | 1   | \n",
       "| 175 | 1   | \n",
       "\n",
       "\n"
      ],
      "text/plain": [
       "     [,1] [,2]\n",
       "[1,]  10  1   \n",
       "[2,]  30  1   \n",
       "[3,]  50  1   \n",
       "[4,]  70  1   \n",
       "[5,]  90  1   \n",
       "[6,] 125  1   \n",
       "[7,] 175  1   "
      ]
     },
     "metadata": {},
     "output_type": "display_data"
    },
    {
     "data": {
      "text/html": [
       "<table>\n",
       "<thead><tr><th scope=col>ln_odds</th></tr></thead>\n",
       "<tbody>\n",
       "\t<tr><td>-2.99573227</td></tr>\n",
       "\t<tr><td>-2.30258509</td></tr>\n",
       "\t<tr><td>-1.60943791</td></tr>\n",
       "\t<tr><td>-0.91629073</td></tr>\n",
       "\t<tr><td>-0.35667494</td></tr>\n",
       "\t<tr><td>-0.10536052</td></tr>\n",
       "\t<tr><td>-0.05129329</td></tr>\n",
       "</tbody>\n",
       "</table>\n"
      ],
      "text/latex": [
       "\\begin{tabular}{r|l}\n",
       " ln\\_odds\\\\\n",
       "\\hline\n",
       "\t -2.99573227\\\\\n",
       "\t -2.30258509\\\\\n",
       "\t -1.60943791\\\\\n",
       "\t -0.91629073\\\\\n",
       "\t -0.35667494\\\\\n",
       "\t -0.10536052\\\\\n",
       "\t -0.05129329\\\\\n",
       "\\end{tabular}\n"
      ],
      "text/markdown": [
       "\n",
       "ln_odds | \n",
       "|---|---|---|---|---|---|---|\n",
       "| -2.99573227 | \n",
       "| -2.30258509 | \n",
       "| -1.60943791 | \n",
       "| -0.91629073 | \n",
       "| -0.35667494 | \n",
       "| -0.10536052 | \n",
       "| -0.05129329 | \n",
       "\n",
       "\n"
      ],
      "text/plain": [
       "  ln_odds    \n",
       "1 -2.99573227\n",
       "2 -2.30258509\n",
       "3 -1.60943791\n",
       "4 -0.91629073\n",
       "5 -0.35667494\n",
       "6 -0.10536052\n",
       "7 -0.05129329"
      ]
     },
     "metadata": {},
     "output_type": "display_data"
    }
   ],
   "source": [
    "A = cbind(klassemidden, 1)\n",
    "b = cbind(df['ln_odds'])\n",
    "A; b;"
   ]
  },
  {
   "cell_type": "code",
   "execution_count": 31,
   "metadata": {},
   "outputs": [
    {
     "data": {
      "text/html": [
       "<table>\n",
       "<tbody>\n",
       "\t<tr><td> 0.0182837</td></tr>\n",
       "\t<tr><td>-2.6276302</td></tr>\n",
       "</tbody>\n",
       "</table>\n"
      ],
      "text/latex": [
       "\\begin{tabular}{l}\n",
       "\t  0.0182837\\\\\n",
       "\t -2.6276302\\\\\n",
       "\\end{tabular}\n"
      ],
      "text/markdown": [
       "\n",
       "|  0.0182837 | \n",
       "| -2.6276302 | \n",
       "\n",
       "\n"
      ],
      "text/plain": [
       "     [,1]      \n",
       "[1,]  0.0182837\n",
       "[2,] -2.6276302"
      ]
     },
     "metadata": {},
     "output_type": "display_data"
    }
   ],
   "source": [
    "x = solve(t(A) %*% A) %*% t(A) %*% as.vector(unlist(b))\n",
    "x"
   ]
  },
  {
   "cell_type": "markdown",
   "metadata": {},
   "source": [
    "Het startgetal is $-2.627$ en de richtingscoefficient is $0.0182$."
   ]
  },
  {
   "cell_type": "code",
   "execution_count": 33,
   "metadata": {},
   "outputs": [],
   "source": [
    "X = klassemidden\n",
    "Y = as.vector(unlist(df['ln_odds']))"
   ]
  },
  {
   "cell_type": "code",
   "execution_count": 41,
   "metadata": {},
   "outputs": [
    {
     "data": {
      "image/png": "[encoded data removed]",
      "text/plain": [
       "plot without title"
      ]
     },
     "metadata": {},
     "output_type": "display_data"
    }
   ],
   "source": [
    "plot(X,Y)\n",
    "abline(glm(Y~X), col='red', lw=2)"
   ]
  },
  {
   "cell_type": "code",
   "execution_count": 66,
   "metadata": {},
   "outputs": [
    {
     "data": {
      "text/html": [
       "<table>\n",
       "<tbody>\n",
       "\t<tr><th scope=row>X</th><td>-0.02173485</td></tr>\n",
       "\t<tr><th scope=row></th><td> 2.21761839</td></tr>\n",
       "</tbody>\n",
       "</table>\n"
      ],
      "text/latex": [
       "\\begin{tabular}{r|l}\n",
       "\tX & -0.02173485\\\\\n",
       "\t &  2.21761839\\\\\n",
       "\\end{tabular}\n"
      ],
      "text/markdown": [
       "\n",
       "| X | -0.02173485 | \n",
       "|  |  2.21761839 | \n",
       "\n",
       "\n"
      ],
      "text/plain": [
       "  [,1]       \n",
       "X -0.02173485\n",
       "   2.21761839"
      ]
     },
     "metadata": {},
     "output_type": "display_data"
    }
   ],
   "source": [
    "klassemidden = c(14, 35, 57, 77, 96, 134, 183)\n",
    "huur = c(13, 15, 38, 42, 49,39, 25)\n",
    "koop = c(84,115,132,61,24,13,8)\n",
    "totaal = huur + koop\n",
    "odds_huur = huur / totaal\n",
    "odds_koop = koop / totaal\n",
    "odds = odds_koop / odds_huur\n",
    "ln_odds = log(odds)\n",
    "Y = ln_odds\n",
    "X = klassemidden\n",
    "\n",
    "A = cbind(X, 1)\n",
    "solve(t(A) %*% A) %*% t(A) %*% Y"
   ]
  },
  {
   "cell_type": "code",
   "execution_count": 67,
   "metadata": {},
   "outputs": [
    {
     "data": {
      "text/plain": [
       "\n",
       "Call:  glm(formula = Y ~ X)\n",
       "\n",
       "Coefficients:\n",
       "(Intercept)            X  \n",
       "    2.21762     -0.02173  \n",
       "\n",
       "Degrees of Freedom: 6 Total (i.e. Null);  5 Residual\n",
       "Null Deviance:\t    11.39 \n",
       "Residual Deviance: 1.701 \tAIC: 15.96"
      ]
     },
     "metadata": {},
     "output_type": "display_data"
    }
   ],
   "source": [
    "glm(Y~X)"
   ]
  },
  {
   "cell_type": "code",
   "execution_count": 68,
   "metadata": {},
   "outputs": [
    {
     "data": {
      "text/html": [
       "0.922346702099661"
      ],
      "text/latex": [
       "0.922346702099661"
      ],
      "text/markdown": [
       "0.922346702099661"
      ],
      "text/plain": [
       "[1] 0.9223467"
      ]
     },
     "metadata": {},
     "output_type": "display_data"
    }
   ],
   "source": [
    "abs(cor(X,Y))"
   ]
  }
 ],
 "metadata": {
  "kernelspec": {
   "display_name": "R",
   "language": "R",
   "name": "ir"
  },
  "language_info": {
   "codemirror_mode": "r",
   "file_extension": ".r",
   "mimetype": "text/x-r-source",
   "name": "R",
   "pygments_lexer": "r",
   "version": "3.5.0"
  }
 },
 "nbformat": 4,
 "nbformat_minor": 2
}
