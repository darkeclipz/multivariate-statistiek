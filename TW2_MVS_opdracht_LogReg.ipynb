{
 "cells": [
  {
   "cell_type": "code",
   "execution_count": 8,
   "metadata": {},
   "outputs": [],
   "source": [
    "klassemidden<-matrix(c(10,30,50,70,90,125,175))\n",
    "huur<-matrix(c(76,108,128,54,18,4,1))\n",
    "koop<-matrix(c(4,12,32,36,42,36,19))"
   ]
  },
  {
   "cell_type": "code",
   "execution_count": 17,
   "metadata": {},
   "outputs": [
    {
     "data": {
      "text/html": [
       "<table>\n",
       "<thead><tr><th scope=col>klassemidden</th><th scope=col>huur</th><th scope=col>koop</th><th scope=col>n</th><th scope=col>p_huur</th><th scope=col>p_koop</th></tr></thead>\n",
       "<tbody>\n",
       "\t<tr><td> 10 </td><td> 76 </td><td> 4  </td><td> 80 </td><td>0.95</td><td>0.05</td></tr>\n",
       "\t<tr><td> 30 </td><td>108 </td><td>12  </td><td>120 </td><td>0.90</td><td>0.10</td></tr>\n",
       "\t<tr><td> 50 </td><td>128 </td><td>32  </td><td>160 </td><td>0.80</td><td>0.20</td></tr>\n",
       "\t<tr><td> 70 </td><td> 54 </td><td>36  </td><td> 90 </td><td>0.60</td><td>0.40</td></tr>\n",
       "\t<tr><td> 90 </td><td> 18 </td><td>42  </td><td> 60 </td><td>0.30</td><td>0.70</td></tr>\n",
       "\t<tr><td>125 </td><td>  4 </td><td>36  </td><td> 40 </td><td>0.10</td><td>0.90</td></tr>\n",
       "\t<tr><td>175 </td><td>  1 </td><td>19  </td><td> 20 </td><td>0.05</td><td>0.95</td></tr>\n",
       "</tbody>\n",
       "</table>\n"
      ],
      "text/latex": [
       "\\begin{tabular}{r|llllll}\n",
       " klassemidden & huur & koop & n & p\\_huur & p\\_koop\\\\\n",
       "\\hline\n",
       "\t  10  &  76  &  4   &  80  & 0.95 & 0.05\\\\\n",
       "\t  30  & 108  & 12   & 120  & 0.90 & 0.10\\\\\n",
       "\t  50  & 128  & 32   & 160  & 0.80 & 0.20\\\\\n",
       "\t  70  &  54  & 36   &  90  & 0.60 & 0.40\\\\\n",
       "\t  90  &  18  & 42   &  60  & 0.30 & 0.70\\\\\n",
       "\t 125  &   4  & 36   &  40  & 0.10 & 0.90\\\\\n",
       "\t 175  &   1  & 19   &  20  & 0.05 & 0.95\\\\\n",
       "\\end{tabular}\n"
      ],
      "text/markdown": [
       "\n",
       "klassemidden | huur | koop | n | p_huur | p_koop | \n",
       "|---|---|---|---|---|---|---|\n",
       "|  10  |  76  |  4   |  80  | 0.95 | 0.05 | \n",
       "|  30  | 108  | 12   | 120  | 0.90 | 0.10 | \n",
       "|  50  | 128  | 32   | 160  | 0.80 | 0.20 | \n",
       "|  70  |  54  | 36   |  90  | 0.60 | 0.40 | \n",
       "|  90  |  18  | 42   |  60  | 0.30 | 0.70 | \n",
       "| 125  |   4  | 36   |  40  | 0.10 | 0.90 | \n",
       "| 175  |   1  | 19   |  20  | 0.05 | 0.95 | \n",
       "\n",
       "\n"
      ],
      "text/plain": [
       "  klassemidden huur koop n   p_huur p_koop\n",
       "1  10           76   4    80 0.95   0.05  \n",
       "2  30          108  12   120 0.90   0.10  \n",
       "3  50          128  32   160 0.80   0.20  \n",
       "4  70           54  36    90 0.60   0.40  \n",
       "5  90           18  42    60 0.30   0.70  \n",
       "6 125            4  36    40 0.10   0.90  \n",
       "7 175            1  19    20 0.05   0.95  "
      ]
     },
     "metadata": {},
     "output_type": "display_data"
    }
   ],
   "source": [
    "df = data.frame(klassemidden, huur, koop)\n",
    "df['n'] = df['huur'] + df['koop']\n",
    "df['p_huur'] = df['huur'] / df['n']\n",
    "df['p_koop'] = 1 - df['p_huur']\n",
    "df"
   ]
  },
  {
   "cell_type": "code",
   "execution_count": 22,
   "metadata": {},
   "outputs": [
    {
     "ename": "ERROR",
     "evalue": "Error in stripchart.default(x1, ...): invalid plotting method\n",
     "output_type": "error",
     "traceback": [
      "Error in stripchart.default(x1, ...): invalid plotting method\nTraceback:\n",
      "1. plot(df[\"klassemidden\"], df[\"p_koop\"])",
      "2. plot.data.frame(df[\"klassemidden\"], df[\"p_koop\"])",
      "3. stripchart(x1, ...)",
      "4. stripchart.default(x1, ...)",
      "5. stop(\"invalid plotting method\")"
     ]
    }
   ],
   "source": [
    "plot(df['klassemidden'],df['p_koop'])"
   ]
  },
  {
   "cell_type": "code",
   "execution_count": 23,
   "metadata": {},
   "outputs": [
    {
     "data": {
      "image/png": "[encoded data removed]",
      "text/plain": [
       "plot without title"
      ]
     },
     "metadata": {},
     "output_type": "display_data"
    }
   ],
   "source": [
    "plot(df)"
   ]
  },
  {
   "cell_type": "code",
   "execution_count": 26,
   "metadata": {},
   "outputs": [
    {
     "ename": "ERROR",
     "evalue": "Error in stripchart.default(x1, ...): invalid plotting method\n",
     "output_type": "error",
     "traceback": [
      "Error in stripchart.default(x1, ...): invalid plotting method\nTraceback:\n",
      "1. plot(df[\"klassemidden\"], df[\"p_koop\"])",
      "2. plot.data.frame(df[\"klassemidden\"], df[\"p_koop\"])",
      "3. stripchart(x1, ...)",
      "4. stripchart.default(x1, ...)",
      "5. stop(\"invalid plotting method\")"
     ]
    }
   ],
   "source": [
    "plot(df['klassemidden'], df['p_koop'])"
   ]
  },
  {
   "cell_type": "code",
   "execution_count": null,
   "metadata": {},
   "outputs": [],
   "source": []
  }
 ],
 "metadata": {
  "kernelspec": {
   "display_name": "R",
   "language": "R",
   "name": "ir"
  },
  "language_info": {
   "codemirror_mode": "r",
   "file_extension": ".r",
   "mimetype": "text/x-r-source",
   "name": "R",
   "pygments_lexer": "r",
   "version": "3.5.0"
  }
 },
 "nbformat": 4,
 "nbformat_minor": 2
}
