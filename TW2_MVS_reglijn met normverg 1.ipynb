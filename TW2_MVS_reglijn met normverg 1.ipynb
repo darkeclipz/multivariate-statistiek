{
 "cells": [
  {
   "cell_type": "markdown",
   "metadata": {},
   "source": [
    "**Data:**\n",
    "\n",
    "Data X:   9.91475, 12.625543, 11.726248, 16.917468, 16.363863, 18.683154, 19.070194,22.628322, 26.317382, 25.89818, 29.722349, 30.938916, 31.136007, 35.400573, 36.394034\n",
    "\n",
    "Data Y:   53.021347, 61.402811, 63.291993, 71.277196, 73.462833, 77.482562, 84.424219, 86.677744, 93.121761, 96.457508, 101.532429, 105.033265, 110.530474, 118.682302, 124.498823"
   ]
  },
  {
   "cell_type": "code",
   "execution_count": 2,
   "metadata": {},
   "outputs": [],
   "source": [
    "X = c(9.91475, 12.625543, 11.726248, 16.917468, 16.363863, 18.683154, 19.070194,22.628322, 26.317382, 25.89818, 29.722349, 30.938916, 31.136007, 35.400573, 36.394034)\n",
    "Y = c(53.021347, 61.402811, 63.291993, 71.277196, 73.462833, 77.482562, 84.424219, 86.677744, 93.121761, 96.457508, 101.532429, 105.033265, 110.530474, 118.682302, 124.498823)"
   ]
  },
  {
   "cell_type": "markdown",
   "metadata": {},
   "source": [
    "De richtingscoefficient voor de best passende lijn kunnen we berekenen met:\n",
    "\n",
    "$$ b = \\dfrac{n \\sum X_i Y_i - \\sum X_i \\sum Y_i}{n \\sum X_i^2 - \\left( \\sum X_i \\right)^2} $$"
   ]
  },
  {
   "cell_type": "markdown",
   "metadata": {},
   "source": [
    "$\\sum X_i Y_i$"
   ]
  },
  {
   "cell_type": "code",
   "execution_count": 4,
   "metadata": {},
   "outputs": [
    {
     "data": {
      "text/html": [
       "32860.16304766"
      ],
      "text/latex": [
       "32860.16304766"
      ],
      "text/markdown": [
       "32860.16304766"
      ],
      "text/plain": [
       "[1] 32860.16"
      ]
     },
     "metadata": {},
     "output_type": "display_data"
    }
   ],
   "source": [
    "sum(X*Y)"
   ]
  },
  {
   "cell_type": "markdown",
   "metadata": {},
   "source": [
    "$\\sum X_i \\sum Y_i$"
   ]
  },
  {
   "cell_type": "code",
   "execution_count": 5,
   "metadata": {},
   "outputs": [
    {
     "data": {
      "text/html": [
       "454041.241411525"
      ],
      "text/latex": [
       "454041.241411525"
      ],
      "text/markdown": [
       "454041.241411525"
      ],
      "text/plain": [
       "[1] 454041.2"
      ]
     },
     "metadata": {},
     "output_type": "display_data"
    }
   ],
   "source": [
    "sum(X) * sum(Y)"
   ]
  },
  {
   "cell_type": "markdown",
   "metadata": {},
   "source": [
    "$ \\sum X_i^2 $"
   ]
  },
  {
   "cell_type": "code",
   "execution_count": 7,
   "metadata": {},
   "outputs": [
    {
     "data": {
      "text/html": [
       "8925.0938181044"
      ],
      "text/latex": [
       "8925.0938181044"
      ],
      "text/markdown": [
       "8925.0938181044"
      ],
      "text/plain": [
       "[1] 8925.094"
      ]
     },
     "metadata": {},
     "output_type": "display_data"
    }
   ],
   "source": [
    "sum(X^2)"
   ]
  },
  {
   "cell_type": "markdown",
   "metadata": {},
   "source": [
    "$\\left(\\sum X_i\\right)^2$"
   ]
  },
  {
   "cell_type": "code",
   "execution_count": 8,
   "metadata": {},
   "outputs": [
    {
     "data": {
      "text/html": [
       "118155.113481942"
      ],
      "text/latex": [
       "118155.113481942"
      ],
      "text/markdown": [
       "118155.113481942"
      ],
      "text/plain": [
       "[1] 118155.1"
      ]
     },
     "metadata": {},
     "output_type": "display_data"
    }
   ],
   "source": [
    "sum(X)^2"
   ]
  },
  {
   "cell_type": "markdown",
   "metadata": {},
   "source": [
    "$n$"
   ]
  },
  {
   "cell_type": "code",
   "execution_count": 9,
   "metadata": {},
   "outputs": [
    {
     "data": {
      "text/html": [
       "15"
      ],
      "text/latex": [
       "15"
      ],
      "text/markdown": [
       "15"
      ],
      "text/plain": [
       "[1] 15"
      ]
     },
     "metadata": {},
     "output_type": "display_data"
    }
   ],
   "source": [
    "length(X)"
   ]
  },
  {
   "cell_type": "markdown",
   "metadata": {},
   "source": [
    "De richtingscoefficient $b$ is:"
   ]
  },
  {
   "cell_type": "code",
   "execution_count": 11,
   "metadata": {},
   "outputs": [
    {
     "data": {
      "text/html": [
       "2.47188334645997"
      ],
      "text/latex": [
       "2.47188334645997"
      ],
      "text/markdown": [
       "2.47188334645997"
      ],
      "text/plain": [
       "[1] 2.471883"
      ]
     },
     "metadata": {},
     "output_type": "display_data"
    }
   ],
   "source": [
    "(length(X) * sum(X*Y) - sum(X) * sum(Y)) / (length(X) * sum(X^2) - sum(X)^2)"
   ]
  },
  {
   "cell_type": "markdown",
   "metadata": {},
   "source": [
    "We kunnen $a$ bepalen met $a = \\bar{Y} - b \\bar{X}$."
   ]
  },
  {
   "cell_type": "code",
   "execution_count": 16,
   "metadata": {},
   "outputs": [
    {
     "data": {
      "text/html": [
       "31.414712897464"
      ],
      "text/latex": [
       "31.414712897464"
      ],
      "text/markdown": [
       "31.414712897464"
      ],
      "text/plain": [
       "[1] 31.41471"
      ]
     },
     "metadata": {},
     "output_type": "display_data"
    }
   ],
   "source": [
    "mean(Y) - (2.47188) * mean(X)"
   ]
  }
 ],
 "metadata": {
  "kernelspec": {
   "display_name": "R",
   "language": "R",
   "name": "ir"
  },
  "language_info": {
   "codemirror_mode": "r",
   "file_extension": ".r",
   "mimetype": "text/x-r-source",
   "name": "R",
   "pygments_lexer": "r",
   "version": "3.5.0"
  }
 },
 "nbformat": 4,
 "nbformat_minor": 2
}
