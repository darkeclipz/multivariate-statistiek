{
 "cells": [
  {
   "cell_type": "markdown",
   "metadata": {},
   "source": [
    "# Opdracht: Meervoudige regressie"
   ]
  },
  {
   "cell_type": "markdown",
   "metadata": {},
   "source": [
    "    TW2\n",
    "\n",
    "    MVS: week 3 Meervoudige regressie.\n",
    "    Opdracht: woningen.\n",
    "\n",
    "    Reference:\n",
    "    [2] Arie Buijs (2012). \"Statistiek om mee te werken\". 13.4 Meervoudige regressie\n",
    "\n",
    "    # 1. Importeer het bestand woningen.csv in R.\n",
    "    # 2. Beantwoord de volgende vragen m.b.v. R:\n",
    "    # a. Verklaar de vraagprijs van een huis uit het aantal kamers.\n",
    "    # b. Verklaar de vraagprijs van een huis uit de perceeloppervlakte.\n",
    "    # c. Onderzoek met meervoudige regressie hoe men de vraagprijs kan verklaren uit de verschillende beschikbare variabelen.\n",
    "    # d. Bepaal de correlatiematrix\n",
    "    # e. Bepaal de regressievergelijking waarin alle verklarende variabelen opgenomen zijn\n",
    "    # f. Bereken voor het onder e berekende model de onverklaarde, verklaarde en totale variantie\n",
    "    # g. Bereken voor het onder e berekende model de determinatiecoëfficiënt\n",
    "    # h. Welk model met slechts één verklarende variabele vind je het beste?\n",
    "    # i. Onderzoek of toevoeging van andere variabelen aan het onder h gevonden model statistisch gezien zinvol is.\n",
    "    # 3. Voorzie je codes van voldoende commentaar om begrijpelijk te zijn voor medestudenten.\n",
    "    # 4. Beantwoord de vragen kort en bondig in je R-code. "
   ]
  },
  {
   "cell_type": "markdown",
   "metadata": {},
   "source": [
    "Eerst lezen we data in:"
   ]
  },
  {
   "cell_type": "code",
   "execution_count": 1,
   "metadata": {},
   "outputs": [],
   "source": [
    "df = read.csv('woningen.csv')"
   ]
  },
  {
   "cell_type": "code",
   "execution_count": 6,
   "metadata": {
    "scrolled": true
   },
   "outputs": [
    {
     "data": {
      "text/html": [
       "<table>\n",
       "<thead><tr><th scope=col>nr</th><th scope=col>wijk</th><th scope=col>kamers</th><th scope=col>badkamers</th><th scope=col>grond</th><th scope=col>bouwjaar</th><th scope=col>garage</th><th scope=col>c.v.</th><th scope=col>prijs</th></tr></thead>\n",
       "<tbody>\n",
       "\t<tr><td>1     </td><td>1     </td><td>3     </td><td>0     </td><td>120   </td><td>1920  </td><td>0     </td><td>0     </td><td>132000</td></tr>\n",
       "\t<tr><td>2     </td><td>1     </td><td>4     </td><td>0     </td><td>140   </td><td>1932  </td><td>0     </td><td>0     </td><td>137500</td></tr>\n",
       "\t<tr><td>3     </td><td>3     </td><td>4     </td><td>0     </td><td>110   </td><td>1938  </td><td>0     </td><td>1     </td><td>138000</td></tr>\n",
       "\t<tr><td>4     </td><td>1     </td><td>3     </td><td>1     </td><td>110   </td><td>1927  </td><td>0     </td><td>0     </td><td>139500</td></tr>\n",
       "\t<tr><td>5     </td><td>1     </td><td>3     </td><td>0     </td><td>140   </td><td>1968  </td><td>0     </td><td>1     </td><td>142000</td></tr>\n",
       "\t<tr><td>6     </td><td>1     </td><td>3     </td><td>0     </td><td>220   </td><td>1935  </td><td>0     </td><td>0     </td><td>144000</td></tr>\n",
       "</tbody>\n",
       "</table>\n"
      ],
      "text/latex": [
       "\\begin{tabular}{r|lllllllll}\n",
       " nr & wijk & kamers & badkamers & grond & bouwjaar & garage & c.v. & prijs\\\\\n",
       "\\hline\n",
       "\t 1      & 1      & 3      & 0      & 120    & 1920   & 0      & 0      & 132000\\\\\n",
       "\t 2      & 1      & 4      & 0      & 140    & 1932   & 0      & 0      & 137500\\\\\n",
       "\t 3      & 3      & 4      & 0      & 110    & 1938   & 0      & 1      & 138000\\\\\n",
       "\t 4      & 1      & 3      & 1      & 110    & 1927   & 0      & 0      & 139500\\\\\n",
       "\t 5      & 1      & 3      & 0      & 140    & 1968   & 0      & 1      & 142000\\\\\n",
       "\t 6      & 1      & 3      & 0      & 220    & 1935   & 0      & 0      & 144000\\\\\n",
       "\\end{tabular}\n"
      ],
      "text/markdown": [
       "\n",
       "nr | wijk | kamers | badkamers | grond | bouwjaar | garage | c.v. | prijs | \n",
       "|---|---|---|---|---|---|\n",
       "| 1      | 1      | 3      | 0      | 120    | 1920   | 0      | 0      | 132000 | \n",
       "| 2      | 1      | 4      | 0      | 140    | 1932   | 0      | 0      | 137500 | \n",
       "| 3      | 3      | 4      | 0      | 110    | 1938   | 0      | 1      | 138000 | \n",
       "| 4      | 1      | 3      | 1      | 110    | 1927   | 0      | 0      | 139500 | \n",
       "| 5      | 1      | 3      | 0      | 140    | 1968   | 0      | 1      | 142000 | \n",
       "| 6      | 1      | 3      | 0      | 220    | 1935   | 0      | 0      | 144000 | \n",
       "\n",
       "\n"
      ],
      "text/plain": [
       "  nr wijk kamers badkamers grond bouwjaar garage c.v. prijs \n",
       "1 1  1    3      0         120   1920     0      0    132000\n",
       "2 2  1    4      0         140   1932     0      0    137500\n",
       "3 3  3    4      0         110   1938     0      1    138000\n",
       "4 4  1    3      1         110   1927     0      0    139500\n",
       "5 5  1    3      0         140   1968     0      1    142000\n",
       "6 6  1    3      0         220   1935     0      0    144000"
      ]
     },
     "metadata": {},
     "output_type": "display_data"
    }
   ],
   "source": [
    "head(df)"
   ]
  },
  {
   "cell_type": "code",
   "execution_count": 17,
   "metadata": {},
   "outputs": [
    {
     "data": {
      "image/png": "[encoded data removed]",
      "text/plain": [
       "plot without title"
      ]
     },
     "metadata": {},
     "output_type": "display_data"
    }
   ],
   "source": [
    "plot(df)"
   ]
  },
  {
   "cell_type": "code",
   "execution_count": 18,
   "metadata": {},
   "outputs": [
    {
     "data": {
      "text/html": [
       "<table>\n",
       "<thead><tr><th></th><th scope=col>nr</th><th scope=col>wijk</th><th scope=col>kamers</th><th scope=col>badkamers</th><th scope=col>grond</th><th scope=col>bouwjaar</th><th scope=col>garage</th><th scope=col>c.v.</th><th scope=col>prijs</th></tr></thead>\n",
       "<tbody>\n",
       "\t<tr><th scope=row>nr</th><td>1.00000000  </td><td> 0.6522696  </td><td> 0.8023127  </td><td>0.7171001   </td><td> 0.61792390 </td><td> 0.030588024</td><td> 0.566255593</td><td> 0.38431212 </td><td> 0.90293125 </td></tr>\n",
       "\t<tr><th scope=row>wijk</th><td>0.65226958  </td><td> 1.0000000  </td><td> 0.5772251  </td><td>0.5622976   </td><td> 0.50676509 </td><td>-0.131593664</td><td> 0.336622096</td><td> 0.23701880 </td><td> 0.62805325 </td></tr>\n",
       "\t<tr><th scope=row>kamers</th><td>0.80231267  </td><td> 0.5772251  </td><td> 1.0000000  </td><td>0.6102381   </td><td> 0.65039295 </td><td>-0.138600738</td><td> 0.480954784</td><td> 0.24707433 </td><td> 0.84772476 </td></tr>\n",
       "\t<tr><th scope=row>badkamers</th><td>0.71710014  </td><td> 0.5622976  </td><td> 0.6102381  </td><td>1.0000000   </td><td> 0.36789622 </td><td> 0.146956629</td><td> 0.396418896</td><td> 0.34273990 </td><td> 0.74766016 </td></tr>\n",
       "\t<tr><th scope=row>grond</th><td>0.61792390  </td><td> 0.5067651  </td><td> 0.6503929  </td><td>0.3678962   </td><td> 1.00000000 </td><td>-0.514937807</td><td> 0.380499270</td><td>-0.07040921 </td><td> 0.63921682 </td></tr>\n",
       "\t<tr><th scope=row>bouwjaar</th><td>0.03058802  </td><td>-0.1315937  </td><td>-0.1386007  </td><td>0.1469566   </td><td>-0.51493781 </td><td> 1.000000000</td><td>-0.008594062</td><td> 0.60374084 </td><td>-0.01366355 </td></tr>\n",
       "\t<tr><th scope=row>garage</th><td>0.56625559  </td><td> 0.3366221  </td><td> 0.4809548  </td><td>0.3964189   </td><td> 0.38049927 </td><td>-0.008594062</td><td> 1.000000000</td><td> 0.11725441 </td><td> 0.53154923 </td></tr>\n",
       "\t<tr><th scope=row>c.v.</th><td>0.38431212  </td><td> 0.2370188  </td><td> 0.2470743  </td><td>0.3427399   </td><td>-0.07040921 </td><td> 0.603740844</td><td> 0.117254412</td><td> 1.00000000 </td><td> 0.31274553 </td></tr>\n",
       "\t<tr><th scope=row>prijs</th><td>0.90293125  </td><td> 0.6280533  </td><td> 0.8477248  </td><td>0.7476602   </td><td> 0.63921682 </td><td>-0.013663546</td><td> 0.531549226</td><td> 0.31274553 </td><td> 1.00000000 </td></tr>\n",
       "</tbody>\n",
       "</table>\n"
      ],
      "text/latex": [
       "\\begin{tabular}{r|lllllllll}\n",
       "  & nr & wijk & kamers & badkamers & grond & bouwjaar & garage & c.v. & prijs\\\\\n",
       "\\hline\n",
       "\tnr & 1.00000000   &  0.6522696   &  0.8023127   & 0.7171001    &  0.61792390  &  0.030588024 &  0.566255593 &  0.38431212  &  0.90293125 \\\\\n",
       "\twijk & 0.65226958   &  1.0000000   &  0.5772251   & 0.5622976    &  0.50676509  & -0.131593664 &  0.336622096 &  0.23701880  &  0.62805325 \\\\\n",
       "\tkamers & 0.80231267   &  0.5772251   &  1.0000000   & 0.6102381    &  0.65039295  & -0.138600738 &  0.480954784 &  0.24707433  &  0.84772476 \\\\\n",
       "\tbadkamers & 0.71710014   &  0.5622976   &  0.6102381   & 1.0000000    &  0.36789622  &  0.146956629 &  0.396418896 &  0.34273990  &  0.74766016 \\\\\n",
       "\tgrond & 0.61792390   &  0.5067651   &  0.6503929   & 0.3678962    &  1.00000000  & -0.514937807 &  0.380499270 & -0.07040921  &  0.63921682 \\\\\n",
       "\tbouwjaar & 0.03058802   & -0.1315937   & -0.1386007   & 0.1469566    & -0.51493781  &  1.000000000 & -0.008594062 &  0.60374084  & -0.01366355 \\\\\n",
       "\tgarage & 0.56625559   &  0.3366221   &  0.4809548   & 0.3964189    &  0.38049927  & -0.008594062 &  1.000000000 &  0.11725441  &  0.53154923 \\\\\n",
       "\tc.v. & 0.38431212   &  0.2370188   &  0.2470743   & 0.3427399    & -0.07040921  &  0.603740844 &  0.117254412 &  1.00000000  &  0.31274553 \\\\\n",
       "\tprijs & 0.90293125   &  0.6280533   &  0.8477248   & 0.7476602    &  0.63921682  & -0.013663546 &  0.531549226 &  0.31274553  &  1.00000000 \\\\\n",
       "\\end{tabular}\n"
      ],
      "text/markdown": [
       "\n",
       "| <!--/--> | nr | wijk | kamers | badkamers | grond | bouwjaar | garage | c.v. | prijs | \n",
       "|---|---|---|---|---|---|---|---|---|\n",
       "| nr | 1.00000000   |  0.6522696   |  0.8023127   | 0.7171001    |  0.61792390  |  0.030588024 |  0.566255593 |  0.38431212  |  0.90293125  | \n",
       "| wijk | 0.65226958   |  1.0000000   |  0.5772251   | 0.5622976    |  0.50676509  | -0.131593664 |  0.336622096 |  0.23701880  |  0.62805325  | \n",
       "| kamers | 0.80231267   |  0.5772251   |  1.0000000   | 0.6102381    |  0.65039295  | -0.138600738 |  0.480954784 |  0.24707433  |  0.84772476  | \n",
       "| badkamers | 0.71710014   |  0.5622976   |  0.6102381   | 1.0000000    |  0.36789622  |  0.146956629 |  0.396418896 |  0.34273990  |  0.74766016  | \n",
       "| grond | 0.61792390   |  0.5067651   |  0.6503929   | 0.3678962    |  1.00000000  | -0.514937807 |  0.380499270 | -0.07040921  |  0.63921682  | \n",
       "| bouwjaar | 0.03058802   | -0.1315937   | -0.1386007   | 0.1469566    | -0.51493781  |  1.000000000 | -0.008594062 |  0.60374084  | -0.01366355  | \n",
       "| garage | 0.56625559   |  0.3366221   |  0.4809548   | 0.3964189    |  0.38049927  | -0.008594062 |  1.000000000 |  0.11725441  |  0.53154923  | \n",
       "| c.v. | 0.38431212   |  0.2370188   |  0.2470743   | 0.3427399    | -0.07040921  |  0.603740844 |  0.117254412 |  1.00000000  |  0.31274553  | \n",
       "| prijs | 0.90293125   |  0.6280533   |  0.8477248   | 0.7476602    |  0.63921682  | -0.013663546 |  0.531549226 |  0.31274553  |  1.00000000  | \n",
       "\n",
       "\n"
      ],
      "text/plain": [
       "          nr         wijk       kamers     badkamers grond       bouwjaar    \n",
       "nr        1.00000000  0.6522696  0.8023127 0.7171001  0.61792390  0.030588024\n",
       "wijk      0.65226958  1.0000000  0.5772251 0.5622976  0.50676509 -0.131593664\n",
       "kamers    0.80231267  0.5772251  1.0000000 0.6102381  0.65039295 -0.138600738\n",
       "badkamers 0.71710014  0.5622976  0.6102381 1.0000000  0.36789622  0.146956629\n",
       "grond     0.61792390  0.5067651  0.6503929 0.3678962  1.00000000 -0.514937807\n",
       "bouwjaar  0.03058802 -0.1315937 -0.1386007 0.1469566 -0.51493781  1.000000000\n",
       "garage    0.56625559  0.3366221  0.4809548 0.3964189  0.38049927 -0.008594062\n",
       "c.v.      0.38431212  0.2370188  0.2470743 0.3427399 -0.07040921  0.603740844\n",
       "prijs     0.90293125  0.6280533  0.8477248 0.7476602  0.63921682 -0.013663546\n",
       "          garage       c.v.        prijs      \n",
       "nr         0.566255593  0.38431212  0.90293125\n",
       "wijk       0.336622096  0.23701880  0.62805325\n",
       "kamers     0.480954784  0.24707433  0.84772476\n",
       "badkamers  0.396418896  0.34273990  0.74766016\n",
       "grond      0.380499270 -0.07040921  0.63921682\n",
       "bouwjaar  -0.008594062  0.60374084 -0.01366355\n",
       "garage     1.000000000  0.11725441  0.53154923\n",
       "c.v.       0.117254412  1.00000000  0.31274553\n",
       "prijs      0.531549226  0.31274553  1.00000000"
      ]
     },
     "metadata": {},
     "output_type": "display_data"
    }
   ],
   "source": [
    "cor(df)"
   ]
  },
  {
   "cell_type": "markdown",
   "metadata": {},
   "source": [
    "# Onderzoekvragen"
   ]
  },
  {
   "cell_type": "markdown",
   "metadata": {},
   "source": [
    "## Verklaar de vraagprijs van een huis uit het aantal kamers"
   ]
  },
  {
   "cell_type": "code",
   "execution_count": 12,
   "metadata": {},
   "outputs": [
    {
     "data": {
      "text/plain": [
       "\n",
       "Call:\n",
       "lm(formula = df$prijs ~ df$kamers)\n",
       "\n",
       "Residuals:\n",
       "    Min      1Q  Median      3Q     Max \n",
       "-202683  -75163  -18632   54434  394522 \n",
       "\n",
       "Coefficients:\n",
       "            Estimate Std. Error t value Pr(>|t|)    \n",
       "(Intercept)  -219601      34447  -6.375 3.69e-09 ***\n",
       "df$kamers     113898       6561  17.361  < 2e-16 ***\n",
       "---\n",
       "Signif. codes:  0 '***' 0.001 '**' 0.01 '*' 0.05 '.' 0.1 ' ' 1\n",
       "\n",
       "Residual standard error: 115100 on 118 degrees of freedom\n",
       "Multiple R-squared:  0.7186,\tAdjusted R-squared:  0.7163 \n",
       "F-statistic: 301.4 on 1 and 118 DF,  p-value: < 2.2e-16\n"
      ]
     },
     "metadata": {},
     "output_type": "display_data"
    },
    {
     "data": {
      "image/png": "[encoded data removed]",
      "text/plain": [
       "plot without title"
      ]
     },
     "metadata": {},
     "output_type": "display_data"
    }
   ],
   "source": [
    "fit = lm(df$prijs~df$kamers)\n",
    "summary(fit)\n",
    "plot(df$kamers, df$prijs)\n",
    "abline(fit, col='red', lw=2)"
   ]
  },
  {
   "cell_type": "markdown",
   "metadata": {},
   "source": [
    "## Verklaar de vraagprijs van een huis uit de parceeloppervlakte"
   ]
  },
  {
   "cell_type": "code",
   "execution_count": 15,
   "metadata": {},
   "outputs": [
    {
     "data": {
      "text/plain": [
       "\n",
       "Call:\n",
       "lm(formula = df$prijs ~ df$grond)\n",
       "\n",
       "Residuals:\n",
       "    Min      1Q  Median      3Q     Max \n",
       "-388150  -95009  -44460   43989  646031 \n",
       "\n",
       "Coefficients:\n",
       "             Estimate Std. Error t value Pr(>|t|)    \n",
       "(Intercept) 192202.41   23177.69   8.293 2.04e-13 ***\n",
       "df$grond       303.53      33.62   9.029 3.94e-15 ***\n",
       "---\n",
       "Signif. codes:  0 '***' 0.001 '**' 0.01 '*' 0.05 '.' 0.1 ' ' 1\n",
       "\n",
       "Residual standard error: 166900 on 118 degrees of freedom\n",
       "Multiple R-squared:  0.4086,\tAdjusted R-squared:  0.4036 \n",
       "F-statistic: 81.53 on 1 and 118 DF,  p-value: 3.939e-15\n"
      ]
     },
     "metadata": {},
     "output_type": "display_data"
    },
    {
     "data": {
      "image/png": "[encoded data removed]",
      "text/plain": [
       "plot without title"
      ]
     },
     "metadata": {},
     "output_type": "display_data"
    }
   ],
   "source": [
    "fit = lm(df$prijs~df$grond)\n",
    "summary(fit)\n",
    "plot(df$grond, df$prijs)\n",
    "abline(fit, col='red', lw=2)"
   ]
  },
  {
   "cell_type": "code",
   "execution_count": 16,
   "metadata": {
    "scrolled": true
   },
   "outputs": [
    {
     "data": {
      "text/plain": [
       "\n",
       "Call:\n",
       "lm(formula = df$prijs ~ df$kamers + df$grond)\n",
       "\n",
       "Coefficients:\n",
       "(Intercept)    df$kamers     df$grond  \n",
       " -190631.92    100590.96        72.31  \n"
      ]
     },
     "metadata": {},
     "output_type": "display_data"
    }
   ],
   "source": [
    "lm(df$prijs~df$kamers+df$grond)"
   ]
  }
 ],
 "metadata": {
  "kernelspec": {
   "display_name": "R",
   "language": "R",
   "name": "ir"
  },
  "language_info": {
   "codemirror_mode": "r",
   "file_extension": ".r",
   "mimetype": "text/x-r-source",
   "name": "R",
   "pygments_lexer": "r",
   "version": "3.5.0"
  }
 },
 "nbformat": 4,
 "nbformat_minor": 2
}
