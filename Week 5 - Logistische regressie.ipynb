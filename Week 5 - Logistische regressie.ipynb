{
 "cells": [
  {
   "cell_type": "markdown",
   "metadata": {},
   "source": [
    "# Logistische regressie"
   ]
  },
  {
   "cell_type": "markdown",
   "metadata": {},
   "source": [
    "Bij dichotome variabelen wordt er gebruik gemaakt van logistische regressie. Dus bij boolean waarden zoals man/vrouw, aan/uit, etc."
   ]
  },
  {
   "cell_type": "markdown",
   "metadata": {},
   "source": [
    "De y-waarden worden getransformeerd met een functie met domein $\\mathbb{R}$ en bereik $<0, 1>$."
   ]
  },
  {
   "cell_type": "markdown",
   "metadata": {},
   "source": [
    "$ f(x) = \\dfrac{e^x}{1+e^x} = \\dfrac{e^x}{1+e^x} \\cdot \\dfrac{e^{x-x}}{e^{-1} + e^{x-x}} = \\dfrac{1}{1+e^{-x}} $"
   ]
  },
  {
   "cell_type": "markdown",
   "metadata": {},
   "source": [
    "$f^{-1} = \\dfrac{y}{y-1}$"
   ]
  },
  {
   "cell_type": "code",
   "execution_count": null,
   "metadata": {},
   "outputs": [],
   "source": []
  }
 ],
 "metadata": {
  "kernelspec": {
   "display_name": "R",
   "language": "R",
   "name": "ir"
  },
  "language_info": {
   "codemirror_mode": "r",
   "file_extension": ".r",
   "mimetype": "text/x-r-source",
   "name": "R",
   "pygments_lexer": "r",
   "version": "3.5.0"
  }
 },
 "nbformat": 4,
 "nbformat_minor": 2
}
